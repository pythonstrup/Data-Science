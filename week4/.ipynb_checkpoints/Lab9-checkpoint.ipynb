{
 "cells": [
  {
   "cell_type": "code",
   "execution_count": null,
   "id": "d55fb91b",
   "metadata": {},
   "outputs": [],
   "source": [
    "# 201500684 박종혁"
   ]
  },
  {
   "cell_type": "code",
   "execution_count": null,
   "id": "bc777a9d",
   "metadata": {},
   "outputs": [],
   "source": [
    "# 계산그래프"
   ]
  },
  {
   "cell_type": "code",
   "execution_count": 3,
   "id": "115495a0",
   "metadata": {},
   "outputs": [
    {
     "name": "stdout",
     "output_type": "stream",
     "text": [
      "q = 3\n",
      "f = -12\n",
      "dfdq = -4\n",
      "dfdx = -4.0\n",
      "dfdy = -4.0\n",
      "dfdz = 3\n"
     ]
    }
   ],
   "source": [
    "from IPython.core.interactiveshell import InteractiveShell\n",
    "InteractiveShell.ast_node_interactivity = \"all\"\n",
    "\n",
    "x = -2; y = 5; z = -4\n",
    "\n",
    "q = x + y\n",
    "f = q * z\n",
    "\n",
    "dfdz = q\n",
    "dfdq = z\n",
    "\n",
    "dfdx = 1.0 * dfdq\n",
    "dfdy = 1.0 * dfdq\n",
    "\n",
    "print(\"q =\", q)\n",
    "print(\"f =\", f)\n",
    "print(\"dfdq =\", dfdq)\n",
    "print(\"dfdx =\", dfdx)\n",
    "print(\"dfdy =\", dfdy)\n",
    "print(\"dfdz =\", dfdz)"
   ]
  },
  {
   "cell_type": "code",
   "execution_count": null,
   "id": "174f6277",
   "metadata": {},
   "outputs": [],
   "source": [
    "# 시그모이드 Function"
   ]
  },
  {
   "cell_type": "code",
   "execution_count": 5,
   "id": "2666a957",
   "metadata": {},
   "outputs": [
    {
     "name": "stdout",
     "output_type": "stream",
     "text": [
      "1\n",
      "0.7310585786300049\n",
      "0.19661193324148185\n",
      "[0.3932238664829637, -0.5898357997244456]\n",
      "[-0.19661193324148185, -0.3932238664829637, 0.19661193324148185]\n"
     ]
    }
   ],
   "source": [
    "from IPython.core.interactiveshell import InteractiveShell\n",
    "InteractiveShell.ast_node_interactivity = \"all\"\n",
    "\n",
    "import math\n",
    "\n",
    "w = [2, -3, -3]\n",
    "x = [-1, -2]\n",
    "\n",
    "dot = w[0] * x[0] + w[1] * x[1] + w[2]\n",
    "f = 1.0 / (1 + math.exp(-dot))\n",
    "print(dot)\n",
    "print(f)\n",
    "\n",
    "ddot = (1 - f) * f\n",
    "dx = [w[0] * ddot, w[1] * ddot]\n",
    "dw = [x[0] * ddot, x[1] * ddot, 1.0 * ddot]\n",
    "\n",
    "print(ddot)\n",
    "print(dx)\n",
    "print(dw)"
   ]
  },
  {
   "cell_type": "code",
   "execution_count": null,
   "id": "5f09f16c",
   "metadata": {},
   "outputs": [],
   "source": [
    "# 1. f(x, y) = xy  (x=4, y=-3)"
   ]
  },
  {
   "cell_type": "code",
   "execution_count": 3,
   "id": "202e4e69",
   "metadata": {},
   "outputs": [
    {
     "name": "stdout",
     "output_type": "stream",
     "text": [
      "f = -12\n",
      "dfdx = -3\n",
      "dfdy = 4\n"
     ]
    }
   ],
   "source": [
    "from IPython.core.interactiveshell import InteractiveShell\n",
    "InteractiveShell.ast_node_interactivity = \"all\"\n",
    "\n",
    "x = 4; y = -3\n",
    "\n",
    "f = x * y\n",
    "dfdx = y\n",
    "dfdy = x\n",
    "\n",
    "print(\"f =\", f)\n",
    "print(\"dfdx =\", dfdx)\n",
    "print(\"dfdy =\", dfdy)"
   ]
  },
  {
   "cell_type": "code",
   "execution_count": null,
   "id": "e4b09158",
   "metadata": {},
   "outputs": [],
   "source": [
    "# 2. f(x, y) = x + y  (x=4, y=-3)"
   ]
  },
  {
   "cell_type": "code",
   "execution_count": 6,
   "id": "d22b8154",
   "metadata": {},
   "outputs": [
    {
     "name": "stdout",
     "output_type": "stream",
     "text": [
      "f = 1\n",
      "dfdx = 1\n",
      "dfdy = 1\n"
     ]
    }
   ],
   "source": [
    "x = 4; y = -3\n",
    "\n",
    "f = x + y\n",
    "dfdx = 1\n",
    "dfdy = 1\n",
    "\n",
    "print(\"f =\", f)\n",
    "print(\"dfdx =\", dfdx)\n",
    "print(\"dfdy =\", dfdy)"
   ]
  },
  {
   "cell_type": "code",
   "execution_count": null,
   "id": "b54231af",
   "metadata": {},
   "outputs": [],
   "source": [
    "# 3. f(x, y) = max(x, y)  (x=4; y=2)"
   ]
  },
  {
   "cell_type": "code",
   "execution_count": 1,
   "id": "d2eecfff",
   "metadata": {},
   "outputs": [
    {
     "name": "stdout",
     "output_type": "stream",
     "text": [
      "f = 4\n",
      "dfdx = 1\n",
      "dfdy = 0\n"
     ]
    }
   ],
   "source": [
    "x = 4; y = 2\n",
    "\n",
    "# x >= y  ==> f = x\n",
    "f = max(x, y)\n",
    "dfdx = 1 if x >= y else 0\n",
    "dfdy = 1 if y >= x else 0\n",
    "\n",
    "print(\"f =\", f)\n",
    "print(\"dfdx =\", dfdx)\n",
    "print(\"dfdy =\", dfdy)"
   ]
  },
  {
   "cell_type": "code",
   "execution_count": null,
   "id": "d56178e9",
   "metadata": {},
   "outputs": [],
   "source": [
    "# 4. f(x, y) = (x + y)z  (x = -2; y = 5; z = -4;)"
   ]
  },
  {
   "cell_type": "code",
   "execution_count": 10,
   "id": "179996fa",
   "metadata": {},
   "outputs": [
    {
     "name": "stdout",
     "output_type": "stream",
     "text": [
      "q =  3\n",
      "f =  -12\n",
      "dfdx = -4.0\n",
      "dfdy = -4.0\n",
      "dfdq = -4\n",
      "dfdz = 3\n"
     ]
    }
   ],
   "source": [
    "x = -2; y = 5; z = -4\n",
    "\n",
    "q = x + y\n",
    "f = q * z\n",
    "dfdz = q\n",
    "dfdq = z\n",
    "\n",
    "dfdx = 1.0 * dfdq\n",
    "dfdy = 1.0 * dfdq\n",
    "\n",
    "print(\"q = \", q)\n",
    "print(\"f = \", f)\n",
    "print(\"dfdx =\", dfdx)\n",
    "print(\"dfdy =\", dfdy)\n",
    "print(\"dfdq =\", dfdq)\n",
    "print(\"dfdz =\", dfdz)"
   ]
  },
  {
   "cell_type": "code",
   "execution_count": null,
   "id": "456577c0",
   "metadata": {},
   "outputs": [],
   "source": [
    "# 5. 시그모이드 예제 (w= [2, -3, -3], x=[-1, -2])"
   ]
  },
  {
   "cell_type": "code",
   "execution_count": 13,
   "id": "ec3ae306",
   "metadata": {},
   "outputs": [
    {
     "name": "stdout",
     "output_type": "stream",
     "text": [
      "1\n",
      "0.7310585786300049\n",
      "0.19661193324148185\n",
      "[0.3932238664829637, -0.5898357997244456]\n",
      "[-0.19661193324148185, -0.3932238664829637, 0.19661193324148185]\n"
     ]
    }
   ],
   "source": [
    "import math\n",
    "\n",
    "w = [2, -3, -3]\n",
    "x = [-1, -2]\n",
    "\n",
    "dot = w[0] * x[0] + w[1] * x[1] + w[2]\n",
    "f = 1.0 / (1+math.exp(-dot))\n",
    "print(dot)\n",
    "print(f)\n",
    "\n",
    "ddot = (1 - f) * f\n",
    "dx = [w[0] * ddot, w[1] * ddot]\n",
    "dw = [x[0] * ddot, x[1] * ddot, 1.0 * ddot]\n",
    "\n",
    "print(ddot)\n",
    "print(dx)\n",
    "print(dw)"
   ]
  },
  {
   "cell_type": "code",
   "execution_count": null,
   "id": "a7816186",
   "metadata": {},
   "outputs": [],
   "source": [
    "# 201500684 박종혁"
   ]
  }
 ],
 "metadata": {
  "kernelspec": {
   "display_name": "Python 3 (ipykernel)",
   "language": "python",
   "name": "python3"
  },
  "language_info": {
   "codemirror_mode": {
    "name": "ipython",
    "version": 3
   },
   "file_extension": ".py",
   "mimetype": "text/x-python",
   "name": "python",
   "nbconvert_exporter": "python",
   "pygments_lexer": "ipython3",
   "version": "3.9.7"
  }
 },
 "nbformat": 4,
 "nbformat_minor": 5
}
