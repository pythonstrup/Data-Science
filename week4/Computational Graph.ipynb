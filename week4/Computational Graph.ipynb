{
 "cells": [
  {
   "cell_type": "code",
   "execution_count": null,
   "id": "bc777a9d",
   "metadata": {},
   "outputs": [],
   "source": [
    "# 계산그래프\n",
    "# 계산그래프 중간고사 한 문제 나올 것임.\n",
    "# http://cs231n.github.io/optimization-2\n",
    "# https://ratsgo.github.io/deep%20learning/2017/05/14/backprop/"
   ]
  },
  {
   "cell_type": "code",
   "execution_count": 3,
   "id": "115495a0",
   "metadata": {},
   "outputs": [
    {
     "name": "stdout",
     "output_type": "stream",
     "text": [
      "q = 3\n",
      "f = -12\n",
      "dfdq = -4\n",
      "dfdx = -4.0\n",
      "dfdy = -4.0\n",
      "dfdz = 3\n"
     ]
    }
   ],
   "source": [
    "from IPython.core.interactiveshell import InteractiveShell\n",
    "InteractiveShell.ast_node_interactivity = \"all\"\n",
    "\n",
    "x = -2; y = 5; z = -4\n",
    "\n",
    "q = x + y\n",
    "f = q * z\n",
    "\n",
    "dfdz = q\n",
    "dfdq = z\n",
    "\n",
    "dfdx = 1.0 * dfdq\n",
    "dfdy = 1.0 * dfdq\n",
    "\n",
    "print(\"q =\", q)\n",
    "print(\"f =\", f)\n",
    "print(\"dfdq =\", dfdq)\n",
    "print(\"dfdx =\", dfdx)\n",
    "print(\"dfdy =\", dfdy)\n",
    "print(\"dfdz =\", dfdz)"
   ]
  },
  {
   "cell_type": "code",
   "execution_count": null,
   "id": "d2873914",
   "metadata": {},
   "outputs": [],
   "source": [
    "# 시그모이드 Function"
   ]
  },
  {
   "cell_type": "code",
   "execution_count": 5,
   "id": "d01fc58d",
   "metadata": {},
   "outputs": [
    {
     "name": "stdout",
     "output_type": "stream",
     "text": [
      "1\n",
      "0.7310585786300049\n",
      "0.19661193324148185\n",
      "[0.3932238664829637, -0.5898357997244456]\n",
      "[-0.19661193324148185, -0.3932238664829637, 0.19661193324148185]\n"
     ]
    }
   ],
   "source": [
    "from IPython.core.interactiveshell import InteractiveShell\n",
    "InteractiveShell.ast_node_interactivity = \"all\"\n",
    "\n",
    "import math\n",
    "\n",
    "w = [2, -3, -3]\n",
    "x = [-1, -2]\n",
    "\n",
    "dot = w[0] * x[0] + w[1] * x[1] + w[2]\n",
    "f = 1.0 / (1 + math.exp(-dot))\n",
    "print(dot)\n",
    "print(f)\n",
    "\n",
    "ddot = (1 - f) * f\n",
    "dx = [w[0] * ddot, w[1] * ddot]\n",
    "dw = [x[0] * ddot, x[1] * ddot, 1.0 * ddot]\n",
    "\n",
    "print(ddot)\n",
    "print(dx)\n",
    "print(dw)"
   ]
  }
 ],
 "metadata": {
  "kernelspec": {
   "display_name": "Python 3 (ipykernel)",
   "language": "python",
   "name": "python3"
  },
  "language_info": {
   "codemirror_mode": {
    "name": "ipython",
    "version": 3
   },
   "file_extension": ".py",
   "mimetype": "text/x-python",
   "name": "python",
   "nbconvert_exporter": "python",
   "pygments_lexer": "ipython3",
   "version": "3.9.7"
  }
 },
 "nbformat": 4,
 "nbformat_minor": 5
}
