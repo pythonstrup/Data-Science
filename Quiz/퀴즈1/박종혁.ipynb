{
 "cells": [
  {
   "cell_type": "markdown",
   "id": "c3aab164",
   "metadata": {},
   "source": [
    "##### 201500684 박종혁"
   ]
  },
  {
   "cell_type": "code",
   "execution_count": 11,
   "id": "a62daff9",
   "metadata": {},
   "outputs": [],
   "source": [
    "# 1.\n",
    "from IPython.core.interactiveshell import InteractiveShell\n",
    "InteractiveShell.ast_node_interactivity = \"all\""
   ]
  },
  {
   "cell_type": "code",
   "execution_count": 54,
   "id": "7168741e",
   "metadata": {},
   "outputs": [
    {
     "name": "stdout",
     "output_type": "stream",
     "text": [
      "[(0, 1), (0, 2), (0, 3), (0, 4), (1, 2), (1, 3), (1, 4), (2, 3), (2, 4)]\n"
     ]
    }
   ],
   "source": [
    "arr = [(i, j)\n",
    "        for i in range(3)\n",
    "        for j in range(i+1, 5)]\n",
    "print(arr)"
   ]
  },
  {
   "cell_type": "code",
   "execution_count": 13,
   "id": "df20cca5",
   "metadata": {},
   "outputs": [],
   "source": [
    "# 2.(1)"
   ]
  },
  {
   "cell_type": "code",
   "execution_count": 21,
   "id": "1cbf7d13",
   "metadata": {},
   "outputs": [
    {
     "name": "stdout",
     "output_type": "stream",
     "text": [
      "숫자 카운트\n",
      "숫자: 0 빈도수: 1\n",
      "숫자: 1 빈도수: 1\n",
      "숫자: 2 빈도수: 1\n",
      "숫자: 3 빈도수: 3\n",
      "\n",
      "문자열 카운트\n",
      "숫자: A 빈도수: 1\n",
      "숫자: I 빈도수: 1\n",
      "숫자: expert 빈도수: 1\n",
      "숫자: excellent 빈도수: 2\n"
     ]
    }
   ],
   "source": [
    "from collections import Counter\n",
    "\n",
    "c = Counter([0, 1, 2, 3, 3, 3])\n",
    "document = [\"A\", \"I\", \"expert\", \"excellent\", \"excellent\"]\n",
    "\n",
    "print(\"숫자 카운트\")\n",
    "for num, count in c.items():\n",
    "    print(\"숫자:\", num, \"빈도수:\", count)\n",
    "    \n",
    "print()\n",
    "doc_count = Counter(document)\n",
    "print(\"문자열 카운트\")\n",
    "for word, count in doc_count.items():\n",
    "    print(\"숫자:\", word, \"빈도수:\", count)"
   ]
  },
  {
   "cell_type": "code",
   "execution_count": 22,
   "id": "7e3bbef3",
   "metadata": {},
   "outputs": [],
   "source": [
    "# 2.(2)"
   ]
  },
  {
   "cell_type": "code",
   "execution_count": 56,
   "id": "38b63a7e",
   "metadata": {},
   "outputs": [
    {
     "name": "stdout",
     "output_type": "stream",
     "text": [
      "빈도가 가장 많은 숫자: 3\n",
      "빈도가 가장 많은 문자열: excellent\n"
     ]
    }
   ],
   "source": [
    "for word, count in c.most_common(1):\n",
    "    print(\"빈도가 가장 많은 숫자:\", word)\n",
    "    \n",
    "for word, count in doc_count.most_common(1):\n",
    "    print(\"빈도가 가장 많은 문자열:\", word)"
   ]
  },
  {
   "cell_type": "code",
   "execution_count": null,
   "id": "a37361f2",
   "metadata": {},
   "outputs": [],
   "source": [
    "# 2. (3)"
   ]
  },
  {
   "cell_type": "code",
   "execution_count": 26,
   "id": "30783665",
   "metadata": {},
   "outputs": [
    {
     "name": "stdout",
     "output_type": "stream",
     "text": [
      "{'A': 1, 'I': 1, 'expert': 1, 'excellent': 2}\n"
     ]
    }
   ],
   "source": [
    "docdic = {word: count for word, count in doc_count.items()}\n",
    "print(docdic)"
   ]
  },
  {
   "cell_type": "code",
   "execution_count": null,
   "id": "70257d04",
   "metadata": {},
   "outputs": [],
   "source": [
    "# 3. 다음 세 라인이 주어졌을 때 물음에 답하시오."
   ]
  },
  {
   "cell_type": "code",
   "execution_count": 36,
   "id": "8d4eb81d",
   "metadata": {},
   "outputs": [],
   "source": [
    "integer_list = [1, 2]\n",
    "heterogeneous_list = [\"string\", 0.1, True, [4, 5], [6,7]]\n",
    "null_list = []"
   ]
  },
  {
   "cell_type": "code",
   "execution_count": 37,
   "id": "0440130c",
   "metadata": {},
   "outputs": [],
   "source": [
    "# 3. (1) 세 개의 리스트 결합"
   ]
  },
  {
   "cell_type": "code",
   "execution_count": 38,
   "id": "419cd669",
   "metadata": {},
   "outputs": [
    {
     "name": "stdout",
     "output_type": "stream",
     "text": [
      "[1, 2, 'string', 0.1, True, [4, 5], [6, 7], 3]\n"
     ]
    }
   ],
   "source": [
    "list_of_lists = []\n",
    "list_of_lists.extend(integer_list)\n",
    "list_of_lists.extend(heterogeneous_list)\n",
    "list_of_lists.extend(null_list)\n",
    "list_of_lists.append(3)\n",
    "\n",
    "print(list_of_lists)"
   ]
  },
  {
   "cell_type": "code",
   "execution_count": 39,
   "id": "85e41152",
   "metadata": {},
   "outputs": [],
   "source": [
    "# 3. (2) 리스트에 integer_list의 합 추가"
   ]
  },
  {
   "cell_type": "code",
   "execution_count": 40,
   "id": "c98467ee",
   "metadata": {},
   "outputs": [
    {
     "name": "stdout",
     "output_type": "stream",
     "text": [
      "[1, 2, 'string', 0.1, True, [4, 5], [6, 7], 3, 3]\n"
     ]
    }
   ],
   "source": [
    "list_of_lists.append(sum(integer_list))\n",
    "print(list_of_lists)"
   ]
  },
  {
   "cell_type": "code",
   "execution_count": null,
   "id": "8c20ee78",
   "metadata": {},
   "outputs": [],
   "source": [
    "# 4. 다음과 같은 결과가 나오토도록 파이썬 코드 작성"
   ]
  },
  {
   "cell_type": "code",
   "execution_count": 46,
   "id": "4b8ef467",
   "metadata": {},
   "outputs": [
    {
     "name": "stdout",
     "output_type": "stream",
     "text": [
      "0.5714025946899135\n",
      "0.5714025946899135\n",
      "5\n",
      "5\n",
      "3\n",
      "[8, 6, 4, 3, 9, 5, 10, 2, 1, 7]\n"
     ]
    }
   ],
   "source": [
    "import random\n",
    "random.seed(10)\n",
    "print(random.random())\n",
    "random.seed(10)\n",
    "print(random.random())\n",
    "random.seed(7)\n",
    "print(random.randrange(8))\n",
    "random.seed(7)\n",
    "print(random.randrange(8))\n",
    "print(random.randrange(3, 6))\n",
    "up_to_ten = [1,2,3,4,5,6,7,8,9,10]\n",
    "random.shuffle(up_to_ten)\n",
    "print(up_to_ten)"
   ]
  },
  {
   "cell_type": "code",
   "execution_count": null,
   "id": "a46e467c",
   "metadata": {},
   "outputs": [],
   "source": [
    "# 5. 파이썬 클래스"
   ]
  },
  {
   "cell_type": "code",
   "execution_count": null,
   "id": "1f359791",
   "metadata": {},
   "outputs": [],
   "source": [
    "# 5. (1) 조건을 만족하는 Point 클래스 만들기"
   ]
  },
  {
   "cell_type": "code",
   "execution_count": 48,
   "id": "dc10ec7b",
   "metadata": {},
   "outputs": [],
   "source": [
    "class Point:\n",
    "    def __init__(self, x, y, z):\n",
    "        self.x = x\n",
    "        self.y = y\n",
    "        self.z = z\n",
    "        \n",
    "    def setx(self, x):\n",
    "        self.x = x\n",
    "        \n",
    "    def sety(self, y):\n",
    "        self.y = y\n",
    "        \n",
    "    def setz(self, z):\n",
    "        self.z = z\n",
    "        \n",
    "    def get(self):\n",
    "        return (self.x, self.y, self.z)\n",
    "    \n",
    "    def move(self, dx, dy, dz):\n",
    "        self.x += dx\n",
    "        self.y += dy\n",
    "        self.z += dz\n",
    "        \n",
    "    "
   ]
  },
  {
   "cell_type": "code",
   "execution_count": 49,
   "id": "c8e5e813",
   "metadata": {},
   "outputs": [],
   "source": [
    "# 5. (2) 인스턴스 Point(3,3,3) 생성하기"
   ]
  },
  {
   "cell_type": "code",
   "execution_count": 50,
   "id": "b4602eb0",
   "metadata": {},
   "outputs": [],
   "source": [
    "point = Point(3, 3, 3)"
   ]
  },
  {
   "cell_type": "code",
   "execution_count": 51,
   "id": "603589d8",
   "metadata": {},
   "outputs": [],
   "source": [
    "# 5. (3) 메소드 수행"
   ]
  },
  {
   "cell_type": "code",
   "execution_count": 59,
   "id": "e3f2b594",
   "metadata": {},
   "outputs": [
    {
     "name": "stdout",
     "output_type": "stream",
     "text": [
      "(5, 8, 10)\n",
      "(5, 5, 10)\n",
      "(5, 5, 5)\n",
      "(6, 8, 10)\n"
     ]
    }
   ],
   "source": [
    "point.setx(5)\n",
    "print(point.get())\n",
    "\n",
    "point.sety(5)\n",
    "print(point.get())\n",
    "\n",
    "point.setz(5)\n",
    "print(point.get())\n",
    "\n",
    "point.move(1, 3, 5)\n",
    "print(point.get())"
   ]
  }
 ],
 "metadata": {
  "kernelspec": {
   "display_name": "Python 3 (ipykernel)",
   "language": "python",
   "name": "python3"
  },
  "language_info": {
   "codemirror_mode": {
    "name": "ipython",
    "version": 3
   },
   "file_extension": ".py",
   "mimetype": "text/x-python",
   "name": "python",
   "nbconvert_exporter": "python",
   "pygments_lexer": "ipython3",
   "version": "3.9.7"
  }
 },
 "nbformat": 4,
 "nbformat_minor": 5
}
