{
 "cells": [
  {
   "cell_type": "code",
   "execution_count": 5,
   "id": "b87741a2",
   "metadata": {},
   "outputs": [],
   "source": [
    "from IPython.core.interactiveshell import InteractiveShell\n",
    "InteractiveShell.ast_node_interactivity = \"all\""
   ]
  },
  {
   "cell_type": "code",
   "execution_count": null,
   "id": "d1493544",
   "metadata": {},
   "outputs": [],
   "source": [
    "# 2번 - (3) 파이썬 코드 작성"
   ]
  },
  {
   "cell_type": "code",
   "execution_count": 17,
   "id": "8a6d788e",
   "metadata": {},
   "outputs": [
    {
     "data": {
      "text/plain": [
       "260"
      ]
     },
     "execution_count": 17,
     "metadata": {},
     "output_type": "execute_result"
    },
    {
     "data": {
      "text/latex": [
       "$\\displaystyle \\left(6 x^{2} + 2\\right) \\left(x^{3} + x\\right)$"
      ],
      "text/plain": [
       "(6*x**2 + 2)*(x**3 + x)"
      ]
     },
     "execution_count": 17,
     "metadata": {},
     "output_type": "execute_result"
    },
    {
     "data": {
      "text/latex": [
       "$\\displaystyle 260$"
      ],
      "text/plain": [
       "260"
      ]
     },
     "execution_count": 17,
     "metadata": {},
     "output_type": "execute_result"
    }
   ],
   "source": [
    "# 그냥 파이썬 코드\n",
    "x = 2\n",
    "dfdx = 2 * (x**3 + x) * (3*x**2 + 1)\n",
    "dfdx\n",
    "\n",
    "# 심파이 사용\n",
    "import sympy as sp\n",
    "\n",
    "x, y = sp.symbols(\"x y\")\n",
    "y = x**3 + x\n",
    "f = y**2\n",
    "\n",
    "# 미분\n",
    "fprime = f.diff(x)\n",
    "fprime\n",
    "# x에 2 대입\n",
    "fprime.subs(x, 2)\n",
    "# 여러 개의 변수도 대입 가능\n",
    "# f.subs([(x, 2), (y, 3)]) # x에 2 대입, y에 3 대입"
   ]
  },
  {
   "cell_type": "code",
   "execution_count": 6,
   "id": "85c0601c",
   "metadata": {},
   "outputs": [],
   "source": [
    "# 3번 - (2) 파이썬 코드 작성"
   ]
  },
  {
   "cell_type": "code",
   "execution_count": 7,
   "id": "41501ec0",
   "metadata": {},
   "outputs": [
    {
     "name": "stdout",
     "output_type": "stream",
     "text": [
      "q = -12\n",
      "r = 3\n",
      "f = -36\n",
      "dfdq = 3\n",
      "dfdr = -12\n",
      "dfdx = -12\n",
      "dfdy = 9\n",
      "dfdz = -12\n",
      "dfdw = -12\n"
     ]
    }
   ],
   "source": [
    "# input\n",
    "x = 3; y = -4; z = 2; w = 1\n",
    "\n",
    "# perform the forward pass\n",
    "q = x * y\n",
    "r = z + w\n",
    "f = q * r\n",
    "\n",
    "dfdq = r\n",
    "dfdr = q\n",
    "dfdx = dfdq * y\n",
    "dfdy = dfdq * x\n",
    "dfdz = dfdr * 1\n",
    "dfdw = dfdr * 1\n",
    "\n",
    "print(\"q =\", q)\n",
    "print(\"r =\", r)\n",
    "print(\"f =\", f)\n",
    "print(\"dfdq =\", dfdq)\n",
    "print(\"dfdr =\", dfdr)\n",
    "print(\"dfdx =\", dfdx)\n",
    "print(\"dfdy =\", dfdy)\n",
    "print(\"dfdz =\", dfdz)\n",
    "print(\"dfdw =\", dfdw)"
   ]
  },
  {
   "cell_type": "code",
   "execution_count": null,
   "id": "94b8878d",
   "metadata": {},
   "outputs": [],
   "source": [
    "# 4번 - (1) ReLU 활성함수 사용"
   ]
  },
  {
   "cell_type": "code",
   "execution_count": 39,
   "id": "78b90afc",
   "metadata": {},
   "outputs": [
    {
     "data": {
      "text/plain": [
       "array([[1.05],\n",
       "       [0.6 ]])"
      ]
     },
     "execution_count": 39,
     "metadata": {},
     "output_type": "execute_result"
    },
    {
     "data": {
      "text/plain": [
       "array([[1.05],\n",
       "       [0.6 ]])"
      ]
     },
     "execution_count": 39,
     "metadata": {},
     "output_type": "execute_result"
    }
   ],
   "source": [
    "import numpy as np\n",
    "\n",
    "def relu(x):\n",
    "    return (x>0)*x\n",
    "\n",
    "# 전파\n",
    "input_value = np.array([1.0, 0.5]).reshape(2,1)\n",
    "w_input_output = np.array([.9, .3, .2, .8]).reshape(2,2)\n",
    "\n",
    "out = np.dot(w_input_output, input_value)\n",
    "out\n",
    "\n",
    "output = relu(out)\n",
    "output"
   ]
  },
  {
   "cell_type": "code",
   "execution_count": 40,
   "id": "86c11bff",
   "metadata": {},
   "outputs": [],
   "source": [
    "# 4번 - (2) 가중치 정규화 및 오차 계산"
   ]
  },
  {
   "cell_type": "code",
   "execution_count": 41,
   "id": "9454cf29",
   "metadata": {},
   "outputs": [
    {
     "name": "stdout",
     "output_type": "stream",
     "text": [
      "출력부 Error\n"
     ]
    },
    {
     "data": {
      "text/plain": [
       "array([[0.8],\n",
       "       [0.5]])"
      ]
     },
     "execution_count": 41,
     "metadata": {},
     "output_type": "execute_result"
    },
    {
     "name": "stdout",
     "output_type": "stream",
     "text": [
      "입력부 Error\n"
     ]
    },
    {
     "data": {
      "text/plain": [
       "array([[0.7],\n",
       "       [0.6]])"
      ]
     },
     "execution_count": 41,
     "metadata": {},
     "output_type": "execute_result"
    },
    {
     "data": {
      "text/plain": [
       "array([[0.7],\n",
       "       [0.6]])"
      ]
     },
     "execution_count": 41,
     "metadata": {},
     "output_type": "execute_result"
    }
   ],
   "source": [
    "target = np.array([1.85, 0.1]).reshape(2,1)\n",
    "# 절댓값 손실\n",
    "error = np.abs(target - output)\n",
    "print(\"출력부 Error\")\n",
    "error\n",
    "\n",
    "print(\"입력부 Error\")\n",
    "w = w_input_output\n",
    "w11 = w[0][0]\n",
    "w21 = w[0][1]\n",
    "w12 = w[1][0]\n",
    "w22 = w[1][1]\n",
    "# 정규화 - 행의 합을 이용하는 방법\n",
    "norm = np.array([w11/sum(w[0]), w12/sum(w[1]), w21/sum(w[0]), w22/sum(w[1])]).reshape(2,2)\n",
    "e_input = np.dot(norm, error)\n",
    "e_input\n",
    "\n",
    "# 정규화 - 단순 연산\n",
    "norm = np.array([ w11 / (w11 + w21), w12 / (w12 + w22), w21 / (w21 + w11), w22/ (w22 + w12)]).reshape(2,2)\n",
    "e_input = np.dot(norm, error)\n",
    "e_input"
   ]
  },
  {
   "cell_type": "code",
   "execution_count": 42,
   "id": "2af923e7",
   "metadata": {},
   "outputs": [],
   "source": [
    "# 4번 - (3) 역전파를 통한 가중치 업데이트"
   ]
  },
  {
   "cell_type": "code",
   "execution_count": 44,
   "id": "23926f86",
   "metadata": {},
   "outputs": [
    {
     "data": {
      "text/plain": [
       "array([[ 0.0042,  0.0021],\n",
       "       [-0.012 , -0.006 ]])"
      ]
     },
     "execution_count": 44,
     "metadata": {},
     "output_type": "execute_result"
    },
    {
     "data": {
      "text/plain": [
       "array([[0.8958, 0.2979],\n",
       "       [0.212 , 0.806 ]])"
      ]
     },
     "execution_count": 44,
     "metadata": {},
     "output_type": "execute_result"
    }
   ],
   "source": [
    "# 학습률 0.1\n",
    "rate = 0.1\n",
    "\n",
    "# 입력값\n",
    "o = input_value\n",
    "\n",
    "# 활성함수 적용값\n",
    "s = np.dot(w, o)\n",
    "\n",
    "# 활성함수는 y=max(0,x)로 표현되는 ReLU함수\n",
    "value = -error * relu(s) * (1-relu(s))\n",
    "w_update = rate * np.dot(value, o.T)\n",
    "w_update\n",
    "new_input_output = w - w_update\n",
    "new_input_output"
   ]
  },
  {
   "cell_type": "code",
   "execution_count": null,
   "id": "c0743ddc",
   "metadata": {},
   "outputs": [],
   "source": []
  }
 ],
 "metadata": {
  "kernelspec": {
   "display_name": "Python 3 (ipykernel)",
   "language": "python",
   "name": "python3"
  },
  "language_info": {
   "codemirror_mode": {
    "name": "ipython",
    "version": 3
   },
   "file_extension": ".py",
   "mimetype": "text/x-python",
   "name": "python",
   "nbconvert_exporter": "python",
   "pygments_lexer": "ipython3",
   "version": "3.9.7"
  }
 },
 "nbformat": 4,
 "nbformat_minor": 5
}
