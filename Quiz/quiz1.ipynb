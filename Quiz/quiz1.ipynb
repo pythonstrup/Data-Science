{
 "cells": [
  {
   "cell_type": "code",
   "execution_count": 22,
   "id": "bf0df73c",
   "metadata": {},
   "outputs": [],
   "source": [
    "from IPython.core.interactiveshell import InteractiveShell\n",
    "InteractiveShell.ast_node_interactivity = \"all\""
   ]
  },
  {
   "cell_type": "code",
   "execution_count": null,
   "id": "0be731a7",
   "metadata": {},
   "outputs": [],
   "source": [
    "# Sample 1"
   ]
  },
  {
   "cell_type": "code",
   "execution_count": null,
   "id": "940646df",
   "metadata": {},
   "outputs": [],
   "source": [
    "# 1. 파이썬스럽게 리스트의 순서와 항목값 출력"
   ]
  },
  {
   "cell_type": "code",
   "execution_count": 1,
   "id": "60ee2047",
   "metadata": {},
   "outputs": [
    {
     "name": "stdout",
     "output_type": "stream",
     "text": [
      "0 Apple\n",
      "1 Banana\n",
      "2 Cherry\n",
      "3 Durian\n"
     ]
    }
   ],
   "source": [
    "names = [\"Apple\", \"Banana\", \"Cherry\", \"Durian\"]\n",
    "\n",
    "for i, name in enumerate(names):\n",
    "    print(i, name)"
   ]
  },
  {
   "cell_type": "code",
   "execution_count": null,
   "id": "67566733",
   "metadata": {},
   "outputs": [],
   "source": [
    "# 2. 단어의 빈도수를 세는 코드"
   ]
  },
  {
   "cell_type": "code",
   "execution_count": 14,
   "id": "fd7b564d",
   "metadata": {},
   "outputs": [
    {
     "name": "stdout",
     "output_type": "stream",
     "text": [
      "Counter({'never': 3, 'give': 1, 'up': 1})\n",
      "\n",
      "never 3\n",
      "give 1\n",
      "up 1\n"
     ]
    }
   ],
   "source": [
    "from collections import Counter\n",
    "\n",
    "text = [\"never\", \"never\", \"never\", \"give\", \"up\"] \n",
    "text_count = Counter(text)\n",
    "print(text_count)\n",
    "print()\n",
    "\n",
    "for word, count in text_count.items():\n",
    "    print(word, count)\n",
    "\n",
    "# for word, count in text_count.most_common(10):\n",
    "#     print(word, count)"
   ]
  },
  {
   "cell_type": "code",
   "execution_count": null,
   "id": "ae801234",
   "metadata": {},
   "outputs": [],
   "source": [
    "# 3. class를 사용해서 함수 묶기"
   ]
  },
  {
   "cell_type": "code",
   "execution_count": 17,
   "id": "29c92e59",
   "metadata": {},
   "outputs": [
    {
     "name": "stdout",
     "output_type": "stream",
     "text": [
      "멍!\n",
      "멍!\n",
      "멍!\n"
     ]
    }
   ],
   "source": [
    "class Puppy:\n",
    "    def __init__(self, name):\n",
    "        self.name = name\n",
    "        \n",
    "    def bark(self, times=1):\n",
    "        for i in range(times):\n",
    "            print(\"멍!\")\n",
    "\n",
    "coco = Puppy(\"coco\")\n",
    "choco = Puppy(\"choco\")\n",
    "\n",
    "coco.bark()\n",
    "choco.bark(2)"
   ]
  },
  {
   "cell_type": "code",
   "execution_count": null,
   "id": "44bd5c3d",
   "metadata": {},
   "outputs": [],
   "source": [
    "# 4. set 만들기"
   ]
  },
  {
   "cell_type": "code",
   "execution_count": 40,
   "id": "8a7912a6",
   "metadata": {},
   "outputs": [
    {
     "data": {
      "text/plain": [
       "[('aa', 1, 'AA'), ('bb', 2, 'BB'), ('cc', 3, 'CC')]"
      ]
     },
     "execution_count": 40,
     "metadata": {},
     "output_type": "execute_result"
    },
    {
     "data": {
      "text/plain": [
       "['aa', 'bb', 'cc']"
      ]
     },
     "execution_count": 40,
     "metadata": {},
     "output_type": "execute_result"
    },
    {
     "data": {
      "text/plain": [
       "[1, 2, 3]"
      ]
     },
     "execution_count": 40,
     "metadata": {},
     "output_type": "execute_result"
    },
    {
     "data": {
      "text/plain": [
       "['AA', 'BB', 'CC']"
      ]
     },
     "execution_count": 40,
     "metadata": {},
     "output_type": "execute_result"
    }
   ],
   "source": [
    "list1 = ['aa', 'bb', 'cc']\n",
    "list2 = [1, 2, 3]\n",
    "list3 = ['AA', 'BB', 'CC']\n",
    "\n",
    "list4 = [(i,j,k) for i, j, k in zip(list1, list2, list3)]\n",
    "list5 = [tu[0] for tu in list4]\n",
    "list6 = [tu[1] for tu in list4]\n",
    "list7 = [tu[2] for tu in list4]\n",
    "\n",
    "list4\n",
    "list5\n",
    "list6\n",
    "list7"
   ]
  },
  {
   "cell_type": "code",
   "execution_count": null,
   "id": "5d540b78",
   "metadata": {},
   "outputs": [],
   "source": [
    "# 5. 딕셔너리와 리스트"
   ]
  },
  {
   "cell_type": "code",
   "execution_count": 21,
   "id": "f360c726",
   "metadata": {},
   "outputs": [
    {
     "name": "stdout",
     "output_type": "stream",
     "text": [
      "10\n"
     ]
    }
   ],
   "source": [
    "def somefunction(x, y, z, w):\n",
    "    return x + y + z + w\n",
    "\n",
    "x_y_list = [1,2]\n",
    "z_dict = {\"z\": 3, \"w\": 4}\n",
    "\n",
    "print(somefunction(*x_y_list, **z_dict))\n",
    "assert somefunction(*x_y_list, **z_dict) == 10, \"1+2+3+4 should be 10\""
   ]
  },
  {
   "cell_type": "code",
   "execution_count": null,
   "id": "abbe0bcb",
   "metadata": {},
   "outputs": [],
   "source": []
  },
  {
   "cell_type": "code",
   "execution_count": null,
   "id": "c750593c",
   "metadata": {},
   "outputs": [],
   "source": [
    "# Sample 2"
   ]
  },
  {
   "cell_type": "code",
   "execution_count": null,
   "id": "3ddeed4f",
   "metadata": {},
   "outputs": [],
   "source": [
    "# 1. 리스트에 대한 파이썬 코드 완성하기"
   ]
  },
  {
   "cell_type": "code",
   "execution_count": 26,
   "id": "0a3cb0c0",
   "metadata": {},
   "outputs": [
    {
     "data": {
      "text/plain": [
       "[0, 1, 2]"
      ]
     },
     "execution_count": 26,
     "metadata": {},
     "output_type": "execute_result"
    },
    {
     "data": {
      "text/plain": [
       "[7, 8, 9]"
      ]
     },
     "execution_count": 26,
     "metadata": {},
     "output_type": "execute_result"
    },
    {
     "data": {
      "text/plain": [
       "[1, 2, 3, 4, 5, 6, 7, 8]"
      ]
     },
     "execution_count": 26,
     "metadata": {},
     "output_type": "execute_result"
    },
    {
     "data": {
      "text/plain": [
       "[0, 3, 6, 9]"
      ]
     },
     "execution_count": 26,
     "metadata": {},
     "output_type": "execute_result"
    },
    {
     "data": {
      "text/plain": [
       "[5, 4, 3]"
      ]
     },
     "execution_count": 26,
     "metadata": {},
     "output_type": "execute_result"
    }
   ],
   "source": [
    "x = [0, 1, 2, 3, 4, 5, 6, 7, 8, 9]\n",
    "x[:3]\n",
    "x[7:]\n",
    "x[1:9]\n",
    "x[::3]\n",
    "x[5:2:-1]"
   ]
  },
  {
   "cell_type": "code",
   "execution_count": null,
   "id": "c08e52ec",
   "metadata": {},
   "outputs": [],
   "source": [
    "# 2. 파이썬스러운 방법 PEP8으로 리스트를 생성하고 변환시킨 다음 그 결과를 새로운 리스트에 저장해보세요."
   ]
  },
  {
   "cell_type": "code",
   "execution_count": 35,
   "id": "f80841b1",
   "metadata": {},
   "outputs": [
    {
     "data": {
      "text/plain": [
       "[1, 3, 5, 7, 9]"
      ]
     },
     "execution_count": 35,
     "metadata": {},
     "output_type": "execute_result"
    },
    {
     "data": {
      "text/plain": [
       "[1, 9, 25, 49, 81]"
      ]
     },
     "execution_count": 35,
     "metadata": {},
     "output_type": "execute_result"
    }
   ],
   "source": [
    "odd_numbers = [i for i in range(11) if i % 2 == 1]\n",
    "odd_numbers\n",
    "odd_squares = [i*i for i in odd_numbers]\n",
    "odd_squares"
   ]
  },
  {
   "cell_type": "code",
   "execution_count": null,
   "id": "7c259cd1",
   "metadata": {},
   "outputs": [],
   "source": [
    "# 3. 클래스를 사용한 객체지향 프로그래밍"
   ]
  },
  {
   "cell_type": "code",
   "execution_count": 33,
   "id": "659e81bd",
   "metadata": {},
   "outputs": [
    {
     "name": "stdout",
     "output_type": "stream",
     "text": [
      "잘생기셨습니다.\n",
      "잘생기셨습니다.\n",
      "키가 큽니다.\n",
      "예쁩니다.\n"
     ]
    }
   ],
   "source": [
    "class Father:\n",
    "    def handsome(self):\n",
    "        print(\"잘생기셨습니다.\")\n",
    "\n",
    "class Son(Father):\n",
    "    def tall(self):\n",
    "        print(\"키가 큽니다.\")\n",
    "        \n",
    "class Daugther(Father):\n",
    "    def handsome(self):\n",
    "        print(\"예쁩니다.\")\n",
    "        \n",
    "fafa = Father()\n",
    "son = Son()\n",
    "dau = Daugther()\n",
    "\n",
    "fafa.handsome()\n",
    "son.handsome()\n",
    "son.tall()\n",
    "dau.handsome()"
   ]
  },
  {
   "cell_type": "code",
   "execution_count": null,
   "id": "d4f5b817",
   "metadata": {},
   "outputs": [],
   "source": [
    "# 4. 튜플과 리스트를 이용한 파이썬 코딩"
   ]
  },
  {
   "cell_type": "code",
   "execution_count": 31,
   "id": "81d5fe71",
   "metadata": {},
   "outputs": [
    {
     "data": {
      "text/plain": [
       "[('x', 1), ('y', 2), ('z', 3)]"
      ]
     },
     "execution_count": 31,
     "metadata": {},
     "output_type": "execute_result"
    },
    {
     "data": {
      "text/plain": [
       "['x', 'y', 'z']"
      ]
     },
     "execution_count": 31,
     "metadata": {},
     "output_type": "execute_result"
    },
    {
     "data": {
      "text/plain": [
       "[1, 2, 3]"
      ]
     },
     "execution_count": 31,
     "metadata": {},
     "output_type": "execute_result"
    }
   ],
   "source": [
    "list1 = ['x', 'y', 'z']\n",
    "list2 = [1, 2, 3]\n",
    "list3 = [(i, j) for i, j in zip(list1, list2)]\n",
    "list4 = [tu[0] for tu in list3]\n",
    "list5 = [tu[1] for tu in list3]\n",
    "\n",
    "list3\n",
    "list4\n",
    "list5"
   ]
  },
  {
   "cell_type": "code",
   "execution_count": null,
   "id": "0e70342f",
   "metadata": {},
   "outputs": [],
   "source": [
    "# 5. 새로운 함수를 반환해주는 함수"
   ]
  },
  {
   "cell_type": "code",
   "execution_count": 29,
   "id": "9d20e5e5",
   "metadata": {},
   "outputs": [
    {
     "data": {
      "text/plain": [
       "60"
      ]
     },
     "execution_count": 29,
     "metadata": {},
     "output_type": "execute_result"
    }
   ],
   "source": [
    "def tenfold(fx):\n",
    "    return fx * 10\n",
    "\n",
    "def f(x):\n",
    "    return 2 * x\n",
    "\n",
    "tenfold(f(3))"
   ]
  },
  {
   "cell_type": "code",
   "execution_count": null,
   "id": "165ebf20",
   "metadata": {},
   "outputs": [],
   "source": []
  }
 ],
 "metadata": {
  "kernelspec": {
   "display_name": "Python 3 (ipykernel)",
   "language": "python",
   "name": "python3"
  },
  "language_info": {
   "codemirror_mode": {
    "name": "ipython",
    "version": 3
   },
   "file_extension": ".py",
   "mimetype": "text/x-python",
   "name": "python",
   "nbconvert_exporter": "python",
   "pygments_lexer": "ipython3",
   "version": "3.9.7"
  }
 },
 "nbformat": 4,
 "nbformat_minor": 5
}
