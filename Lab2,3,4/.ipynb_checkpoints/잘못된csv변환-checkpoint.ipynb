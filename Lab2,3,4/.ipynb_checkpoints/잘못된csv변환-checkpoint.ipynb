{
 "cells": [
  {
   "cell_type": "code",
   "execution_count": null,
   "id": "536beea4",
   "metadata": {},
   "outputs": [],
   "source": [
    "import numpy as np\n",
    "from sklearn.model_selection import train_test_split\n",
    "import csv\n",
    "InteractiveShell.ast_node_interactivity = \"last\"\n",
    "\n",
    "x = iris.data\n",
    "y = iris.target\n",
    "\n",
    "# 총 150개의 데이터를 75(3/4):25(1/4) 비율로 나눈다.\n",
    "x_train, x_test, y_train, y_test = train_test_split(x, y, stratify=y, test_size=0.25, random_state=42)\n",
    "\n",
    "f1 = open('test_dataset.csv', 'w')\n",
    "f2 = open('train_dataset.csv', 'w')\n",
    "\n",
    "f1.write()\n",
    "\n",
    "for x_content, y_content in zip(x_test, y_test):\n",
    "    write.csv()\n",
    "    if y_content == 0:\n",
    "        target = \"Iris-setosa\"\n",
    "    elif y_content == 1:\n",
    "        target = \"Iris-versicolor\"\n",
    "    else:\n",
    "        target = \"Iris-virginica\"\n",
    "    \n",
    "    for i in x_content.tolist():\n",
    "        f1.write(str(i) + \",\")\n",
    "        \n",
    "    f1.write(target+\"\\n\")\n",
    "\n",
    "for x_content, y_content in zip(x_train, y_train):\n",
    "    if y_content == 0:\n",
    "        target = \"Iris-setosa\"\n",
    "    elif y_content == 1:\n",
    "        target = \"Iris-versicolor\"\n",
    "    else:\n",
    "        target = \"Iris-virginica\"\n",
    "    \n",
    "    for i in x_content.tolist():\n",
    "        f2.write(str(i) + \",\")\n",
    "        \n",
    "    f2.write(target+\"\\n\")\n",
    "\n",
    "\n",
    "f1.close()\n",
    "f2.close()"
   ]
  }
 ],
 "metadata": {
  "kernelspec": {
   "display_name": "Python 3 (ipykernel)",
   "language": "python",
   "name": "python3"
  },
  "language_info": {
   "codemirror_mode": {
    "name": "ipython",
    "version": 3
   },
   "file_extension": ".py",
   "mimetype": "text/x-python",
   "name": "python",
   "nbconvert_exporter": "python",
   "pygments_lexer": "ipython3",
   "version": "3.9.7"
  }
 },
 "nbformat": 4,
 "nbformat_minor": 5
}
