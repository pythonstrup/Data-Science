{
 "cells": [
  {
   "cell_type": "code",
   "execution_count": null,
   "id": "0da48b94",
   "metadata": {},
   "outputs": [],
   "source": [
    "# 201500684 박종혁"
   ]
  },
  {
   "cell_type": "code",
   "execution_count": null,
   "id": "bfb8213f",
   "metadata": {},
   "outputs": [],
   "source": [
    "# 1. 통계 예제 실행해보기"
   ]
  },
  {
   "cell_type": "code",
   "execution_count": null,
   "id": "4ffb692d",
   "metadata": {},
   "outputs": [],
   "source": [
    "# Basic Setting"
   ]
  },
  {
   "cell_type": "code",
   "execution_count": 2,
   "id": "8b29f888",
   "metadata": {},
   "outputs": [],
   "source": [
    "from IPython.core.interactiveshell import InteractiveShell\n",
    "InteractiveShell.ast_node_interactivity = \"all\"\n",
    "\n",
    "from collections import Counter\n",
    "import math\n",
    "import numpy as np\n",
    "import matplotlib as plt\n",
    "\n",
    "def sum_of_squares(v):\n",
    "    return dot(v,v)\n",
    "\n",
    "def dot(v, w):\n",
    "    return sum(v_i * w_i for v_i, w_i in zip(v, w))"
   ]
  },
  {
   "cell_type": "code",
   "execution_count": 3,
   "id": "c935b444",
   "metadata": {},
   "outputs": [],
   "source": [
    "# 친구 수 히스토그램"
   ]
  },
  {
   "cell_type": "code",
   "execution_count": 96,
   "id": "f75a40fc",
   "metadata": {},
   "outputs": [
    {
     "data": {
      "image/png": "[encoded data removed]",
      "text/plain": [
       "<Figure size 432x288 with 1 Axes>"
      ]
     },
     "metadata": {
      "needs_background": "light"
     },
     "output_type": "display_data"
    }
   ],
   "source": [
    "num_friends = [100,49,41,40,25,21,21,19,19,18,18,16,15,15,15,15,14,14,13,13,13,13,12,12,\n",
    "               11,10,10,10,10,10,10,10,10,10,10,10,10,10,10,10,9,9,9,9,9,9,9,9,9,9,9,9,9,\n",
    "               9,9,9,9,9,8,8,8,8,8,8,8,8,8,8,8,8,8,7,7,7,7,7,7,7,7,7,7,7,7,7,7,7,6,6,6,6,\n",
    "               6,6,6,6,6,6,6,6,6,6,6,6,6,6,6,6,6,6,5,5,5,5,5,5,5,5,5,5,5,5,5,5,5,5,5,4,4,\n",
    "               4,4,4,4,4,4,4,4,4,4,4,4,4,4,4,4,4,4,3,3,3,3,3,3,3,3,3,3,3,3,3,3,3,3,3,3,3,\n",
    "               3,2,2,2,2,2,2,2,2,2,2,2,2,2,2,2,2,2,1,1,1,1,1,1,1,1,1,1,1,1,1,1,1,1,1,1,1,1,1,1]\n",
    "\n",
    "def make_friend_counts_histogram(plt):\n",
    "    friend_counts = Counter(num_friends)\n",
    "    xs = range(101)\n",
    "    ys = [friend_counts[x] for x in xs]\n",
    "    plt.bar(xs, ys)\n",
    "    plt.axis([0, 101, 0, 25])\n",
    "    plt.title(\"Histogram of Friend Counts\")\n",
    "    plt.xlabel(\"# of friends\")\n",
    "    plt.ylabel(\"# of people\")\n",
    "    plt.show()\n",
    "    \n",
    "# %pylab inline\n",
    "\n",
    "make_friend_counts_histogram(plt)"
   ]
  },
  {
   "cell_type": "code",
   "execution_count": null,
   "id": "6cefe2e2",
   "metadata": {},
   "outputs": [],
   "source": [
    "# 기본 통계치"
   ]
  },
  {
   "cell_type": "code",
   "execution_count": null,
   "id": "c5584537",
   "metadata": {},
   "outputs": [],
   "source": [
    "num_points = len(num_friends)\n",
    "largest_value = max(num_friends)\n",
    "smallest_vlaue = min(num_friends)\n",
    "sorted_values = sorted(num_friends)\n",
    "smallest_value = sorted_values[0]\n",
    "second_smallest_value = sorted_values[1]\n",
    "second_largest_value = sorted_values[-2]\n",
    "\n",
    "print(num_points)\n",
    "print(largest_value)\n",
    "print(smallest_vlaue)\n",
    "print(sorted_values)\n",
    "print(smallest_value)\n",
    "print(second_smallest_value)\n",
    "print(second_largest_value)"
   ]
  },
  {
   "cell_type": "code",
   "execution_count": 5,
   "id": "6fc91e55",
   "metadata": {},
   "outputs": [],
   "source": [
    "# 중심 경향성"
   ]
  },
  {
   "cell_type": "code",
   "execution_count": 6,
   "id": "b1899c74",
   "metadata": {},
   "outputs": [
    {
     "data": {
      "text/plain": [
       "7.333333333333333"
      ]
     },
     "execution_count": 6,
     "metadata": {},
     "output_type": "execute_result"
    },
    {
     "data": {
      "text/plain": [
       "7.333333333333333"
      ]
     },
     "execution_count": 6,
     "metadata": {},
     "output_type": "execute_result"
    }
   ],
   "source": [
    "def mean(x):\n",
    "    return sum(x)/len(x)\n",
    "\n",
    "mean(num_friends)\n",
    "np.mean(num_friends)"
   ]
  },
  {
   "cell_type": "code",
   "execution_count": 7,
   "id": "daf3ffae",
   "metadata": {},
   "outputs": [],
   "source": [
    "# 중심 경향성: 중앙값"
   ]
  },
  {
   "cell_type": "code",
   "execution_count": 8,
   "id": "623ace85",
   "metadata": {},
   "outputs": [
    {
     "data": {
      "text/plain": [
       "6.0"
      ]
     },
     "execution_count": 8,
     "metadata": {},
     "output_type": "execute_result"
    },
    {
     "data": {
      "text/plain": [
       "6.0"
      ]
     },
     "execution_count": 8,
     "metadata": {},
     "output_type": "execute_result"
    }
   ],
   "source": [
    "def median(v):\n",
    "    n = len(v)\n",
    "    sorted_v = sorted(v)\n",
    "    midpoint = n // 2\n",
    "    \n",
    "    if n%2 == 1:\n",
    "        return sorted_v[midpoint]\n",
    "    else:\n",
    "        lo = midpoint - 1\n",
    "        hi = midpoint\n",
    "        return (sorted_v[lo] + sorted_v[hi]) / 2\n",
    "\n",
    "median(num_friends)\n",
    "np.median(num_friends)"
   ]
  },
  {
   "cell_type": "code",
   "execution_count": 9,
   "id": "dfc042f7",
   "metadata": {},
   "outputs": [],
   "source": [
    "# 분위"
   ]
  },
  {
   "cell_type": "code",
   "execution_count": 10,
   "id": "ffc7e275",
   "metadata": {},
   "outputs": [
    {
     "name": "stdout",
     "output_type": "stream",
     "text": [
      "0.00 Percentage value 1\n",
      "0.25 Percentage value 3\n",
      "0.50 Percentage value 6\n",
      "0.75 Percentage value 9\n"
     ]
    },
    {
     "data": {
      "text/plain": [
       "array([1., 3., 6., 9.])"
      ]
     },
     "execution_count": 10,
     "metadata": {},
     "output_type": "execute_result"
    }
   ],
   "source": [
    "def quantile(x, p):\n",
    "    p_index = int(p * len(x))\n",
    "    return sorted(x)[p_index]\n",
    "\n",
    "for i in range(0, 100, 25):\n",
    "    print(\"%.2f Percentage value\" %(i*0.01), quantile(num_friends, i*0.01))\n",
    "\n",
    "np.percentile(num_friends, [i for i in range(0, 100, 25)])"
   ]
  },
  {
   "cell_type": "code",
   "execution_count": 11,
   "id": "1ba2cf6c",
   "metadata": {},
   "outputs": [],
   "source": [
    "# 최빈값"
   ]
  },
  {
   "cell_type": "code",
   "execution_count": 12,
   "id": "da9e0f46",
   "metadata": {},
   "outputs": [
    {
     "data": {
      "text/plain": [
       "[6, 1]"
      ]
     },
     "execution_count": 12,
     "metadata": {},
     "output_type": "execute_result"
    }
   ],
   "source": [
    "def mode(x):\n",
    "    counts = Counter(x)\n",
    "    max_count = max(counts.values())\n",
    "    return [x_i for x_i, count in counts.items()\n",
    "           if count == max_count]\n",
    "\n",
    "mode(num_friends)"
   ]
  },
  {
   "cell_type": "code",
   "execution_count": 13,
   "id": "b6dba6f3",
   "metadata": {},
   "outputs": [],
   "source": [
    "# 산포도: 범위"
   ]
  },
  {
   "cell_type": "code",
   "execution_count": 14,
   "id": "f8c369bd",
   "metadata": {},
   "outputs": [
    {
     "data": {
      "text/plain": [
       "99"
      ]
     },
     "execution_count": 14,
     "metadata": {},
     "output_type": "execute_result"
    },
    {
     "data": {
      "text/plain": [
       "99"
      ]
     },
     "execution_count": 14,
     "metadata": {},
     "output_type": "execute_result"
    }
   ],
   "source": [
    "def data_range(x):\n",
    "    return max(x) - min(x)\n",
    "\n",
    "data_range(num_friends)\n",
    "np.max(num_friends) - np.min(num_friends)"
   ]
  },
  {
   "cell_type": "code",
   "execution_count": 15,
   "id": "29f4fb2b",
   "metadata": {},
   "outputs": [],
   "source": [
    "# 분산"
   ]
  },
  {
   "cell_type": "code",
   "execution_count": 17,
   "id": "95718014",
   "metadata": {},
   "outputs": [
    {
     "data": {
      "text/plain": [
       "81.54351395730716"
      ]
     },
     "execution_count": 17,
     "metadata": {},
     "output_type": "execute_result"
    },
    {
     "name": "stdout",
     "output_type": "stream",
     "text": [
      "33.9 µs ± 6.62 µs per loop (mean ± std. dev. of 7 runs, 10000 loops each)\n",
      "34.4 µs ± 1.67 µs per loop (mean ± std. dev. of 7 runs, 10000 loops each)\n"
     ]
    }
   ],
   "source": [
    "def de_mean(x):\n",
    "    x_bar = mean(x)\n",
    "    return [x_i - x_bar for x_i in x]\n",
    "\n",
    "def variance(x):\n",
    "    n = len(x)\n",
    "    deviations = de_mean(x)\n",
    "    return sum_of_squares(deviations) / (n-1)\n",
    "\n",
    "variance(num_friends)\n",
    "\n",
    "%timeit variance(num_friends)\n",
    "%timeit np.var(num_friends)"
   ]
  },
  {
   "cell_type": "code",
   "execution_count": null,
   "id": "b2c0dd9e",
   "metadata": {},
   "outputs": [],
   "source": [
    "# 표준편차와 사분위간 분위"
   ]
  },
  {
   "cell_type": "code",
   "execution_count": 18,
   "id": "696f67e8",
   "metadata": {},
   "outputs": [
    {
     "data": {
      "text/plain": [
       "9.03014473623248"
      ]
     },
     "execution_count": 18,
     "metadata": {},
     "output_type": "execute_result"
    },
    {
     "data": {
      "text/plain": [
       "9.007984838446012"
      ]
     },
     "execution_count": 18,
     "metadata": {},
     "output_type": "execute_result"
    },
    {
     "data": {
      "text/plain": [
       "6"
      ]
     },
     "execution_count": 18,
     "metadata": {},
     "output_type": "execute_result"
    }
   ],
   "source": [
    "def standard_deviation(x):\n",
    "    return math.sqrt(variance(x))\n",
    "\n",
    "standard_deviation(num_friends)\n",
    "\n",
    "np.std(num_friends, dtype=np.float64)\n",
    "\n",
    "def interquartile_range(x):\n",
    "    return quantile(x, 0.75) - quantile(x, 0.25)\n",
    "\n",
    "interquartile_range(num_friends)"
   ]
  },
  {
   "cell_type": "code",
   "execution_count": null,
   "id": "14ad3c1f",
   "metadata": {},
   "outputs": [],
   "source": [
    "# 공분산"
   ]
  },
  {
   "cell_type": "code",
   "execution_count": 21,
   "id": "ecc7ecb0",
   "metadata": {},
   "outputs": [
    {
     "data": {
      "text/plain": [
       "22.425435139573064"
      ]
     },
     "execution_count": 21,
     "metadata": {},
     "output_type": "execute_result"
    },
    {
     "data": {
      "text/plain": [
       "array([[ 81.54351396,  22.42543514],\n",
       "       [ 22.42543514, 100.78589895]])"
      ]
     },
     "execution_count": 21,
     "metadata": {},
     "output_type": "execute_result"
    }
   ],
   "source": [
    "daily_minutes = [1,68.77,51.25,52.08,38.36,44.54,57.13,51.4,41.42,31.22,34.76,54.01,38.79,47.59,49.1,\n",
    "                 27.66,41.03,36.73,48.65,28.12,46.62,35.57,32.98,35,26.07,23.77,39.73,40.57,31.65,31.21,\n",
    "                 36.32,20.45,21.93,26.02,27.34,23.49,46.94,30.5,33.8,24.23,21.4,27.94,32.24,40.57,25.07,\n",
    "                 19.42,22.39,18.42,46.96,23.72,26.41,26.97,36.76,40.32,35.02,29.47,30.2,31,38.11,38.18,\n",
    "                 36.31,21.03,30.86,36.07,28.66,29.08,37.28,15.28,24.17,22.31,30.17,25.53,19.85,35.37,44.6,\n",
    "                 17.23,13.47,26.33,35.02,32.09,24.81,19.33,28.77,24.26,31.98,25.73,24.86,16.28,34.51,15.23,\n",
    "                 39.72,40.8,26.06,35.76,34.76,16.13,44.04,18.03,19.65,32.62,35.59,39.43,14.18,35.24,40.13,\n",
    "                 41.82,35.45,36.07,43.67,24.61,20.9,21.9,18.79,27.61,27.21,26.61,29.77,20.59,27.53,13.82,\n",
    "                 33.2,25,33.1,36.65,18.63,14.87,22.2,36.81,25.53,24.62,26.25,18.21,28.08,19.42,29.79,32.8,\n",
    "                 35.99,28.32,27.79,35.88,29.06,36.28,14.1,36.63,37.49,26.9,18.58,38.48,24.48,18.95,33.55,\n",
    "                 14.24,29.04,32.51,25.63,22.22,19,32.73,15.16,13.9,27.2,32.01,29.27,33,13.74,20.42,27.32,\n",
    "                 18.23,35.35,28.48,9.08,24.62,20.12,35.26,19.92,31.02,16.49,12.16,30.7,31.22,34.65,13.13,\n",
    "                 27.51,33.2,31.57,14.1,33.42,17.44,10.12,24.42,9.82,23.39,30.93,15.03,21.67,31.09,33.29,\n",
    "                 22.61,26.89,23.48,8.38,27.81,32.35,23.84]\n",
    "\n",
    "def covariance(x,y):\n",
    "    n = len(x)\n",
    "    return dot(de_mean(x), de_mean(y)) / (n-1)\n",
    "\n",
    "covariance(num_friends, daily_minutes)\n",
    "\n",
    "np.cov(num_friends,daily_minutes)"
   ]
  },
  {
   "cell_type": "code",
   "execution_count": null,
   "id": "a3b7fb5f",
   "metadata": {},
   "outputs": [],
   "source": [
    "# Correlation"
   ]
  },
  {
   "cell_type": "code",
   "execution_count": 27,
   "id": "deb168f9",
   "metadata": {},
   "outputs": [
    {
     "data": {
      "text/plain": [
       "22.425435139573064"
      ]
     },
     "execution_count": 27,
     "metadata": {},
     "output_type": "execute_result"
    },
    {
     "data": {
      "text/plain": [
       "array([[1.        , 0.24736957],\n",
       "       [0.24736957, 1.        ]])"
      ]
     },
     "execution_count": 27,
     "metadata": {},
     "output_type": "execute_result"
    },
    {
     "data": {
      "text/plain": [
       "[<matplotlib.lines.Line2D at 0x2d450f85a90>]"
      ]
     },
     "execution_count": 27,
     "metadata": {},
     "output_type": "execute_result"
    },
    {
     "data": {
      "text/plain": [
       "(0.0, 110.0, 0.0, 78.77)"
      ]
     },
     "execution_count": 27,
     "metadata": {},
     "output_type": "execute_result"
    },
    {
     "data": {
      "image/png": "[encoded data removed]",
      "text/plain": [
       "<Figure size 432x288 with 1 Axes>"
      ]
     },
     "metadata": {
      "needs_background": "light"
     },
     "output_type": "display_data"
    }
   ],
   "source": [
    "import matplotlib.pyplot as plt\n",
    "\n",
    "def correlation(x,y):\n",
    "    stdev_x = standard_deviation(x)\n",
    "    stdev_y = standard_deviation(y)\n",
    "    if stdev_x > 0 and stdev_y > 0:\n",
    "        return covariance(x, y)\n",
    "    else:\n",
    "        return 0\n",
    "    \n",
    "correlation(num_friends, daily_minutes)\n",
    "\n",
    "np.corrcoef(num_friends, daily_minutes)\n",
    "\n",
    "plt.plot(num_friends, daily_minutes, 'ro')\n",
    "plt.axis([0, max(num_friends)+10, 0, max(daily_minutes)+10])\n",
    "plt.show()"
   ]
  },
  {
   "cell_type": "code",
   "execution_count": null,
   "id": "c11f9a93",
   "metadata": {},
   "outputs": [],
   "source": [
    "# 이상치를 제거한 상관관계"
   ]
  },
  {
   "cell_type": "code",
   "execution_count": 32,
   "id": "f078dd8b",
   "metadata": {},
   "outputs": [
    {
     "data": {
      "text/plain": [
       "[<matplotlib.lines.Line2D at 0x2d45105a8b0>]"
      ]
     },
     "execution_count": 32,
     "metadata": {},
     "output_type": "execute_result"
    },
    {
     "data": {
      "text/plain": [
       "(0.0, 59.0, 0.0, 78.77)"
      ]
     },
     "execution_count": 32,
     "metadata": {},
     "output_type": "execute_result"
    },
    {
     "data": {
      "image/png": "[encoded data removed]",
      "text/plain": [
       "<Figure size 432x288 with 1 Axes>"
      ]
     },
     "metadata": {
      "needs_background": "light"
     },
     "output_type": "display_data"
    }
   ],
   "source": [
    "outlier = num_friends.index(100) # 이상치\n",
    "\n",
    "num_friends_good = [x for i, x in enumerate(num_friends)\n",
    "                  if i != outlier]\n",
    "\n",
    "daily_minutes_good = [x for i, x in enumerate(daily_minutes)\n",
    "                     if i != outlier]\n",
    "\n",
    "plt.plot(num_friends_good, daily_minutes_good, 'ro')\n",
    "plt.axis([0, max(num_friends_good)+10, 0, max(daily_minutes_good)+10])\n",
    "plt.show()"
   ]
  },
  {
   "cell_type": "code",
   "execution_count": null,
   "id": "f71e42ac",
   "metadata": {},
   "outputs": [],
   "source": [
    "# 2. height-weight.csv 시각화하기"
   ]
  },
  {
   "cell_type": "code",
   "execution_count": 81,
   "id": "777c316b",
   "metadata": {
    "scrolled": false
   },
   "outputs": [
    {
     "data": {
      "text/html": [
       "<div>\n",
       "<style scoped>\n",
       "    .dataframe tbody tr th:only-of-type {\n",
       "        vertical-align: middle;\n",
       "    }\n",
       "\n",
       "    .dataframe tbody tr th {\n",
       "        vertical-align: top;\n",
       "    }\n",
       "\n",
       "    .dataframe thead th {\n",
       "        text-align: right;\n",
       "    }\n",
       "</style>\n",
       "<table border=\"1\" class=\"dataframe\">\n",
       "  <thead>\n",
       "    <tr style=\"text-align: right;\">\n",
       "      <th></th>\n",
       "      <th>Height</th>\n",
       "      <th>Weight</th>\n",
       "    </tr>\n",
       "    <tr>\n",
       "      <th>Gender</th>\n",
       "      <th></th>\n",
       "      <th></th>\n",
       "    </tr>\n",
       "  </thead>\n",
       "  <tbody>\n",
       "    <tr>\n",
       "      <th>0</th>\n",
       "      <td>69.026346</td>\n",
       "      <td>187.020621</td>\n",
       "    </tr>\n",
       "    <tr>\n",
       "      <th>1</th>\n",
       "      <td>63.708774</td>\n",
       "      <td>135.860093</td>\n",
       "    </tr>\n",
       "  </tbody>\n",
       "</table>\n",
       "</div>"
      ],
      "text/plain": [
       "           Height      Weight\n",
       "Gender                       \n",
       "0       69.026346  187.020621\n",
       "1       63.708774  135.860093"
      ]
     },
     "execution_count": 81,
     "metadata": {},
     "output_type": "execute_result"
    },
    {
     "data": {
      "text/html": [
       "<div>\n",
       "<style scoped>\n",
       "    .dataframe tbody tr th:only-of-type {\n",
       "        vertical-align: middle;\n",
       "    }\n",
       "\n",
       "    .dataframe tbody tr th {\n",
       "        vertical-align: top;\n",
       "    }\n",
       "\n",
       "    .dataframe thead th {\n",
       "        text-align: right;\n",
       "    }\n",
       "</style>\n",
       "<table border=\"1\" class=\"dataframe\">\n",
       "  <thead>\n",
       "    <tr style=\"text-align: right;\">\n",
       "      <th></th>\n",
       "      <th>Gender</th>\n",
       "      <th>Height</th>\n",
       "      <th>Weight</th>\n",
       "    </tr>\n",
       "  </thead>\n",
       "  <tbody>\n",
       "    <tr>\n",
       "      <th>0</th>\n",
       "      <td>0</td>\n",
       "      <td>73.847017</td>\n",
       "      <td>241.893563</td>\n",
       "    </tr>\n",
       "    <tr>\n",
       "      <th>1</th>\n",
       "      <td>0</td>\n",
       "      <td>68.781904</td>\n",
       "      <td>162.310473</td>\n",
       "    </tr>\n",
       "    <tr>\n",
       "      <th>2</th>\n",
       "      <td>0</td>\n",
       "      <td>74.110105</td>\n",
       "      <td>212.740856</td>\n",
       "    </tr>\n",
       "    <tr>\n",
       "      <th>3</th>\n",
       "      <td>0</td>\n",
       "      <td>71.730978</td>\n",
       "      <td>220.042470</td>\n",
       "    </tr>\n",
       "    <tr>\n",
       "      <th>4</th>\n",
       "      <td>0</td>\n",
       "      <td>69.881796</td>\n",
       "      <td>206.349801</td>\n",
       "    </tr>\n",
       "    <tr>\n",
       "      <th>...</th>\n",
       "      <td>...</td>\n",
       "      <td>...</td>\n",
       "      <td>...</td>\n",
       "    </tr>\n",
       "    <tr>\n",
       "      <th>9995</th>\n",
       "      <td>1</td>\n",
       "      <td>66.172652</td>\n",
       "      <td>136.777454</td>\n",
       "    </tr>\n",
       "    <tr>\n",
       "      <th>9996</th>\n",
       "      <td>1</td>\n",
       "      <td>67.067155</td>\n",
       "      <td>170.867906</td>\n",
       "    </tr>\n",
       "    <tr>\n",
       "      <th>9997</th>\n",
       "      <td>1</td>\n",
       "      <td>63.867992</td>\n",
       "      <td>128.475319</td>\n",
       "    </tr>\n",
       "    <tr>\n",
       "      <th>9998</th>\n",
       "      <td>1</td>\n",
       "      <td>69.034243</td>\n",
       "      <td>163.852461</td>\n",
       "    </tr>\n",
       "    <tr>\n",
       "      <th>9999</th>\n",
       "      <td>1</td>\n",
       "      <td>61.944246</td>\n",
       "      <td>113.649103</td>\n",
       "    </tr>\n",
       "  </tbody>\n",
       "</table>\n",
       "<p>10000 rows × 3 columns</p>\n",
       "</div>"
      ],
      "text/plain": [
       "      Gender     Height      Weight\n",
       "0          0  73.847017  241.893563\n",
       "1          0  68.781904  162.310473\n",
       "2          0  74.110105  212.740856\n",
       "3          0  71.730978  220.042470\n",
       "4          0  69.881796  206.349801\n",
       "...      ...        ...         ...\n",
       "9995       1  66.172652  136.777454\n",
       "9996       1  67.067155  170.867906\n",
       "9997       1  63.867992  128.475319\n",
       "9998       1  69.034243  163.852461\n",
       "9999       1  61.944246  113.649103\n",
       "\n",
       "[10000 rows x 3 columns]"
      ]
     },
     "execution_count": 81,
     "metadata": {},
     "output_type": "execute_result"
    },
    {
     "data": {
      "text/plain": [
       "<matplotlib.collections.PathCollection at 0x2d4548cbb80>"
      ]
     },
     "execution_count": 81,
     "metadata": {},
     "output_type": "execute_result"
    },
    {
     "data": {
      "text/plain": [
       "(49.2631333250971, 83.9987423463896, 59.700126712753004, 274.989698505106)"
      ]
     },
     "execution_count": 81,
     "metadata": {},
     "output_type": "execute_result"
    },
    {
     "data": {
      "text/plain": [
       "Text(0.5, 1.0, 'Height-Weight Plotting')"
      ]
     },
     "execution_count": 81,
     "metadata": {},
     "output_type": "execute_result"
    },
    {
     "data": {
      "text/plain": [
       "Text(0.5, 0, 'Height in inches')"
      ]
     },
     "execution_count": 81,
     "metadata": {},
     "output_type": "execute_result"
    },
    {
     "data": {
      "text/plain": [
       "Text(0, 0.5, 'Weight in Lis')"
      ]
     },
     "execution_count": 81,
     "metadata": {},
     "output_type": "execute_result"
    },
    {
     "data": {
      "image/png": "[encoded data removed]",
      "text/plain": [
       "<Figure size 432x288 with 1 Axes>"
      ]
     },
     "metadata": {
      "needs_background": "light"
     },
     "output_type": "display_data"
    }
   ],
   "source": [
    "import pandas\n",
    "import matplotlib.pyplot as plt\n",
    "import numpy as np\n",
    "\n",
    "# 1. 원데이터 시각화\n",
    "hw = pandas.read_csv(\"height-weight.csv\")\n",
    "hw_df['Gender'] = hw.Gender\n",
    "hw_df['Gender'] = hw_df['Gender'].map({\"Male\": 0, \"Female\": 1})\n",
    "hw_df\n",
    "\n",
    "height = hw.iloc[:,1]\n",
    "weight = hw.iloc[:,2]\n",
    "\n",
    "plt.scatter(height, weight, c=hw_df.Gender, s=1)\n",
    "plt.axis([min(height)-5, max(height)+5, min(weight)-5, max(weight)+5])\n",
    "plt.title(\"Height-Weight Plotting\")\n",
    "plt.xlabel(\"Height in inches\")\n",
    "plt.ylabel(\"Weight in Lis\")\n",
    "plt.show()"
   ]
  },
  {
   "cell_type": "code",
   "execution_count": 86,
   "id": "b6f79865",
   "metadata": {},
   "outputs": [
    {
     "data": {
      "text/html": [
       "<div>\n",
       "<style scoped>\n",
       "    .dataframe tbody tr th:only-of-type {\n",
       "        vertical-align: middle;\n",
       "    }\n",
       "\n",
       "    .dataframe tbody tr th {\n",
       "        vertical-align: top;\n",
       "    }\n",
       "\n",
       "    .dataframe thead th {\n",
       "        text-align: right;\n",
       "    }\n",
       "</style>\n",
       "<table border=\"1\" class=\"dataframe\">\n",
       "  <thead>\n",
       "    <tr style=\"text-align: right;\">\n",
       "      <th></th>\n",
       "      <th>Height</th>\n",
       "      <th>Weight</th>\n",
       "    </tr>\n",
       "    <tr>\n",
       "      <th>Gender</th>\n",
       "      <th></th>\n",
       "      <th></th>\n",
       "    </tr>\n",
       "  </thead>\n",
       "  <tbody>\n",
       "    <tr>\n",
       "      <th>Female</th>\n",
       "      <td>63.708774</td>\n",
       "      <td>135.860093</td>\n",
       "    </tr>\n",
       "    <tr>\n",
       "      <th>Male</th>\n",
       "      <td>69.026346</td>\n",
       "      <td>187.020621</td>\n",
       "    </tr>\n",
       "  </tbody>\n",
       "</table>\n",
       "</div>"
      ],
      "text/plain": [
       "           Height      Weight\n",
       "Gender                       \n",
       "Female  63.708774  135.860093\n",
       "Male    69.026346  187.020621"
      ]
     },
     "execution_count": 86,
     "metadata": {},
     "output_type": "execute_result"
    },
    {
     "name": "stdout",
     "output_type": "stream",
     "text": [
      "키 전체 평균: 66.36755975482106\n",
      "몸무게 전체 평균: 161.44035683283076\n"
     ]
    }
   ],
   "source": [
    "# 2. 평균\n",
    "hw.groupby(['Gender']).mean()\n",
    "print(\"키 전체 평균:\", np.mean(height))\n",
    "print(\"몸무게 전체 평균:\",np.mean(weight))"
   ]
  },
  {
   "cell_type": "code",
   "execution_count": 88,
   "id": "010617c3",
   "metadata": {},
   "outputs": [
    {
     "data": {
      "text/html": [
       "<div>\n",
       "<style scoped>\n",
       "    .dataframe tbody tr th:only-of-type {\n",
       "        vertical-align: middle;\n",
       "    }\n",
       "\n",
       "    .dataframe tbody tr th {\n",
       "        vertical-align: top;\n",
       "    }\n",
       "\n",
       "    .dataframe thead th {\n",
       "        text-align: right;\n",
       "    }\n",
       "</style>\n",
       "<table border=\"1\" class=\"dataframe\">\n",
       "  <thead>\n",
       "    <tr style=\"text-align: right;\">\n",
       "      <th></th>\n",
       "      <th>Height</th>\n",
       "      <th>Weight</th>\n",
       "    </tr>\n",
       "    <tr>\n",
       "      <th>Gender</th>\n",
       "      <th></th>\n",
       "      <th></th>\n",
       "    </tr>\n",
       "  </thead>\n",
       "  <tbody>\n",
       "    <tr>\n",
       "      <th>Female</th>\n",
       "      <td>63.730924</td>\n",
       "      <td>136.117583</td>\n",
       "    </tr>\n",
       "    <tr>\n",
       "      <th>Male</th>\n",
       "      <td>69.027709</td>\n",
       "      <td>187.033546</td>\n",
       "    </tr>\n",
       "  </tbody>\n",
       "</table>\n",
       "</div>"
      ],
      "text/plain": [
       "           Height      Weight\n",
       "Gender                       \n",
       "Female  63.730924  136.117583\n",
       "Male    69.027709  187.033546"
      ]
     },
     "execution_count": 88,
     "metadata": {},
     "output_type": "execute_result"
    },
    {
     "name": "stdout",
     "output_type": "stream",
     "text": [
      "키 전체 평균: 66.31807008178464\n",
      "몸무게 전체 평균: 161.21292769948298\n"
     ]
    }
   ],
   "source": [
    "# 3. 중앙값\n",
    "hw.groupby(['Gender']).median()\n",
    "print(\"키 전체 평균:\", np.median(height))\n",
    "print(\"몸무게 전체 평균:\",np.median(weight))\n",
    "\n",
    "# 평균값과 유사하나, 약간의 차이를 보인다."
   ]
  },
  {
   "cell_type": "code",
   "execution_count": 94,
   "id": "7c81749c",
   "metadata": {},
   "outputs": [
    {
     "name": "stdout",
     "output_type": "stream",
     "text": [
      "키 전체 분위:\n"
     ]
    },
    {
     "data": {
      "text/plain": [
       "array([54.26313333, 63.50562048, 66.31807008, 69.17426173])"
      ]
     },
     "execution_count": 94,
     "metadata": {},
     "output_type": "execute_result"
    },
    {
     "name": "stdout",
     "output_type": "stream",
     "text": [
      "몸무게 전체 분위:\n"
     ]
    },
    {
     "data": {
      "text/plain": [
       "array([ 64.70012671, 135.81805131, 161.2129277 , 187.16952487])"
      ]
     },
     "execution_count": 94,
     "metadata": {},
     "output_type": "execute_result"
    }
   ],
   "source": [
    "# 4. 분위\n",
    "print(\"키 전체 분위:\")\n",
    "np.percentile(height, [i for i in range(0, 100, 25)])\n",
    "print(\"몸무게 전체 분위:\")\n",
    "np.percentile(weight, [i for i in range(0, 100, 25)])"
   ]
  },
  {
   "cell_type": "code",
   "execution_count": 100,
   "id": "841ddc5a",
   "metadata": {
    "scrolled": false
   },
   "outputs": [
    {
     "name": "stdout",
     "output_type": "stream",
     "text": [
      "최빈값\n"
     ]
    },
    {
     "data": {
      "text/plain": [
       "54.2631333250971"
      ]
     },
     "execution_count": 100,
     "metadata": {},
     "output_type": "execute_result"
    },
    {
     "data": {
      "text/plain": [
       "64.700126712753"
      ]
     },
     "execution_count": 100,
     "metadata": {},
     "output_type": "execute_result"
    }
   ],
   "source": [
    "# 5. 최빈값\n",
    "print(\"최빈값\")\n",
    "\n",
    "h_vals,counts = np.unique(height, return_counts=True)\n",
    "index = np.argmax(counts)\n",
    "h_vals[index]\n",
    "\n",
    "w_vals,counts = np.unique(weight, return_counts=True)\n",
    "index = np.argmax(counts)\n",
    "w_vals[index]"
   ]
  },
  {
   "cell_type": "code",
   "execution_count": 102,
   "id": "db0fdcc3",
   "metadata": {},
   "outputs": [
    {
     "name": "stdout",
     "output_type": "stream",
     "text": [
      "키 전체 분포 범위: 24.735609021292504\n",
      "몸무게 전체 분포 범위: 205.289571792353\n"
     ]
    }
   ],
   "source": [
    "# 6. 산포도\n",
    "print(\"키 전체 분포 범위:\", np.max(height)-np.min(height))\n",
    "print(\"몸무게 전체 분포 범위:\", np.max(weight)-np.min(weight))"
   ]
  },
  {
   "cell_type": "code",
   "execution_count": null,
   "id": "363b217f",
   "metadata": {},
   "outputs": [],
   "source": [
    "# 7. 분산"
   ]
  },
  {
   "cell_type": "code",
   "execution_count": null,
   "id": "1f6d7e43",
   "metadata": {},
   "outputs": [],
   "source": [
    "# 8.표준편차"
   ]
  },
  {
   "cell_type": "code",
   "execution_count": null,
   "id": "dc9bcbcb",
   "metadata": {},
   "outputs": [],
   "source": [
    "# 9. 공분산"
   ]
  },
  {
   "cell_type": "code",
   "execution_count": null,
   "id": "410ff0e5",
   "metadata": {},
   "outputs": [],
   "source": [
    "# 10. 상관관계"
   ]
  },
  {
   "cell_type": "code",
   "execution_count": null,
   "id": "1e9bbddc",
   "metadata": {},
   "outputs": [],
   "source": [
    "# 201500684 박종혁"
   ]
  }
 ],
 "metadata": {
  "kernelspec": {
   "display_name": "Python 3 (ipykernel)",
   "language": "python",
   "name": "python3"
  },
  "language_info": {
   "codemirror_mode": {
    "name": "ipython",
    "version": 3
   },
   "file_extension": ".py",
   "mimetype": "text/x-python",
   "name": "python",
   "nbconvert_exporter": "python",
   "pygments_lexer": "ipython3",
   "version": "3.9.7"
  }
 },
 "nbformat": 4,
 "nbformat_minor": 5
}
