{
 "cells": [
  {
   "cell_type": "code",
   "execution_count": null,
   "id": "a2a78223",
   "metadata": {},
   "outputs": [],
   "source": [
    "# 201500684 박종혁"
   ]
  },
  {
   "cell_type": "code",
   "execution_count": 2,
   "id": "3b5435c6",
   "metadata": {},
   "outputs": [],
   "source": [
    "# 신경망 학습시키기\n",
    "import scipy.special\n",
    "import numpy as np\n",
    "\n",
    "# 신경망 질의\n",
    "# 신경망 클래스 정의3\n",
    "class NeuralNetwork:\n",
    "    \n",
    "    def __init__(self, inputnodes, hiddennodes1, hiddennodes2, outputnodes, learningrate):\n",
    "        # 입력, 은닉, 출력계층\n",
    "        self.inodes = inputnodes\n",
    "        self.hnodes1 = hiddennodes1\n",
    "        self.hnodes2 = hiddennodes2\n",
    "        self.onodes = outputnodes\n",
    "        \n",
    "        # 가중치 행렬\n",
    "        self.wih = np.random.normal(0.0, pow(self.hnodes1, - 0.5), (self.hnodes1, self.inodes))\n",
    "        # 은닉1->은닉2 가중치\n",
    "        self.whh = np.random.normal(0.0, pow(self.hnodes1, - 0.5), (self.hnodes2, self.hnodes1))\n",
    "        self.who = np.random.normal(0.0, pow(self.hnodes2, - 0.5), (self.onodes, self.hnodes2))\n",
    "        \n",
    "        # 학습률\n",
    "        self.lr = learningrate\n",
    "        \n",
    "        # 활성함수 - 시그모이드\n",
    "        self.activation_function = lambda x: scipy.special.expit(x)\n",
    "        \n",
    "    # 신경망 학습\n",
    "    def train(self, inputs_list, targets_list):\n",
    "        # 입력리스트를 2차원 행렬로 변환\n",
    "        inputs = np.array(inputs_list, ndmin=2).T\n",
    "        targets = np.array(targets_list, ndmin=2).T\n",
    "        \n",
    "        # 1. 입력->은닉1\n",
    "        # 은닉계층1으로 들어오는 신호를 계산\n",
    "        hidden_inputs1 = np.dot(self.wih, inputs)\n",
    "        # 은닉계층1에서 나가는 신호를 계산\n",
    "        hidden_outputs1 = self.activation_function(hidden_inputs1)\n",
    "        \n",
    "        # 2. 은닉1->은닉2\n",
    "        # 은닉계층2으로 들어오는 신호를 계산\n",
    "        hidden_inputs2 = np.dot(self.whh, hidden_outputs1)\n",
    "        # 은닉계층2에서 나가는 신호를 계산\n",
    "        hidden_outputs2 = self.activation_function(hidden_inputs2)\n",
    "        \n",
    "        # 3. 은닉2->출력\n",
    "        # 최종출력계층으로 들어오는 신호 계산\n",
    "        final_inputs = np.dot(self.who, hidden_outputs2)\n",
    "        # 최종출력계층에서 들어오는 신호 계산\n",
    "        final_outputs = self.activation_function(final_inputs)\n",
    "        \n",
    "        # 출력 계층의 오차는 (실제값 - 계산값)\n",
    "        output_errors = targets - final_outputs\n",
    "        # 은닉계층과 출력계층 간의 가중치 업데이트\n",
    "        hidden_errors2 = np.dot(self.who.T, output_errors)\n",
    "        # 은닉계층2와 은닉계층1의 가중치 업데이트\n",
    "        hidden_errors1 = np.dot(self.whh.T, hidden_errors2)\n",
    "        \n",
    "        # 은닉계층과 출력계층 간의 가중치 업데이트\n",
    "        self.who += self.lr * np.dot((output_errors * final_outputs * (1.0 - final_outputs)), np.transpose(hidden_outputs2))\n",
    "        \n",
    "        # 은닉계층1과 은닉계층2 간의 가중치 업데이트\n",
    "        self.whh += self.lr * np.dot((hidden_errors2 * hidden_outputs2 * (1.0 - hidden_outputs2)), np.transpose(hidden_outputs1))\n",
    "        \n",
    "        # 입력계층과 은닉계층 간의 가중치 업데이트\n",
    "        self.wih += self.lr * np.dot((hidden_errors1 * hidden_outputs1 * (1.0 - hidden_outputs1)), np.transpose(inputs))\n",
    "    \n",
    "    # 신경망 질의\n",
    "    def query(self, inputs_list):\n",
    "        # 입력리스트를 2차원 행렬로 변환\n",
    "        inputs = np.array(inputs_list, ndmin=2).T\n",
    "        \n",
    "        # 은닉계층1으로 들어오는 신호를 계산\n",
    "        hidden_inputs1 = np.dot(self.wih, inputs)\n",
    "        # 은닉계층1에서 나가는 신호를 계산\n",
    "        hiddne_outputs1 = self.activation_function(hidden_inputs1)\n",
    "        \n",
    "        # 은닉계층2으로 들어오는 신호를 계산\n",
    "        hidden_inputs2 = np.dot(self.whh, hiddne_outputs1)\n",
    "        # 은닉계층2에서 나가는 신호를 계산\n",
    "        hiddne_outputs2 = self.activation_function(hidden_inputs2)\n",
    "        \n",
    "        # 최종출력계층으로 들어오는 신호를 계산\n",
    "        final_inputs = np.dot(self.who, hiddne_outputs2)\n",
    "        # 최종출력계층으로 나가는 신호를 계산\n",
    "        final_outputs = self.activation_function(final_inputs)\n",
    "        \n",
    "        return final_outputs\n",
    "    \n",
    "# 노드의 갯수\n",
    "input_nodes = 784\n",
    "hidden_nodes1 = 280\n",
    "hidden_nodes2 = 80\n",
    "output_nodes = 10\n",
    "# 학습률\n",
    "learning_rate = 0.01\n",
    "# 반복회수\n",
    "epochs = 7\n",
    "\n",
    "n = NeuralNetwork(input_nodes, hidden_nodes1, hidden_nodes2, output_nodes, learning_rate)"
   ]
  },
  {
   "cell_type": "code",
   "execution_count": 21,
   "id": "a3d5e080",
   "metadata": {},
   "outputs": [
    {
     "name": "stdout",
     "output_type": "stream",
     "text": [
      "epochs 0 done\n",
      "epochs 1 done\n",
      "epochs 2 done\n",
      "epochs 3 done\n",
      "epochs 4 done\n",
      "epochs 5 done\n",
      "epochs 6 done\n",
      "학습완료\n"
     ]
    }
   ],
   "source": [
    "# 신경망 학습시키기\n",
    "import scipy.special\n",
    "import numpy as np\n",
    "\n",
    "# 신경망 질의\n",
    "# 신경망 클래스 정의3\n",
    "class NeuralNetwork:\n",
    "    \n",
    "    def __init__(self, inputnodes, hiddennodes1, hiddennodes2, outputnodes, learningrate):\n",
    "        # 입력, 은닉, 출력계층\n",
    "        self.inodes = inputnodes\n",
    "        self.hnodes1 = hiddennodes1\n",
    "        self.hnodes2 = hiddennodes2\n",
    "        self.onodes = outputnodes\n",
    "        \n",
    "        # 가중치 행렬\n",
    "        self.wih = np.random.normal(0.0, pow(self.hnodes1, - 0.5), (self.hnodes1, self.inodes))\n",
    "        # 은닉1->은닉2 가중치\n",
    "        self.whh = np.random.normal(0.0, pow(self.hnodes1, - 0.5), (self.hnodes2, self.hnodes1))\n",
    "        self.who = np.random.normal(0.0, pow(self.hnodes2, - 0.5), (self.onodes, self.hnodes2))\n",
    "        \n",
    "        # 학습률\n",
    "        self.lr = learningrate\n",
    "        \n",
    "        # 활성함수 - 시그모이드\n",
    "        self.activation_function = lambda x: scipy.special.expit(x)\n",
    "        \n",
    "    # 신경망 학습\n",
    "    def train(self, inputs_list, targets_list):\n",
    "        # 입력리스트를 2차원 행렬로 변환\n",
    "        inputs = np.array(inputs_list, ndmin=2).T\n",
    "        targets = np.array(targets_list, ndmin=2).T\n",
    "        \n",
    "        # 1. 입력->은닉1\n",
    "        # 은닉계층1으로 들어오는 신호를 계산\n",
    "        hidden_inputs1 = np.dot(self.wih, inputs)\n",
    "        # 은닉계층1에서 나가는 신호를 계산\n",
    "        hidden_outputs1 = self.activation_function(hidden_inputs1)\n",
    "        \n",
    "        # 2. 은닉1->은닉2\n",
    "        # 은닉계층2으로 들어오는 신호를 계산\n",
    "        hidden_inputs2 = np.dot(self.whh, hidden_outputs1)\n",
    "        # 은닉계층2에서 나가는 신호를 계산\n",
    "        hidden_outputs2 = self.activation_function(hidden_inputs2)\n",
    "        \n",
    "        # 3. 은닉2->출력\n",
    "        # 최종출력계층으로 들어오는 신호 계산\n",
    "        final_inputs = np.dot(self.who, hidden_outputs2)\n",
    "        # 최종출력계층에서 들어오는 신호 계산\n",
    "        final_outputs = self.activation_function(final_inputs)\n",
    "        \n",
    "        # 출력 계층의 오차는 (실제값 - 계산값)\n",
    "        output_errors = targets - final_outputs\n",
    "        # 은닉계층과 출력계층 간의 가중치 업데이트\n",
    "        hidden_errors2 = np.dot(self.who.T, output_errors)\n",
    "        # 은닉계층2와 은닉계층1의 가중치 업데이트\n",
    "        hidden_errors1 = np.dot(self.whh.T, hidden_errors2)\n",
    "        \n",
    "        # 은닉계층과 출력계층 간의 가중치 업데이트\n",
    "        self.who += self.lr * np.dot((output_errors * final_outputs * (1.0 - final_outputs)), np.transpose(hidden_outputs2))\n",
    "        \n",
    "        # 은닉계층1과 은닉계층2 간의 가중치 업데이트\n",
    "        self.whh += self.lr * np.dot((hidden_errors2 * hidden_outputs2 * (1.0 - hidden_outputs2)), np.transpose(hidden_outputs1))\n",
    "        \n",
    "        # 입력계층과 은닉계층 간의 가중치 업데이트\n",
    "        self.wih += self.lr * np.dot((hidden_errors1 * hidden_outputs1 * (1.0 - hidden_outputs1)), np.transpose(inputs))\n",
    "    \n",
    "    # 신경망 질의\n",
    "    def query(self, inputs_list):\n",
    "        # 입력리스트를 2차원 행렬로 변환\n",
    "        inputs = np.array(inputs_list, ndmin=2).T\n",
    "        \n",
    "        # 은닉계층1으로 들어오는 신호를 계산\n",
    "        hidden_inputs1 = np.dot(self.wih, inputs)\n",
    "        # 은닉계층1에서 나가는 신호를 계산\n",
    "        hiddne_outputs1 = self.activation_function(hidden_inputs1)\n",
    "        \n",
    "        # 은닉계층2으로 들어오는 신호를 계산\n",
    "        hidden_inputs2 = np.dot(self.whh, hiddne_outputs1)\n",
    "        # 은닉계층2에서 나가는 신호를 계산\n",
    "        hiddne_outputs2 = self.activation_function(hidden_inputs2)\n",
    "        \n",
    "        # 최종출력계층으로 들어오는 신호를 계산\n",
    "        final_inputs = np.dot(self.who, hiddne_outputs2)\n",
    "        # 최종출력계층으로 나가는 신호를 계산\n",
    "        final_outputs = self.activation_function(final_inputs)\n",
    "        \n",
    "        return final_outputs\n",
    "    \n",
    "# 노드의 갯수\n",
    "input_nodes = 784\n",
    "hidden_nodes1 = 280\n",
    "hidden_nodes2 = 80\n",
    "output_nodes = 10\n",
    "# 학습률\n",
    "learning_rate = 0.01\n",
    "# 반복회수\n",
    "epochs = 7\n",
    "\n",
    "n = NeuralNetwork(input_nodes, hidden_nodes1, hidden_nodes2, output_nodes, learning_rate)\n",
    "\n",
    "# 60,000개의 레코드 학습데이터 모음\n",
    "# 10,000개의 레코드를 가지는 전체 테스트 데이터 모음\n",
    "training_data_file = open(\"mnist_dataset/mnist_train.csv\", \"r\")\n",
    "training_data_list = training_data_file.readlines()\n",
    "training_data_file.close()\n",
    "\n",
    "# 주기를 통해 신경망 학습\n",
    "# 신경망 학습시키기\n",
    "for e in range(epochs):\n",
    "    print(f\"epochs {e} done\")\n",
    "    for record in training_data_list:\n",
    "        # 레코드를 쉼표에 의해 분리\n",
    "        all_values = record.split(\",\")\n",
    "        # 입력 값의 범위와 값 조정\n",
    "        inputs = (np.asfarray(all_values[1:]) / 255.0 * 0.99) + 0.01\n",
    "        # 결과 값 생성(실제 값인 0.99 외에는 모두 0.01)\n",
    "        targets = np.zeros(output_nodes) + 0.01\n",
    "        # all_values[0]은 이 레코드에 대한 결과값\n",
    "        targets[int(all_values[0])] = 0.99\n",
    "        n.train(inputs, targets)\n",
    "        \n",
    "print(\"학습완료\")"
   ]
  },
  {
   "cell_type": "code",
   "execution_count": 63,
   "id": "a1c3329e",
   "metadata": {
    "scrolled": true
   },
   "outputs": [
    {
     "name": "stdout",
     "output_type": "stream",
     "text": [
      "***correct_label: 2\n"
     ]
    },
    {
     "data": {
      "image/png": "[encoded data removed]",
      "text/plain": [
       "<Figure size 432x288 with 1 Axes>"
      ]
     },
     "metadata": {
      "needs_background": "light"
     },
     "output_type": "display_data"
    },
    {
     "data": {
      "image/png": "[encoded data removed]",
      "text/plain": [
       "<Figure size 432x288 with 1 Axes>"
      ]
     },
     "metadata": {
      "needs_background": "light"
     },
     "output_type": "display_data"
    },
    {
     "name": "stdout",
     "output_type": "stream",
     "text": [
      "***correct_label: 0\n"
     ]
    },
    {
     "data": {
      "image/png": "[encoded data removed]",
      "text/plain": [
       "<Figure size 432x288 with 1 Axes>"
      ]
     },
     "metadata": {
      "needs_background": "light"
     },
     "output_type": "display_data"
    },
    {
     "data": {
      "image/png": "[encoded data removed]",
      "text/plain": [
       "<Figure size 432x288 with 1 Axes>"
      ]
     },
     "metadata": {
      "needs_background": "light"
     },
     "output_type": "display_data"
    },
    {
     "name": "stdout",
     "output_type": "stream",
     "text": [
      "***correct_label: 1\n"
     ]
    },
    {
     "data": {
      "image/png": "[encoded data removed]",
      "text/plain": [
       "<Figure size 432x288 with 1 Axes>"
      ]
     },
     "metadata": {
      "needs_background": "light"
     },
     "output_type": "display_data"
    },
    {
     "data": {
      "image/png": "[encoded data removed]",
      "text/plain": [
       "<Figure size 432x288 with 1 Axes>"
      ]
     },
     "metadata": {
      "needs_background": "light"
     },
     "output_type": "display_data"
    },
    {
     "name": "stdout",
     "output_type": "stream",
     "text": [
      "***correct_label: 5\n"
     ]
    },
    {
     "data": {
      "image/png": "[encoded data removed]",
      "text/plain": [
       "<Figure size 432x288 with 1 Axes>"
      ]
     },
     "metadata": {
      "needs_background": "light"
     },
     "output_type": "display_data"
    },
    {
     "data": {
      "image/png": "[encoded data removed]",
      "text/plain": [
       "<Figure size 432x288 with 1 Axes>"
      ]
     },
     "metadata": {
      "needs_background": "light"
     },
     "output_type": "display_data"
    },
    {
     "name": "stdout",
     "output_type": "stream",
     "text": [
      "***correct_label: 0\n"
     ]
    },
    {
     "data": {
      "image/png": "[encoded data removed]",
      "text/plain": [
       "<Figure size 432x288 with 1 Axes>"
      ]
     },
     "metadata": {
      "needs_background": "light"
     },
     "output_type": "display_data"
    },
    {
     "data": {
      "image/png": "[encoded data removed]",
      "text/plain": [
       "<Figure size 432x288 with 1 Axes>"
      ]
     },
     "metadata": {
      "needs_background": "light"
     },
     "output_type": "display_data"
    },
    {
     "name": "stdout",
     "output_type": "stream",
     "text": [
      "***correct_label: 0\n"
     ]
    },
    {
     "data": {
      "image/png": "[encoded data removed]",
      "text/plain": [
       "<Figure size 432x288 with 1 Axes>"
      ]
     },
     "metadata": {
      "needs_background": "light"
     },
     "output_type": "display_data"
    },
    {
     "data": {
      "image/png": "[encoded data removed]",
      "text/plain": [
       "<Figure size 432x288 with 1 Axes>"
      ]
     },
     "metadata": {
      "needs_background": "light"
     },
     "output_type": "display_data"
    },
    {
     "name": "stdout",
     "output_type": "stream",
     "text": [
      "***correct_label: 6\n"
     ]
    },
    {
     "data": {
      "image/png": "[encoded data removed]",
      "text/plain": [
       "<Figure size 432x288 with 1 Axes>"
      ]
     },
     "metadata": {
      "needs_background": "light"
     },
     "output_type": "display_data"
    },
    {
     "data": {
      "image/png": "[encoded data removed]",
      "text/plain": [
       "<Figure size 432x288 with 1 Axes>"
      ]
     },
     "metadata": {
      "needs_background": "light"
     },
     "output_type": "display_data"
    },
    {
     "name": "stdout",
     "output_type": "stream",
     "text": [
      "***correct_label: 8\n"
     ]
    },
    {
     "data": {
      "image/png": "[encoded data removed]",
      "text/plain": [
       "<Figure size 432x288 with 1 Axes>"
      ]
     },
     "metadata": {
      "needs_background": "light"
     },
     "output_type": "display_data"
    },
    {
     "data": {
      "image/png": "[encoded data removed]",
      "text/plain": [
       "<Figure size 432x288 with 1 Axes>"
      ]
     },
     "metadata": {
      "needs_background": "light"
     },
     "output_type": "display_data"
    },
    {
     "name": "stdout",
     "output_type": "stream",
     "text": [
      "***correct_label: 4\n"
     ]
    },
    {
     "data": {
      "image/png": "[encoded data removed]",
      "text/plain": [
       "<Figure size 432x288 with 1 Axes>"
      ]
     },
     "metadata": {
      "needs_background": "light"
     },
     "output_type": "display_data"
    },
    {
     "data": {
      "image/png": "[encoded data removed]",
      "text/plain": [
       "<Figure size 432x288 with 1 Axes>"
      ]
     },
     "metadata": {
      "needs_background": "light"
     },
     "output_type": "display_data"
    }
   ],
   "source": [
    "#  나만의 손글씨 인식시키기\n",
    "# 그림판 글씨\n",
    "\n",
    "import matplotlib.pyplot as plt\n",
    "import imageio\n",
    "import glob\n",
    "\n",
    "test_image = []\n",
    "\n",
    "for image_file_name in glob.glob(\"my_data/?my_own?.png\"):\n",
    "    correct_label=int(image_file_name[-5:-4])\n",
    "    print(\"***correct_label:\", correct_label)\n",
    "    \n",
    "    image_array = imageio.imread(image_file_name)\n",
    "    \n",
    "    plt.imshow(image_array, cmap=\"Reds\", interpolation=\"None\")\n",
    "    plt.show()\n",
    "    \n",
    "    image_array = image_array[:, :, 0] # 컬러를 그레이 스케일로 변환\n",
    "    \n",
    "    # 28 x 28 행렬 값을 784개 값의 리스로 재구성\n",
    "    image_data = 255.0 - image_array.reshape(784) \n",
    "    \n",
    "    # 색상값 반전\n",
    "    image_data = (image_data/ 255.0 * 0.99)\n",
    "    \n",
    "    plt.imshow(image_array, cmap=\"Reds\", interpolation=\"None\")\n",
    "    plt.show()\n",
    "    \n",
    "    # test 배열에 삽입\n",
    "    record = np.append(correct_label, image_data)\n",
    "    test_image.append(record)"
   ]
  },
  {
   "cell_type": "code",
   "execution_count": 67,
   "id": "1c5ce23f",
   "metadata": {},
   "outputs": [
    {
     "name": "stdout",
     "output_type": "stream",
     "text": [
      "[[0.12074656]\n",
      " [0.01201496]\n",
      " [0.04853057]\n",
      " [0.22775887]\n",
      " [0.02641306]\n",
      " [0.07407109]\n",
      " [0.00586819]\n",
      " [0.02618061]\n",
      " [0.00156499]\n",
      " [0.00199433]]\n",
      "network says  3\n",
      "no match!\n"
     ]
    },
    {
     "data": {
      "image/png": "[encoded data removed]",
      "text/plain": [
       "<Figure size 432x288 with 1 Axes>"
      ]
     },
     "metadata": {
      "needs_background": "light"
     },
     "output_type": "display_data"
    }
   ],
   "source": [
    "# test the neural network with our own images\n",
    "\n",
    "# record to test\n",
    "item = 4\n",
    "\n",
    "# plot image\n",
    "plt.imshow(test_image[item][1:].reshape(28,28), cmap='Greys', interpolation='None')\n",
    "\n",
    "# correct answer is first value\n",
    "correct_label = test_image[item][0]\n",
    "# data is remaining values\n",
    "inputs = test_image[item][1:]\n",
    "\n",
    "# query the network\n",
    "outputs = n.query(inputs)\n",
    "print (outputs)\n",
    "\n",
    "# the index of the highest value corresponds to the label\n",
    "label = np.argmax(outputs)\n",
    "print(\"network says \", label)\n",
    "# append correct or incorrect to list\n",
    "if (label == correct_label):\n",
    "    print (\"match!\")\n",
    "else:\n",
    "    print (\"no match!\")\n",
    "    pass"
   ]
  },
  {
   "cell_type": "code",
   "execution_count": 68,
   "id": "6edbf068",
   "metadata": {},
   "outputs": [
    {
     "name": "stdout",
     "output_type": "stream",
     "text": [
      "[[0.00627425]\n",
      " [0.86893717]\n",
      " [0.0352688 ]\n",
      " [0.06125653]\n",
      " [0.00289917]\n",
      " [0.02311122]\n",
      " [0.00925971]\n",
      " [0.00746894]\n",
      " [0.02310132]\n",
      " [0.02187803]]\n",
      "network says  1\n",
      "match!\n"
     ]
    },
    {
     "data": {
      "image/png": "[encoded data removed]",
      "text/plain": [
       "<Figure size 432x288 with 1 Axes>"
      ]
     },
     "metadata": {
      "needs_background": "light"
     },
     "output_type": "display_data"
    }
   ],
   "source": [
    "# test the neural network with our own images\n",
    "\n",
    "# record to test\n",
    "item = 2\n",
    "\n",
    "# plot image\n",
    "plt.imshow(test_image[item][1:].reshape(28,28), cmap='Greys', interpolation='None')\n",
    "\n",
    "# correct answer is first value\n",
    "correct_label = test_image[item][0]\n",
    "# data is remaining values\n",
    "inputs = test_image[item][1:]\n",
    "\n",
    "# query the network\n",
    "outputs = n.query(inputs)\n",
    "print (outputs)\n",
    "\n",
    "# the index of the highest value corresponds to the label\n",
    "label = np.argmax(outputs)\n",
    "print(\"network says \", label)\n",
    "# append correct or incorrect to list\n",
    "if (label == correct_label):\n",
    "    print (\"match!\")\n",
    "else:\n",
    "    print (\"no match!\")\n",
    "    pass"
   ]
  },
  {
   "cell_type": "code",
   "execution_count": 59,
   "id": "c8db1c3b",
   "metadata": {},
   "outputs": [
    {
     "name": "stdout",
     "output_type": "stream",
     "text": [
      "2 correct label\n",
      "2 network's answer\n",
      "0 correct label\n",
      "3 network's answer\n",
      "1 correct label\n",
      "1 network's answer\n",
      "5 correct label\n",
      "5 network's answer\n",
      "0 correct label\n",
      "3 network's answer\n",
      "0 correct label\n",
      "0 network's answer\n",
      "6 correct label\n",
      "5 network's answer\n",
      "8 correct label\n",
      "8 network's answer\n",
      "4 correct label\n",
      "4 network's answer\n",
      "hidden_nodes1 = 280  hidden_nodes2 = 80  rate = 0.01  epochs = 7  performance = 0.6666666666666666\n"
     ]
    }
   ],
   "source": [
    "# 신경망의 성능 지표가 되는 성적표를 초기화함\n",
    "scorecard = []\n",
    "\n",
    "for record in test_image:\n",
    "    # 정답은 첫번째 값\n",
    "    correct_label = int(record[0])\n",
    "    print(correct_label, \"correct label\")\n",
    "    # 입력 값의 범위와 값 조정\n",
    "#     inputs = (np.asfarray(record[1:]) / 255.0 * 0.99) + 0.01\n",
    "    inputs = record[1:]\n",
    "    # 신경망에 질의\n",
    "    outputs = n.query(inputs)\n",
    "    # 가장 높은 값의 인덱스는 레이블의 인덱스와 일치\n",
    "    label = np.argmax(outputs)\n",
    "    print(label, \"network's answer\")\n",
    "    # 정답 또는 오답을 리스트에 추가\n",
    "    if (label == correct_label):\n",
    "        scorecard.append(1)\n",
    "    else:\n",
    "        scorecard.append(0)\n",
    "\n",
    "# 정답\n",
    "scorecard_array = np.asarray(scorecard)\n",
    "# print(\"performance =\", scorecard_array.sum() / scorecard_array.size)\n",
    "print(\"hidden_nodes1 =\", hidden_nodes1, end=\"  \")\n",
    "print(\"hidden_nodes2 =\", hidden_nodes2, end=\"  \")\n",
    "print(\"rate =\", learning_rate, end=\"  \")\n",
    "print(\"epochs =\", epochs, end=\"  \")\n",
    "print(\"performance =\", scorecard_array.sum() / scorecard_array.size)"
   ]
  },
  {
   "cell_type": "code",
   "execution_count": 72,
   "id": "ed9f0e62",
   "metadata": {},
   "outputs": [
    {
     "name": "stdout",
     "output_type": "stream",
     "text": [
      "***correct_label: 2\n"
     ]
    },
    {
     "data": {
      "image/png": "[encoded data removed]",
      "text/plain": [
       "<Figure size 432x288 with 1 Axes>"
      ]
     },
     "metadata": {
      "needs_background": "light"
     },
     "output_type": "display_data"
    },
    {
     "data": {
      "image/png": "[encoded data removed]",
      "text/plain": [
       "<Figure size 432x288 with 1 Axes>"
      ]
     },
     "metadata": {
      "needs_background": "light"
     },
     "output_type": "display_data"
    },
    {
     "name": "stdout",
     "output_type": "stream",
     "text": [
      "***correct_label: 0\n"
     ]
    },
    {
     "data": {
      "image/png": "[encoded data removed]",
      "text/plain": [
       "<Figure size 432x288 with 1 Axes>"
      ]
     },
     "metadata": {
      "needs_background": "light"
     },
     "output_type": "display_data"
    },
    {
     "data": {
      "image/png": "[encoded data removed]",
      "text/plain": [
       "<Figure size 432x288 with 1 Axes>"
      ]
     },
     "metadata": {
      "needs_background": "light"
     },
     "output_type": "display_data"
    },
    {
     "name": "stdout",
     "output_type": "stream",
     "text": [
      "***correct_label: 1\n"
     ]
    },
    {
     "data": {
      "image/png": "[encoded data removed]",
      "text/plain": [
       "<Figure size 432x288 with 1 Axes>"
      ]
     },
     "metadata": {
      "needs_background": "light"
     },
     "output_type": "display_data"
    },
    {
     "data": {
      "image/png": "[encoded data removed]",
      "text/plain": [
       "<Figure size 432x288 with 1 Axes>"
      ]
     },
     "metadata": {
      "needs_background": "light"
     },
     "output_type": "display_data"
    },
    {
     "name": "stdout",
     "output_type": "stream",
     "text": [
      "***correct_label: 5\n"
     ]
    },
    {
     "data": {
      "image/png": "[encoded data removed]",
      "text/plain": [
       "<Figure size 432x288 with 1 Axes>"
      ]
     },
     "metadata": {
      "needs_background": "light"
     },
     "output_type": "display_data"
    },
    {
     "data": {
      "image/png": "[encoded data removed]",
      "text/plain": [
       "<Figure size 432x288 with 1 Axes>"
      ]
     },
     "metadata": {
      "needs_background": "light"
     },
     "output_type": "display_data"
    },
    {
     "name": "stdout",
     "output_type": "stream",
     "text": [
      "***correct_label: 0\n"
     ]
    },
    {
     "data": {
      "image/png": "[encoded data removed]",
      "text/plain": [
       "<Figure size 432x288 with 1 Axes>"
      ]
     },
     "metadata": {
      "needs_background": "light"
     },
     "output_type": "display_data"
    },
    {
     "data": {
      "image/png": "[encoded data removed]",
      "text/plain": [
       "<Figure size 432x288 with 1 Axes>"
      ]
     },
     "metadata": {
      "needs_background": "light"
     },
     "output_type": "display_data"
    },
    {
     "name": "stdout",
     "output_type": "stream",
     "text": [
      "***correct_label: 0\n"
     ]
    },
    {
     "data": {
      "image/png": "[encoded data removed]",
      "text/plain": [
       "<Figure size 432x288 with 1 Axes>"
      ]
     },
     "metadata": {
      "needs_background": "light"
     },
     "output_type": "display_data"
    },
    {
     "data": {
      "image/png": "[encoded data removed]",
      "text/plain": [
       "<Figure size 432x288 with 1 Axes>"
      ]
     },
     "metadata": {
      "needs_background": "light"
     },
     "output_type": "display_data"
    },
    {
     "name": "stdout",
     "output_type": "stream",
     "text": [
      "***correct_label: 6\n"
     ]
    },
    {
     "data": {
      "image/png": "[encoded data removed]",
      "text/plain": [
       "<Figure size 432x288 with 1 Axes>"
      ]
     },
     "metadata": {
      "needs_background": "light"
     },
     "output_type": "display_data"
    },
    {
     "data": {
      "image/png": "[encoded data removed]",
      "text/plain": [
       "<Figure size 432x288 with 1 Axes>"
      ]
     },
     "metadata": {
      "needs_background": "light"
     },
     "output_type": "display_data"
    },
    {
     "name": "stdout",
     "output_type": "stream",
     "text": [
      "***correct_label: 8\n"
     ]
    },
    {
     "data": {
      "image/png": "[encoded data removed]",
      "text/plain": [
       "<Figure size 432x288 with 1 Axes>"
      ]
     },
     "metadata": {
      "needs_background": "light"
     },
     "output_type": "display_data"
    },
    {
     "data": {
      "image/png": "[encoded data removed]",
      "text/plain": [
       "<Figure size 432x288 with 1 Axes>"
      ]
     },
     "metadata": {
      "needs_background": "light"
     },
     "output_type": "display_data"
    },
    {
     "name": "stdout",
     "output_type": "stream",
     "text": [
      "***correct_label: 4\n"
     ]
    },
    {
     "data": {
      "image/png": "[encoded data removed]",
      "text/plain": [
       "<Figure size 432x288 with 1 Axes>"
      ]
     },
     "metadata": {
      "needs_background": "light"
     },
     "output_type": "display_data"
    },
    {
     "data": {
      "image/png": "[encoded data removed]",
      "text/plain": [
       "<Figure size 432x288 with 1 Axes>"
      ]
     },
     "metadata": {
      "needs_background": "light"
     },
     "output_type": "display_data"
    }
   ],
   "source": [
    "#  나만의 손글씨 인식시키기\n",
    "# 볼펜 손글씨\n",
    "\n",
    "import matplotlib.pyplot as plt\n",
    "import imageio\n",
    "import glob\n",
    "\n",
    "test_image = []\n",
    "\n",
    "for image_file_name in glob.glob(\"hand_made/?hand_label?.jpg\"):\n",
    "    \n",
    "    correct_label=int(image_file_name[-5:-4])\n",
    "    print(\"***correct_label:\", correct_label)\n",
    "    \n",
    "    image_array = imageio.imread(image_file_name)\n",
    "    \n",
    "    plt.imshow(image_array, cmap=\"Reds\", interpolation=\"None\")\n",
    "    plt.show()\n",
    "    \n",
    "    image_array = image_array[:, :, 0] # 컬러를 그레이 스케일로 변환\n",
    "    \n",
    "    # 28 x 28 행렬 값을 784개 값의 리스로 재구성\n",
    "    image_data = 255.0 - image_array.reshape(784) \n",
    "    \n",
    "    # 색상값 반전\n",
    "    image_data = (image_data/ 255.0 * 0.99)\n",
    "    \n",
    "    plt.imshow(image_array, cmap=\"Reds\", interpolation=\"None\")\n",
    "    plt.show()\n",
    "    \n",
    "    # test 배열에 삽입\n",
    "    record = np.append(correct_label, image_data)\n",
    "    test_image.append(record)"
   ]
  },
  {
   "cell_type": "code",
   "execution_count": 73,
   "id": "d8d659fe",
   "metadata": {},
   "outputs": [
    {
     "name": "stdout",
     "output_type": "stream",
     "text": [
      "2 correct label\n",
      "5 network's answer\n",
      "0 correct label\n",
      "5 network's answer\n",
      "1 correct label\n",
      "5 network's answer\n",
      "5 correct label\n",
      "8 network's answer\n",
      "0 correct label\n",
      "5 network's answer\n",
      "0 correct label\n",
      "8 network's answer\n",
      "6 correct label\n",
      "5 network's answer\n",
      "8 correct label\n",
      "8 network's answer\n",
      "4 correct label\n",
      "8 network's answer\n",
      "hidden_nodes1 = 280  hidden_nodes2 = 80  rate = 0.01  epochs = 7  performance = 0.1111111111111111\n"
     ]
    }
   ],
   "source": [
    "# 신경망의 성능 지표가 되는 성적표를 초기화함\n",
    "scorecard = []\n",
    "\n",
    "for record in test_image:\n",
    "    # 정답은 첫번째 값\n",
    "    correct_label = int(record[0])\n",
    "    print(correct_label, \"correct label\")\n",
    "    # 입력 값의 범위와 값 조정\n",
    "#     inputs = (np.asfarray(record[1:]) / 255.0 * 0.99) + 0.01\n",
    "    inputs = record[1:]\n",
    "    # 신경망에 질의\n",
    "    outputs = n.query(inputs)\n",
    "    # 가장 높은 값의 인덱스는 레이블의 인덱스와 일치\n",
    "    label = np.argmax(outputs)\n",
    "    print(label, \"network's answer\")\n",
    "    # 정답 또는 오답을 리스트에 추가\n",
    "    if (label == correct_label):\n",
    "        scorecard.append(1)\n",
    "    else:\n",
    "        scorecard.append(0)\n",
    "\n",
    "# 정답\n",
    "scorecard_array = np.asarray(scorecard)\n",
    "# print(\"performance =\", scorecard_array.sum() / scorecard_array.size)\n",
    "print(\"hidden_nodes1 =\", hidden_nodes1, end=\"  \")\n",
    "print(\"hidden_nodes2 =\", hidden_nodes2, end=\"  \")\n",
    "print(\"rate =\", learning_rate, end=\"  \")\n",
    "print(\"epochs =\", epochs, end=\"  \")\n",
    "print(\"performance =\", scorecard_array.sum() / scorecard_array.size)"
   ]
  },
  {
   "cell_type": "markdown",
   "id": "2e09d40f",
   "metadata": {},
   "source": [
    "#### 그림판 글씨는 6/9 정답률을 보인다.\n",
    "#### 반면 볼펜글씨는 1/9 정답률을 보이는데 얇아서 그런지 제대로 인지하지 못하고 있는 것 같다.\n",
    "\n",
    "### 아래는 회전을 포함한 학습"
   ]
  },
  {
   "cell_type": "code",
   "execution_count": 3,
   "id": "2e9c0ba0",
   "metadata": {},
   "outputs": [
    {
     "name": "stdout",
     "output_type": "stream",
     "text": [
      "학습시작\n",
      "epochs 0 done\n",
      "epochs 1 done\n",
      "epochs 2 done\n",
      "epochs 3 done\n",
      "epochs 4 done\n",
      "epochs 5 done\n",
      "epochs 6 done\n",
      "epochs 7 done\n",
      "epochs 8 done\n",
      "epochs 9 done\n",
      "학습완료\n"
     ]
    }
   ],
   "source": [
    "import scipy.ndimage\n",
    "\n",
    "# 노드의 갯수\n",
    "input_nodes = 784\n",
    "hidden_nodes1 = 280\n",
    "hidden_nodes2 = 80\n",
    "output_nodes = 10\n",
    "# 학습률\n",
    "learning_rate = 0.01\n",
    "# 반복회수\n",
    "epochs = 10\n",
    "\n",
    "n = NeuralNetwork(input_nodes, hidden_nodes1, hidden_nodes2, output_nodes, learning_rate)\n",
    "\n",
    "training_data_file = open(\"mnist_dataset/mnist_train.csv\", 'r')\n",
    "training_data_list = training_data_file.readlines()\n",
    "training_data_file.close()\n",
    "\n",
    "print(\"학습시작\")\n",
    "# 학습\n",
    "for e in range(epochs):\n",
    "    print(f\"epochs {e} done\")\n",
    "    for record in training_data_list:\n",
    "        # 학습과정은 위와 동일\n",
    "        all_values = record.split(',')\n",
    "        inputs = (np.asfarray(all_values[1:]) / 255.0 * 0.99) + 0.01\n",
    "        targets = np.zeros(output_nodes) + 0.01\n",
    "        targets[int(all_values[0])] = 0.99\n",
    "        n.train(inputs, targets)\n",
    "        \n",
    "        # 회전해서 학습시키기\n",
    "        # 10도만큼 회전해서 학습\n",
    "        inputs_plus10_img = scipy.ndimage.interpolation.rotate(inputs.reshape(28, 28), 10, cval=0.01, order=1, reshape=False)\n",
    "        n.train(inputs_plus10_img.reshape(784), targets)\n",
    "        \n",
    "        # -10도만큼 회전해서 학습\n",
    "        inputs_minus10_img = scipy.ndimage.interpolation.rotate(inputs.reshape(28, 28), -10, cval=0.01, order=1, reshape=False)\n",
    "        n.train(inputs_minus10_img.reshape(784), targets)\n",
    "        \n",
    "print(\"학습완료\")"
   ]
  },
  {
   "cell_type": "code",
   "execution_count": 7,
   "id": "91e63a3b",
   "metadata": {},
   "outputs": [
    {
     "name": "stdout",
     "output_type": "stream",
     "text": [
      "hidden_nodes1 = 280  hidden_nodes2 = 80  rate = 0.01  epochs = 10  performance = 0.9687\n"
     ]
    }
   ],
   "source": [
    "# 신경망의 성능 지표가 되는 성적표를 초기화함\n",
    "scorecard = []\n",
    "\n",
    "test_data_file = open(\"mnist_dataset/mnist_test.csv\", \"r\")\n",
    "test_data_list = test_data_file.readlines()\n",
    "test_data_file.close()\n",
    "\n",
    "for record in test_data_list:\n",
    "    # 레코드를 쉼표에 의해 분리\n",
    "    all_values = record.split(\",\")\n",
    "    # 정답은 첫번째 값\n",
    "    correct_label = int(all_values[0])\n",
    "    #print(correct_label, \"correct label\")\n",
    "    # 입력 값의 범위와 값 조정\n",
    "    inputs = (np.asfarray(all_values[1:]) / 255.0 * 0.99) + 0.01\n",
    "    # 신경망에 질의\n",
    "    outputs = n.query(inputs)\n",
    "    # 가장 높은 값의 인덱스는 레이블의 인덱스와 일치\n",
    "    label = np.argmax(outputs)\n",
    "    #print(label, \"network's answer\")\n",
    "    # 정답 또는 오답을 리스트에 추가\n",
    "    if (label == correct_label):\n",
    "        scorecard.append(1)\n",
    "    else:\n",
    "        scorecard.append(0)\n",
    "\n",
    "# mnist 데이터로 테스트해본 정확도\n",
    "scorecard_array = np.asarray(scorecard)\n",
    "# print(\"performance =\", scorecard_array.sum() / scorecard_array.size)\n",
    "print(\"hidden_nodes1 =\", hidden_nodes1, end=\"  \")\n",
    "print(\"hidden_nodes2 =\", hidden_nodes2, end=\"  \")\n",
    "print(\"rate =\", learning_rate, end=\"  \")\n",
    "print(\"epochs =\", epochs, end=\"  \")\n",
    "print(\"performance =\", scorecard_array.sum() / scorecard_array.size)"
   ]
  },
  {
   "cell_type": "code",
   "execution_count": 8,
   "id": "a3e043d0",
   "metadata": {},
   "outputs": [
    {
     "name": "stdout",
     "output_type": "stream",
     "text": [
      "***correct_label: 2\n",
      "***correct_label: 0\n",
      "***correct_label: 1\n",
      "***correct_label: 5\n",
      "***correct_label: 0\n",
      "***correct_label: 0\n",
      "***correct_label: 6\n",
      "***correct_label: 8\n",
      "***correct_label: 4\n"
     ]
    }
   ],
   "source": [
    "#  나만의 손글씨 인식시키기\n",
    "# 그림판 글씨\n",
    "\n",
    "import matplotlib.pyplot as plt\n",
    "import imageio\n",
    "import glob\n",
    "\n",
    "test_image = []\n",
    "\n",
    "for image_file_name in glob.glob(\"my_data/?my_own?.png\"):\n",
    "    correct_label=int(image_file_name[-5:-4])\n",
    "    print(\"***correct_label:\", correct_label)\n",
    "    \n",
    "    image_array = imageio.imread(image_file_name)\n",
    "    image_array = image_array[:, :, 0] # 컬러를 그레이 스케일로 변환\n",
    "    \n",
    "    # 28 x 28 행렬 값을 784개 값의 리스로 재구성\n",
    "    image_data = 255.0 - image_array.reshape(784) \n",
    "    \n",
    "    # 색상값 반전\n",
    "    image_data = (image_data/ 255.0 * 0.99)\n",
    "    \n",
    "    # test 배열에 삽입\n",
    "    record = np.append(correct_label, image_data)\n",
    "    test_image.append(record)"
   ]
  },
  {
   "cell_type": "code",
   "execution_count": 9,
   "id": "3cccea10",
   "metadata": {},
   "outputs": [
    {
     "name": "stdout",
     "output_type": "stream",
     "text": [
      "2 correct label\n",
      "3 network's answer\n",
      "0 correct label\n",
      "5 network's answer\n",
      "1 correct label\n",
      "1 network's answer\n",
      "5 correct label\n",
      "5 network's answer\n",
      "0 correct label\n",
      "3 network's answer\n",
      "0 correct label\n",
      "0 network's answer\n",
      "6 correct label\n",
      "4 network's answer\n",
      "8 correct label\n",
      "8 network's answer\n",
      "4 correct label\n",
      "9 network's answer\n",
      "hidden_nodes1 = 280  hidden_nodes2 = 80  rate = 0.01  epochs = 10  performance = 0.4444444444444444\n"
     ]
    }
   ],
   "source": [
    "# 신경망의 성능 지표가 되는 성적표를 초기화함\n",
    "scorecard = []\n",
    "\n",
    "for record in test_image:\n",
    "    # 정답은 첫번째 값\n",
    "    correct_label = int(record[0])\n",
    "    print(correct_label, \"correct label\")\n",
    "    # 입력 값의 범위와 값 조정\n",
    "#     inputs = (np.asfarray(record[1:]) / 255.0 * 0.99) + 0.01\n",
    "    inputs = record[1:]\n",
    "    # 신경망에 질의\n",
    "    outputs = n.query(inputs)\n",
    "    # 가장 높은 값의 인덱스는 레이블의 인덱스와 일치\n",
    "    label = np.argmax(outputs)\n",
    "    print(label, \"network's answer\")\n",
    "    # 정답 또는 오답을 리스트에 추가\n",
    "    if (label == correct_label):\n",
    "        scorecard.append(1)\n",
    "    else:\n",
    "        scorecard.append(0)\n",
    "\n",
    "# 정답\n",
    "scorecard_array = np.asarray(scorecard)\n",
    "# print(\"performance =\", scorecard_array.sum() / scorecard_array.size)\n",
    "print(\"hidden_nodes1 =\", hidden_nodes1, end=\"  \")\n",
    "print(\"hidden_nodes2 =\", hidden_nodes2, end=\"  \")\n",
    "print(\"rate =\", learning_rate, end=\"  \")\n",
    "print(\"epochs =\", epochs, end=\"  \")\n",
    "print(\"performance =\", scorecard_array.sum() / scorecard_array.size)"
   ]
  },
  {
   "cell_type": "markdown",
   "id": "d1ef88cf",
   "metadata": {},
   "source": [
    "## 결론\n",
    "\n",
    "볼펜으로 쓴 손글씨는 글씨가 너무 얇아 인식이 제대로 되지 않는 것으로 보아, 글씨가 두꺼울수록 신경망이 구별하는데 도움이 된다. 회전을 포함하여 MNIST 신경망을 모델을 만들었지만, 오히려 정확도가 약간 떨어졌다. 너무 많이 반복했거나, 은닉계층이 오히려 방해가 된 것 같다."
   ]
  },
  {
   "cell_type": "code",
   "execution_count": null,
   "id": "5b7d7461",
   "metadata": {},
   "outputs": [],
   "source": [
    "# 201500684 박종혁"
   ]
  }
 ],
 "metadata": {
  "kernelspec": {
   "display_name": "Python 3 (ipykernel)",
   "language": "python",
   "name": "python3"
  },
  "language_info": {
   "codemirror_mode": {
    "name": "ipython",
    "version": 3
   },
   "file_extension": ".py",
   "mimetype": "text/x-python",
   "name": "python",
   "nbconvert_exporter": "python",
   "pygments_lexer": "ipython3",
   "version": "3.9.7"
  }
 },
 "nbformat": 4,
 "nbformat_minor": 5
}
