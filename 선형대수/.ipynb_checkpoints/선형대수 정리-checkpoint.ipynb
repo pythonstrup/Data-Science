{
 "cells": [
  {
   "cell_type": "markdown",
   "id": "a05cd15e",
   "metadata": {},
   "source": [
    "### Norm\n",
    "\n",
    "- A.norm()"
   ]
  },
  {
   "cell_type": "code",
   "execution_count": 3,
   "id": "7197de3e",
   "metadata": {},
   "outputs": [
    {
     "data": {
      "text/latex": [
       "$\\displaystyle \\sqrt{14}$"
      ],
      "text/plain": [
       "sqrt(14)"
      ]
     },
     "execution_count": 3,
     "metadata": {},
     "output_type": "execute_result"
    }
   ],
   "source": [
    "from sympy import *\n",
    "\n",
    "A = Matrix([1, 2, 3])\n",
    "A.norm()"
   ]
  },
  {
   "cell_type": "code",
   "execution_count": 4,
   "id": "cd059ed4",
   "metadata": {},
   "outputs": [
    {
     "data": {
      "text/latex": [
       "$\\displaystyle 3$"
      ],
      "text/plain": [
       "3"
      ]
     },
     "execution_count": 4,
     "metadata": {},
     "output_type": "execute_result"
    }
   ],
   "source": [
    "A = Matrix([1, 2, 2])\n",
    "A.norm()"
   ]
  },
  {
   "cell_type": "markdown",
   "id": "47a76e5f",
   "metadata": {},
   "source": [
    "### 랭크\n",
    "- 행렬의 랭크는 독리적인 행의 갯수이다."
   ]
  },
  {
   "cell_type": "code",
   "execution_count": 5,
   "id": "ae43f38c",
   "metadata": {},
   "outputs": [
    {
     "name": "stdout",
     "output_type": "stream",
     "text": [
      "Matrix([[1, 1], [1, -1]])\n",
      "2\n"
     ]
    }
   ],
   "source": [
    "from sympy import *\n",
    "\n",
    "A = Matrix( [[1,1],[1,-1]] )\n",
    "print(A)\n",
    "print(A.rank())"
   ]
  },
  {
   "cell_type": "markdown",
   "id": "096161f5",
   "metadata": {},
   "source": [
    "### 고유값, 고유벡터"
   ]
  },
  {
   "cell_type": "code",
   "execution_count": 6,
   "id": "7940d9df",
   "metadata": {},
   "outputs": [
    {
     "data": {
      "text/latex": [
       "$\\displaystyle \\left[\\begin{matrix}5 & -2\\\\-2 & 2\\end{matrix}\\right]$"
      ],
      "text/plain": [
       "Matrix([\n",
       "[ 5, -2],\n",
       "[-2,  2]])"
      ]
     },
     "execution_count": 6,
     "metadata": {},
     "output_type": "execute_result"
    }
   ],
   "source": [
    "A = Matrix( [[5,-2],[-2,2]] )\n",
    "A"
   ]
  },
  {
   "cell_type": "code",
   "execution_count": 7,
   "id": "33d4e249",
   "metadata": {},
   "outputs": [
    {
     "data": {
      "text/plain": [
       "{6: 1, 1: 1}"
      ]
     },
     "execution_count": 7,
     "metadata": {},
     "output_type": "execute_result"
    }
   ],
   "source": [
    "A.eigenvals()"
   ]
  },
  {
   "cell_type": "markdown",
   "id": "9cdf51aa",
   "metadata": {},
   "source": [
    "- 고유값은 1과 6이며, 중복도는 둘다 1이다.\n",
    "- 고유벡터는 아래와 같다"
   ]
  },
  {
   "cell_type": "code",
   "execution_count": 10,
   "id": "a8454df6",
   "metadata": {},
   "outputs": [
    {
     "data": {
      "text/plain": [
       "[(1,\n",
       "  1,\n",
       "  [Matrix([\n",
       "   [1/2],\n",
       "   [  1]])]),\n",
       " (6,\n",
       "  1,\n",
       "  [Matrix([\n",
       "   [-2],\n",
       "   [ 1]])])]"
      ]
     },
     "execution_count": 10,
     "metadata": {},
     "output_type": "execute_result"
    }
   ],
   "source": [
    "A.eigenvects()"
   ]
  },
  {
   "cell_type": "markdown",
   "id": "c99bde15",
   "metadata": {},
   "source": [
    "- 결과는 고유값, 다중도, 고유벡터 순서대로 반환한다.\n",
    "- 교유값=1, 중복도=1, 고유벡터는=<1/2, 1>의 열벡터\n",
    "- 고유값=6, 중복도=2, 고유벡터는=<-2, 1>의 열벡터"
   ]
  },
  {
   "cell_type": "markdown",
   "id": "7d007b7e",
   "metadata": {},
   "source": [
    "### 다중 고유값"
   ]
  },
  {
   "cell_type": "code",
   "execution_count": 11,
   "id": "62d839fc",
   "metadata": {},
   "outputs": [
    {
     "data": {
      "text/latex": [
       "$\\displaystyle \\left[\\begin{matrix}-2 & 2 & -3\\\\2 & 1 & -6\\\\-1 & -2 & 0\\end{matrix}\\right]$"
      ],
      "text/plain": [
       "Matrix([\n",
       "[-2,  2, -3],\n",
       "[ 2,  1, -6],\n",
       "[-1, -2,  0]])"
      ]
     },
     "execution_count": 11,
     "metadata": {},
     "output_type": "execute_result"
    }
   ],
   "source": [
    "B = Matrix( [[-2,2,-3],[2,1,-6],[-1,-2,0]] )\n",
    "B"
   ]
  },
  {
   "cell_type": "code",
   "execution_count": 12,
   "id": "d715b258",
   "metadata": {},
   "outputs": [
    {
     "data": {
      "text/plain": [
       "{5: 1, -3: 2}"
      ]
     },
     "execution_count": 12,
     "metadata": {},
     "output_type": "execute_result"
    }
   ],
   "source": [
    "B.eigenvals()"
   ]
  },
  {
   "cell_type": "code",
   "execution_count": 13,
   "id": "c7492f59",
   "metadata": {},
   "outputs": [
    {
     "data": {
      "text/plain": [
       "[(-3,\n",
       "  2,\n",
       "  [Matrix([\n",
       "   [-2],\n",
       "   [ 1],\n",
       "   [ 0]]),\n",
       "   Matrix([\n",
       "   [3],\n",
       "   [0],\n",
       "   [1]])]),\n",
       " (5,\n",
       "  1,\n",
       "  [Matrix([\n",
       "   [-1],\n",
       "   [-2],\n",
       "   [ 1]])])]"
      ]
     },
     "execution_count": 13,
     "metadata": {},
     "output_type": "execute_result"
    }
   ],
   "source": [
    "B.eigenvects()"
   ]
  },
  {
   "cell_type": "markdown",
   "id": "d52adbc4",
   "metadata": {},
   "source": [
    "### 행렬의 대각화\n",
    "\n",
    "- 고유벡터를 구해서 각각의 벡터들을 열벡터로 취급해 P를 구한다\n",
    "$$ P^{-1}AP $$\n",
    "를 구하면 대각행렬을 구할 수 있다."
   ]
  },
  {
   "cell_type": "code",
   "execution_count": 14,
   "id": "ce6d9f9d",
   "metadata": {},
   "outputs": [
    {
     "data": {
      "text/latex": [
       "$\\displaystyle \\left[\\begin{matrix}5 & -2\\\\-2 & 2\\end{matrix}\\right]$"
      ],
      "text/plain": [
       "Matrix([\n",
       "[ 5, -2],\n",
       "[-2,  2]])"
      ]
     },
     "execution_count": 14,
     "metadata": {},
     "output_type": "execute_result"
    }
   ],
   "source": [
    "A = Matrix( [[5,-2],[-2,2]] )\n",
    "A"
   ]
  },
  {
   "cell_type": "code",
   "execution_count": 15,
   "id": "32c4fc7e",
   "metadata": {},
   "outputs": [
    {
     "data": {
      "text/plain": [
       "[(1,\n",
       "  1,\n",
       "  [Matrix([\n",
       "   [1/2],\n",
       "   [  1]])]),\n",
       " (6,\n",
       "  1,\n",
       "  [Matrix([\n",
       "   [-2],\n",
       "   [ 1]])])]"
      ]
     },
     "execution_count": 15,
     "metadata": {},
     "output_type": "execute_result"
    }
   ],
   "source": [
    "Ae = A.eigenvects()\n",
    "Ae"
   ]
  },
  {
   "cell_type": "code",
   "execution_count": 16,
   "id": "ba7b7ad0",
   "metadata": {},
   "outputs": [
    {
     "data": {
      "text/plain": [
       "[Matrix([\n",
       " [1/2],\n",
       " [  1]])]"
      ]
     },
     "execution_count": 16,
     "metadata": {},
     "output_type": "execute_result"
    }
   ],
   "source": [
    "Ae[0][2]"
   ]
  },
  {
   "cell_type": "code",
   "execution_count": 17,
   "id": "516cadc4",
   "metadata": {},
   "outputs": [
    {
     "data": {
      "text/latex": [
       "$\\displaystyle \\left[\\begin{matrix}\\frac{1}{2} & 1\\end{matrix}\\right]$"
      ],
      "text/plain": [
       "Matrix([[1/2, 1]])"
      ]
     },
     "execution_count": 17,
     "metadata": {},
     "output_type": "execute_result"
    }
   ],
   "source": [
    "Ae[0][2][0].transpose()"
   ]
  },
  {
   "cell_type": "code",
   "execution_count": 18,
   "id": "56da2a4a",
   "metadata": {},
   "outputs": [
    {
     "data": {
      "text/latex": [
       "$\\displaystyle \\left[\\begin{matrix}\\frac{1}{2} & -2\\\\1 & 1\\end{matrix}\\right]$"
      ],
      "text/plain": [
       "Matrix([\n",
       "[1/2, -2],\n",
       "[  1,  1]])"
      ]
     },
     "execution_count": 18,
     "metadata": {},
     "output_type": "execute_result"
    }
   ],
   "source": [
    "X = Matrix( [ Ae[0][2][0].transpose(), Ae[1][2][0].transpose() ] ).transpose()\n",
    "X"
   ]
  },
  {
   "cell_type": "code",
   "execution_count": 19,
   "id": "3454e942",
   "metadata": {},
   "outputs": [
    {
     "data": {
      "text/latex": [
       "$\\displaystyle \\left[\\begin{matrix}1 & 0\\\\0 & 6\\end{matrix}\\right]$"
      ],
      "text/plain": [
       "Matrix([\n",
       "[1, 0],\n",
       "[0, 6]])"
      ]
     },
     "execution_count": 19,
     "metadata": {},
     "output_type": "execute_result"
    }
   ],
   "source": [
    "D = X.inv() * A * X\n",
    "D"
   ]
  },
  {
   "cell_type": "code",
   "execution_count": 20,
   "id": "e644c6b6",
   "metadata": {},
   "outputs": [
    {
     "data": {
      "text/latex": [
       "$\\displaystyle \\left[\\begin{matrix}-3 & 0\\\\0 & 2\\end{matrix}\\right]$"
      ],
      "text/plain": [
       "Matrix([\n",
       "[-3, 0],\n",
       "[ 0, 2]])"
      ]
     },
     "execution_count": 20,
     "metadata": {},
     "output_type": "execute_result"
    }
   ],
   "source": [
    "A = Matrix( [[-2, 2],[2, 1]] )\n",
    "Ae = A.eigenvects()\n",
    "P = Matrix( [ Ae[0][2][0].transpose(), Ae[1][2][0].transpose() ] ).transpose()\n",
    "D = P.inv() * A * P\n",
    "D"
   ]
  },
  {
   "cell_type": "markdown",
   "id": "448f9ac7",
   "metadata": {},
   "source": []
  }
 ],
 "metadata": {
  "kernelspec": {
   "display_name": "Python 3 (ipykernel)",
   "language": "python",
   "name": "python3"
  },
  "language_info": {
   "codemirror_mode": {
    "name": "ipython",
    "version": 3
   },
   "file_extension": ".py",
   "mimetype": "text/x-python",
   "name": "python",
   "nbconvert_exporter": "python",
   "pygments_lexer": "ipython3",
   "version": "3.9.7"
  }
 },
 "nbformat": 4,
 "nbformat_minor": 5
}
