{
 "cells": [
  {
   "cell_type": "markdown",
   "id": "7a3fa055",
   "metadata": {},
   "source": [
    "### 단위행렬\n",
    "\n",
    "-np.eye(x)"
   ]
  },
  {
   "cell_type": "code",
   "execution_count": 3,
   "id": "b861d2ce",
   "metadata": {},
   "outputs": [
    {
     "data": {
      "text/plain": [
       "array([[1., 0., 0., 0.],\n",
       "       [0., 1., 0., 0.],\n",
       "       [0., 0., 1., 0.],\n",
       "       [0., 0., 0., 1.]])"
      ]
     },
     "execution_count": 3,
     "metadata": {},
     "output_type": "execute_result"
    }
   ],
   "source": [
    "import numpy as np\n",
    "\n",
    "mat4 = np.eye(4)\n",
    "\n",
    "mat4"
   ]
  },
  {
   "cell_type": "markdown",
   "id": "e1b3c6ad",
   "metadata": {},
   "source": [
    "### 대각행렬\n",
    "\n",
    "- np.diag(x)"
   ]
  },
  {
   "cell_type": "code",
   "execution_count": 4,
   "id": "2bad7be9",
   "metadata": {},
   "outputs": [
    {
     "data": {
      "text/plain": [
       "array([[0, 0, 0],\n",
       "       [0, 4, 0],\n",
       "       [0, 0, 8]])"
      ]
     },
     "execution_count": 4,
     "metadata": {},
     "output_type": "execute_result"
    }
   ],
   "source": [
    "np.diag([0, 4, 8])"
   ]
  },
  {
   "cell_type": "code",
   "execution_count": 5,
   "id": "18e89fe4",
   "metadata": {},
   "outputs": [
    {
     "data": {
      "text/plain": [
       "array([1, 5, 9])"
      ]
     },
     "execution_count": 5,
     "metadata": {},
     "output_type": "execute_result"
    }
   ],
   "source": [
    "np.diag([[1,2,3],\n",
    "        [4,5,6],\n",
    "        [7,8,9]])"
   ]
  },
  {
   "cell_type": "markdown",
   "id": "ee803458",
   "metadata": {},
   "source": [
    "### 내적\n",
    "\n",
    "- np.dot(a, b)\n",
    "- a.dot(b)"
   ]
  },
  {
   "cell_type": "code",
   "execution_count": 6,
   "id": "8d772b63",
   "metadata": {},
   "outputs": [
    {
     "name": "stdout",
     "output_type": "stream",
     "text": [
      "[[0 1]\n",
      " [2 3]]\n",
      "[[ 2  3]\n",
      " [ 6 11]]\n"
     ]
    }
   ],
   "source": [
    "a = np.arange(4).reshape(2, 2)\n",
    "print(a)\n",
    "\n",
    "print(np.dot(a, a))"
   ]
  },
  {
   "cell_type": "markdown",
   "id": "6d9ee310",
   "metadata": {},
   "source": [
    "### 행렬식"
   ]
  },
  {
   "cell_type": "code",
   "execution_count": 11,
   "id": "9d9d5e1f",
   "metadata": {},
   "outputs": [
    {
     "name": "stdout",
     "output_type": "stream",
     "text": [
      "-2.0000000000000004\n"
     ]
    }
   ],
   "source": [
    "d = np.array([[1, 2], [3, 4]])\n",
    "d_det = np.linalg.det(d)\n",
    "print(d_det)"
   ]
  },
  {
   "cell_type": "markdown",
   "id": "0b4d010b",
   "metadata": {},
   "source": [
    "### 역행렬\n",
    "\n",
    "- np.linalg.inv(x)"
   ]
  },
  {
   "cell_type": "code",
   "execution_count": 14,
   "id": "385f979d",
   "metadata": {},
   "outputs": [
    {
     "name": "stdout",
     "output_type": "stream",
     "text": [
      "[[-2.   1. ]\n",
      " [ 1.5 -0.5]]\n"
     ]
    }
   ],
   "source": [
    "a = np.array([[1, 2], [3, 4]])\n",
    "\n",
    "print(np.linalg.inv(a))"
   ]
  },
  {
   "cell_type": "markdown",
   "id": "a66da660",
   "metadata": {},
   "source": [
    "### 고유값 & 고유벡터\n",
    "\n",
    "- Sympy가 훨씬 신뢰성있다."
   ]
  },
  {
   "cell_type": "code",
   "execution_count": 19,
   "id": "82e58179",
   "metadata": {},
   "outputs": [
    {
     "name": "stdout",
     "output_type": "stream",
     "text": [
      "고유치\n",
      "[2. 2. 2.]\n",
      "\n",
      "고유벡터\n",
      "[[ 1.0000000e+00 -1.0000000e+00  0.0000000e+00]\n",
      " [ 0.0000000e+00  4.4408921e-16  0.0000000e+00]\n",
      " [ 0.0000000e+00  0.0000000e+00  1.0000000e+00]]\n"
     ]
    }
   ],
   "source": [
    "a = np.array([\n",
    "    [2, 1, 0],\n",
    "    [0, 2, 0],\n",
    "    [0, 0, 2]\n",
    "])\n",
    "\n",
    "w, v = np.linalg.eig(a)\n",
    "print(\"고유치\")\n",
    "print(w)\n",
    "print()\n",
    "print(\"고유벡터\")\n",
    "print(v)"
   ]
  },
  {
   "cell_type": "code",
   "execution_count": 20,
   "id": "3b2d579b",
   "metadata": {},
   "outputs": [
    {
     "name": "stdout",
     "output_type": "stream",
     "text": [
      "(array([1., 3., 2., 1.]), array([[ 0.        ,  0.        ,  0.        ,  0.66666667],\n",
      "       [ 1.        , -0.98058068,  0.98058068,  0.        ],\n",
      "       [ 0.        ,  0.        ,  0.19611614, -0.66666667],\n",
      "       [ 0.        ,  0.19611614,  0.        , -0.33333333]]))\n"
     ]
    }
   ],
   "source": [
    "a = np.array([\n",
    "    [1, 0, 0, 0],\n",
    "    [0, 1, 5, -10],\n",
    "    [1, 0, 2, 0],\n",
    "    [1, 0, 0, 3]\n",
    "])\n",
    "\n",
    "print(np.linalg.eig(a))"
   ]
  },
  {
   "cell_type": "code",
   "execution_count": 24,
   "id": "6dc45537",
   "metadata": {},
   "outputs": [
    {
     "name": "stdout",
     "output_type": "stream",
     "text": [
      "고유값, 다중도, 고유벡터 순\n"
     ]
    },
    {
     "data": {
      "text/plain": [
       "[(1,\n",
       "  2,\n",
       "  [Matrix([\n",
       "   [0],\n",
       "   [1],\n",
       "   [0],\n",
       "   [0]]),\n",
       "   Matrix([\n",
       "   [-2],\n",
       "   [ 0],\n",
       "   [ 2],\n",
       "   [ 1]])]),\n",
       " (2,\n",
       "  1,\n",
       "  [Matrix([\n",
       "   [0],\n",
       "   [5],\n",
       "   [1],\n",
       "   [0]])]),\n",
       " (3,\n",
       "  1,\n",
       "  [Matrix([\n",
       "   [ 0],\n",
       "   [-5],\n",
       "   [ 0],\n",
       "   [ 1]])])]"
      ]
     },
     "execution_count": 24,
     "metadata": {},
     "output_type": "execute_result"
    }
   ],
   "source": [
    "from sympy import *\n",
    "\n",
    "a = Matrix([\n",
    "    [1, 0, 0, 0],\n",
    "    [0, 1, 5, -10],\n",
    "    [1, 0, 2, 0],\n",
    "    [1, 0, 0, 3]\n",
    "])\n",
    "\n",
    "print(\"고유값, 다중도, 고유벡터 순\")\n",
    "a.eigenvects()"
   ]
  },
  {
   "cell_type": "markdown",
   "id": "de7fba81",
   "metadata": {},
   "source": [
    "### 특이값 분해\n",
    "\n",
    "- u, s, vh = np.linalg.svd(A)"
   ]
  },
  {
   "cell_type": "code",
   "execution_count": 25,
   "id": "370fd425",
   "metadata": {},
   "outputs": [
    {
     "name": "stdout",
     "output_type": "stream",
     "text": [
      "[[-0.8816746  -0.47185793  0.          0.        ]\n",
      " [-0.47185793  0.8816746   0.          0.        ]\n",
      " [ 0.          0.          1.          0.        ]\n",
      " [ 0.          0.          0.          1.        ]]\n",
      "[7.60555128 0.39444872]\n",
      "[[-0.47185793 -0.8816746 ]\n",
      " [ 0.8816746  -0.47185793]]\n"
     ]
    }
   ],
   "source": [
    "A = np.array([[3,6], [2,3], [0,0], [0,0]])\n",
    "\n",
    "u, s, vh = np.linalg.svd(A)\n",
    "\n",
    "print(u)\n",
    "print(s)\n",
    "print(vh)"
   ]
  },
  {
   "cell_type": "markdown",
   "id": "81808ad2",
   "metadata": {},
   "source": [
    "### 연립방정식 해 풀기\n",
    "\n",
    "- np.linalg.solve(a, b)\n",
    "\n",
    "- 자명한 해만 가능한 것으로 보임"
   ]
  },
  {
   "cell_type": "markdown",
   "id": "86cb12f8",
   "metadata": {},
   "source": [
    "### 최소제곱문제\n",
    "\n",
    "- m, c = np.linalg.lstsq(A, y, rcond=None)[0]"
   ]
  },
  {
   "cell_type": "code",
   "execution_count": 32,
   "id": "3eed96c1",
   "metadata": {},
   "outputs": [
    {
     "name": "stdout",
     "output_type": "stream",
     "text": [
      "[[0. 1.]\n",
      " [1. 1.]\n",
      " [2. 1.]]\n",
      "2.4999999999999996\n",
      "-0.16666666666666655\n"
     ]
    }
   ],
   "source": [
    "x = np.array([0, 1, 2])\n",
    "y = np.array([0, 2, 5])\n",
    "A = np.array\n",
    "print(A)\n",
    "\n",
    "m, c = np.linalg.lstsq(A, y, rcond=None)[0]\n",
    "print(m)\n",
    "print(c)"
   ]
  },
  {
   "cell_type": "code",
   "execution_count": null,
   "id": "d4f74d33",
   "metadata": {},
   "outputs": [],
   "source": []
  },
  {
   "cell_type": "code",
   "execution_count": null,
   "id": "ccafd0bd",
   "metadata": {},
   "outputs": [],
   "source": []
  },
  {
   "cell_type": "code",
   "execution_count": null,
   "id": "2bd1f90f",
   "metadata": {},
   "outputs": [],
   "source": []
  },
  {
   "cell_type": "code",
   "execution_count": null,
   "id": "97cd1b61",
   "metadata": {},
   "outputs": [],
   "source": []
  }
 ],
 "metadata": {
  "kernelspec": {
   "display_name": "Python 3 (ipykernel)",
   "language": "python",
   "name": "python3"
  },
  "language_info": {
   "codemirror_mode": {
    "name": "ipython",
    "version": 3
   },
   "file_extension": ".py",
   "mimetype": "text/x-python",
   "name": "python",
   "nbconvert_exporter": "python",
   "pygments_lexer": "ipython3",
   "version": "3.9.7"
  }
 },
 "nbformat": 4,
 "nbformat_minor": 5
}
