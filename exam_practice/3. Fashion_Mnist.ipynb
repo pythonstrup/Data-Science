{
 "cells": [
  {
   "cell_type": "markdown",
   "id": "b802c55f",
   "metadata": {},
   "source": [
    "mnist_train = dset.FashionMNIST(root=\"../\", train=True, transform=transforms.ToTensor(), <br/> \n",
    "target_transform=None, download=True) <br/>\n",
    "mnist_test = dset.FashionMNIST(root=\"../\", train=False, transform=transforms.ToTensor(), <br/>\n",
    "target_transform=None, download=True) <br/>\n",
    "학습 세트와 테스트 세트의 차원 형태(dimension shape)를 출력해 보세요. <br/>"
   ]
  },
  {
   "cell_type": "code",
   "execution_count": 36,
   "id": "73f3181c",
   "metadata": {},
   "outputs": [],
   "source": [
    "import torch\n",
    "import torch.nn as nn\n",
    "import torch.optim as optim\n",
    "import torch.nn.init as init\n",
    "import torchvision.datasets as dset\n",
    "import torchvision.transforms as transforms\n",
    "from torch.utils.data import DataLoader\n",
    "\n",
    "import matplotlib.pyplot as plt"
   ]
  },
  {
   "cell_type": "code",
   "execution_count": 4,
   "id": "e533f14c",
   "metadata": {},
   "outputs": [],
   "source": [
    "# parameters\n",
    "batch_size = 256\n",
    "learning_rate = 0.0002\n",
    "num_epoch = 10"
   ]
  },
  {
   "cell_type": "code",
   "execution_count": 13,
   "id": "a1fdef28",
   "metadata": {},
   "outputs": [],
   "source": [
    "f_mnist_train = dset.FashionMNIST(\"./\", train=True, transform=transforms.ToTensor(),\n",
    "                         target_transform=None, download=True)\n",
    "f_mnist_test = dset.FashionMNIST(\"./\", train=False, transform=transforms.ToTensor(),\n",
    "                        target_transform=None, download=True)"
   ]
  },
  {
   "cell_type": "code",
   "execution_count": 6,
   "id": "df948b22",
   "metadata": {},
   "outputs": [],
   "source": [
    "f_train_loader = torch.utils.data.DataLoader(f_mnist_train, batch_size=batch_size,\n",
    "                                           shuffle=True, num_workers=2, drop_last=True)\n",
    "f_test_loader = torch.utils.data.DataLoader(f_mnist_test, batch_size=batch_size,\n",
    "                                          shuffle=True, num_workers=2, drop_last=True)"
   ]
  },
  {
   "cell_type": "markdown",
   "id": "d9cfd745",
   "metadata": {},
   "source": [
    "<br/>\n",
    "\n",
    "① 학습 세트의 마지막 데이터를 이미지로 출력해 보세요."
   ]
  },
  {
   "cell_type": "code",
   "execution_count": 22,
   "id": "451c96b0",
   "metadata": {},
   "outputs": [
    {
     "name": "stdout",
     "output_type": "stream",
     "text": [
      "torch.Size([1, 28, 28]) 5\n",
      "torch.Size([1, 28, 28]) 5\n"
     ]
    }
   ],
   "source": [
    "image,label = f_mnist_train.__getitem__(-1)\n",
    "print(image.size(),label)\n",
    "\n",
    "# dataset[idx]\n",
    "image,label = f_mnist_train[-1]\n",
    "print(image.size(),label)"
   ]
  },
  {
   "cell_type": "code",
   "execution_count": 23,
   "id": "177c0dee",
   "metadata": {},
   "outputs": [
    {
     "name": "stdout",
     "output_type": "stream",
     "text": [
      "60000\n"
     ]
    },
    {
     "data": {
      "text/plain": [
       "60000"
      ]
     },
     "execution_count": 23,
     "metadata": {},
     "output_type": "execute_result"
    }
   ],
   "source": [
    "# dataset.__len__()\n",
    "print(f_mnist_train.__len__())\n",
    "\n",
    "# len(dataset)\n",
    "len(f_mnist_train)"
   ]
  },
  {
   "cell_type": "code",
   "execution_count": 24,
   "id": "eb506303",
   "metadata": {},
   "outputs": [
    {
     "data": {
      "text/plain": [
       "torch.Size([1, 28, 28])"
      ]
     },
     "execution_count": 24,
     "metadata": {},
     "output_type": "execute_result"
    }
   ],
   "source": [
    "images, labels = f_mnist_train[-1] # 마지막 데이터 가져오기\n",
    "images.shape # 데이터 사이즈"
   ]
  },
  {
   "cell_type": "code",
   "execution_count": 25,
   "id": "beeab1f1",
   "metadata": {
    "scrolled": true
   },
   "outputs": [
    {
     "data": {
      "image/png": "[encoded data removed]",
      "text/plain": [
       "<Figure size 432x288 with 1 Axes>"
      ]
     },
     "metadata": {
      "needs_background": "light"
     },
     "output_type": "display_data"
    }
   ],
   "source": [
    "plt.title(labels)\n",
    "plt.imshow(images.reshape(28, 28), cmap='gist_yarg')\n",
    "plt.show()"
   ]
  },
  {
   "cell_type": "code",
   "execution_count": 27,
   "id": "062e687f",
   "metadata": {},
   "outputs": [
    {
     "data": {
      "image/png": "[encoded data removed]",
      "text/plain": [
       "<Figure size 432x288 with 1 Axes>"
      ]
     },
     "metadata": {
      "needs_background": "light"
     },
     "output_type": "display_data"
    }
   ],
   "source": [
    "img= f_mnist_train[-1][0].numpy()\n",
    "plt.imshow(img[0],cmap='gray')\n",
    "plt.show()"
   ]
  },
  {
   "cell_type": "markdown",
   "id": "45deb753",
   "metadata": {},
   "source": [
    "<br/>\n",
    "\n",
    "② 학습 세트의 마지막 데이터에 대하여 1개의 채널을 입력으로 받아서 3개의 채널이 나오는 컨볼루션 연산을 적용해서\n",
    "출력해 보세요."
   ]
  },
  {
   "cell_type": "code",
   "execution_count": 48,
   "id": "9dab91f0",
   "metadata": {},
   "outputs": [
    {
     "name": "stdout",
     "output_type": "stream",
     "text": [
      "torch.Size([1, 1, 28, 28])\n",
      "torch.Size([1, 3, 28, 28])\n"
     ]
    },
    {
     "data": {
      "image/png": "[encoded data removed]",
      "text/plain": [
       "<Figure size 432x288 with 1 Axes>"
      ]
     },
     "metadata": {
      "needs_background": "light"
     },
     "output_type": "display_data"
    },
    {
     "data": {
      "image/png": "[encoded data removed]",
      "text/plain": [
       "<Figure size 432x288 with 1 Axes>"
      ]
     },
     "metadata": {
      "needs_background": "light"
     },
     "output_type": "display_data"
    },
    {
     "data": {
      "image/png": "[encoded data removed]",
      "text/plain": [
       "<Figure size 432x288 with 1 Axes>"
      ]
     },
     "metadata": {
      "needs_background": "light"
     },
     "output_type": "display_data"
    }
   ],
   "source": [
    "image,label = f_mnist_train[-1]\n",
    "\n",
    "# nn.Conv2d 연산을 적용할 수 있도록 이미지 데이터의 형태를 [1,1,28,28]로 만들어줍니다.\n",
    "# 이는 view 말고도 unsqueeze 함수로도 구현할 수 있습니다.\n",
    "image = image.view(-1,image.size()[0],image.size()[1],image.size()[2])\n",
    "print(image.shape)\n",
    "\n",
    "# 1개의 채널을 입력으로 받아서 3개의 채널이 나오는 컨볼루션 연산을 정의합니다.\n",
    "conv_layer = nn.Conv2d(in_channels=1,out_channels=3,kernel_size=1)\n",
    "\n",
    "# 연산에 입력 이미지를 넣습니다.\n",
    "output = conv_layer(image)\n",
    "\n",
    "# 결과의 형태를 확인합니다. \n",
    "# 연산에서 정의한대로 결과값의 형태는 [1,3,28,28]이 나옵니다. \n",
    "print(output.size())\n",
    "\n",
    "# 출력의 각 채널별 이미지를 띄워봅니다. \n",
    "for i in range(output.size()[1]):\n",
    "    plt.imshow(output[0,i,:,:].data.numpy(),cmap='gray',vmin=-1,vmax=1)\n",
    "    plt.show()"
   ]
  },
  {
   "cell_type": "markdown",
   "id": "9fe3f4c6",
   "metadata": {},
   "source": [
    "<br/>\n",
    "\n",
    "③ 학습 세트의 마지막 데이터에 대하여 커널 사이즈 3인 컨볼루션 연산을 적용해서 출력해 보세요."
   ]
  },
  {
   "cell_type": "code",
   "execution_count": 49,
   "id": "713591d5",
   "metadata": {},
   "outputs": [
    {
     "data": {
      "image/png": "[encoded data removed]",
      "text/plain": [
       "<Figure size 432x288 with 1 Axes>"
      ]
     },
     "metadata": {
      "needs_background": "light"
     },
     "output_type": "display_data"
    },
    {
     "name": "stdout",
     "output_type": "stream",
     "text": [
      "커널 사이즈가 1인 경우 결과값의 크기:torch.Size([1, 1, 28, 28])\n"
     ]
    },
    {
     "data": {
      "image/png": "[encoded data removed]",
      "text/plain": [
       "<Figure size 432x288 with 1 Axes>"
      ]
     },
     "metadata": {
      "needs_background": "light"
     },
     "output_type": "display_data"
    },
    {
     "name": "stdout",
     "output_type": "stream",
     "text": [
      "커널 사이즈가 3인 경우 결과값의 크기:torch.Size([1, 1, 26, 26])\n"
     ]
    },
    {
     "data": {
      "image/png": "[encoded data removed]",
      "text/plain": [
       "<Figure size 432x288 with 1 Axes>"
      ]
     },
     "metadata": {
      "needs_background": "light"
     },
     "output_type": "display_data"
    },
    {
     "name": "stdout",
     "output_type": "stream",
     "text": [
      "커널 사이즈가 5인 경우 결과값의 크기:torch.Size([1, 1, 24, 24])\n"
     ]
    }
   ],
   "source": [
    "# 커널 사이즈를 1로 하는 경우\n",
    "conv_layer = nn.Conv2d(in_channels=1,out_channels=1,kernel_size=1)\n",
    "output = conv_layer(image)\n",
    "plt.imshow(output[0,0,:,:].data.numpy(),cmap='gray')\n",
    "plt.show()\n",
    "print(\"커널 사이즈가 1인 경우 결과값의 크기:{}\".format(output.size()))\n",
    "\n",
    "\n",
    "# 커널 사이즈를 3로 하는 경우\n",
    "conv_layer = nn.Conv2d(in_channels=1,out_channels=1,kernel_size=3)\n",
    "output = conv_layer(image)\n",
    "plt.imshow(output[0,0,:,:].data.numpy(),cmap='gray')\n",
    "plt.show()\n",
    "print(\"커널 사이즈가 3인 경우 결과값의 크기:{}\".format(output.size()))\n",
    "\n",
    "\n",
    "# 커널 사이즈를 5로 하는 경우\n",
    "conv_layer = nn.Conv2d(in_channels=1,out_channels=1,kernel_size=5)\n",
    "output = conv_layer(image)\n",
    "plt.imshow(output[0,0,:,:].data.numpy(),cmap='gray')\n",
    "plt.show()\n",
    "print(\"커널 사이즈가 5인 경우 결과값의 크기:{}\".format(output.size()))"
   ]
  },
  {
   "cell_type": "markdown",
   "id": "89a4412d",
   "metadata": {},
   "source": [
    "<br/>\n",
    "\n",
    "④ 학습 세트의 마지막 데이터에 대하여 커널 사이즈 3, 스트라이드 3인 컨볼루션 연산을 적용해서 출력해 보세요."
   ]
  },
  {
   "cell_type": "code",
   "execution_count": 50,
   "id": "dda483f9",
   "metadata": {},
   "outputs": [
    {
     "data": {
      "image/png": "[encoded data removed]",
      "text/plain": [
       "<Figure size 432x288 with 1 Axes>"
      ]
     },
     "metadata": {
      "needs_background": "light"
     },
     "output_type": "display_data"
    },
    {
     "name": "stdout",
     "output_type": "stream",
     "text": [
      "스트라이드가 1인 경우 결과값의 크기:torch.Size([1, 1, 28, 28])\n"
     ]
    },
    {
     "data": {
      "image/png": "[encoded data removed]",
      "text/plain": [
       "<Figure size 432x288 with 1 Axes>"
      ]
     },
     "metadata": {
      "needs_background": "light"
     },
     "output_type": "display_data"
    },
    {
     "name": "stdout",
     "output_type": "stream",
     "text": [
      "스트라이드가 3인 경우 결과값의 크기:torch.Size([1, 1, 10, 10])\n"
     ]
    },
    {
     "data": {
      "image/png": "[encoded data removed]",
      "text/plain": [
       "<Figure size 432x288 with 1 Axes>"
      ]
     },
     "metadata": {
      "needs_background": "light"
     },
     "output_type": "display_data"
    },
    {
     "name": "stdout",
     "output_type": "stream",
     "text": [
      "스트라이드가 5인 경우 결과값의 크기:torch.Size([1, 1, 6, 6])\n"
     ]
    }
   ],
   "source": [
    "# 스트라이드가 1인 경우\n",
    "conv_layer = nn.Conv2d(in_channels=1,out_channels=1,kernel_size=1,stride=1)\n",
    "output = conv_layer(image)\n",
    "plt.imshow(output[0,0,:,:].data.numpy(),cmap='gray')\n",
    "plt.show()\n",
    "print(\"스트라이드가 1인 경우 결과값의 크기:{}\".format(output.size()))\n",
    "\n",
    "\n",
    "# 스트라이드가 3인 경우\n",
    "conv_layer = nn.Conv2d(in_channels=1,out_channels=1,kernel_size=1,stride=3)\n",
    "output = conv_layer(image)\n",
    "plt.imshow(output[0,0,:,:].data.numpy(),cmap='gray')\n",
    "plt.show()\n",
    "print(\"스트라이드가 3인 경우 결과값의 크기:{}\".format(output.size()))\n",
    "\n",
    "\n",
    "# 스트라이드가 5인 경우\n",
    "conv_layer = nn.Conv2d(in_channels=1,out_channels=1,kernel_size=1,stride=5)\n",
    "output = conv_layer(image)\n",
    "plt.imshow(output[0,0,:,:].data.numpy(),cmap='gray')\n",
    "plt.show()\n",
    "print(\"스트라이드가 5인 경우 결과값의 크기:{}\".format(output.size()))"
   ]
  },
  {
   "cell_type": "code",
   "execution_count": 52,
   "id": "4eff6b0e",
   "metadata": {
    "scrolled": false
   },
   "outputs": [
    {
     "data": {
      "image/png": "[encoded data removed]",
      "text/plain": [
       "<Figure size 432x288 with 1 Axes>"
      ]
     },
     "metadata": {
      "needs_background": "light"
     },
     "output_type": "display_data"
    },
    {
     "name": "stdout",
     "output_type": "stream",
     "text": [
      "커널이 3, 스트라이드가 3인 경우 결과값의 크기:torch.Size([1, 1, 9, 9])\n"
     ]
    },
    {
     "data": {
      "image/png": "[encoded data removed]",
      "text/plain": [
       "<Figure size 432x288 with 1 Axes>"
      ]
     },
     "metadata": {
      "needs_background": "light"
     },
     "output_type": "display_data"
    },
    {
     "name": "stdout",
     "output_type": "stream",
     "text": [
      "커널이 3, 스트라이드가 5인 경우 결과값의 크기:torch.Size([1, 1, 6, 6])\n"
     ]
    }
   ],
   "source": [
    "# 커널이 3, 스트라이드가 3인 경우\n",
    "conv_layer = nn.Conv2d(in_channels=1,out_channels=1,kernel_size=3,stride=3)\n",
    "output = conv_layer(image)\n",
    "plt.imshow(output[0,0,:,:].data.numpy(),cmap='gray')\n",
    "plt.show()\n",
    "print(\"커널이 3, 스트라이드가 3인 경우 결과값의 크기:{}\".format(output.size()))\n",
    "\n",
    "\n",
    "# 커널이 3, 스트라이드가 5인 경우\n",
    "conv_layer = nn.Conv2d(in_channels=1,out_channels=1,kernel_size=3,stride=5)\n",
    "output = conv_layer(image)\n",
    "plt.imshow(output[0,0,:,:].data.numpy(),cmap='gray')\n",
    "plt.show()\n",
    "print(\"커널이 3, 스트라이드가 5인 경우 결과값의 크기:{}\".format(output.size()))"
   ]
  },
  {
   "cell_type": "markdown",
   "id": "d8193e98",
   "metadata": {},
   "source": [
    "<br/>\n",
    "\n",
    "④-2 (추가) 패딩"
   ]
  },
  {
   "cell_type": "code",
   "execution_count": 54,
   "id": "23455aa4",
   "metadata": {},
   "outputs": [
    {
     "data": {
      "image/png": "[encoded data removed]",
      "text/plain": [
       "<Figure size 432x288 with 1 Axes>"
      ]
     },
     "metadata": {
      "needs_background": "light"
     },
     "output_type": "display_data"
    },
    {
     "name": "stdout",
     "output_type": "stream",
     "text": [
      "패딩이 0인 경우 결과값의 크기:torch.Size([1, 1, 28, 28])\n"
     ]
    },
    {
     "data": {
      "image/png": "[encoded data removed]",
      "text/plain": [
       "<Figure size 432x288 with 1 Axes>"
      ]
     },
     "metadata": {
      "needs_background": "light"
     },
     "output_type": "display_data"
    },
    {
     "name": "stdout",
     "output_type": "stream",
     "text": [
      "패딩이 1인 경우 결과값의 크기:torch.Size([1, 1, 30, 30])\n"
     ]
    },
    {
     "data": {
      "image/png": "[encoded data removed]",
      "text/plain": [
       "<Figure size 432x288 with 1 Axes>"
      ]
     },
     "metadata": {
      "needs_background": "light"
     },
     "output_type": "display_data"
    },
    {
     "name": "stdout",
     "output_type": "stream",
     "text": [
      "패딩이 2인 경우 결과값의 크기:torch.Size([1, 1, 32, 32])\n"
     ]
    }
   ],
   "source": [
    "# 패딩이 없는 경우\n",
    "conv_layer = nn.Conv2d(in_channels=1,out_channels=1,kernel_size=1,padding=0)\n",
    "output = conv_layer(image)\n",
    "plt.imshow(output[0,0,:,:].data.numpy(),cmap='gray')\n",
    "plt.show()\n",
    "print(\"패딩이 0인 경우 결과값의 크기:{}\".format(output.size()))\n",
    "\n",
    "# 패딩이 1인 경우\n",
    "conv_layer = nn.Conv2d(in_channels=1,out_channels=1,kernel_size=1,padding=1)\n",
    "output = conv_layer(image)\n",
    "plt.imshow(output[0,0,:,:].data.numpy(),cmap='gray')\n",
    "plt.show()\n",
    "print(\"패딩이 1인 경우 결과값의 크기:{}\".format(output.size()))\n",
    "\n",
    "# 패딩이 2인 경우\n",
    "conv_layer = nn.Conv2d(in_channels=1,out_channels=1,kernel_size=1,padding=2)\n",
    "output = conv_layer(image)\n",
    "plt.imshow(output[0,0,:,:].data.numpy(),cmap='gray')\n",
    "plt.show()\n",
    "print(\"패딩이 2인 경우 결과값의 크기:{}\".format(output.size()))"
   ]
  },
  {
   "cell_type": "markdown",
   "id": "c64e541b",
   "metadata": {},
   "source": [
    "<br/>\n",
    "\n",
    "⑤ 학습 세트를 자신이 설계한 CNN 모델로 학습하고 테스트 세트로 정확도를 평가해 보세요."
   ]
  },
  {
   "cell_type": "code",
   "execution_count": 14,
   "id": "7303c0ba",
   "metadata": {},
   "outputs": [],
   "source": [
    "class CNN(nn.Module):\n",
    "  def __init__(self):\n",
    "    super(CNN, self).__init__()\n",
    "    self.layer = nn.Sequential(\n",
    "        nn.Conv2d(1, 16, 5),\n",
    "        nn.ReLU(),\n",
    "        nn.Conv2d(16, 32, 5),\n",
    "        nn.ReLU(),\n",
    "        nn.MaxPool2d(2, 2),\n",
    "        nn.Conv2d(32, 64, 5),\n",
    "        nn.ReLU(),\n",
    "        nn.MaxPool2d(2, 2)\n",
    "    )\n",
    "\n",
    "    self.fc_layer = nn.Sequential(\n",
    "        nn.Linear(64*3*3, 100),\n",
    "        nn.ReLU(),\n",
    "        nn.Linear(100, 10)\n",
    "    )\n",
    "\n",
    "  def forward(self, x):\n",
    "    out = self.layer(x)\n",
    "    out = out.view(batch_size, -1)\n",
    "    out = self.fc_layer(out)\n",
    "    return out"
   ]
  },
  {
   "cell_type": "code",
   "execution_count": 15,
   "id": "198a9ae9",
   "metadata": {},
   "outputs": [],
   "source": [
    "device = torch.device(\"cuda:0\" if torch.cuda.is_available() else \"cpu\")\n",
    "model = CNN().to(device)\n",
    "loss_func = nn.CrossEntropyLoss()\n",
    "optimizer = torch.optim.Adam(model.parameters(), lr=learning_rate)"
   ]
  },
  {
   "cell_type": "code",
   "execution_count": 29,
   "id": "947120c8",
   "metadata": {},
   "outputs": [
    {
     "name": "stdout",
     "output_type": "stream",
     "text": [
      "tensor(2.3092, device='cuda:0', grad_fn=<NllLossBackward0>)\n",
      "tensor(0.6478, device='cuda:0', grad_fn=<NllLossBackward0>)\n",
      "tensor(0.5220, device='cuda:0', grad_fn=<NllLossBackward0>)\n",
      "tensor(0.5203, device='cuda:0', grad_fn=<NllLossBackward0>)\n",
      "tensor(0.5093, device='cuda:0', grad_fn=<NllLossBackward0>)\n",
      "tensor(0.3846, device='cuda:0', grad_fn=<NllLossBackward0>)\n",
      "tensor(0.4246, device='cuda:0', grad_fn=<NllLossBackward0>)\n",
      "tensor(0.4192, device='cuda:0', grad_fn=<NllLossBackward0>)\n",
      "tensor(0.3700, device='cuda:0', grad_fn=<NllLossBackward0>)\n",
      "tensor(0.3930, device='cuda:0', grad_fn=<NllLossBackward0>)\n",
      "Learning is Finished\n"
     ]
    }
   ],
   "source": [
    "loss_arr = []\n",
    "\n",
    "for i in range(num_epoch):\n",
    "  for j,[image, label] in enumerate(f_train_loader):\n",
    "    x = image.to(device)\n",
    "    y_ = label.to(device)\n",
    "\n",
    "    optimizer.zero_grad()\n",
    "    output = model.forward(x)\n",
    "    loss = loss_func(output, y_)\n",
    "    loss.backward()\n",
    "    optimizer.step()\n",
    "\n",
    "    if j % 1000 == 0:\n",
    "      print(loss)\n",
    "      loss_arr.append(loss.cpu().detach().numpy())\n",
    "\n",
    "print(\"Learning is Finished\")"
   ]
  },
  {
   "cell_type": "code",
   "execution_count": 33,
   "id": "6b75aaa2",
   "metadata": {},
   "outputs": [
    {
     "name": "stdout",
     "output_type": "stream",
     "text": [
      "Accuracy of Test Data: 86.24800109863281 %\n",
      "총 데이터 개수: 9984\n",
      "맞춘 개수: tensor(8611., device='cuda:0')\n"
     ]
    }
   ],
   "source": [
    "correct = 0\n",
    "total = 0\n",
    "\n",
    "with torch.no_grad():\n",
    "  for image, label in f_test_loader:\n",
    "    x = image.to(device)\n",
    "    y_ = label.to(device)\n",
    "\n",
    "    output = model.forward(x)\n",
    "    _, output_index = torch.max(output, 1)\n",
    "\n",
    "    total += label.size(0)\n",
    "    correct += (output_index == y_).sum().float()\n",
    "\n",
    "  print(\"Accuracy of Test Data: {} %\".format(100*correct/total))\n",
    "\n",
    "print(\"총 데이터 개수:\", total)\n",
    "print(\"맞춘 개수:\", correct)"
   ]
  },
  {
   "cell_type": "markdown",
   "id": "cda31343",
   "metadata": {},
   "source": [
    "<br/>\n",
    "\n",
    "⑥ 학습 모델의 각 계층별 요약과 파라미터 수를 출력해 보세요."
   ]
  },
  {
   "cell_type": "code",
   "execution_count": 34,
   "id": "33464411",
   "metadata": {},
   "outputs": [
    {
     "name": "stdout",
     "output_type": "stream",
     "text": [
      "cuda:0\n",
      "('layer', Sequential(\n",
      "  (0): Conv2d(1, 16, kernel_size=(5, 5), stride=(1, 1))\n",
      "  (1): ReLU()\n",
      "  (2): Conv2d(16, 32, kernel_size=(5, 5), stride=(1, 1))\n",
      "  (3): ReLU()\n",
      "  (4): MaxPool2d(kernel_size=2, stride=2, padding=0, dilation=1, ceil_mode=False)\n",
      "  (5): Conv2d(32, 64, kernel_size=(5, 5), stride=(1, 1))\n",
      "  (6): ReLU()\n",
      "  (7): MaxPool2d(kernel_size=2, stride=2, padding=0, dilation=1, ceil_mode=False)\n",
      "))\n",
      "('fc_layer', Sequential(\n",
      "  (0): Linear(in_features=576, out_features=100, bias=True)\n",
      "  (1): ReLU()\n",
      "  (2): Linear(in_features=100, out_features=10, bias=True)\n",
      "))\n"
     ]
    }
   ],
   "source": [
    "# gpu가 사용 가능한 경우에는 device를 0번 gpu로 설정하고 불가능하면 cpu로 설정합니다.\n",
    "device = torch.device(\"cuda:0\" if torch.cuda.is_available() else \"cpu\")\n",
    "print(device)\n",
    "\n",
    "# 모델 자녀 노드의 이름과 모듈을 출력합니다.\n",
    "for i in model.named_children():\n",
    "    print(i)"
   ]
  },
  {
   "cell_type": "markdown",
   "id": "f40b0280",
   "metadata": {},
   "source": [
    "<br/>\n",
    "\n",
    "⑦ 에포크를 5 이상으로 설정하고 에포크별 손실(loss) 그래프를 그려보세요."
   ]
  },
  {
   "cell_type": "code",
   "execution_count": 35,
   "id": "9117ca80",
   "metadata": {},
   "outputs": [
    {
     "data": {
      "image/png": "[encoded data removed]",
      "text/plain": [
       "<Figure size 432x288 with 1 Axes>"
      ]
     },
     "metadata": {
      "needs_background": "light"
     },
     "output_type": "display_data"
    }
   ],
   "source": [
    "plt.plot(loss_arr)\n",
    "plt.show()"
   ]
  },
  {
   "cell_type": "markdown",
   "id": "1882642e",
   "metadata": {},
   "source": [
    "<br/>\n",
    "\n",
    "⑧ 에포크를 5 이상으로 설정하고 에포크별 정확도(accuracy) 그래프를 그려보세요."
   ]
  },
  {
   "cell_type": "code",
   "execution_count": 7,
   "id": "a6375ca5",
   "metadata": {},
   "outputs": [],
   "source": [
    "class CNN(nn.Module):\n",
    "  def __init__(self):\n",
    "    super(CNN, self).__init__()\n",
    "    self.layer = nn.Sequential(\n",
    "        nn.Conv2d(1, 16, 5),\n",
    "        nn.ReLU(),\n",
    "        nn.Conv2d(16, 32, 5),\n",
    "        nn.ReLU(),\n",
    "        nn.MaxPool2d(2, 2),\n",
    "        nn.Conv2d(32, 64, 5),\n",
    "        nn.ReLU(),\n",
    "        nn.MaxPool2d(2, 2)\n",
    "    )\n",
    "\n",
    "    self.fc_layer = nn.Sequential(\n",
    "        nn.Linear(64*3*3, 100),\n",
    "        nn.ReLU(),\n",
    "        nn.Linear(100, 10)\n",
    "    )\n",
    "\n",
    "  def forward(self, x):\n",
    "    out = self.layer(x)\n",
    "    out = out.view(batch_size, -1)\n",
    "    out = self.fc_layer(out)\n",
    "    return out"
   ]
  },
  {
   "cell_type": "code",
   "execution_count": 8,
   "id": "acf8331c",
   "metadata": {},
   "outputs": [],
   "source": [
    "device = torch.device(\"cuda:0\" if torch.cuda.is_available() else \"cpu\")\n",
    "model = CNN().to(device)\n",
    "loss_func = nn.CrossEntropyLoss()\n",
    "optimizer = torch.optim.Adam(model.parameters(), lr=learning_rate)"
   ]
  },
  {
   "cell_type": "code",
   "execution_count": 9,
   "id": "7eae5fa7",
   "metadata": {},
   "outputs": [
    {
     "name": "stdout",
     "output_type": "stream",
     "text": [
      "학습시작\n",
      "Epoch: 0\n",
      "tensor(2.3053, device='cuda:0', grad_fn=<NllLossBackward0>)\n",
      "Accuracy of Test Data: 16.27604103088379 %\n",
      "Epoch: 1\n",
      "tensor(0.7192, device='cuda:0', grad_fn=<NllLossBackward0>)\n",
      "Accuracy of Test Data: 44.591346740722656 %\n",
      "Epoch: 2\n",
      "tensor(0.5124, device='cuda:0', grad_fn=<NllLossBackward0>)\n",
      "Accuracy of Test Data: 55.144901275634766 %\n",
      "Epoch: 3\n",
      "tensor(0.5187, device='cuda:0', grad_fn=<NllLossBackward0>)\n",
      "Accuracy of Test Data: 61.1528434753418 %\n",
      "Epoch: 4\n",
      "tensor(0.3970, device='cuda:0', grad_fn=<NllLossBackward0>)\n",
      "Accuracy of Test Data: 65.19631958007812 %\n",
      "Epoch: 5\n",
      "tensor(0.4973, device='cuda:0', grad_fn=<NllLossBackward0>)\n",
      "Accuracy of Test Data: 68.19578552246094 %\n",
      "Epoch: 6\n",
      "tensor(0.5183, device='cuda:0', grad_fn=<NllLossBackward0>)\n",
      "Accuracy of Test Data: 70.43841552734375 %\n",
      "Epoch: 7\n",
      "tensor(0.3222, device='cuda:0', grad_fn=<NllLossBackward0>)\n",
      "Accuracy of Test Data: 72.2030258178711 %\n",
      "Epoch: 8\n",
      "tensor(0.4468, device='cuda:0', grad_fn=<NllLossBackward0>)\n",
      "Accuracy of Test Data: 73.62001037597656 %\n",
      "Epoch: 9\n",
      "tensor(0.3876, device='cuda:0', grad_fn=<NllLossBackward0>)\n",
      "Accuracy of Test Data: 74.78365325927734 %\n",
      "학습완료\n"
     ]
    }
   ],
   "source": [
    "correct = 0\n",
    "total = 0\n",
    "\n",
    "correct_arr = []\n",
    "\n",
    "print(\"학습시작\")\n",
    "for i in range(num_epoch):\n",
    "    print(\"Epoch:\", i)\n",
    "    for j,[image, label] in enumerate(f_train_loader):\n",
    "        x = image.to(device)\n",
    "        y_ = label.to(device)\n",
    "\n",
    "        optimizer.zero_grad()\n",
    "        output = model.forward(x)\n",
    "        loss = loss_func(output, y_)\n",
    "        loss.backward()\n",
    "        optimizer.step()\n",
    "\n",
    "        if j % 1000 == 0:\n",
    "            print(loss)\n",
    "            # epoch별로 테스트 진행에 정확도 측정하기\n",
    "            with torch.no_grad():\n",
    "                for image, label in f_test_loader:\n",
    "                    x = image.to(device)\n",
    "                    y_ = label.to(device)\n",
    "\n",
    "                    output = model.forward(x)\n",
    "                    _, output_index = torch.max(output, 1)\n",
    "\n",
    "                    total += label.size(0)\n",
    "                    correct += (output_index == y_).sum().float()\n",
    "\n",
    "                print(\"Accuracy of Test Data: {} %\".format(100*correct/total))\n",
    "                correct_arr.append(100*correct/total)\n",
    "        \n",
    "print(\"학습완료\")"
   ]
  },
  {
   "cell_type": "code",
   "execution_count": 10,
   "id": "1273afe7",
   "metadata": {
    "scrolled": true
   },
   "outputs": [
    {
     "data": {
      "image/png": "[encoded data removed]",
      "text/plain": [
       "<Figure size 432x288 with 1 Axes>"
      ]
     },
     "metadata": {
      "needs_background": "light"
     },
     "output_type": "display_data"
    }
   ],
   "source": [
    "plt.plot(correct_arr)\n",
    "plt.show()"
   ]
  },
  {
   "cell_type": "code",
   "execution_count": null,
   "id": "9868c429",
   "metadata": {},
   "outputs": [],
   "source": []
  }
 ],
 "metadata": {
  "kernelspec": {
   "display_name": "Python 3 (ipykernel)",
   "language": "python",
   "name": "python3"
  },
  "language_info": {
   "codemirror_mode": {
    "name": "ipython",
    "version": 3
   },
   "file_extension": ".py",
   "mimetype": "text/x-python",
   "name": "python",
   "nbconvert_exporter": "python",
   "pygments_lexer": "ipython3",
   "version": "3.9.12"
  }
 },
 "nbformat": 4,
 "nbformat_minor": 5
}
