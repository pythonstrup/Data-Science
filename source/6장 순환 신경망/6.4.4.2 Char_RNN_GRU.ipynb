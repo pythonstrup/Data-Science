{
 "cells": [
  {
   "cell_type": "markdown",
   "metadata": {
    "colab_type": "text",
    "id": "HqQH6BNDdTiN"
   },
   "source": [
    "# Character Recurrent Neural Network\n",
    "- mimicing Shakespeare's writing style\n",
    "- Naive RNN"
   ]
  },
  {
   "cell_type": "code",
   "execution_count": 1,
   "metadata": {
    "colab": {
     "base_uri": "https://localhost:8080/",
     "height": 204
    },
    "colab_type": "code",
    "executionInfo": {
     "elapsed": 4559,
     "status": "ok",
     "timestamp": 1559554433661,
     "user": {
      "displayName": "Choi Gunho",
      "photoUrl": "",
      "userId": "04388737836176863066"
     },
     "user_tz": -540
    },
    "id": "PqIvrVppxAVN",
    "outputId": "6d406db4-167a-499f-97ef-5bf2ea5f9a59"
   },
   "outputs": [
    {
     "name": "stdout",
     "output_type": "stream",
     "text": [
      "--2019-06-03 09:33:54--  https://raw.githubusercontent.com/dmlc/web-data/master/mxnet/tinyshakespeare/input.txt\n",
      "Resolving raw.githubusercontent.com (raw.githubusercontent.com)... 151.101.0.133, 151.101.64.133, 151.101.128.133, ...\n",
      "Connecting to raw.githubusercontent.com (raw.githubusercontent.com)|151.101.0.133|:443... connected.\n",
      "HTTP request sent, awaiting response... 200 OK\n",
      "Length: 1115394 (1.1M) [text/plain]\n",
      "Saving to: ‘./data/input.txt’\n",
      "\n",
      "\r",
      "input.txt             0%[                    ]       0  --.-KB/s               \r",
      "input.txt           100%[===================>]   1.06M  --.-KB/s    in 0.08s   \n",
      "\n",
      "2019-06-03 09:33:54 (13.9 MB/s) - ‘./data/input.txt’ saved [1115394/1115394]\n",
      "\n"
     ]
    }
   ],
   "source": [
    "!rm -r data\n",
    "import os \n",
    "\n",
    "try:\n",
    "  os.mkdir(\"./data\")\n",
    "except:\n",
    "  pass\n",
    "\n",
    "!wget https://raw.githubusercontent.com/dmlc/web-data/master/mxnet/tinyshakespeare/input.txt -P ./data"
   ]
  },
  {
   "cell_type": "markdown",
   "metadata": {
    "colab_type": "text",
    "id": "w2RUiTvLdTiO"
   },
   "source": [
    "## 1. Settings\n",
    "### 1) Import required libraries"
   ]
  },
  {
   "cell_type": "code",
   "execution_count": 0,
   "metadata": {
    "colab": {},
    "colab_type": "code",
    "id": "Jd0pAexvdTiP"
   },
   "outputs": [],
   "source": [
    "import torch\n",
    "import torch.nn as nn"
   ]
  },
  {
   "cell_type": "code",
   "execution_count": 0,
   "metadata": {
    "colab": {},
    "colab_type": "code",
    "id": "diLDMeZPdTiS"
   },
   "outputs": [],
   "source": [
    "import unidecode\n",
    "import string\n",
    "import random\n",
    "import re\n",
    "import time, math"
   ]
  },
  {
   "cell_type": "markdown",
   "metadata": {
    "colab_type": "text",
    "id": "O0wpQxKCdTiU"
   },
   "source": [
    "## 2) Hyperparameter"
   ]
  },
  {
   "cell_type": "code",
   "execution_count": 0,
   "metadata": {
    "colab": {},
    "colab_type": "code",
    "id": "ipru6wrgdTiV"
   },
   "outputs": [],
   "source": [
    "num_epochs = 2000\n",
    "print_every = 100\n",
    "plot_every = 10\n",
    "chunk_len = 200\n",
    "hidden_size = 100\n",
    "batch_size = 1\n",
    "num_layers = 1\n",
    "embedding_size = 70\n",
    "lr = 0.002"
   ]
  },
  {
   "cell_type": "markdown",
   "metadata": {
    "colab_type": "text",
    "id": "dRYalmbbdTiX"
   },
   "source": [
    "## 2. Data\n",
    "### 1) Prepare characters"
   ]
  },
  {
   "cell_type": "code",
   "execution_count": 5,
   "metadata": {
    "colab": {
     "base_uri": "https://localhost:8080/",
     "height": 68
    },
    "colab_type": "code",
    "executionInfo": {
     "elapsed": 4949,
     "status": "ok",
     "timestamp": 1559554434079,
     "user": {
      "displayName": "Choi Gunho",
      "photoUrl": "",
      "userId": "04388737836176863066"
     },
     "user_tz": -540
    },
    "id": "rJ8WuQNndTie",
    "outputId": "9ebcbfc3-015b-4f1c-d90d-c621a84d2965"
   },
   "outputs": [
    {
     "name": "stdout",
     "output_type": "stream",
     "text": [
      "0123456789abcdefghijklmnopqrstuvwxyzABCDEFGHIJKLMNOPQRSTUVWXYZ!\"#$%&'()*+,-./:;<=>?@[\\]^_`{|}~ \t\n",
      "\r",
      "\u000b",
      "\f",
      "\n",
      "num_chars =  100\n"
     ]
    }
   ],
   "source": [
    "all_characters = string.printable\n",
    "n_characters = len(all_characters)\n",
    "print(all_characters)\n",
    "print('num_chars = ', n_characters)"
   ]
  },
  {
   "cell_type": "markdown",
   "metadata": {
    "colab_type": "text",
    "id": "ykS7WbSEdTij"
   },
   "source": [
    "### 2) Get text data"
   ]
  },
  {
   "cell_type": "code",
   "execution_count": 6,
   "metadata": {
    "colab": {
     "base_uri": "https://localhost:8080/",
     "height": 34
    },
    "colab_type": "code",
    "executionInfo": {
     "elapsed": 4928,
     "status": "ok",
     "timestamp": 1559554434080,
     "user": {
      "displayName": "Choi Gunho",
      "photoUrl": "",
      "userId": "04388737836176863066"
     },
     "user_tz": -540
    },
    "id": "5GAa6mEkdTik",
    "outputId": "c3e6eca6-cdfc-4e4d-8577-86f8da9f8d7e"
   },
   "outputs": [
    {
     "name": "stdout",
     "output_type": "stream",
     "text": [
      "file_len = 1115394\n"
     ]
    }
   ],
   "source": [
    "file = unidecode.unidecode(open('./data/input.txt').read())\n",
    "file_len = len(file)\n",
    "print('file_len =', file_len)"
   ]
  },
  {
   "cell_type": "markdown",
   "metadata": {
    "colab_type": "text",
    "id": "5Iid4JRMdTin"
   },
   "source": [
    "## 3. Functions for text processing\n",
    "### 1) Random Chunk"
   ]
  },
  {
   "cell_type": "code",
   "execution_count": 7,
   "metadata": {
    "colab": {
     "base_uri": "https://localhost:8080/",
     "height": 204
    },
    "colab_type": "code",
    "executionInfo": {
     "elapsed": 4916,
     "status": "ok",
     "timestamp": 1559554434081,
     "user": {
      "displayName": "Choi Gunho",
      "photoUrl": "",
      "userId": "04388737836176863066"
     },
     "user_tz": -540
    },
    "id": "ZXEZJrL5dTio",
    "outputId": "508bba15-6280-419b-b50f-d65a1be0f721"
   },
   "outputs": [
    {
     "name": "stdout",
     "output_type": "stream",
     "text": [
      " speak.\n",
      "\n",
      "QUEEN MARGARET:\n",
      "Defy them then, or else hold close thy lips.\n",
      "\n",
      "KING HENRY VI:\n",
      "I prithee, give no limits to my tongue:\n",
      "I am a king, and privileged to speak.\n",
      "\n",
      "CLIFFORD:\n",
      "My liege, the wound that b\n"
     ]
    }
   ],
   "source": [
    "def random_chunk():\n",
    "    start_index = random.randint(0, file_len - chunk_len)\n",
    "    end_index = start_index + chunk_len + 1\n",
    "    return file[start_index:end_index]\n",
    "\n",
    "print(random_chunk())"
   ]
  },
  {
   "cell_type": "markdown",
   "metadata": {
    "colab_type": "text",
    "id": "N8qla3mUdTiq"
   },
   "source": [
    "### 2) Character to tensor"
   ]
  },
  {
   "cell_type": "code",
   "execution_count": 8,
   "metadata": {
    "colab": {
     "base_uri": "https://localhost:8080/",
     "height": 34
    },
    "colab_type": "code",
    "executionInfo": {
     "elapsed": 4907,
     "status": "ok",
     "timestamp": 1559554434082,
     "user": {
      "displayName": "Choi Gunho",
      "photoUrl": "",
      "userId": "04388737836176863066"
     },
     "user_tz": -540
    },
    "id": "6Uvaood3dTir",
    "outputId": "9d91c097-8a8c-4259-aa5b-233c43e3c9cc"
   },
   "outputs": [
    {
     "name": "stdout",
     "output_type": "stream",
     "text": [
      "tensor([36, 37, 38, 13, 14, 15])\n"
     ]
    }
   ],
   "source": [
    "def char_tensor(string):\n",
    "    tensor = torch.zeros(len(string)).long()\n",
    "    for c in range(len(string)):\n",
    "        tensor[c] = all_characters.index(string[c])\n",
    "    return tensor\n",
    "\n",
    "print(char_tensor('ABCdef'))"
   ]
  },
  {
   "cell_type": "markdown",
   "metadata": {
    "colab_type": "text",
    "id": "ch8BwxRldTiu"
   },
   "source": [
    "### 3) Chunk into input & label"
   ]
  },
  {
   "cell_type": "code",
   "execution_count": 0,
   "metadata": {
    "colab": {},
    "colab_type": "code",
    "id": "pt-E9vJ0dTiu"
   },
   "outputs": [],
   "source": [
    "def random_training_set():    \n",
    "    chunk = random_chunk()\n",
    "    inp = char_tensor(chunk[:-1])\n",
    "    target = char_tensor(chunk[1:])\n",
    "    return inp, target"
   ]
  },
  {
   "cell_type": "code",
   "execution_count": 0,
   "metadata": {
    "colab": {},
    "colab_type": "code",
    "id": "mJvUH93qwfdS"
   },
   "outputs": [],
   "source": [
    "class RNN(nn.Module):\n",
    "    def __init__(self, input_size, embedding_size, hidden_size, output_size, num_layers=1):\n",
    "        super(RNN, self).__init__()\n",
    "        self.input_size = input_size\n",
    "        self.embedding_size = embedding_size\n",
    "        self.hidden_size = hidden_size\n",
    "        self.output_size = output_size\n",
    "        self.num_layers = num_layers\n",
    "        \n",
    "        self.encoder = nn.Embedding(self.input_size, self.embedding_size)\n",
    "        self.rnn = nn.GRU(self.embedding_size,self.hidden_size,self.num_layers)\n",
    "        self.decoder = nn.Linear(self.hidden_size, self.output_size)\n",
    "        \n",
    "    \n",
    "    def forward(self, input, hidden):\n",
    "        out = self.encoder(input.view(1,-1))\n",
    "        out,hidden = self.rnn(out,hidden)\n",
    "        out = self.decoder(out.view(batch_size,-1))\n",
    "        return out,hidden\n",
    "\n",
    "    def init_hidden(self):\n",
    "        hidden = torch.zeros(self.num_layers, batch_size, self.hidden_size)\n",
    "        return hidden\n",
    "    \n",
    "model = RNN(n_characters, embedding_size, hidden_size, n_characters, num_layers)"
   ]
  },
  {
   "cell_type": "code",
   "execution_count": 11,
   "metadata": {
    "colab": {
     "base_uri": "https://localhost:8080/",
     "height": 68
    },
    "colab_type": "code",
    "executionInfo": {
     "elapsed": 4897,
     "status": "ok",
     "timestamp": 1559554434088,
     "user": {
      "displayName": "Choi Gunho",
      "photoUrl": "",
      "userId": "04388737836176863066"
     },
     "user_tz": -540
    },
    "id": "giG-HhGidTiz",
    "outputId": "bc66793c-b1ce-4341-8621-5b68df3f1fc3"
   },
   "outputs": [
    {
     "name": "stdout",
     "output_type": "stream",
     "text": [
      "tensor([36])\n",
      "torch.Size([1, 1, 100])\n",
      "torch.Size([1, 100])\n"
     ]
    }
   ],
   "source": [
    "inp = char_tensor(\"A\")\n",
    "print(inp)\n",
    "hidden = model.init_hidden()\n",
    "print(hidden.size())\n",
    "\n",
    "out,hidden = model(inp,hidden)\n",
    "print(out.size())"
   ]
  },
  {
   "cell_type": "markdown",
   "metadata": {
    "colab_type": "text",
    "id": "yNe7u8IqdTi2"
   },
   "source": [
    "### 2) Loss & Optimizer"
   ]
  },
  {
   "cell_type": "code",
   "execution_count": 0,
   "metadata": {
    "colab": {},
    "colab_type": "code",
    "id": "DIqS8I1pdTi3"
   },
   "outputs": [],
   "source": [
    "optimizer = torch.optim.Adam(model.parameters(), lr=lr)\n",
    "loss_func = nn.CrossEntropyLoss()"
   ]
  },
  {
   "cell_type": "markdown",
   "metadata": {
    "colab_type": "text",
    "id": "mtDr2zZmdTi6"
   },
   "source": [
    "### 3) Test function"
   ]
  },
  {
   "cell_type": "code",
   "execution_count": 0,
   "metadata": {
    "colab": {},
    "colab_type": "code",
    "id": "3ZkXFdUedTi6"
   },
   "outputs": [],
   "source": [
    "def test():\n",
    "    start_str = \"b\"\n",
    "    inp = char_tensor(start_str)\n",
    "    hidden = model.init_hidden()\n",
    "    x = inp\n",
    "\n",
    "    print(start_str,end=\"\")\n",
    "    for i in range(200):\n",
    "        output,hidden = model(x,hidden)\n",
    "\n",
    "        output_dist = output.data.view(-1).div(0.8).exp()\n",
    "        top_i = torch.multinomial(output_dist, 1)[0]\n",
    "        predicted_char = all_characters[top_i]\n",
    "\n",
    "        print(predicted_char,end=\"\")\n",
    "\n",
    "        x = char_tensor(predicted_char)"
   ]
  },
  {
   "cell_type": "markdown",
   "metadata": {
    "colab_type": "text",
    "id": "RB-Vg_jRdTi-"
   },
   "source": [
    "## 4. Train"
   ]
  },
  {
   "cell_type": "code",
   "execution_count": 14,
   "metadata": {
    "colab": {
     "base_uri": "https://localhost:8080/",
     "height": 3621
    },
    "colab_type": "code",
    "executionInfo": {
     "elapsed": 475938,
     "status": "ok",
     "timestamp": 1559554905147,
     "user": {
      "displayName": "Choi Gunho",
      "photoUrl": "",
      "userId": "04388737836176863066"
     },
     "user_tz": -540
    },
    "id": "-eOe6nUVdTi-",
    "outputId": "a809e176-438d-4c40-b3b1-3aaf65043059",
    "scrolled": true
   },
   "outputs": [
    {
     "name": "stdout",
     "output_type": "stream",
     "text": [
      "\n",
      " tensor([4.6093], grad_fn=<DivBackward0>) \n",
      "\n",
      "b:u*_?F}*ME$+XB09|?c~\\SRoM[CKyb{Q?Vf/TM2[SXW*[nmu\n",
      "Z;MjWAnChQyoRZ:.|C\n",
      "KNlt_F9?z<*a5 iU9i\tvv2\r",
      ">>@fb&\n",
      "68UqtmSY`5_XyB\\\f",
      "bw\n",
      "-\n",
      "^_ <Le_PW->c[*073\r",
      "pM3CTf-0d@b.E0gXRB k\\c.3rR)oK;Mh6MvD\r",
      "eS%k8D,CdVP\u000b",
      "MDC-!I@(?1t:I`\n",
      " ====================================================================================================\n",
      "\n",
      " tensor([2.6830], grad_fn=<DivBackward0>) \n",
      "\n",
      "bave fithnlim lh ald\n",
      " onend widisld venreord thi he,\n",
      "Ofore an Ror thest mans sth hared this rhaOfee hean k lito bo theat asr shey fom aeed\n",
      "L arEe fut anthe d ouls whou, wine nd thislle bo gon\n",
      "\n",
      "This aio\n",
      " ====================================================================================================\n",
      "\n",
      " tensor([2.3287], grad_fn=<DivBackward0>) \n",
      "\n",
      "blly, me thouf ou the bell belopen meand fover haht wont, mus merw, lalt,\n",
      "And a to tor sis of ar'd you kouk wast own my sarith bed is on wich the you, ands coam andy I the my this wedjs helt ad.\n",
      "\n",
      "AQfov\n",
      " ====================================================================================================\n",
      "\n",
      " tensor([2.1773], grad_fn=<DivBackward0>) \n",
      "\n",
      "b@A\n",
      "Thy syon theat ion\n",
      "Thas tond fordive stos I in purover,\n",
      "Horoud'st, I noleseor my my so and the me thou my wiles homy p toorvert,\n",
      "I hing art in gomb\n",
      "Tond fraing\n",
      "Int om fithre yourn dopear, dandand a\n",
      " ====================================================================================================\n",
      "\n",
      " tensor([2.1543], grad_fn=<DivBackward0>) \n",
      "\n",
      "bo lothake of the to thou sith fape, the hoover,\n",
      "I heat pelly hall chor gor manse, neoss and my kints and protime sollfore dacast sotere shath sberefe,\n",
      "Thome\n",
      "I not hat in hest chath you the, will\n",
      "And t\n",
      " ====================================================================================================\n",
      "\n",
      " tensor([2.0411], grad_fn=<DivBackward0>) \n",
      "\n",
      "bucont lave my my losk, 'llose, wer me are what gushent you cowe,\n",
      "As done s youl an! gish that be for theas will of thave Fake tarises!\n",
      "\n",
      "Frow rashake for have ssere wint heis to us to that thit rage to\n",
      " ====================================================================================================\n",
      "\n",
      " tensor([2.1619], grad_fn=<DivBackward0>) \n",
      "\n",
      "bus agioke, my shative\n",
      "Thty colt thing not noring cound in the the nor me that for hath, all with suke of so no some the didery.\n",
      "\n",
      "BUMIO:\n",
      "An fing advaing of come my ntier; that pord wenfiadswer then is \n",
      " ====================================================================================================\n",
      "\n",
      " tensor([2.0667], grad_fn=<DivBackward0>) \n",
      "\n",
      "bat shate huth as bruy,\n",
      "The fie.\n",
      "\n",
      "MIINA:\n",
      "De but by at noost, the rom a dood; of and faid a see, chamber ell sients well pood,\n",
      "To for yue that I hill hely hance me he I hish bo.\n",
      "\n",
      "CENTIO:\n",
      "What is to his!\n",
      " ====================================================================================================\n",
      "\n",
      " tensor([1.8574], grad_fn=<DivBackward0>) \n",
      "\n",
      "b\n",
      "As sider youth bugh be staild\n",
      "Whee ar teath the sever?\n",
      "\n",
      "CARDIN LIANGER:\n",
      "Bround that ank seatread!\n",
      "\n",
      "HANUS:\n",
      "I't spird there cimment weres, and and dam what this the s to shall notious hast with eve wit\n",
      " ====================================================================================================\n",
      "\n",
      " tensor([1.7585], grad_fn=<DivBackward0>) \n",
      "\n",
      "bled\n",
      "To hear a for hals do son, I gread wnere taran:\n",
      "Thy my are Rus ening unis more uncion deat not no make grole,\n",
      "But sell ridspreaw,\n",
      "Thee frater the in of Mords,\n",
      "And know is kut state hear stand on a\n",
      " ====================================================================================================\n",
      "\n",
      " tensor([1.9431], grad_fn=<DivBackward0>) \n",
      "\n",
      "ble beforisher thou hanmy bloding;\n",
      "I plock meant, dries, mother, and agan and lesser wime the wooth frow saird'd cather\n",
      "To crear stere to that him lath\n",
      "red the my maine frow the auch for door let fore \n",
      " ====================================================================================================\n",
      "\n",
      " tensor([1.8437], grad_fn=<DivBackward0>) \n",
      "\n",
      "beld is ever.\n",
      "\n",
      "SOMEO:\n",
      "The sloult that must heard; be ustar is more bought the sture now shour conghis come the reasemand.\n",
      "\n",
      "Noth ill sentrous your wourd stentle, I mausper me have pleed me seink?\n",
      "\n",
      "Sechi\n",
      " ====================================================================================================\n",
      "\n",
      " tensor([2.1247], grad_fn=<DivBackward0>) \n",
      "\n",
      "bito't not day madine,\n",
      "And forgh mallow can And treath that.\n",
      "To songent and sotinestingion with you hothed will, and be her\n",
      "Now farces, her seable a,\n",
      "Am to in noth the fants in desshus\n",
      "And shall stand \n",
      " ====================================================================================================\n",
      "\n",
      " tensor([1.6276], grad_fn=<DivBackward0>) \n",
      "\n",
      "bed would\n",
      "so not I prance lige strand'd take is tran on\n",
      "That not are parcess,\n",
      "And not shaltion hat of them san:\n",
      "How sloment lail peetter, misttaas so cains to maile.\n",
      "\n",
      "SurcPright's then the quee!\n",
      "Thee i\n",
      " ====================================================================================================\n",
      "\n",
      " tensor([1.7192], grad_fn=<DivBackward0>) \n",
      "\n",
      "bound come made for dester beace were own you and innow his some or will as arring's cold we for do him of he pessee of God consed dedon.\n",
      "\n",
      "ONCHANT:\n",
      "Shamfored lies be her we bere shall permborn?\n",
      "she del\n",
      " ====================================================================================================\n",
      "\n",
      " tensor([1.7789], grad_fn=<DivBackward0>) \n",
      "\n",
      "by dish.\n",
      "\n",
      "First I Rome, I fathat our your the thand\n",
      "upon where and lay thel shall precome to not time on\n",
      "Now me the suntes.\n",
      "\n",
      "CAULAD RION, EDWARDI:\n",
      "Mishin your eve his prook his driens, thee papsay.\n",
      "\n",
      "MO\n",
      " ====================================================================================================\n",
      "\n",
      " tensor([2.2160], grad_fn=<DivBackward0>) \n",
      "\n",
      "breand,\n",
      "The man is ast, say you are scour; a dead,\n",
      "To the lare of prose the me courther he douncould,\n",
      "What shave leave should is come theid lord.\n",
      "\n",
      "BRINCEOT:\n",
      "Ahas dowandber live a shour ancon, the coold\n",
      " ====================================================================================================\n",
      "\n",
      " tensor([1.6786], grad_fn=<DivBackward0>) \n",
      "\n",
      "bour with the wands trance-hose?\n",
      "\n",
      "KING RICHIRI EDF II\n",
      "LORKE:\n",
      "You so reepidle? O dised is it stell feem:\n",
      "The chillented in for a crimbery lust pries spire:\n",
      "That the king beay, bloody.\n",
      "\n",
      "SICHINICIO:\n",
      "The d\n",
      " ====================================================================================================\n",
      "\n",
      " tensor([1.7443], grad_fn=<DivBackward0>) \n",
      "\n",
      "bed daughtents unponamess and Isaw hears\n",
      "And be let I'll to it asse to thound to wrean:\n",
      "Det your lassicest and a husblesford; and yent not.\n",
      "\n",
      "LANTIO:\n",
      "IZlant, I more daughted and the? To the rantly but h\n",
      " ====================================================================================================\n",
      "\n",
      " tensor([1.8941], grad_fn=<DivBackward0>) \n",
      "\n",
      "bly was it my pother.\n",
      "\n",
      "KING RICHARD I II:\n",
      "I seet me:\n",
      "The man he his be king shall to must them canders ances,\n",
      "Good way, I hath rair, had man: and lant not soold genteds\n",
      "!m, you shall been send I man on\n",
      " ====================================================================================================\n"
     ]
    }
   ],
   "source": [
    "for i in range(num_epochs):\n",
    "    inp,label = random_training_set()\n",
    "    hidden = model.init_hidden()\n",
    "\n",
    "    loss = torch.tensor([0]).type(torch.FloatTensor)\n",
    "    optimizer.zero_grad()\n",
    "    for j in range(chunk_len-1):\n",
    "        x  = inp[j]\n",
    "        y_ = label[j].unsqueeze(0).type(torch.LongTensor)\n",
    "        y,hidden = model(x,hidden)\n",
    "        loss += loss_func(y,y_)\n",
    "\n",
    "    loss.backward()\n",
    "    optimizer.step()\n",
    "    \n",
    "    if i % 100 == 0:\n",
    "        print(\"\\n\",loss/chunk_len,\"\\n\")\n",
    "        test()\n",
    "        print(\"\\n\",\"=\"*100)"
   ]
  },
  {
   "cell_type": "code",
   "execution_count": 0,
   "metadata": {
    "colab": {},
    "colab_type": "code",
    "id": "6B53M-EjxVDv"
   },
   "outputs": [],
   "source": []
  }
 ],
 "metadata": {
  "colab": {
   "collapsed_sections": [],
   "name": "6.4.4.2 Char_RNN_GRU.ipynb",
   "provenance": [],
   "version": "0.3.2"
  },
  "kernelspec": {
   "display_name": "Python 3 (ipykernel)",
   "language": "python",
   "name": "python3"
  },
  "language_info": {
   "codemirror_mode": {
    "name": "ipython",
    "version": 3
   },
   "file_extension": ".py",
   "mimetype": "text/x-python",
   "name": "python",
   "nbconvert_exporter": "python",
   "pygments_lexer": "ipython3",
   "version": "3.9.12"
  }
 },
 "nbformat": 4,
 "nbformat_minor": 1
}
