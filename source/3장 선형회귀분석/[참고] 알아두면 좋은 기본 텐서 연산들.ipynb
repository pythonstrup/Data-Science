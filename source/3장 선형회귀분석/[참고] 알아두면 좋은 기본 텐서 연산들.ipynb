{
 "cells": [
  {
   "cell_type": "markdown",
   "metadata": {
    "colab_type": "text",
    "id": "-yHdn_y1CBHF"
   },
   "source": [
    "# PyTorch Tensor Basic Usage\n",
    "- Create Tensor\n",
    "- Indexing, Joining, Slicing, Squeezing\n",
    "- Initialization\n",
    "- Math Operations"
   ]
  },
  {
   "cell_type": "markdown",
   "metadata": {
    "colab_type": "text",
    "id": "81muwqKxOUD8"
   },
   "source": [
    "### Import Required Libraries"
   ]
  },
  {
   "cell_type": "code",
   "execution_count": 1,
   "metadata": {
    "colab": {
     "base_uri": "https://localhost:8080/",
     "height": 119
    },
    "colab_type": "code",
    "executionInfo": {
     "elapsed": 5516,
     "status": "ok",
     "timestamp": 1566737509836,
     "user": {
      "displayName": "Gunho Choi",
      "photoUrl": "https://lh3.googleusercontent.com/a-/AAuE7mBSqM0cFU5ZceEDo5gH8hXfSGh8z5BVTu5HgREceg=s64",
      "userId": "04388737836176863066"
     },
     "user_tz": -540
    },
    "id": "BDG6uRfVOSmY",
    "outputId": "15145ac2-638c-4564-a3d3-4494aceb4089"
   },
   "outputs": [
    {
     "name": "stdout",
     "output_type": "stream",
     "text": [
      "Requirement already satisfied: torch in /usr/local/lib/python3.6/dist-packages (1.1.0)\n",
      "Requirement already satisfied: torchvision in /usr/local/lib/python3.6/dist-packages (0.3.0)\n",
      "Requirement already satisfied: numpy in /usr/local/lib/python3.6/dist-packages (from torch) (1.16.4)\n",
      "Requirement already satisfied: pillow>=4.1.1 in /usr/local/lib/python3.6/dist-packages (from torchvision) (4.3.0)\n",
      "Requirement already satisfied: six in /usr/local/lib/python3.6/dist-packages (from torchvision) (1.12.0)\n",
      "Requirement already satisfied: olefile in /usr/local/lib/python3.6/dist-packages (from pillow>=4.1.1->torchvision) (0.46)\n"
     ]
    }
   ],
   "source": [
    "!pip3 install torch torchvision\n",
    "import torch"
   ]
  },
  {
   "cell_type": "markdown",
   "metadata": {
    "colab_type": "text",
    "id": "1uSLN_6YCU9s"
   },
   "source": [
    "## 1. Create Tensor\n",
    "\n"
   ]
  },
  {
   "cell_type": "markdown",
   "metadata": {
    "colab_type": "text",
    "id": "njZjSmiuRHUW"
   },
   "source": [
    "### 1) Random Numbers\n",
    "- torch.rand()\n",
    "- torch.randn()\n",
    "- torch.randint()"
   ]
  },
  {
   "cell_type": "code",
   "execution_count": 2,
   "metadata": {
    "colab": {
     "base_uri": "https://localhost:8080/",
     "height": 51
    },
    "colab_type": "code",
    "executionInfo": {
     "elapsed": 1480,
     "status": "ok",
     "timestamp": 1566737538101,
     "user": {
      "displayName": "Gunho Choi",
      "photoUrl": "https://lh3.googleusercontent.com/a-/AAuE7mBSqM0cFU5ZceEDo5gH8hXfSGh8z5BVTu5HgREceg=s64",
      "userId": "04388737836176863066"
     },
     "user_tz": -540
    },
    "id": "fyOeO-xGOEem",
    "outputId": "402c855a-d900-4eb0-ac7b-92b9ba08b118"
   },
   "outputs": [
    {
     "data": {
      "text/plain": [
       "tensor([[0.9312, 0.4167, 0.9262],\n",
       "        [0.2511, 0.3974, 0.0930]])"
      ]
     },
     "execution_count": 2,
     "metadata": {
      "tags": []
     },
     "output_type": "execute_result"
    }
   ],
   "source": [
    "# https://pytorch.org/docs/stable/torch.html?highlight=rand#torch.rand\n",
    "# torch.rand(sizes) -> [0,1)\n",
    "# 0에서 1사이의 랜덤한 숫자\n",
    "x = torch.rand(2,3)\n",
    "x"
   ]
  },
  {
   "cell_type": "code",
   "execution_count": 3,
   "metadata": {
    "colab": {
     "base_uri": "https://localhost:8080/",
     "height": 51
    },
    "colab_type": "code",
    "executionInfo": {
     "elapsed": 794,
     "status": "ok",
     "timestamp": 1566737576813,
     "user": {
      "displayName": "Gunho Choi",
      "photoUrl": "https://lh3.googleusercontent.com/a-/AAuE7mBSqM0cFU5ZceEDo5gH8hXfSGh8z5BVTu5HgREceg=s64",
      "userId": "04388737836176863066"
     },
     "user_tz": -540
    },
    "id": "fZOKIjYvCddH",
    "outputId": "18ab32b7-343f-4bff-b180-65e6e5b50213"
   },
   "outputs": [
    {
     "data": {
      "text/plain": [
       "tensor([[ 2.1308, -0.3603, -0.4545],\n",
       "        [-0.0652,  0.6919,  0.4636]])"
      ]
     },
     "execution_count": 3,
     "metadata": {
      "tags": []
     },
     "output_type": "execute_result"
    }
   ],
   "source": [
    "# https://pytorch.org/docs/stable/torch.html?highlight=randn#torch.randn\n",
    "# Random Normal\n",
    "# 정규분포에서 샘플링한 값\n",
    "x = torch.randn(2,3)\n",
    "x"
   ]
  },
  {
   "cell_type": "code",
   "execution_count": 4,
   "metadata": {
    "colab": {
     "base_uri": "https://localhost:8080/",
     "height": 51
    },
    "colab_type": "code",
    "executionInfo": {
     "elapsed": 382,
     "status": "ok",
     "timestamp": 1566737576814,
     "user": {
      "displayName": "Gunho Choi",
      "photoUrl": "https://lh3.googleusercontent.com/a-/AAuE7mBSqM0cFU5ZceEDo5gH8hXfSGh8z5BVTu5HgREceg=s64",
      "userId": "04388737836176863066"
     },
     "user_tz": -540
    },
    "id": "nSW3FCNYCtUZ",
    "outputId": "c7a6ad87-7d1e-49ef-c08b-cd64440fa0ed"
   },
   "outputs": [
    {
     "data": {
      "text/plain": [
       "tensor([[3, 2, 3],\n",
       "        [3, 3, 3]])"
      ]
     },
     "execution_count": 4,
     "metadata": {
      "tags": []
     },
     "output_type": "execute_result"
    }
   ],
   "source": [
    "# https://pytorch.org/docs/stable/torch.html?highlight=rand#torch.randint\n",
    "# Random Integer\n",
    "# 시작과 끝 사이의 랜덤한 자연수\n",
    "x = torch.randint(2,5,size=(2,3))\n",
    "x"
   ]
  },
  {
   "cell_type": "markdown",
   "metadata": {
    "colab_type": "text",
    "id": "OGHNHGwLP4Oh"
   },
   "source": [
    "### 2) zeros & ones\n",
    "- torch.ones()\n",
    "- torch.ones_like()\n",
    "- torch.zeros()\n",
    "- torch.zeros_like()"
   ]
  },
  {
   "cell_type": "code",
   "execution_count": 5,
   "metadata": {
    "colab": {
     "base_uri": "https://localhost:8080/",
     "height": 51
    },
    "colab_type": "code",
    "executionInfo": {
     "elapsed": 631,
     "status": "ok",
     "timestamp": 1566737600207,
     "user": {
      "displayName": "Gunho Choi",
      "photoUrl": "https://lh3.googleusercontent.com/a-/AAuE7mBSqM0cFU5ZceEDo5gH8hXfSGh8z5BVTu5HgREceg=s64",
      "userId": "04388737836176863066"
     },
     "user_tz": -540
    },
    "id": "Xqts1MqkCxAV",
    "outputId": "e0de2f39-a6f2-4b1d-b13d-ae5bece5a6ed"
   },
   "outputs": [
    {
     "data": {
      "text/plain": [
       "tensor([[0., 0., 0.],\n",
       "        [0., 0., 0.]])"
      ]
     },
     "execution_count": 5,
     "metadata": {
      "tags": []
     },
     "output_type": "execute_result"
    }
   ],
   "source": [
    "# https://pytorch.org/docs/stable/torch.html?highlight=zeros#torch.zeros\n",
    "# torch.zeros(2,3) -> [[0,0,0],[0,0,0]]\n",
    "# 0으로 채워진 텐서\n",
    "x = torch.zeros(2,3)\n",
    "x"
   ]
  },
  {
   "cell_type": "code",
   "execution_count": 6,
   "metadata": {
    "colab": {
     "base_uri": "https://localhost:8080/",
     "height": 85
    },
    "colab_type": "code",
    "executionInfo": {
     "elapsed": 815,
     "status": "ok",
     "timestamp": 1566737609377,
     "user": {
      "displayName": "Gunho Choi",
      "photoUrl": "https://lh3.googleusercontent.com/a-/AAuE7mBSqM0cFU5ZceEDo5gH8hXfSGh8z5BVTu5HgREceg=s64",
      "userId": "04388737836176863066"
     },
     "user_tz": -540
    },
    "id": "DC7BvwGVQcGo",
    "outputId": "30a607d0-a5b8-4deb-acde-468bffa015dc"
   },
   "outputs": [
    {
     "data": {
      "text/plain": [
       "tensor([[0., 0., 0., 0., 0.],\n",
       "        [0., 0., 0., 0., 0.],\n",
       "        [0., 0., 0., 0., 0.],\n",
       "        [0., 0., 0., 0., 0.]])"
      ]
     },
     "execution_count": 6,
     "metadata": {
      "tags": []
     },
     "output_type": "execute_result"
    }
   ],
   "source": [
    "# https://pytorch.org/docs/stable/torch.html?highlight=zeros#torch.zeros_like\n",
    "# same shape tensor filled with zeros\n",
    "# 인자로 들어오는 텐서와 형태가 같은 0으로 채워진 텐서\n",
    "ref = torch.rand(4,5)\n",
    "x = torch.zeros_like(ref)\n",
    "x"
   ]
  },
  {
   "cell_type": "code",
   "execution_count": 7,
   "metadata": {
    "colab": {
     "base_uri": "https://localhost:8080/",
     "height": 51
    },
    "colab_type": "code",
    "executionInfo": {
     "elapsed": 709,
     "status": "ok",
     "timestamp": 1566737618590,
     "user": {
      "displayName": "Gunho Choi",
      "photoUrl": "https://lh3.googleusercontent.com/a-/AAuE7mBSqM0cFU5ZceEDo5gH8hXfSGh8z5BVTu5HgREceg=s64",
      "userId": "04388737836176863066"
     },
     "user_tz": -540
    },
    "id": "W1bb_T4XQA01",
    "outputId": "944cefdd-ab3a-4840-c07c-c811a97ae9cb"
   },
   "outputs": [
    {
     "data": {
      "text/plain": [
       "tensor([[1., 1., 1.],\n",
       "        [1., 1., 1.]])"
      ]
     },
     "execution_count": 7,
     "metadata": {
      "tags": []
     },
     "output_type": "execute_result"
    }
   ],
   "source": [
    "# https://pytorch.org/docs/stable/torch.html?highlight=ones#torch.ones\n",
    "# torch.ones(2,3) -> [[1,1,1],[1,1,]]\n",
    "# 1로 채워진 텐서\n",
    "x = torch.ones(2,3)\n",
    "x"
   ]
  },
  {
   "cell_type": "code",
   "execution_count": 8,
   "metadata": {
    "colab": {
     "base_uri": "https://localhost:8080/",
     "height": 85
    },
    "colab_type": "code",
    "executionInfo": {
     "elapsed": 599,
     "status": "ok",
     "timestamp": 1566737633609,
     "user": {
      "displayName": "Gunho Choi",
      "photoUrl": "https://lh3.googleusercontent.com/a-/AAuE7mBSqM0cFU5ZceEDo5gH8hXfSGh8z5BVTu5HgREceg=s64",
      "userId": "04388737836176863066"
     },
     "user_tz": -540
    },
    "id": "Cz0sKrgAQEDx",
    "outputId": "686f164f-d7ed-420d-a7fd-344e69eefcd8"
   },
   "outputs": [
    {
     "data": {
      "text/plain": [
       "tensor([[1., 1., 1., 1., 1.],\n",
       "        [1., 1., 1., 1., 1.],\n",
       "        [1., 1., 1., 1., 1.],\n",
       "        [1., 1., 1., 1., 1.]])"
      ]
     },
     "execution_count": 8,
     "metadata": {
      "tags": []
     },
     "output_type": "execute_result"
    }
   ],
   "source": [
    "# https://pytorch.org/docs/stable/torch.html?highlight=ones_like#torch.ones_like\n",
    "# same shape tensor filled with ones\n",
    "# 인자로 들어오는 텐서와 형태가 같은 1로 채워진 텐서\n",
    "ref = torch.rand(4,5)\n",
    "x = torch.ones_like(ref)\n",
    "x"
   ]
  },
  {
   "cell_type": "markdown",
   "metadata": {
    "colab_type": "text",
    "id": "ggalWnMpRCAU"
   },
   "source": [
    "### 3) Tensor Data Type\n",
    "\n",
    "- tensor.type()\n",
    "- tensor.type_as()"
   ]
  },
  {
   "cell_type": "code",
   "execution_count": 9,
   "metadata": {
    "colab": {
     "base_uri": "https://localhost:8080/",
     "height": 51
    },
    "colab_type": "code",
    "executionInfo": {
     "elapsed": 718,
     "status": "ok",
     "timestamp": 1566737656993,
     "user": {
      "displayName": "Gunho Choi",
      "photoUrl": "https://lh3.googleusercontent.com/a-/AAuE7mBSqM0cFU5ZceEDo5gH8hXfSGh8z5BVTu5HgREceg=s64",
      "userId": "04388737836176863066"
     },
     "user_tz": -540
    },
    "id": "mHdR-E9PQ8Tk",
    "outputId": "cce6f78d-cc7c-4b18-bd99-9ba82319c72c"
   },
   "outputs": [
    {
     "name": "stdout",
     "output_type": "stream",
     "text": [
      "torch.FloatTensor\n",
      "<class 'torch.Tensor'>\n"
     ]
    }
   ],
   "source": [
    "# https://pytorch.org/docs/stable/tensors.html?highlight=type#torch.Tensor.type\n",
    "# without dtype, returns type of tensor\n",
    "# tensor.type()은 해당 텐서의 타입을 리턴하고 type(tensor)는 토치의 텐서 클래스라는 것을 리턴함\n",
    "\n",
    "x = torch.rand(2,3)\n",
    "print(x.type())\n",
    "print(type(x))"
   ]
  },
  {
   "cell_type": "code",
   "execution_count": 10,
   "metadata": {
    "colab": {
     "base_uri": "https://localhost:8080/",
     "height": 34
    },
    "colab_type": "code",
    "executionInfo": {
     "elapsed": 894,
     "status": "ok",
     "timestamp": 1566737686485,
     "user": {
      "displayName": "Gunho Choi",
      "photoUrl": "https://lh3.googleusercontent.com/a-/AAuE7mBSqM0cFU5ZceEDo5gH8hXfSGh8z5BVTu5HgREceg=s64",
      "userId": "04388737836176863066"
     },
     "user_tz": -540
    },
    "id": "ZoYyAb1qRbNx",
    "outputId": "d095ee8b-8900-4b5e-9ce5-8a22ae0ae71c"
   },
   "outputs": [
    {
     "name": "stdout",
     "output_type": "stream",
     "text": [
      "torch.DoubleTensor\n"
     ]
    }
   ],
   "source": [
    "# with dtype, cast the object to the dtype\n",
    "# tensor.type()을 dtype과 함께 사용하면 텐서의 데이터 타입을 dtype에 넣어준 데이터 타입으로 바꿔줍니다.\n",
    "double_x = x.type(dtype=torch.DoubleTensor)\n",
    "print(double_x.type())"
   ]
  },
  {
   "cell_type": "code",
   "execution_count": 11,
   "metadata": {
    "colab": {
     "base_uri": "https://localhost:8080/",
     "height": 34
    },
    "colab_type": "code",
    "executionInfo": {
     "elapsed": 865,
     "status": "ok",
     "timestamp": 1566737700309,
     "user": {
      "displayName": "Gunho Choi",
      "photoUrl": "https://lh3.googleusercontent.com/a-/AAuE7mBSqM0cFU5ZceEDo5gH8hXfSGh8z5BVTu5HgREceg=s64",
      "userId": "04388737836176863066"
     },
     "user_tz": -540
    },
    "id": "IGVQezVQST05",
    "outputId": "466a82d0-2451-4c6d-9c38-d19764434b07"
   },
   "outputs": [
    {
     "name": "stdout",
     "output_type": "stream",
     "text": [
      "torch.IntTensor\n"
     ]
    }
   ],
   "source": [
    "# https://pytorch.org/docs/stable/tensors.html?highlight=type#torch.Tensor.type_as\n",
    "# 위의 type 함수와 유사하게 type_as라는 함수를 사용해 데이터타입을 바꿀 수 있습니다.\n",
    "int_x = x.type_as(torch.IntTensor())\n",
    "print(int_x.type())"
   ]
  },
  {
   "cell_type": "markdown",
   "metadata": {
    "colab_type": "text",
    "id": "hKhD0Ul4THRO"
   },
   "source": [
    "### 4) Numpy to Tensor, Tensor to Numpy\n",
    "- torch.from_numpy()\n",
    "- tensor.numpy()\n"
   ]
  },
  {
   "cell_type": "code",
   "execution_count": 12,
   "metadata": {
    "colab": {
     "base_uri": "https://localhost:8080/",
     "height": 51
    },
    "colab_type": "code",
    "executionInfo": {
     "elapsed": 569,
     "status": "ok",
     "timestamp": 1566737729059,
     "user": {
      "displayName": "Gunho Choi",
      "photoUrl": "https://lh3.googleusercontent.com/a-/AAuE7mBSqM0cFU5ZceEDo5gH8hXfSGh8z5BVTu5HgREceg=s64",
      "userId": "04388737836176863066"
     },
     "user_tz": -540
    },
    "id": "iBajTUrvSdIc",
    "outputId": "61f59044-4395-404d-91d5-eb208b708422"
   },
   "outputs": [
    {
     "data": {
      "text/plain": [
       "(tensor([[1, 2, 3],\n",
       "         [4, 5, 6]]), 'torch.LongTensor')"
      ]
     },
     "execution_count": 12,
     "metadata": {
      "tags": []
     },
     "output_type": "execute_result"
    }
   ],
   "source": [
    "# https://pytorch.org/docs/stable/torch.html?highlight=from_numpy#torch.from_numpy\n",
    "# torch.from_numpy(ndarray) -> tensor\n",
    "# from_numpy 함수를 이용해 넘파이 배열을 토치텐서로 바꿀 수 있습니다.\n",
    "\n",
    "import numpy as np\n",
    "\n",
    "x1 = np.ndarray(shape=(2,3), dtype=int,buffer=np.array([1,2,3,4,5,6]))\n",
    "x2 = torch.from_numpy(x1)\n",
    "\n",
    "x2,x2.type()"
   ]
  },
  {
   "cell_type": "code",
   "execution_count": 13,
   "metadata": {
    "colab": {
     "base_uri": "https://localhost:8080/",
     "height": 51
    },
    "colab_type": "code",
    "executionInfo": {
     "elapsed": 818,
     "status": "ok",
     "timestamp": 1566737737788,
     "user": {
      "displayName": "Gunho Choi",
      "photoUrl": "https://lh3.googleusercontent.com/a-/AAuE7mBSqM0cFU5ZceEDo5gH8hXfSGh8z5BVTu5HgREceg=s64",
      "userId": "04388737836176863066"
     },
     "user_tz": -540
    },
    "id": "EFxZYPvgTRdO",
    "outputId": "009ce26e-17b1-41df-e392-e99889e048d1"
   },
   "outputs": [
    {
     "data": {
      "text/plain": [
       "array([[1, 2, 3],\n",
       "       [4, 5, 6]])"
      ]
     },
     "execution_count": 13,
     "metadata": {
      "tags": []
     },
     "output_type": "execute_result"
    }
   ],
   "source": [
    "# https://pytorch.org/docs/stable/tensors.html?highlight=numpy#torch.Tensor.numpy\n",
    "# tensor.numpy() -> ndarray\n",
    "# 반대로 토치 텐서를 .numpy() 를 통해 넘파이 배열로 바꿀 수 있습니다.\n",
    "\n",
    "x3 = x2.numpy()\n",
    "x3"
   ]
  },
  {
   "cell_type": "markdown",
   "metadata": {
    "colab_type": "text",
    "id": "gU7jVlvUTnDL"
   },
   "source": [
    "### 5) Tensor on CPU & GPU\n",
    "\n"
   ]
  },
  {
   "cell_type": "code",
   "execution_count": 14,
   "metadata": {
    "colab": {
     "base_uri": "https://localhost:8080/",
     "height": 51
    },
    "colab_type": "code",
    "executionInfo": {
     "elapsed": 592,
     "status": "ok",
     "timestamp": 1566737743865,
     "user": {
      "displayName": "Gunho Choi",
      "photoUrl": "https://lh3.googleusercontent.com/a-/AAuE7mBSqM0cFU5ZceEDo5gH8hXfSGh8z5BVTu5HgREceg=s64",
      "userId": "04388737836176863066"
     },
     "user_tz": -540
    },
    "id": "oCQSUV4GTZJ5",
    "outputId": "bc7a4de1-b3b6-41e1-fff9-e31ee6397a93"
   },
   "outputs": [
    {
     "data": {
      "text/plain": [
       "tensor([[1., 2., 3.],\n",
       "        [4., 5., 6.]])"
      ]
     },
     "execution_count": 14,
     "metadata": {
      "tags": []
     },
     "output_type": "execute_result"
    }
   ],
   "source": [
    "# 배열을 인자로 넣어 토치 텐서를 생성할 수 있습니다.\n",
    "\n",
    "x = torch.FloatTensor([[1,2,3],[4,5,6]])\n",
    "x"
   ]
  },
  {
   "cell_type": "code",
   "execution_count": 15,
   "metadata": {
    "colab": {
     "base_uri": "https://localhost:8080/",
     "height": 85
    },
    "colab_type": "code",
    "executionInfo": {
     "elapsed": 4580,
     "status": "ok",
     "timestamp": 1566737781721,
     "user": {
      "displayName": "Gunho Choi",
      "photoUrl": "https://lh3.googleusercontent.com/a-/AAuE7mBSqM0cFU5ZceEDo5gH8hXfSGh8z5BVTu5HgREceg=s64",
      "userId": "04388737836176863066"
     },
     "user_tz": -540
    },
    "id": "g2s1nfdxUd6Y",
    "outputId": "487cad63-8923-45cd-ca53-dc31c05fb0de"
   },
   "outputs": [
    {
     "name": "stdout",
     "output_type": "stream",
     "text": [
      "tensor([[1., 2., 3.],\n",
      "        [4., 5., 6.]], device='cuda:0')\n",
      "tensor([[1., 2., 3.],\n",
      "        [4., 5., 6.]])\n"
     ]
    }
   ],
   "source": [
    "# https://pytorch.org/docs/stable/cuda.html?highlight=device#torch.cuda.device\n",
    "# device 함수를 사용해 텐서를 원하는 장치로 이동시킬 수 있습니다.\n",
    "cpu = torch.device('cpu')\n",
    "gpu = torch.device('cuda')\n",
    "\n",
    "# https://pytorch.org/docs/stable/cuda.html?highlight=available#torch.cuda.is_available\n",
    "# gpu가 사용 가능한지 체크해줍니다.\n",
    "if torch.cuda.is_available():\n",
    "  # https://pytorch.org/docs/stable/tensors.html?highlight=#torch.Tensor.to\n",
    "  # .to 함수를 이용해 지정한 장치로 이동시켜줍니다.\n",
    "  x_gpu = x.to(gpu)\n",
    "  print(x_gpu)\n",
    "  \n",
    "x_cpu = x_gpu.to(cpu)\n",
    "print(x_cpu)"
   ]
  },
  {
   "cell_type": "markdown",
   "metadata": {
    "colab_type": "text",
    "id": "hLwCiOJgVaxu"
   },
   "source": [
    "### 6) Tensor Size"
   ]
  },
  {
   "cell_type": "code",
   "execution_count": 16,
   "metadata": {
    "colab": {
     "base_uri": "https://localhost:8080/",
     "height": 34
    },
    "colab_type": "code",
    "executionInfo": {
     "elapsed": 418,
     "status": "ok",
     "timestamp": 1566737803822,
     "user": {
      "displayName": "Gunho Choi",
      "photoUrl": "https://lh3.googleusercontent.com/a-/AAuE7mBSqM0cFU5ZceEDo5gH8hXfSGh8z5BVTu5HgREceg=s64",
      "userId": "04388737836176863066"
     },
     "user_tz": -540
    },
    "id": "XIGOendjUyUv",
    "outputId": "65e354e2-04b6-40c8-8677-ce235b6b4c31"
   },
   "outputs": [
    {
     "data": {
      "text/plain": [
       "(torch.Size([10, 12, 3, 3]), torch.Size([12]))"
      ]
     },
     "execution_count": 16,
     "metadata": {
      "tags": []
     },
     "output_type": "execute_result"
    }
   ],
   "source": [
    "# https://pytorch.org/docs/stable/tensors.html?highlight=size#torch.Tensor.size\n",
    "# size 함수를 이용해 텐서의 형태를 알 수 있습니다.\n",
    "x = torch.FloatTensor(10,12,3,3)\n",
    "x.size(), x.size()[1:2]"
   ]
  },
  {
   "cell_type": "markdown",
   "metadata": {
    "colab_type": "text",
    "id": "BaUHQmoGV7cJ"
   },
   "source": [
    "## 2. Indexing, Joining, Slicing & Squeezing\n"
   ]
  },
  {
   "cell_type": "markdown",
   "metadata": {
    "colab_type": "text",
    "id": "oqgZ4H0VV-bJ"
   },
   "source": [
    "### 1) Indexing\n",
    "\n",
    "- torch.index_select()\n",
    "- torch.masked_select()"
   ]
  },
  {
   "cell_type": "code",
   "execution_count": 17,
   "metadata": {
    "colab": {
     "base_uri": "https://localhost:8080/",
     "height": 85
    },
    "colab_type": "code",
    "executionInfo": {
     "elapsed": 885,
     "status": "ok",
     "timestamp": 1566737809370,
     "user": {
      "displayName": "Gunho Choi",
      "photoUrl": "https://lh3.googleusercontent.com/a-/AAuE7mBSqM0cFU5ZceEDo5gH8hXfSGh8z5BVTu5HgREceg=s64",
      "userId": "04388737836176863066"
     },
     "user_tz": -540
    },
    "id": "l1LBaUPcVeDZ",
    "outputId": "d61f7040-e037-4e20-a673-3eb10fbffa11"
   },
   "outputs": [
    {
     "name": "stdout",
     "output_type": "stream",
     "text": [
      "tensor([[-1.1821,  0.9164, -0.2556],\n",
      "        [-0.5557,  1.4337,  1.5086],\n",
      "        [ 0.7669, -0.1645,  0.2401],\n",
      "        [-0.7632,  1.3450,  0.0454]])\n"
     ]
    }
   ],
   "source": [
    "# 임의의 텐서를 생성합니다.\n",
    "x = torch.randn(4,3)\n",
    "print(x)"
   ]
  },
  {
   "cell_type": "code",
   "execution_count": 18,
   "metadata": {
    "colab": {
     "base_uri": "https://localhost:8080/",
     "height": 51
    },
    "colab_type": "code",
    "executionInfo": {
     "elapsed": 952,
     "status": "ok",
     "timestamp": 1566737815826,
     "user": {
      "displayName": "Gunho Choi",
      "photoUrl": "https://lh3.googleusercontent.com/a-/AAuE7mBSqM0cFU5ZceEDo5gH8hXfSGh8z5BVTu5HgREceg=s64",
      "userId": "04388737836176863066"
     },
     "user_tz": -540
    },
    "id": "CH7-RioMWusl",
    "outputId": "72dbc1f5-ce8f-42db-89a2-0bab57e8b22f"
   },
   "outputs": [
    {
     "data": {
      "text/plain": [
       "tensor([[-0.5557,  1.4337,  1.5086],\n",
       "        [ 0.7669, -0.1645,  0.2401]])"
      ]
     },
     "execution_count": 18,
     "metadata": {
      "tags": []
     },
     "output_type": "execute_result"
    }
   ],
   "source": [
    "# middle 2 rows\n",
    "# 토치 텐서 역시 기존 파이썬 인덱싱을 똑같이 쓸 수 있습니다.\n",
    "x[1:3,:]"
   ]
  },
  {
   "cell_type": "code",
   "execution_count": 19,
   "metadata": {
    "colab": {
     "base_uri": "https://localhost:8080/",
     "height": 85
    },
    "colab_type": "code",
    "executionInfo": {
     "elapsed": 635,
     "status": "ok",
     "timestamp": 1566737823431,
     "user": {
      "displayName": "Gunho Choi",
      "photoUrl": "https://lh3.googleusercontent.com/a-/AAuE7mBSqM0cFU5ZceEDo5gH8hXfSGh8z5BVTu5HgREceg=s64",
      "userId": "04388737836176863066"
     },
     "user_tz": -540
    },
    "id": "NfJlsiv4WKla",
    "outputId": "27df1405-9b6e-479e-f326-9894e8295346"
   },
   "outputs": [
    {
     "data": {
      "text/plain": [
       "tensor([[-1.1821, -0.2556],\n",
       "        [-0.5557,  1.5086],\n",
       "        [ 0.7669,  0.2401],\n",
       "        [-0.7632,  0.0454]])"
      ]
     },
     "execution_count": 19,
     "metadata": {
      "tags": []
     },
     "output_type": "execute_result"
    }
   ],
   "source": [
    "# https://pytorch.org/docs/stable/torch.html?highlight=index_select#torch.index_select\n",
    "# index select along dimension 1\n",
    "# index_select 함수를 사용해 지정한 차원 기준으로 원하는 값들을 뽑아낼 수 있습니다.\n",
    "\n",
    "selected = torch.index_select(x,dim=1,index=torch.LongTensor([0,2]))\n",
    "selected"
   ]
  },
  {
   "cell_type": "code",
   "execution_count": 20,
   "metadata": {
    "colab": {
     "base_uri": "https://localhost:8080/",
     "height": 136
    },
    "colab_type": "code",
    "executionInfo": {
     "elapsed": 796,
     "status": "ok",
     "timestamp": 1566737835174,
     "user": {
      "displayName": "Gunho Choi",
      "photoUrl": "https://lh3.googleusercontent.com/a-/AAuE7mBSqM0cFU5ZceEDo5gH8hXfSGh8z5BVTu5HgREceg=s64",
      "userId": "04388737836176863066"
     },
     "user_tz": -540
    },
    "id": "u74cPmFmWcSR",
    "outputId": "be92658a-5508-47e7-dbfb-f7a2f9436804"
   },
   "outputs": [
    {
     "name": "stdout",
     "output_type": "stream",
     "text": [
      "tensor([[-0.0036,  0.7174, -0.0733],\n",
      "        [-0.9133, -0.6957, -0.7995]])\n",
      "\n",
      "tensor([[0, 0, 1],\n",
      "        [0, 1, 0]], dtype=torch.uint8)\n",
      "\n",
      "tensor([-0.0733, -0.6957])\n"
     ]
    }
   ],
   "source": [
    "# https://pytorch.org/docs/stable/torch.html?highlight=masked_select#torch.masked_select\n",
    "# torch.masked_select(input, mask)\n",
    "# masked_select를 통해 뽑고자 하는 값들을 마스킹해서 선택할 수 있습니다.\n",
    "\n",
    "x = torch.randn(2,3)\n",
    "mask = torch.ByteTensor([[0,0,1],[0,1,0]])\n",
    "out = torch.masked_select(x,mask)\n",
    "\n",
    "print(x, mask, out, sep=\"\\n\\n\")"
   ]
  },
  {
   "cell_type": "markdown",
   "metadata": {
    "colab_type": "text",
    "id": "Vc03BkR7YFlP"
   },
   "source": [
    "### 2) Joining\n",
    "- torch.cat()\n",
    "- torch.stack()"
   ]
  },
  {
   "cell_type": "code",
   "execution_count": 21,
   "metadata": {
    "colab": {
     "base_uri": "https://localhost:8080/",
     "height": 238
    },
    "colab_type": "code",
    "executionInfo": {
     "elapsed": 693,
     "status": "ok",
     "timestamp": 1566737845621,
     "user": {
      "displayName": "Gunho Choi",
      "photoUrl": "https://lh3.googleusercontent.com/a-/AAuE7mBSqM0cFU5ZceEDo5gH8hXfSGh8z5BVTu5HgREceg=s64",
      "userId": "04388737836176863066"
     },
     "user_tz": -540
    },
    "id": "SVAxXNkeXLko",
    "outputId": "45cb5d43-20de-4e32-e4fc-a7fc7c06e182"
   },
   "outputs": [
    {
     "name": "stdout",
     "output_type": "stream",
     "text": [
      "tensor([[1., 2., 3.],\n",
      "        [4., 5., 6.]])\n",
      "\n",
      "tensor([[-1., -2., -3.],\n",
      "        [-4., -5., -6.]])\n",
      "\n",
      "tensor([[ 1.,  2.,  3.],\n",
      "        [ 4.,  5.,  6.],\n",
      "        [-1., -2., -3.],\n",
      "        [-4., -5., -6.]])\n",
      "\n",
      "tensor([[ 1.,  2.,  3., -1., -2., -3.],\n",
      "        [ 4.,  5.,  6., -4., -5., -6.]])\n"
     ]
    }
   ],
   "source": [
    "# https://pytorch.org/docs/stable/torch.html?highlight=torch%20cat#torch.cat\n",
    "# torch.cat(seq, dim=0) -> concatenate tensor along dim\n",
    "# cat 함수를 이용해 텐서를 원하는대로 붙일 수 있습니다.\n",
    "# cat은 concatenate의 약자입니다.\n",
    "\n",
    "x = torch.FloatTensor([[1,2,3],[4,5,6]])\n",
    "y = torch.FloatTensor([[-1,-2,-3],[-4,-5,-6]])\n",
    "z1 = torch.cat([x,y],dim=0)\n",
    "z2 = torch.cat([x,y],dim=1)\n",
    "\n",
    "print(x,y,z1,z2,sep=\"\\n\\n\")"
   ]
  },
  {
   "cell_type": "code",
   "execution_count": 22,
   "metadata": {
    "colab": {
     "base_uri": "https://localhost:8080/",
     "height": 238
    },
    "colab_type": "code",
    "executionInfo": {
     "elapsed": 951,
     "status": "ok",
     "timestamp": 1566737864362,
     "user": {
      "displayName": "Gunho Choi",
      "photoUrl": "https://lh3.googleusercontent.com/a-/AAuE7mBSqM0cFU5ZceEDo5gH8hXfSGh8z5BVTu5HgREceg=s64",
      "userId": "04388737836176863066"
     },
     "user_tz": -540
    },
    "id": "XDcuI6s1YNyP",
    "outputId": "1210c001-faa3-4c0c-e314-caf03e73f0eb"
   },
   "outputs": [
    {
     "name": "stdout",
     "output_type": "stream",
     "text": [
      "tensor([[[1., 2., 3.],\n",
      "         [4., 5., 6.]],\n",
      "\n",
      "        [[1., 2., 3.],\n",
      "         [4., 5., 6.]],\n",
      "\n",
      "        [[1., 2., 3.],\n",
      "         [4., 5., 6.]],\n",
      "\n",
      "        [[1., 2., 3.],\n",
      "         [4., 5., 6.]]])\n",
      "\n",
      "torch.Size([4, 2, 3])\n"
     ]
    }
   ],
   "source": [
    "# https://pytorch.org/docs/stable/torch.html?highlight=torch%20stack#torch.stack\n",
    "# torch.stack(sequence,dim=0) -> stack along new dim\n",
    "# stack 함수를 통해 텐서를 붙일수도 있습니다.\n",
    "\n",
    "x = torch.FloatTensor([[1,2,3],[4,5,6]])\n",
    "x_stack = torch.stack([x,x,x,x],dim=0)\n",
    "\n",
    "print(x_stack,x_stack.size(),sep=\"\\n\\n\")"
   ]
  },
  {
   "cell_type": "markdown",
   "metadata": {
    "colab_type": "text",
    "id": "rJYr1WIDY2iW"
   },
   "source": [
    "### 3) Slicing\n",
    "- torch.chunk()\n",
    "- torch.split()"
   ]
  },
  {
   "cell_type": "code",
   "execution_count": 23,
   "metadata": {
    "colab": {
     "base_uri": "https://localhost:8080/",
     "height": 425
    },
    "colab_type": "code",
    "executionInfo": {
     "elapsed": 689,
     "status": "ok",
     "timestamp": 1566737883099,
     "user": {
      "displayName": "Gunho Choi",
      "photoUrl": "https://lh3.googleusercontent.com/a-/AAuE7mBSqM0cFU5ZceEDo5gH8hXfSGh8z5BVTu5HgREceg=s64",
      "userId": "04388737836176863066"
     },
     "user_tz": -540
    },
    "id": "Fn55J-T2Yjp1",
    "outputId": "884ba689-395f-4406-b357-71ca65a3cf47"
   },
   "outputs": [
    {
     "name": "stdout",
     "output_type": "stream",
     "text": [
      "tensor([[ 1.,  2.,  3.],\n",
      "        [ 4.,  5.,  6.],\n",
      "        [-1., -2., -3.],\n",
      "        [-4., -5., -6.]])\n",
      "tensor([[1., 2., 3.],\n",
      "        [4., 5., 6.]])\n",
      "tensor([[-1., -2., -3.],\n",
      "        [-4., -5., -6.]])\n",
      "tensor([[ 1.,  2.,  3.],\n",
      "        [ 4.,  5.,  6.],\n",
      "        [-1., -2., -3.],\n",
      "        [-4., -5., -6.]])\n",
      "tensor([[ 1.],\n",
      "        [ 4.],\n",
      "        [-1.],\n",
      "        [-4.]])\n",
      "tensor([[ 2.],\n",
      "        [ 5.],\n",
      "        [-2.],\n",
      "        [-5.]])\n",
      "tensor([[ 3.],\n",
      "        [ 6.],\n",
      "        [-3.],\n",
      "        [-6.]])\n"
     ]
    }
   ],
   "source": [
    "# https://pytorch.org/docs/stable/torch.html?highlight=chunk#torch.chunk\n",
    "# torch.chunk(tensor, chunks, dim=0) -> tensor into number of chunks\n",
    "# chunk 함수를 통해 텐서를 원하는 chunk 개수만큼으로 분리할 수 있습니다.\n",
    "\n",
    "x_1, x_2 = torch.chunk(z1,2,dim=0)\n",
    "y_1, y_2, y_3 = torch.chunk(z1,3,dim=1)\n",
    "\n",
    "print(z1,x_1,x_2,z1,y_1,y_2,y_3,sep=\"\\n\")"
   ]
  },
  {
   "cell_type": "code",
   "execution_count": 24,
   "metadata": {
    "colab": {
     "base_uri": "https://localhost:8080/",
     "height": 323
    },
    "colab_type": "code",
    "executionInfo": {
     "elapsed": 675,
     "status": "ok",
     "timestamp": 1566737928873,
     "user": {
      "displayName": "Gunho Choi",
      "photoUrl": "https://lh3.googleusercontent.com/a-/AAuE7mBSqM0cFU5ZceEDo5gH8hXfSGh8z5BVTu5HgREceg=s64",
      "userId": "04388737836176863066"
     },
     "user_tz": -540
    },
    "id": "Bw6hLM7KZMdP",
    "outputId": "92089fa6-dbaf-4ab1-960a-5abaa157686f"
   },
   "outputs": [
    {
     "name": "stdout",
     "output_type": "stream",
     "text": [
      "tensor([[ 1.,  2.,  3.],\n",
      "        [ 4.,  5.,  6.],\n",
      "        [-1., -2., -3.],\n",
      "        [-4., -5., -6.]])\n",
      "tensor([[1., 2., 3.],\n",
      "        [4., 5., 6.]])\n",
      "tensor([[-1., -2., -3.],\n",
      "        [-4., -5., -6.]])\n",
      "\n",
      "This is y1:\n",
      "tensor([[ 1.,  2.],\n",
      "        [ 4.,  5.],\n",
      "        [-1., -2.],\n",
      "        [-4., -5.]])\n",
      "tensor([[ 3.],\n",
      "        [ 6.],\n",
      "        [-3.],\n",
      "        [-6.]])\n"
     ]
    }
   ],
   "source": [
    "# https://pytorch.org/docs/stable/torch.html?highlight=split#torch.split\n",
    "# torch.split(tensor,split_size,dim=0) -> split into specific size\n",
    "# split 함수를 통해 원하는 사이즈로 텐서를 자를 수 있습니다.\n",
    "\n",
    "x1,x2 = torch.split(z1,2,dim=0)\n",
    "y1 = torch.split(z1,2,dim=1) \n",
    "\n",
    "print(z1,x1,x2,sep=\"\\n\")\n",
    "\n",
    "print(\"\\nThis is y1:\")\n",
    "for i in y1:\n",
    "  print(i)"
   ]
  },
  {
   "cell_type": "markdown",
   "metadata": {
    "colab_type": "text",
    "id": "FHBNDxaIaA7e"
   },
   "source": [
    "### 4) squeezing\n"
   ]
  },
  {
   "cell_type": "code",
   "execution_count": 25,
   "metadata": {
    "colab": {
     "base_uri": "https://localhost:8080/",
     "height": 51
    },
    "colab_type": "code",
    "executionInfo": {
     "elapsed": 868,
     "status": "ok",
     "timestamp": 1566737951609,
     "user": {
      "displayName": "Gunho Choi",
      "photoUrl": "https://lh3.googleusercontent.com/a-/AAuE7mBSqM0cFU5ZceEDo5gH8hXfSGh8z5BVTu5HgREceg=s64",
      "userId": "04388737836176863066"
     },
     "user_tz": -540
    },
    "id": "OOQe0rHoZmL8",
    "outputId": "ca1125de-8452-4d60-f1eb-c3e21bc17752"
   },
   "outputs": [
    {
     "name": "stdout",
     "output_type": "stream",
     "text": [
      "torch.Size([10, 1, 3, 1, 4])\n",
      "torch.Size([10, 3, 4])\n"
     ]
    }
   ],
   "source": [
    "# https://pytorch.org/docs/stable/torch.html?highlight=squeeze#torch.squeeze\n",
    "# torch.squeeze(input,dim=None) -> reduce dim by 1\n",
    "# squeeze 함수를 통해 길이가 1인 차원들을 압축시킬 수 있습니다.\n",
    "\n",
    "x1 = torch.FloatTensor(10,1,3,1,4)\n",
    "x2 = torch.squeeze(x1)\n",
    "\n",
    "print(x1.size(),x2.size(),sep=\"\\n\")"
   ]
  },
  {
   "cell_type": "code",
   "execution_count": 26,
   "metadata": {
    "colab": {
     "base_uri": "https://localhost:8080/",
     "height": 51
    },
    "colab_type": "code",
    "executionInfo": {
     "elapsed": 792,
     "status": "ok",
     "timestamp": 1566737974037,
     "user": {
      "displayName": "Gunho Choi",
      "photoUrl": "https://lh3.googleusercontent.com/a-/AAuE7mBSqM0cFU5ZceEDo5gH8hXfSGh8z5BVTu5HgREceg=s64",
      "userId": "04388737836176863066"
     },
     "user_tz": -540
    },
    "id": "yOLRHC1TaH6-",
    "outputId": "7780bd6c-bf13-4b86-bbfc-68430ae5ebe0"
   },
   "outputs": [
    {
     "name": "stdout",
     "output_type": "stream",
     "text": [
      "torch.Size([10, 3, 4])\n",
      "torch.Size([1, 10, 3, 4])\n"
     ]
    }
   ],
   "source": [
    "# https://pytorch.org/docs/stable/torch.html#torch.unsqueeze\n",
    "# torch.unsqueeze(input,dim=None) -> add dim by 1\n",
    "# squeeze와 반대로 unsqueeze를 통해 차원을 늘릴수 있습니다.\n",
    "\n",
    "x1 = torch.FloatTensor(10,3,4)\n",
    "x2 = torch.unsqueeze(x1,dim=0)\n",
    "\n",
    "print(x1.size(),x2.size(),sep=\"\\n\")"
   ]
  },
  {
   "cell_type": "markdown",
   "metadata": {
    "colab_type": "text",
    "id": "7F-8jix0as1a"
   },
   "source": [
    "## 3. Initialization\n",
    "- 텐서 값 초기화"
   ]
  },
  {
   "cell_type": "code",
   "execution_count": 27,
   "metadata": {
    "colab": {
     "base_uri": "https://localhost:8080/",
     "height": 170
    },
    "colab_type": "code",
    "executionInfo": {
     "elapsed": 857,
     "status": "ok",
     "timestamp": 1566738000453,
     "user": {
      "displayName": "Gunho Choi",
      "photoUrl": "https://lh3.googleusercontent.com/a-/AAuE7mBSqM0cFU5ZceEDo5gH8hXfSGh8z5BVTu5HgREceg=s64",
      "userId": "04388737836176863066"
     },
     "user_tz": -540
    },
    "id": "6jhxWPKJafxj",
    "outputId": "b12219d5-01f7-4041-d9d6-06e707c306bf"
   },
   "outputs": [
    {
     "data": {
      "text/plain": [
       "(tensor([[2.7964, 0.5791, 7.9576, 3.1357],\n",
       "         [5.0798, 3.0238, 4.4316, 2.2166],\n",
       "         [0.1232, 0.1668, 5.4055, 7.5189]]),\n",
       " tensor([[-0.0223, -0.1276, -0.1218, -0.3168],\n",
       "         [ 0.2625,  0.1122,  0.2551,  0.2158],\n",
       "         [-0.2849,  0.1506, -0.0209,  0.1337]]),\n",
       " tensor([[3.1415, 3.1415, 3.1415, 3.1415],\n",
       "         [3.1415, 3.1415, 3.1415, 3.1415],\n",
       "         [3.1415, 3.1415, 3.1415, 3.1415]]))"
      ]
     },
     "execution_count": 27,
     "metadata": {
      "tags": []
     },
     "output_type": "execute_result"
    }
   ],
   "source": [
    "# _(underbar) refers to in-place operation -> https://discuss.pytorch.org/t/what-is-in-place-operation/16244\n",
    "import torch.nn.init as init\n",
    "\n",
    "# https://pytorch.org/docs/stable/nn.html?highlight=init%20uniform#torch.nn.init.uniform_\n",
    "# uniform 분포를 따라 텐서를 초기화 할 수 있습니다.\n",
    "x1 = init.uniform_(torch.FloatTensor(3,4),a=0,b=9) \n",
    "\n",
    "# https://pytorch.org/docs/stable/nn.html?highlight=init%20uniform#torch.nn.init.normal_\n",
    "# 정규 분포를 따라 텐서를 초기화 할 수 있습니다.\n",
    "x2 = init.normal_(torch.FloatTensor(3,4),std=0.2)\n",
    "\n",
    "# https://pytorch.org/docs/stable/nn.html?highlight=init%20uniform#torch.nn.init.constant_\n",
    "# 지정한 값으로 텐서를 초기화 할 수 있습니다.\n",
    "x3 = init.constant_(torch.FloatTensor(3,4),3.1415)\n",
    "\n",
    "x1,x2,x3"
   ]
  },
  {
   "cell_type": "markdown",
   "metadata": {
    "colab_type": "text",
    "id": "OYy8PIzWb4gL"
   },
   "source": [
    "## 4. Math Operations"
   ]
  },
  {
   "cell_type": "markdown",
   "metadata": {
    "colab_type": "text",
    "id": "0Dp3uWbob4k8"
   },
   "source": [
    "### 1) Arithmetic operations\n"
   ]
  },
  {
   "cell_type": "code",
   "execution_count": 28,
   "metadata": {
    "colab": {
     "base_uri": "https://localhost:8080/",
     "height": 187
    },
    "colab_type": "code",
    "executionInfo": {
     "elapsed": 810,
     "status": "ok",
     "timestamp": 1566738028101,
     "user": {
      "displayName": "Gunho Choi",
      "photoUrl": "https://lh3.googleusercontent.com/a-/AAuE7mBSqM0cFU5ZceEDo5gH8hXfSGh8z5BVTu5HgREceg=s64",
      "userId": "04388737836176863066"
     },
     "user_tz": -540
    },
    "id": "r6Lm2oh9axf5",
    "outputId": "fedb21c3-71b4-4deb-dd60-5d2f32d9ef56"
   },
   "outputs": [
    {
     "name": "stdout",
     "output_type": "stream",
     "text": [
      "tensor([[1., 2., 3.],\n",
      "        [4., 5., 6.]])\n",
      "tensor([[1., 2., 3.],\n",
      "        [4., 5., 6.]])\n",
      "tensor([[ 2.,  4.,  6.],\n",
      "        [ 8., 10., 12.]])\n",
      "tensor([[ 2.,  4.,  6.],\n",
      "        [ 8., 10., 12.]])\n",
      "tensor([[0., 0., 0.],\n",
      "        [0., 0., 0.]])\n"
     ]
    }
   ],
   "source": [
    "# https://pytorch.org/docs/stable/torch.html?highlight=add#torch.add\n",
    "# torch.add()\n",
    "# 더하기 연산\n",
    "\n",
    "x1 = torch.FloatTensor([[1,2,3],[4,5,6]])\n",
    "x2 = torch.FloatTensor([[1,2,3],[4,5,6]])\n",
    "add = torch.add(x1,x2)\n",
    "\n",
    "print(x1,x2,add,x1+x2,x1-x2,sep=\"\\n\")"
   ]
  },
  {
   "cell_type": "code",
   "execution_count": 29,
   "metadata": {
    "colab": {
     "base_uri": "https://localhost:8080/",
     "height": 153
    },
    "colab_type": "code",
    "executionInfo": {
     "elapsed": 813,
     "status": "ok",
     "timestamp": 1566738041000,
     "user": {
      "displayName": "Gunho Choi",
      "photoUrl": "https://lh3.googleusercontent.com/a-/AAuE7mBSqM0cFU5ZceEDo5gH8hXfSGh8z5BVTu5HgREceg=s64",
      "userId": "04388737836176863066"
     },
     "user_tz": -540
    },
    "id": "zGZLEmTwcDdI",
    "outputId": "b253ba78-695d-4f3f-d94b-68a5a17fb989"
   },
   "outputs": [
    {
     "name": "stdout",
     "output_type": "stream",
     "text": [
      "tensor([[1., 2., 3.],\n",
      "        [4., 5., 6.]])\n",
      "tensor([[11., 12., 13.],\n",
      "        [14., 15., 16.]])\n",
      "tensor([[11., 12., 13.],\n",
      "        [14., 15., 16.]])\n",
      "tensor([[1., 2., 3.],\n",
      "        [4., 5., 6.]])\n"
     ]
    }
   ],
   "source": [
    "# torch.add() broadcasting\n",
    "# 더하기 연산의 브로드캐스팅\n",
    "\n",
    "x1 = torch.FloatTensor([[1,2,3],[4,5,6]])\n",
    "x2 = torch.add(x1,10)\n",
    "\n",
    "print(x1,x2,x1+10,x2-10,sep=\"\\n\")"
   ]
  },
  {
   "cell_type": "code",
   "execution_count": 30,
   "metadata": {
    "colab": {
     "base_uri": "https://localhost:8080/",
     "height": 51
    },
    "colab_type": "code",
    "executionInfo": {
     "elapsed": 890,
     "status": "ok",
     "timestamp": 1566738050449,
     "user": {
      "displayName": "Gunho Choi",
      "photoUrl": "https://lh3.googleusercontent.com/a-/AAuE7mBSqM0cFU5ZceEDo5gH8hXfSGh8z5BVTu5HgREceg=s64",
      "userId": "04388737836176863066"
     },
     "user_tz": -540
    },
    "id": "PlZifRXdcLdX",
    "outputId": "1fe4fa7f-d1a8-420c-9596-7945e869df2b"
   },
   "outputs": [
    {
     "data": {
      "text/plain": [
       "tensor([[ 1.,  4.,  9.],\n",
       "        [16., 25., 36.]])"
      ]
     },
     "execution_count": 30,
     "metadata": {
      "tags": []
     },
     "output_type": "execute_result"
    }
   ],
   "source": [
    "# https://pytorch.org/docs/stable/torch.html?highlight=add#torch.mul\n",
    "# torch.mul() -> element-wise multiplication \n",
    "# size better match\n",
    "# 곱하기 연산입니다. 각각의 요소간 곱이기 때문에 사이즈가 일치해야 연산이 가능합니다.\n",
    "\n",
    "x1 = torch.FloatTensor([[1,2,3],[4,5,6]])\n",
    "x2 = torch.FloatTensor([[1,2,3],[4,5,6]])\n",
    "x3 = torch.mul(x1,x2)\n",
    "\n",
    "x3"
   ]
  },
  {
   "cell_type": "code",
   "execution_count": 31,
   "metadata": {
    "colab": {
     "base_uri": "https://localhost:8080/",
     "height": 51
    },
    "colab_type": "code",
    "executionInfo": {
     "elapsed": 745,
     "status": "ok",
     "timestamp": 1566738055439,
     "user": {
      "displayName": "Gunho Choi",
      "photoUrl": "https://lh3.googleusercontent.com/a-/AAuE7mBSqM0cFU5ZceEDo5gH8hXfSGh8z5BVTu5HgREceg=s64",
      "userId": "04388737836176863066"
     },
     "user_tz": -540
    },
    "id": "FIcK3vblcWew",
    "outputId": "c992da7a-50e7-4b77-85e8-e8d53bf86b4e"
   },
   "outputs": [
    {
     "data": {
      "text/plain": [
       "tensor([[10., 20., 30.],\n",
       "        [40., 50., 60.]])"
      ]
     },
     "execution_count": 31,
     "metadata": {
      "tags": []
     },
     "output_type": "execute_result"
    }
   ],
   "source": [
    "# torch.mul() -> broadcasting\n",
    "# 곱하기 연산의 브로드캐스팅\n",
    "\n",
    "x1 = torch.FloatTensor([[1,2,3],[4,5,6]])\n",
    "x2 = x1*10\n",
    "\n",
    "x2"
   ]
  },
  {
   "cell_type": "code",
   "execution_count": 32,
   "metadata": {
    "colab": {
     "base_uri": "https://localhost:8080/",
     "height": 51
    },
    "colab_type": "code",
    "executionInfo": {
     "elapsed": 736,
     "status": "ok",
     "timestamp": 1566738064656,
     "user": {
      "displayName": "Gunho Choi",
      "photoUrl": "https://lh3.googleusercontent.com/a-/AAuE7mBSqM0cFU5ZceEDo5gH8hXfSGh8z5BVTu5HgREceg=s64",
      "userId": "04388737836176863066"
     },
     "user_tz": -540
    },
    "id": "H259cDMWcZIS",
    "outputId": "b66d7c42-b99b-4b33-d2f0-de517b6e282f"
   },
   "outputs": [
    {
     "data": {
      "text/plain": [
       "tensor([[1., 1., 1.],\n",
       "        [1., 1., 1.]])"
      ]
     },
     "execution_count": 32,
     "metadata": {
      "tags": []
     },
     "output_type": "execute_result"
    }
   ],
   "source": [
    "# https://pytorch.org/docs/stable/torch.html?highlight=add#torch.div\n",
    "# torch.div() -> size better match\n",
    "# 나누기 연산. 각각의 요소간 나누기이기 때문에 사이즈가 일치해야 연산이 가능합니다.\n",
    "\n",
    "x1 = torch.FloatTensor([[1,2,3],[4,5,6]])\n",
    "x2 = torch.FloatTensor([[1,2,3],[4,5,6]])\n",
    "x3 = torch.div(x1,x2)\n",
    "\n",
    "x3"
   ]
  },
  {
   "cell_type": "code",
   "execution_count": 33,
   "metadata": {
    "colab": {
     "base_uri": "https://localhost:8080/",
     "height": 51
    },
    "colab_type": "code",
    "executionInfo": {
     "elapsed": 774,
     "status": "ok",
     "timestamp": 1566738071107,
     "user": {
      "displayName": "Gunho Choi",
      "photoUrl": "https://lh3.googleusercontent.com/a-/AAuE7mBSqM0cFU5ZceEDo5gH8hXfSGh8z5BVTu5HgREceg=s64",
      "userId": "04388737836176863066"
     },
     "user_tz": -540
    },
    "id": "wYx33c0eceEX",
    "outputId": "73757041-ab40-4dfe-faf3-53988c8ae97d"
   },
   "outputs": [
    {
     "data": {
      "text/plain": [
       "tensor([[0.2000, 0.4000, 0.6000],\n",
       "        [0.8000, 1.0000, 1.2000]])"
      ]
     },
     "execution_count": 33,
     "metadata": {
      "tags": []
     },
     "output_type": "execute_result"
    }
   ],
   "source": [
    "# torch.div() -> broadcasting\n",
    "# 나누기 연산의 브로드캐스팅\n",
    "\n",
    "x1 = torch.FloatTensor([[1,2,3],[4,5,6]])\n",
    "x1/5"
   ]
  },
  {
   "cell_type": "markdown",
   "metadata": {
    "colab_type": "text",
    "id": "g8pSePric79F"
   },
   "source": [
    "### 2) Other Operations"
   ]
  },
  {
   "cell_type": "code",
   "execution_count": 34,
   "metadata": {
    "colab": {
     "base_uri": "https://localhost:8080/",
     "height": 119
    },
    "colab_type": "code",
    "executionInfo": {
     "elapsed": 627,
     "status": "ok",
     "timestamp": 1566738077865,
     "user": {
      "displayName": "Gunho Choi",
      "photoUrl": "https://lh3.googleusercontent.com/a-/AAuE7mBSqM0cFU5ZceEDo5gH8hXfSGh8z5BVTu5HgREceg=s64",
      "userId": "04388737836176863066"
     },
     "user_tz": -540
    },
    "id": "SGuMrlFkcgsH",
    "outputId": "d5b02310-ff52-4ccf-bf5c-6772bb04fdfc"
   },
   "outputs": [
    {
     "data": {
      "text/plain": [
       "(tensor([[0.0000e+00, 0.0000e+00, 0.0000e+00, 0.0000e+00],\n",
       "         [       nan, 0.0000e+00, 1.6868e-15, 1.0853e-17],\n",
       "         [2.8730e-15,        inf, 4.5243e-14,        inf]]),\n",
       " tensor([[0.0000e+00, 0.0000e+00, 0.0000e+00, 0.0000e+00],\n",
       "         [       nan, 0.0000e+00, 1.6868e-15, 1.0853e-17],\n",
       "         [2.8730e-15,        inf, 4.5243e-14,        inf]]))"
      ]
     },
     "execution_count": 34,
     "metadata": {
      "tags": []
     },
     "output_type": "execute_result"
    }
   ],
   "source": [
    "# https://pytorch.org/docs/stable/torch.html?highlight=add#torch.pow\n",
    "# torch.pow(input,exponent)\n",
    "# 파워 연산(x의 n승)\n",
    "\n",
    "x1 = torch.FloatTensor(3,4)\n",
    "torch.pow(x1,2),x1**2"
   ]
  },
  {
   "cell_type": "code",
   "execution_count": 35,
   "metadata": {
    "colab": {
     "base_uri": "https://localhost:8080/",
     "height": 68
    },
    "colab_type": "code",
    "executionInfo": {
     "elapsed": 714,
     "status": "ok",
     "timestamp": 1566738089233,
     "user": {
      "displayName": "Gunho Choi",
      "photoUrl": "https://lh3.googleusercontent.com/a-/AAuE7mBSqM0cFU5ZceEDo5gH8hXfSGh8z5BVTu5HgREceg=s64",
      "userId": "04388737836176863066"
     },
     "user_tz": -540
    },
    "id": "IBRin_yZcmAf",
    "outputId": "b539bee6-7986-4ac0-ac75-756e412de751"
   },
   "outputs": [
    {
     "data": {
      "text/plain": [
       "tensor([[1.0000, 1.0000, 1.0000, 1.0000],\n",
       "        [   nan, 1.0000, 1.0000, 1.0000],\n",
       "        [1.0000,    inf, 1.0000,    inf]])"
      ]
     },
     "execution_count": 35,
     "metadata": {
      "tags": []
     },
     "output_type": "execute_result"
    }
   ],
   "source": [
    "# https://pytorch.org/docs/stable/torch.html?highlight=add#torch.exp\n",
    "# torch.exp(tensor,out=None) \n",
    "# exponential 연산\n",
    "\n",
    "x1 = torch.FloatTensor(3,4)\n",
    "torch.exp(x1)"
   ]
  },
  {
   "cell_type": "code",
   "execution_count": 36,
   "metadata": {
    "colab": {
     "base_uri": "https://localhost:8080/",
     "height": 68
    },
    "colab_type": "code",
    "executionInfo": {
     "elapsed": 671,
     "status": "ok",
     "timestamp": 1566738094146,
     "user": {
      "displayName": "Gunho Choi",
      "photoUrl": "https://lh3.googleusercontent.com/a-/AAuE7mBSqM0cFU5ZceEDo5gH8hXfSGh8z5BVTu5HgREceg=s64",
      "userId": "04388737836176863066"
     },
     "user_tz": -540
    },
    "id": "K5TD_dDxcqmX",
    "outputId": "7a4de523-a7a9-426c-bd8d-d6a9d0aa3187"
   },
   "outputs": [
    {
     "data": {
      "text/plain": [
       "tensor([[     nan,     -inf, -99.8132,     -inf],\n",
       "        [     nan,     -inf, -17.0080, -19.5310],\n",
       "        [-16.7417,  48.1868, -15.3634,  48.4053]])"
      ]
     },
     "execution_count": 36,
     "metadata": {
      "tags": []
     },
     "output_type": "execute_result"
    }
   ],
   "source": [
    "# https://pytorch.org/docs/stable/torch.html?highlight=add#torch.log\n",
    "# torch.log(input, out=None) -> natural logarithm\n",
    "# 로그 연산\n",
    "\n",
    "x1 = torch.FloatTensor(3,4)\n",
    "torch.log(x1)"
   ]
  },
  {
   "cell_type": "markdown",
   "metadata": {
    "colab_type": "text",
    "id": "Gu7pa4-vcupm"
   },
   "source": [
    "### 3) Matrix Operations"
   ]
  },
  {
   "cell_type": "code",
   "execution_count": 37,
   "metadata": {
    "colab": {
     "base_uri": "https://localhost:8080/",
     "height": 68
    },
    "colab_type": "code",
    "executionInfo": {
     "elapsed": 737,
     "status": "ok",
     "timestamp": 1566738102753,
     "user": {
      "displayName": "Gunho Choi",
      "photoUrl": "https://lh3.googleusercontent.com/a-/AAuE7mBSqM0cFU5ZceEDo5gH8hXfSGh8z5BVTu5HgREceg=s64",
      "userId": "04388737836176863066"
     },
     "user_tz": -540
    },
    "id": "uYlLZW3rcsHN",
    "outputId": "d4b519e2-cb01-4c87-8c29-b93ce62052f7"
   },
   "outputs": [
    {
     "data": {
      "text/plain": [
       "tensor([[ 7.1466e-44,  0.0000e+00,         nan,  0.0000e+00,  0.0000e+00],\n",
       "        [        nan,         nan,         nan,         nan,         nan],\n",
       "        [ 3.8561e-20,  0.0000e+00,         nan,  0.0000e+00, -3.5468e-34]])"
      ]
     },
     "execution_count": 37,
     "metadata": {
      "tags": []
     },
     "output_type": "execute_result"
    }
   ],
   "source": [
    "# https://pytorch.org/docs/stable/torch.html?highlight=add#torch.mm\n",
    "# torch.mm(mat1, mat2) -> matrix multiplication\n",
    "# 행렬곱 연산\n",
    "\n",
    "x1 = torch.FloatTensor(3,4)\n",
    "x2 = torch.FloatTensor(4,5)\n",
    "\n",
    "torch.mm(x1,x2)"
   ]
  },
  {
   "cell_type": "code",
   "execution_count": 38,
   "metadata": {
    "colab": {
     "base_uri": "https://localhost:8080/",
     "height": 34
    },
    "colab_type": "code",
    "executionInfo": {
     "elapsed": 615,
     "status": "ok",
     "timestamp": 1566738121108,
     "user": {
      "displayName": "Gunho Choi",
      "photoUrl": "https://lh3.googleusercontent.com/a-/AAuE7mBSqM0cFU5ZceEDo5gH8hXfSGh8z5BVTu5HgREceg=s64",
      "userId": "04388737836176863066"
     },
     "user_tz": -540
    },
    "id": "8wBC9yu-dCOs",
    "outputId": "e8cb6889-e410-465d-a38d-9db0f538c3bf"
   },
   "outputs": [
    {
     "data": {
      "text/plain": [
       "torch.Size([10, 3, 5])"
      ]
     },
     "execution_count": 38,
     "metadata": {
      "tags": []
     },
     "output_type": "execute_result"
    }
   ],
   "source": [
    "# https://pytorch.org/docs/stable/torch.html?highlight=add#torch.bmm\n",
    "# torch.bmm(batch1, batch2) -> batch matrix multiplication\n",
    "# 배치 행렬곱 연산. 맨 앞에 batch 차원은 무시하고 뒤에 요소들로 행렬곱을 합니다.\n",
    "\n",
    "x1 = torch.FloatTensor(10,3,4)\n",
    "x2 = torch.FloatTensor(10,4,5)\n",
    "\n",
    "torch.bmm(x1,x2).size()"
   ]
  },
  {
   "cell_type": "code",
   "execution_count": 39,
   "metadata": {
    "colab": {
     "base_uri": "https://localhost:8080/",
     "height": 34
    },
    "colab_type": "code",
    "executionInfo": {
     "elapsed": 645,
     "status": "ok",
     "timestamp": 1566738129476,
     "user": {
      "displayName": "Gunho Choi",
      "photoUrl": "https://lh3.googleusercontent.com/a-/AAuE7mBSqM0cFU5ZceEDo5gH8hXfSGh8z5BVTu5HgREceg=s64",
      "userId": "04388737836176863066"
     },
     "user_tz": -540
    },
    "id": "FLXBqKXDdEbT",
    "outputId": "88ee710d-590f-4dbf-c371-751a05c3ac32"
   },
   "outputs": [
    {
     "data": {
      "text/plain": [
       "tensor(7)"
      ]
     },
     "execution_count": 39,
     "metadata": {
      "tags": []
     },
     "output_type": "execute_result"
    }
   ],
   "source": [
    "# https://pytorch.org/docs/stable/torch.html?highlight=add#torch.dot\n",
    "# torch.dot(tensor1,tensor2) -> dot product of two tensor\n",
    "# 두 텐서간의 프로덕트 연산\n",
    "\n",
    "x1 = torch.tensor([2, 3])\n",
    "x2 = torch.tensor([2, 1])\n",
    "\n",
    "torch.dot(x1,x2)"
   ]
  },
  {
   "cell_type": "code",
   "execution_count": 40,
   "metadata": {
    "colab": {
     "base_uri": "https://localhost:8080/",
     "height": 85
    },
    "colab_type": "code",
    "executionInfo": {
     "elapsed": 701,
     "status": "ok",
     "timestamp": 1566738137770,
     "user": {
      "displayName": "Gunho Choi",
      "photoUrl": "https://lh3.googleusercontent.com/a-/AAuE7mBSqM0cFU5ZceEDo5gH8hXfSGh8z5BVTu5HgREceg=s64",
      "userId": "04388737836176863066"
     },
     "user_tz": -540
    },
    "id": "4GBgAGUidGj-",
    "outputId": "f80d759c-77ab-4ba9-ddd7-02809852e0ff"
   },
   "outputs": [
    {
     "name": "stdout",
     "output_type": "stream",
     "text": [
      "tensor([[1, 2],\n",
      "        [3, 4]])\n",
      "tensor([[1, 3],\n",
      "        [2, 4]])\n"
     ]
    }
   ],
   "source": [
    "# https://pytorch.org/docs/stable/torch.html?highlight=add#torch.t\n",
    "# torch.t(matrix) -> transposed matrix\n",
    "# 행렬의 전치\n",
    "\n",
    "x1 = torch.tensor([[1,2],[3,4]])\n",
    "print(x1,x1.t(),sep=\"\\n\")"
   ]
  },
  {
   "cell_type": "code",
   "execution_count": 41,
   "metadata": {
    "colab": {
     "base_uri": "https://localhost:8080/",
     "height": 68
    },
    "colab_type": "code",
    "executionInfo": {
     "elapsed": 789,
     "status": "ok",
     "timestamp": 1566738149450,
     "user": {
      "displayName": "Gunho Choi",
      "photoUrl": "https://lh3.googleusercontent.com/a-/AAuE7mBSqM0cFU5ZceEDo5gH8hXfSGh8z5BVTu5HgREceg=s64",
      "userId": "04388737836176863066"
     },
     "user_tz": -540
    },
    "id": "Zq5mYNlOdmgv",
    "outputId": "eb641d43-ffad-463d-c128-9fdcfadceec3"
   },
   "outputs": [
    {
     "name": "stdout",
     "output_type": "stream",
     "text": [
      "torch.Size([10, 3, 4])\n",
      "torch.Size([10, 4, 3])\n",
      "torch.Size([10, 4, 3])\n"
     ]
    }
   ],
   "source": [
    "# https://pytorch.org/docs/stable/torch.html?highlight=add#torch.transpose\n",
    "# torch.transpose(input,dim0,dim1) -> transposed matrix\n",
    "# 차원을 지정할 수 있는 행렬의 전치 연산\n",
    "\n",
    "x1 = torch.FloatTensor(10,3,4)\n",
    "print(x1.size(), torch.transpose(x1,1,2).size(), x1.transpose(1,2).size(),sep=\"\\n\")"
   ]
  },
  {
   "cell_type": "code",
   "execution_count": 0,
   "metadata": {
    "colab": {},
    "colab_type": "code",
    "id": "Iy7BdNzx3uyz"
   },
   "outputs": [],
   "source": []
  }
 ],
 "metadata": {
  "accelerator": "GPU",
  "colab": {
   "collapsed_sections": [],
   "name": "[참고] 알아두면 좋은 기본 텐서 연산들.ipynb",
   "provenance": [],
   "version": "0.3.2"
  },
  "kernelspec": {
   "display_name": "Python 3 (ipykernel)",
   "language": "python",
   "name": "python3"
  },
  "language_info": {
   "codemirror_mode": {
    "name": "ipython",
    "version": 3
   },
   "file_extension": ".py",
   "mimetype": "text/x-python",
   "name": "python",
   "nbconvert_exporter": "python",
   "pygments_lexer": "ipython3",
   "version": "3.9.12"
  }
 },
 "nbformat": 4,
 "nbformat_minor": 1
}
