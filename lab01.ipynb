{
 "cells": [
  {
   "cell_type": "markdown",
   "metadata": {},
   "source": [
    "# 구문 분석: Part I - formal grammar \n",
    "---\n",
    "All rights reserved, 2021,2022 By Youn-Sik Hong. 수업 목적으로만 활용 가능."
   ]
  },
  {
   "cell_type": "markdown",
   "metadata": {},
   "source": [
    "- 참고 사이트 \n",
    "    - https://www.nltk.org/book/ch08.html\n",
    "    - nltk book 8.Analyzing sentence structure() 내용 참고. \n",
    "        - 8장 예제 인용.\n",
    "- 참고 서적\n",
    "    - Natural Language Processing with Python Cookbook\n",
    "        - Krishna Bhavsar, Naresh Kumar, Pratap Dangeti, Packt Publishing, 2017.\n",
    "    - Chapter 6, Chapter 7의 예제 일부 사용."
   ]
  },
  {
   "cell_type": "markdown",
   "metadata": {},
   "source": [
    "여기서 다룰 내용은 다음과 같습니다.\n",
    "- 다양한 문장 구조를 표현하려면 형식 문법을 어떻게 사용하면 될까? \n",
    "- 구문 트리를 사용하여 문장 구조를 어떻게 보여줄 수 있을까?\n",
    "- 파서가 문장을 어떻게 분석하고, 구문 트리를 자동으로 만들어 낼까?"
   ]
  },
  {
   "cell_type": "code",
   "execution_count": 97,
   "metadata": {},
   "outputs": [],
   "source": [
    "import nltk, re\n",
    "import sys, string"
   ]
  },
  {
   "cell_type": "markdown",
   "metadata": {},
   "source": [
    "## 1.   형식 문법(formal grammar)"
   ]
  },
  {
   "cell_type": "markdown",
   "metadata": {},
   "source": [
    "### 1.1  문법과 생성 규칙\n",
    "\n",
    "언어란 (문법에 맞는) 문장의 방대한 집합입니다. \n",
    "- **형식 문법**은 문장을 생성하는 규칙을 정의합니다.\n",
    "- 형식 문법은 이 집합의 원소인 문장을 **생성(generate)** 하는 형식을 갖춘 표기법입니다.\n",
    "    - 문법은 대부분 **S → S and S** 와 같은 순환 생성 규칙으로 이루어집니다.\n",
    "    - 문법에 속한 각 부분의 의미 분석을 통해 문장의 의미를 유추할 수 있습니다."
   ]
  },
  {
   "cell_type": "markdown",
   "metadata": {},
   "source": [
    "간단한 문법 예제를 통해 문법이 문장을 어떻게 생성할 수 있는지 알아보겠습니다.\n",
    "- 생성 규칙(prouction)은 문자열(*str*) 리스트로 표현. \n",
    "    - ' '은 빈 문자열(empty string)을 가리킴. \n",
    "    - 빈 문자열은 길이가 0인 문자열(즉 생략 가능)."
   ]
  },
  {
   "cell_type": "code",
   "execution_count": 98,
   "metadata": {},
   "outputs": [],
   "source": [
    "productions = [ # python list\n",
    "    \"ROOT -> WORD\",\n",
    "    \"WORD -> ' '\",  # empty string\n",
    "    \"WORD -> NUMBER LETTER\",\n",
    "    \"WORD -> LETTER\"\n",
    "]"
   ]
  },
  {
   "cell_type": "markdown",
   "metadata": {},
   "source": [
    "- 단계 1: join()을 사용하여 모든 생성 규칙을 하나의 문자열(*grammarString*)로 합침.\n",
    "- 단계 2: 문법(*gr*)을 생성하기 위해 **nltk.CFG.fromstring()** 호출.\n",
    "- 각각의 type을 눈여겨 보기 바랍니다."
   ]
  },
  {
   "cell_type": "code",
   "execution_count": 99,
   "metadata": {},
   "outputs": [
    {
     "name": "stdout",
     "output_type": "stream",
     "text": [
      "<class 'list'> <class 'str'> <class 'nltk.grammar.CFG'>\n"
     ]
    }
   ],
   "source": [
    "grammarString = \"\\n\".join(productions)\n",
    "gr = nltk.CFG.fromstring(grammarString)\n",
    "print(type(productions), type(grammarString), type(gr))"
   ]
  },
  {
   "cell_type": "markdown",
   "metadata": {},
   "source": [
    "- 문법 gr은 생성규칙이 4개이며, start symbol은 ROOT.\n",
    "    - gr.start() : start symbol of the grammar"
   ]
  },
  {
   "cell_type": "code",
   "execution_count": 100,
   "metadata": {},
   "outputs": [
    {
     "name": "stdout",
     "output_type": "stream",
     "text": [
      "Grammar with 4 productions (start state = ROOT)\n",
      "    ROOT -> WORD\n",
      "    WORD -> ' '\n",
      "    WORD -> NUMBER LETTER\n",
      "    WORD -> LETTER\n",
      "ROOT\n"
     ]
    }
   ],
   "source": [
    "print(gr) \n",
    "print(gr.start()) "
   ]
  },
  {
   "cell_type": "markdown",
   "metadata": {},
   "source": [
    "- gr.productions()\\[1\\].lhs(): lhs-left hand side(lhs) of the 2nd production\n",
    "- gr.productions()\\[2\\].rhs(): rhs-right hand side(rhs) of the 3rd production"
   ]
  },
  {
   "cell_type": "code",
   "execution_count": 101,
   "metadata": {},
   "outputs": [
    {
     "name": "stdout",
     "output_type": "stream",
     "text": [
      "[ROOT -> WORD, WORD -> ' ', WORD -> NUMBER LETTER, WORD -> LETTER]\n",
      "WORD\n",
      "(NUMBER, LETTER)\n"
     ]
    }
   ],
   "source": [
    "print(gr.productions())\n",
    "print(gr.productions()[1].lhs()) \n",
    "print(gr.productions()[2].rhs()) "
   ]
  },
  {
   "cell_type": "markdown",
   "metadata": {},
   "source": [
    "문법의 4가지 구성 요소 중 아직 terminal이 없습니다. 문장(sentence)은 terminal 기호로만 이루어기 때문에 terminal을 추가해야 합니다. 숫자 3개(0,1,2)와 문자 3개(a, b, c)를 terminal로 추가해 보겠습니다."
   ]
  },
  {
   "cell_type": "code",
   "execution_count": 102,
   "metadata": {},
   "outputs": [
    {
     "name": "stdout",
     "output_type": "stream",
     "text": [
      "0123456789\n",
      "abcdefghijklmnopqrstuvwxyz\n"
     ]
    }
   ],
   "source": [
    "print(string.digits)\n",
    "print(string.ascii_lowercase)"
   ]
  },
  {
   "cell_type": "markdown",
   "metadata": {},
   "source": [
    "- **NUMBER, LETTER**가 terminal을 생성하도록 하면 됩니다. \n",
    "    - 문자 상수, 숫자 상수는 따옴표(apstrophe)로 묶어야 합니다. \n",
    "        - 이를 *literal* 이라고 부릅니다.\n",
    "    - 생성 규칙의 lhs 기호가 같을 경우 \n",
    "        - '|'(vertical bar)를 사용하여 묶을 수 있습니다."
   ]
  },
  {
   "cell_type": "code",
   "execution_count": 103,
   "metadata": {},
   "outputs": [
    {
     "data": {
      "text/plain": [
       "[\"NUMBER -> '0'\", \"NUMBER -> '1'\", \"NUMBER -> '2'\"]"
      ]
     },
     "execution_count": 103,
     "metadata": {},
     "output_type": "execute_result"
    }
   ],
   "source": [
    "digits = list(string.digits)\n",
    "\n",
    "#숫자 상수 0, 1, 2를 NUMBER 의 생성규칙에 추가\n",
    "#상수는 따옴표('')로 묶어야 함.\n",
    "for digit in digits[:3]:\n",
    "    productions.append(\"NUMBER -> '{w}'\".format(w=digit)) \n",
    "productions[-3:]    "
   ]
  },
  {
   "cell_type": "markdown",
   "metadata": {},
   "source": [
    "\n",
    "'|'를 사용해 lhs가 같다면 여러 개 생성규칙을 함께 묶을 수 있습니다."
   ]
  },
  {
   "cell_type": "code",
   "execution_count": 104,
   "metadata": {},
   "outputs": [
    {
     "data": {
      "text/plain": [
       "[\"NUMBER -> '1'\", \"NUMBER -> '2'\", \"LETTER -> 'a' | 'b' | 'c'\"]"
      ]
     },
     "execution_count": 104,
     "metadata": {},
     "output_type": "execute_result"
    }
   ],
   "source": [
    "letters = \"' | '\".join(list(string.ascii_lowercase[:3]))    \n",
    "productions.append(\"LETTER -> '{w}'\".format(w=letters)) \n",
    "productions[-3:]  "
   ]
  },
  {
   "cell_type": "markdown",
   "metadata": {},
   "source": [
    "- 처음에 4개의 규칙만 있었지만, \n",
    "    - **NUMBER**와 **LETTER**에 관한 규칙을 각각 3개씩 추가해 \n",
    "    - 모두 10개의 규칙을 갖게 되었습니다."
   ]
  },
  {
   "cell_type": "code",
   "execution_count": 105,
   "metadata": {},
   "outputs": [
    {
     "data": {
      "text/plain": [
       "['ROOT -> WORD',\n",
       " \"WORD -> ' '\",\n",
       " 'WORD -> NUMBER LETTER',\n",
       " 'WORD -> LETTER',\n",
       " \"NUMBER -> '0'\",\n",
       " \"NUMBER -> '1'\",\n",
       " \"NUMBER -> '2'\",\n",
       " \"LETTER -> 'a' | 'b' | 'c'\"]"
      ]
     },
     "execution_count": 105,
     "metadata": {},
     "output_type": "execute_result"
    }
   ],
   "source": [
    "productions"
   ]
  },
  {
   "cell_type": "markdown",
   "metadata": {},
   "source": [
    "- 문법은 구문 분석 과정에서 구문 트리로 표현할 수 있습니다.\n",
    "- 구문 트리는 한 개의 root를 갖습니다. \n",
    "    - 이 문법의 root는 첫 번째 규칙의 lhs인 **ROOT**입니다."
   ]
  },
  {
   "cell_type": "code",
   "execution_count": 106,
   "metadata": {},
   "outputs": [
    {
     "name": "stdout",
     "output_type": "stream",
     "text": [
      "Grammar with 10 productions (start state = ROOT)\n",
      "    ROOT -> WORD\n",
      "    WORD -> ' '\n",
      "    WORD -> NUMBER LETTER\n",
      "    WORD -> LETTER\n",
      "    NUMBER -> '0'\n",
      "    NUMBER -> '1'\n",
      "    NUMBER -> '2'\n",
      "    LETTER -> 'a'\n",
      "    LETTER -> 'b'\n",
      "    LETTER -> 'c'\n"
     ]
    }
   ],
   "source": [
    "grammarRules = \"\\n\".join(productions)\n",
    "gr = nltk.CFG.fromstring(grammarRules)\n",
    "print(gr)"
   ]
  },
  {
   "cell_type": "markdown",
   "metadata": {},
   "source": [
    "### 1.2  문장 생성(generate) \n",
    "\n",
    "구문 분석기(**RecursiveDescentParser**)를 실행하면 구문 트리가 만들어집니다.\n",
    "- 구문 분석을 하기 위한 입력으로 ['0', 'a']를 전달했습니다. \n",
    "    - 여기서 '0', 'a'는 문법에서 정의한 **token**입니다.\n",
    "        - '0, a'와 같이 하나의 문자열로 입력하면 syntax error가 발생합니다. \n",
    "        - 왜 그럴까요? 에러 메시지를 보면서 확인해 보세요.\n",
    "- **tree.draw()**는 새 창(window)에 구문 트리를 출력합니다.\n",
    "    - tree를 print하면 중첩된 괄호 표기법으로 트리의 내용을 출력합니다.\n",
    "    - 창을 보고 나서 닫아야만 \\*(실행 중) 표시가 없어지고 셀 번호가 표시됩니다.\n",
    "- 트리에 관한 상세한 설명은 **1.4절** 참고"
   ]
  },
  {
   "cell_type": "code",
   "execution_count": 107,
   "metadata": {},
   "outputs": [
    {
     "name": "stdout",
     "output_type": "stream",
     "text": [
      "(ROOT (WORD (NUMBER 0) (LETTER a)))\n"
     ]
    }
   ],
   "source": [
    "parser = nltk.RecursiveDescentParser(gr)\n",
    "for tree in parser.parse(['0', 'a']):\n",
    "#for tree in parser.parse(['0, a']):\n",
    "    print(tree)\n",
    "    tree.draw()"
   ]
  },
  {
   "cell_type": "markdown",
   "metadata": {},
   "source": [
    "- 트리의 길이(depth)는 4입니다. \n",
    "- root에서 leaf까지 노드가 모두 4개이기 때문이죠."
   ]
  },
  {
   "cell_type": "code",
   "execution_count": 108,
   "metadata": {},
   "outputs": [
    {
     "name": "stdout",
     "output_type": "stream",
     "text": [
      "depth of tree = 4\n"
     ]
    }
   ],
   "source": [
    "print('depth of tree =', tree.height())"
   ]
  },
  {
   "cell_type": "markdown",
   "metadata": {},
   "source": [
    "주어진 문법이 어떤 문장을 생성하는지 모두 찾아보겠습니다. \n",
    "- 문장은 terminal 기호로만 구성되어야 합니다.\n",
    "- 생성 범위를 제한하기 위해 `depth`와 `n`을 지정합니다.\n",
    "    - **depth**는 구문 트리의 `depth`, **n**은 생성할 문장의 최대 갯수입니다.\n",
    "    - n을 15로 지정했지만 생성 가능한 문장 개수는 13개이며, \n",
    "        - 구문트리의 depth는 4입니다."
   ]
  },
  {
   "cell_type": "code",
   "execution_count": 109,
   "metadata": {},
   "outputs": [
    {
     "name": "stdout",
     "output_type": "stream",
     "text": [
      "0 >>> generated word:  , size: 1\n",
      "1 >>> generated word: 0a, size: 2\n",
      "2 >>> generated word: 0b, size: 2\n",
      "3 >>> generated word: 0c, size: 2\n",
      "4 >>> generated word: 1a, size: 2\n",
      "5 >>> generated word: 1b, size: 2\n",
      "6 >>> generated word: 1c, size: 2\n",
      "7 >>> generated word: 2a, size: 2\n",
      "8 >>> generated word: 2b, size: 2\n",
      "9 >>> generated word: 2c, size: 2\n",
      "10 >>> generated word: a, size: 1\n",
      "11 >>> generated word: b, size: 1\n",
      "12 >>> generated word: c, size: 1\n"
     ]
    }
   ],
   "source": [
    "from nltk.parse.generate import generate\n",
    "\n",
    "i = 0\n",
    "for sent in generate(gr, n=15, depth=4):  \n",
    "    sents = \"\".join(sent)\n",
    "    print(\"{} >>> generated word: {}, size: {}\".format(i, sents, len(sents)))   \n",
    "    i += 1"
   ]
  },
  {
   "cell_type": "markdown",
   "metadata": {},
   "source": [
    "### Quiz 1\n",
    "\n",
    "- 슬라이드 7(강의노트(ch5-1))의 문법을 nltk의 fromstring()을 사용해 정의\n",
    "    - 단, digit는 4개 숫자(0, 1, 2, 3)로 제한.\n",
    "- RecursiveDescentParser와 generate()를 사용하여 문장 생성\n",
    "    - 이 문법이 생성할 수 있는  모든 문장을 생성할 것."
   ]
  },
  {
   "cell_type": "code",
   "execution_count": 123,
   "metadata": {},
   "outputs": [
    {
     "name": "stdout",
     "output_type": "stream",
     "text": [
      "1. >>> generated word: 0+0+0, size: 5\n",
      "2. >>> generated word: 0+0+1, size: 5\n",
      "3. >>> generated word: 0+0+2, size: 5\n",
      "4. >>> generated word: 0+0+3, size: 5\n",
      "5. >>> generated word: 0+1+0, size: 5\n",
      "6. >>> generated word: 0+1+1, size: 5\n",
      "7. >>> generated word: 0+1+2, size: 5\n",
      "8. >>> generated word: 0+1+3, size: 5\n",
      "9. >>> generated word: 0+2+0, size: 5\n",
      "10. >>> generated word: 0+2+1, size: 5\n",
      "11. >>> generated word: 0+2+2, size: 5\n",
      "12. >>> generated word: 0+2+3, size: 5\n",
      "13. >>> generated word: 0+3+0, size: 5\n",
      "14. >>> generated word: 0+3+1, size: 5\n",
      "15. >>> generated word: 0+3+2, size: 5\n",
      "16. >>> generated word: 0+3+3, size: 5\n",
      "17. >>> generated word: 1+0+0, size: 5\n",
      "18. >>> generated word: 1+0+1, size: 5\n",
      "19. >>> generated word: 1+0+2, size: 5\n",
      "20. >>> generated word: 1+0+3, size: 5\n"
     ]
    }
   ],
   "source": [
    "# quiz 1에 대한 코드를 추가하세요\n",
    "\n",
    "#생성 규칙 만들기 \n",
    "productions = [ \n",
    "    \"list -> list '+' digit\",\n",
    "    \"list -> list '-' digit\",\n",
    "    \"list -> digit\"\n",
    "]\n",
    "\n",
    "\n",
    "#digit 4개의 숫자 (0,1,2,3) 추가하기 \n",
    "digits = list(string.digits)\n",
    "for digit in digits[:4]:\n",
    "    productions.append(\"digit -> '{w}'\".format(w=digit))\n",
    "    \n",
    "    \n",
    "grammarString = \"\\n\".join(productions)\n",
    "gr = nltk.CFG.fromstring(grammarString)\n",
    "i = 0\n",
    "#만든 생성 규칙에 맞는 문장 20개 출력 \n",
    "for sent in generate(gr, n=20, depth = 5): \n",
    "    sents = \"\".join(sent)\n",
    "    print(\"{}. >>> generated word: {}, size: {}\".format(i+1, sents, len(sents)))   \n",
    "    i += 1"
   ]
  },
  {
   "cell_type": "markdown",
   "metadata": {},
   "source": [
    "### 1.3   모호(Ambiguity) \n",
    "\n",
    "형식 문법에서 가장 다루기 힘든 것은 모호한 문장을 분석할 때입니다. 문장이 모호(ambiguity)하다는 게 뭘까요? 형식 언어는 dangling-else 문제처럼 제한된 경우에만 모호함이 발생하지만, 자연 언어는 언제든 다양한 형태로 모호함이 발생할 수 있습니다. 문장 구조를 제대로 파악하지 못하면 문장 의미도 엉뚱하게 해석될 수 밖에 없습니다. 아래 문장은 Groucho Mark가 주인공으로 나온 영화 'Animal Cracker'(1930)에서 나온 대사입니다. 그래서 문법 이름이 grocho_grammar 입니다.\n",
    "- \"I shot an elephant in my pajamas.\" \n",
    "- 이 문장의 모호함에 대해 살펴보겠습니다. \n",
    "    - 나는 잠옷에 그려진 코끼리를 (카메라로) 찍었다. \n",
    "        - 또는 잠옷에 그려진 코끼리를 (총으로) 쐈다. (코미디 영화이기 때문에 가능한 해석)\n",
    "    - 나는 파자마를 입은 채 코끼리를 (카메라로) 찍었다."
   ]
  },
  {
   "cell_type": "code",
   "execution_count": 16,
   "metadata": {},
   "outputs": [],
   "source": [
    "groucho_grammar = nltk.CFG.fromstring(\"\"\"\n",
    "S -> NP VP\n",
    "PP -> P NP\n",
    "NP -> Det N | Det N PP | 'I'\n",
    "VP -> V NP | VP PP\n",
    "Det -> 'an' | 'my'\n",
    "N -> 'elephant' | 'pajamas'\n",
    "V -> 'shot'\n",
    "P -> 'in'\n",
    "\"\"\")"
   ]
  },
  {
   "cell_type": "markdown",
   "metadata": {},
   "source": [
    "문장을 구문 분석할 경우 2가지 트리가 생성됩니다. \n",
    "- 구문 분석기로 ChartParser를 사용합니다. \n",
    "    - 참고로 ChartParser가 RecursiveDescentParser보다는 성능이 좋습니다.\n",
    "    - 구문 분석기에 관한 상세 내용은 다음 실습 파일에서 제공됩니다.\n",
    "- \"in my pajamas\"란 전치사구가 사진 찍는 상태를 설명(첫 번째 트리) \n",
    "- \"in my pajamas\"란 전치사구가 코끼리를 수식하기 위해 사용(두 번째 트리)\n",
    "- 어떤 문장에 대해 2가지 구문 트리(syntax tree)를 생성한다는 것은 \n",
    "    - 문법이 모호함을 의미합니다. "
   ]
  },
  {
   "cell_type": "markdown",
   "metadata": {},
   "source": [
    "- 아래 예제에서 품사 약어는 다음과 같습니다.\n",
    "    - *NP*(명사구), *Adj*(형용사, adjective), *Conj*(접속사, conjuction), \n",
    "    - *N*(명사, noun), *PP*(부사구), *V*(동사, verb)"
   ]
  },
  {
   "cell_type": "code",
   "execution_count": 17,
   "metadata": {},
   "outputs": [
    {
     "name": "stdout",
     "output_type": "stream",
     "text": [
      "(S\n",
      "  (NP I)\n",
      "  (VP\n",
      "    (VP (V shot) (NP (Det an) (N elephant)))\n",
      "    (PP (P in) (NP (Det my) (N pajamas)))))\n",
      "(S\n",
      "  (NP I)\n",
      "  (VP\n",
      "    (V shot)\n",
      "    (NP (Det an) (N elephant) (PP (P in) (NP (Det my) (N pajamas))))))\n"
     ]
    }
   ],
   "source": [
    "sent = ['I', 'shot', 'an', 'elephant', 'in', 'my', 'pajamas']\n",
    "parser = nltk.ChartParser(groucho_grammar)\n",
    "for tree in parser.parse(sent):\n",
    "    print(tree)\n",
    "    #tree.draw()"
   ]
  },
  {
   "cell_type": "markdown",
   "metadata": {},
   "source": [
    "**어휘 모호성(lexical ambiguity)** \n",
    "- 단어가 중의적 의미(double meaning)를 갖고 있는 경우\n",
    "    - *I went to the bank.* \n",
    "- **bank**가 강둑(river bank) 또는 은행 중 어떤 의미인지는 \n",
    "- 이어지는 문장을 살펴봐야 합니다."
   ]
  },
  {
   "cell_type": "markdown",
   "metadata": {},
   "source": [
    "**형용사의 수식 대상이 모호**\n",
    "- 형용사의 수식 범위가 어디까지인지 명확하지 않은 경우입니다.\n",
    "- **old men and women**은 아래처럼 다르게 해석할 수 있기 때문입니다.\n",
    "    - a. old (men and women)\n",
    "    - b. (old men) and women\n",
    "- 각각에 대해 구문 트리를 출력하면 보다 명확히 확인할 수 있습니다."
   ]
  },
  {
   "cell_type": "code",
   "execution_count": 18,
   "metadata": {},
   "outputs": [],
   "source": [
    "from nltk import Tree"
   ]
  },
  {
   "cell_type": "code",
   "execution_count": 19,
   "metadata": {},
   "outputs": [],
   "source": [
    "s11 = '(NP (Adj old) (NP (N men) (Conj and) (N women)))'\n",
    "tree11 = Tree.fromstring(s11)\n",
    "tree11.draw()  "
   ]
  },
  {
   "cell_type": "code",
   "execution_count": 20,
   "metadata": {},
   "outputs": [],
   "source": [
    "s12 = '(NP (NP (Adj old) (N men)) (Conj and) (NP (N women)))'\n",
    "tree12 = Tree.fromstring(s12)\n",
    "tree12.draw()  "
   ]
  },
  {
   "cell_type": "markdown",
   "metadata": {},
   "source": [
    "**전치사구(prepositional phrases, PP) 해석이 모호**\n",
    "- **I saw the man with a telescope.** - 누가 망원경을 갖고 있을까? \n",
    "- 조금 더 분명히 하기 위해 아래 2개의 문장을 살펴보겠습니다.\n",
    "    - (괄호 안 내용은 문장을 부연 설명)\n",
    "    - a.The policeman saw a burglar with a gun. \n",
    "        - (not some other burglar)\n",
    "    - b.The policeman saw a burglar with a telescope. \n",
    "        - (not with his naked eye)\n",
    "- 2개 문장 모두 전치사구(**PP**)를 갖고 있습니다. \n",
    "- 위 주석대로 문장을 해석한다면 \n",
    "    - (a)에서는 PP가 명사 burglar를 수식하며, \n",
    "    - (b)에서는 PP가 동사 saw를 수식합니다.  "
   ]
  },
  {
   "cell_type": "code",
   "execution_count": 21,
   "metadata": {},
   "outputs": [],
   "source": [
    "s21 = '(S (NP the policeman) (VP (V saw) (NP (NP the burglar) (PP with a gun))))'\n",
    "s22 = '(S (NP the policeman) (VP (V saw) (NP the burglar) (PP with a telescope)))'"
   ]
  },
  {
   "cell_type": "code",
   "execution_count": 22,
   "metadata": {},
   "outputs": [],
   "source": [
    "tree21 = Tree.fromstring(s21)\n",
    "tree21.draw()\n",
    "tree22 = Tree.fromstring(s22)\n",
    "tree22.draw()"
   ]
  },
  {
   "cell_type": "code",
   "execution_count": 23,
   "metadata": {},
   "outputs": [
    {
     "data": {
      "text/plain": [
       "['the', 'policeman', 'saw', 'the', 'burglar', 'with', 'a', 'gun']"
      ]
     },
     "execution_count": 23,
     "metadata": {},
     "output_type": "execute_result"
    }
   ],
   "source": [
    "tree21.leaves()"
   ]
  },
  {
   "cell_type": "markdown",
   "metadata": {},
   "source": [
    "- tree의 leaf 노드는 왼쪽에서 오른쪽 방향으로 리스트에 저장되어 있습니다. \n",
    "- 위 2개 문장은 마지막 단어(gun, telescope)만 다릅니다. "
   ]
  },
  {
   "cell_type": "code",
   "execution_count": 24,
   "metadata": {},
   "outputs": [
    {
     "name": "stdout",
     "output_type": "stream",
     "text": [
      "gun telescope\n"
     ]
    },
    {
     "data": {
      "text/plain": [
       "True"
      ]
     },
     "execution_count": 24,
     "metadata": {},
     "output_type": "execute_result"
    }
   ],
   "source": [
    "print(tree21.leaves()[-1], tree22.leaves()[-1])\n",
    "tree21.leaves()[:-1] == tree22.leaves()[:-1]"
   ]
  },
  {
   "cell_type": "markdown",
   "metadata": {},
   "source": [
    "- 2개 문장은 **전치사구(PP)** 가 수식하는 대상이 다르기 때문에, \n",
    "- 문장 구조가 다르며, 따라서 구문 트리도 다릅니다."
   ]
  },
  {
   "cell_type": "code",
   "execution_count": 25,
   "metadata": {},
   "outputs": [
    {
     "name": "stdout",
     "output_type": "stream",
     "text": [
      "5 4\n"
     ]
    },
    {
     "data": {
      "text/plain": [
       "False"
      ]
     },
     "execution_count": 25,
     "metadata": {},
     "output_type": "execute_result"
    }
   ],
   "source": [
    "print(tree21.height(), tree22.height())\n",
    "tree21.height() == tree22.height()"
   ]
  },
  {
   "cell_type": "markdown",
   "metadata": {},
   "source": [
    "### 1.4 nltk에서 Tree 사용\n",
    "구문 분석 과정은 구문 트리로 시각화해서 나타낼 수 있습니다. "
   ]
  },
  {
   "cell_type": "markdown",
   "metadata": {},
   "source": [
    "Tree를 사용하려면 **from nltk import Tree** 문장을 선언해야 합니다."
   ]
  },
  {
   "cell_type": "code",
   "execution_count": 26,
   "metadata": {},
   "outputs": [],
   "source": [
    "from nltk import Tree"
   ]
  },
  {
   "cell_type": "markdown",
   "metadata": {},
   "source": [
    "괄호 표현에서 왼쪽 기호는 parent, 오른쪽 리스트는 child 가 됩니다."
   ]
  },
  {
   "cell_type": "code",
   "execution_count": 27,
   "metadata": {},
   "outputs": [
    {
     "name": "stdout",
     "output_type": "stream",
     "text": [
      "height=2, leaves=['John']\n",
      "(NP John)\n"
     ]
    }
   ],
   "source": [
    "tree = nltk.Tree('NP', ['John'])\n",
    "print(\"height={}, leaves={}\".format(tree.height(), tree.leaves()))\n",
    "print(tree)\n",
    "#tree.draw()"
   ]
  },
  {
   "cell_type": "code",
   "execution_count": 28,
   "metadata": {},
   "outputs": [
    {
     "name": "stdout",
     "output_type": "stream",
     "text": [
      "(NP the man)\n"
     ]
    }
   ],
   "source": [
    "tree2 = nltk.Tree('NP', ['the', 'man'])\n",
    "print(tree2)\n",
    "#tree2.draw()"
   ]
  },
  {
   "cell_type": "markdown",
   "metadata": {},
   "source": [
    "이미 만들어진 tree를 새롭게 만드는 tree의 child로 포함시킬 수 있습니다."
   ]
  },
  {
   "cell_type": "code",
   "execution_count": 29,
   "metadata": {},
   "outputs": [
    {
     "name": "stdout",
     "output_type": "stream",
     "text": [
      "(VP saw (NP the man))\n"
     ]
    }
   ],
   "source": [
    "tree3 = nltk.Tree('VP', ['saw', tree2])\n",
    "print(tree3)\n",
    "tree3.draw()"
   ]
  },
  {
   "cell_type": "code",
   "execution_count": 30,
   "metadata": {},
   "outputs": [
    {
     "name": "stdout",
     "output_type": "stream",
     "text": [
      "(S (NP John) (VP saw (NP the man)))\n"
     ]
    }
   ],
   "source": [
    "tree4 = nltk.Tree('S', [tree, tree3])\n",
    "print(tree4)\n",
    "tree4.draw()"
   ]
  },
  {
   "cell_type": "markdown",
   "metadata": {},
   "source": [
    "아래 코드를 실행하기 전에 tree4의 parse tree를 확인하기 바랍니다."
   ]
  },
  {
   "cell_type": "code",
   "execution_count": 31,
   "metadata": {},
   "outputs": [
    {
     "name": "stdout",
     "output_type": "stream",
     "text": [
      "(VP saw (NP the man))\n"
     ]
    }
   ],
   "source": [
    "print(tree4[1]) #root 노드의 2번째 child를 출력"
   ]
  },
  {
   "cell_type": "code",
   "execution_count": 32,
   "metadata": {},
   "outputs": [
    {
     "name": "stdout",
     "output_type": "stream",
     "text": [
      "<bound method Tree.label of Tree('VP', ['saw', Tree('NP', ['the', 'man'])])>\n"
     ]
    }
   ],
   "source": [
    "print(tree4[1].label) #root 노드의 2번째 child를 출력"
   ]
  },
  {
   "cell_type": "code",
   "execution_count": 33,
   "metadata": {},
   "outputs": [
    {
     "data": {
      "text/plain": [
       "['John', 'saw', 'the', 'man']"
      ]
     },
     "execution_count": 33,
     "metadata": {},
     "output_type": "execute_result"
    }
   ],
   "source": [
    "tree4.leaves() #tree4의 모든 leaf node를 출력"
   ]
  },
  {
   "cell_type": "code",
   "execution_count": 34,
   "metadata": {},
   "outputs": [
    {
     "data": {
      "text/plain": [
       "'man'"
      ]
     },
     "execution_count": 34,
     "metadata": {},
     "output_type": "execute_result"
    }
   ],
   "source": [
    "tree4[1,1,1] #root의 2번째(오른쪽) child의 2번째(오른쪽 child)를 출력"
   ]
  },
  {
   "cell_type": "code",
   "execution_count": 35,
   "metadata": {},
   "outputs": [
    {
     "data": {
      "text/plain": [
       "'saw'"
      ]
     },
     "execution_count": 35,
     "metadata": {},
     "output_type": "execute_result"
    }
   ],
   "source": [
    "#tree4[0,0]\n",
    "tree4[1,0]"
   ]
  }
 ],
 "metadata": {
  "kernelspec": {
   "display_name": "Python 3 (ipykernel)",
   "language": "python",
   "name": "python3"
  },
  "language_info": {
   "codemirror_mode": {
    "name": "ipython",
    "version": 3
   },
   "file_extension": ".py",
   "mimetype": "text/x-python",
   "name": "python",
   "nbconvert_exporter": "python",
   "pygments_lexer": "ipython3",
   "version": "3.9.7"
  }
 },
 "nbformat": 4,
 "nbformat_minor": 2
}
