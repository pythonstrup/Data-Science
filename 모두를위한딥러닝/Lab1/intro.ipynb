{
 "cells": [
  {
   "cell_type": "code",
   "execution_count": null,
   "id": "97e33627",
   "metadata": {},
   "outputs": [],
   "source": [
    "# Computational Graph"
   ]
  },
  {
   "cell_type": "code",
   "execution_count": 5,
   "id": "e10bcb63",
   "metadata": {},
   "outputs": [
    {
     "name": "stdout",
     "output_type": "stream",
     "text": [
      "node1: tf.Tensor(3.0, shape=(), dtype=float32) node2: tf.Tensor(4.0, shape=(), dtype=float32)\n",
      "node3:  tf.Tensor(7.0, shape=(), dtype=float32)\n"
     ]
    }
   ],
   "source": [
    "import tensorflow as tf\n",
    "\n",
    "# 2.x 버전에서는 Session이 따로 필요하지 않다.\n",
    "# 직관적으로 변함.\n",
    "\n",
    "node1 = tf.constant(3.0, tf.float32)\n",
    "node2 = tf.constant(4.0)\n",
    "node3 = tf.add(node1, node2)\n",
    "\n",
    "print(\"node1:\", node1, \"node2:\", node2)\n",
    "print(\"node3: \", node3)\n"
   ]
  },
  {
   "cell_type": "code",
   "execution_count": 6,
   "id": "009e027e",
   "metadata": {},
   "outputs": [
    {
     "name": "stdout",
     "output_type": "stream",
     "text": [
      "node1:  3.0 node2: 4.0\n",
      "node3:  7.0\n"
     ]
    }
   ],
   "source": [
    "print(\"node1: \", node1.numpy(), \"node2:\", node2.numpy())\n",
    "print(\"node3: \", node3.numpy())"
   ]
  },
  {
   "cell_type": "code",
   "execution_count": null,
   "id": "fdeec1e5",
   "metadata": {},
   "outputs": [],
   "source": [
    "# Placeholder"
   ]
  },
  {
   "cell_type": "code",
   "execution_count": 13,
   "id": "89e50f81",
   "metadata": {},
   "outputs": [
    {
     "name": "stdout",
     "output_type": "stream",
     "text": [
      "tf.Tensor(7.5, shape=(), dtype=float32)\n",
      "7.5\n",
      "[<tf.Tensor: shape=(), dtype=int32, numpy=1>, <tf.Tensor: shape=(), dtype=int32, numpy=3>, <tf.Tensor: shape=(), dtype=int32, numpy=2>, <tf.Tensor: shape=(), dtype=int32, numpy=4>]\n",
      "<class 'list'>\n"
     ]
    }
   ],
   "source": [
    "# TensorFlow 2.x 버전에서는 placeholder를 사용하지 않음\n",
    "# a = tf.placeholder(tf.float32)\n",
    "# b = tf.placeholder(tf.float32)\n",
    "# adder_node = a + b\n",
    "\n",
    "# 대신 @tf.function을 사용한다.\n",
    "\n",
    "@tf.function\n",
    "def adder_node(a, b):\n",
    "    return a + b\n",
    "\n",
    "print(adder_node(3, 4.5))\n",
    "print(adder_node(3, 4.5).numpy())\n",
    "\n",
    "# 예제와는 다르게 행렬을 요소를 더하지 않고 행렬을 append 해버린다.\n",
    "print(adder_node([1,3], [2,4]))"
   ]
  },
  {
   "cell_type": "code",
   "execution_count": null,
   "id": "f94a29b7",
   "metadata": {},
   "outputs": [],
   "source": []
  }
 ],
 "metadata": {
  "kernelspec": {
   "display_name": "Python 3 (ipykernel)",
   "language": "python",
   "name": "python3"
  },
  "language_info": {
   "codemirror_mode": {
    "name": "ipython",
    "version": 3
   },
   "file_extension": ".py",
   "mimetype": "text/x-python",
   "name": "python",
   "nbconvert_exporter": "python",
   "pygments_lexer": "ipython3",
   "version": "3.9.7"
  }
 },
 "nbformat": 4,
 "nbformat_minor": 5
}
