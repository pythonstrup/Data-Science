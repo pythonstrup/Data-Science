{
 "cells": [
  {
   "cell_type": "code",
   "execution_count": null,
   "id": "37121e93",
   "metadata": {},
   "outputs": [],
   "source": [
    "# 201500684 박종혁"
   ]
  },
  {
   "cell_type": "code",
   "execution_count": null,
   "id": "45523c81",
   "metadata": {},
   "outputs": [],
   "source": [
    "# Lab5  1. 행렬 예제 코딩"
   ]
  },
  {
   "cell_type": "code",
   "execution_count": null,
   "id": "80ba15ef",
   "metadata": {},
   "outputs": [],
   "source": [
    "# 벡터 덧셈"
   ]
  },
  {
   "cell_type": "code",
   "execution_count": 56,
   "id": "482cb414",
   "metadata": {},
   "outputs": [
    {
     "data": {
      "text/plain": [
       "[12, 16, 20, 24, 28]"
      ]
     },
     "execution_count": 56,
     "metadata": {},
     "output_type": "execute_result"
    }
   ],
   "source": [
    "from IPython.core.interactiveshell import InteractiveShell\n",
    "InteractiveShell.ast_node_interactivity = \"all\"\n",
    "\n",
    "import re, math, random\n",
    "import matplotlib.pyplot as plt\n",
    "from collections import defaultdict, Counter\n",
    "from functools import partial, reduce\n",
    "\n",
    "import numpy as np\n",
    "\n",
    "def vector_add(v, w):\n",
    "    return [v_i + w_i for v_i, w_i in zip(v, w)]\n",
    "\n",
    "v = [x for x in range(1, 11, 2)]\n",
    "w = [y for y in range(11, 21, 2)]\n",
    "\n",
    "vector_add(v, w)"
   ]
  },
  {
   "cell_type": "code",
   "execution_count": 10,
   "id": "8f17a5b7",
   "metadata": {},
   "outputs": [
    {
     "data": {
      "text/plain": [
       "array([12, 16, 20, 24, 28])"
      ]
     },
     "execution_count": 10,
     "metadata": {},
     "output_type": "execute_result"
    }
   ],
   "source": [
    "np.array(v) + np.array(w)"
   ]
  },
  {
   "cell_type": "code",
   "execution_count": 11,
   "id": "eaeb3722",
   "metadata": {},
   "outputs": [
    {
     "name": "stdout",
     "output_type": "stream",
     "text": [
      "599 ns ± 3.03 ns per loop (mean ± std. dev. of 7 runs, 1000000 loops each)\n",
      "1.75 µs ± 8.83 ns per loop (mean ± std. dev. of 7 runs, 1000000 loops each)\n"
     ]
    }
   ],
   "source": [
    "%timeit vector_add(v,w)\n",
    "%timeit np.array(v) + np.array(w)"
   ]
  },
  {
   "cell_type": "code",
   "execution_count": null,
   "id": "b2ebdbf3",
   "metadata": {},
   "outputs": [],
   "source": [
    "# 벡터 뺄셈"
   ]
  },
  {
   "cell_type": "code",
   "execution_count": 12,
   "id": "4acd092f",
   "metadata": {},
   "outputs": [
    {
     "data": {
      "text/plain": [
       "[-10, -10, -10, -10, -10]"
      ]
     },
     "execution_count": 12,
     "metadata": {},
     "output_type": "execute_result"
    }
   ],
   "source": [
    "def vector_subtract(v, w):\n",
    "    return [v_i - w_i for v_i, w_i in zip(v,w)]\n",
    "\n",
    "vector_subtract(v, w)"
   ]
  },
  {
   "cell_type": "code",
   "execution_count": 13,
   "id": "9b218b7c",
   "metadata": {},
   "outputs": [
    {
     "data": {
      "text/plain": [
       "array([-10, -10, -10, -10, -10])"
      ]
     },
     "execution_count": 13,
     "metadata": {},
     "output_type": "execute_result"
    }
   ],
   "source": [
    "np.array(v) - np.array(w)"
   ]
  },
  {
   "cell_type": "code",
   "execution_count": null,
   "id": "24ddd6e4",
   "metadata": {},
   "outputs": [],
   "source": [
    "# 벡터 리스트 덧셈"
   ]
  },
  {
   "cell_type": "code",
   "execution_count": 15,
   "id": "8d147ef0",
   "metadata": {},
   "outputs": [
    {
     "data": {
      "text/plain": [
       "[36, 48, 60, 72, 84]"
      ]
     },
     "execution_count": 15,
     "metadata": {},
     "output_type": "execute_result"
    },
    {
     "data": {
      "text/plain": [
       "[36, 48, 60, 72, 84]"
      ]
     },
     "execution_count": 15,
     "metadata": {},
     "output_type": "execute_result"
    }
   ],
   "source": [
    "v = [x for x in range(1, 11, 2)]\n",
    "w = [y for y in range(11, 21, 2)]\n",
    "\n",
    "# Version 1\n",
    "def vector_sum(vectors):\n",
    "    return reduce(vector_add, vectors)\n",
    "\n",
    "vectors = [v, w, v, w, v, w]\n",
    "vector_sum(vectors)\n",
    "\n",
    "# Version 2\n",
    "def vector_sum_modified(vectors):\n",
    "    return [sum(value) for value in zip(*vectors)]\n",
    "\n",
    "vector_sum_modified(vectors)"
   ]
  },
  {
   "cell_type": "code",
   "execution_count": 17,
   "id": "f9bae1e5",
   "metadata": {},
   "outputs": [
    {
     "data": {
      "text/plain": [
       "array([36, 48, 60, 72, 84])"
      ]
     },
     "execution_count": 17,
     "metadata": {},
     "output_type": "execute_result"
    }
   ],
   "source": [
    "np.sum(vectors, axis = 0)"
   ]
  },
  {
   "cell_type": "code",
   "execution_count": null,
   "id": "b6e75fdb",
   "metadata": {},
   "outputs": [],
   "source": [
    "# 벡터 스칼라 곱"
   ]
  },
  {
   "cell_type": "code",
   "execution_count": 20,
   "id": "81524737",
   "metadata": {},
   "outputs": [
    {
     "data": {
      "text/plain": [
       "[3, 9, 15, 21, 27]"
      ]
     },
     "execution_count": 20,
     "metadata": {},
     "output_type": "execute_result"
    }
   ],
   "source": [
    "def scalar_multiply(c, v):\n",
    "    return [c * v_i for v_i in v]\n",
    "\n",
    "scalar = 3\n",
    "scalar_multiply(scalar, v)"
   ]
  },
  {
   "cell_type": "code",
   "execution_count": 19,
   "id": "d4696e1d",
   "metadata": {},
   "outputs": [
    {
     "data": {
      "text/plain": [
       "array([ 3,  9, 15, 21, 27])"
      ]
     },
     "execution_count": 19,
     "metadata": {},
     "output_type": "execute_result"
    }
   ],
   "source": [
    "scalar * np.array(v)"
   ]
  },
  {
   "cell_type": "code",
   "execution_count": null,
   "id": "5860e409",
   "metadata": {},
   "outputs": [],
   "source": [
    "# 벡터 리스트 평균"
   ]
  },
  {
   "cell_type": "code",
   "execution_count": 21,
   "id": "a7ac5d04",
   "metadata": {},
   "outputs": [
    {
     "data": {
      "text/plain": [
       "[1.0, 2.0, 3.0, 4.0]"
      ]
     },
     "execution_count": 21,
     "metadata": {},
     "output_type": "execute_result"
    }
   ],
   "source": [
    "def vector_mean(vectors):\n",
    "    n = len(vectors)\n",
    "    return scalar_multiply(1/n, vector_sum(vectors))\n",
    "\n",
    "v = [1,2,3,4]\n",
    "w = [-4,-3,-2,-1]\n",
    "\n",
    "vector_mean([v,v,v,v])"
   ]
  },
  {
   "cell_type": "code",
   "execution_count": 25,
   "id": "1b9e57e0",
   "metadata": {},
   "outputs": [
    {
     "data": {
      "text/plain": [
       "array([1., 2., 3., 4.])"
      ]
     },
     "execution_count": 25,
     "metadata": {},
     "output_type": "execute_result"
    }
   ],
   "source": [
    "np.mean([v,v,v,v], axis=0)"
   ]
  },
  {
   "cell_type": "code",
   "execution_count": null,
   "id": "639e822a",
   "metadata": {},
   "outputs": [],
   "source": [
    "# 벡터의 내적"
   ]
  },
  {
   "cell_type": "code",
   "execution_count": 26,
   "id": "40114045",
   "metadata": {},
   "outputs": [
    {
     "data": {
      "text/plain": [
       "-20"
      ]
     },
     "execution_count": 26,
     "metadata": {},
     "output_type": "execute_result"
    }
   ],
   "source": [
    "def dot(v,w):\n",
    "    return sum(v_i * w_i for v_i, w_i in zip(v,w))\n",
    "\n",
    "v = [1,2,3,4]\n",
    "w = [-4,-3,-2,-1]\n",
    "\n",
    "dot(v, w)"
   ]
  },
  {
   "cell_type": "code",
   "execution_count": 27,
   "id": "be9a31fc",
   "metadata": {},
   "outputs": [
    {
     "data": {
      "text/plain": [
       "-20"
      ]
     },
     "execution_count": 27,
     "metadata": {},
     "output_type": "execute_result"
    }
   ],
   "source": [
    "np.dot(v,w)"
   ]
  },
  {
   "cell_type": "code",
   "execution_count": null,
   "id": "426892a2",
   "metadata": {},
   "outputs": [],
   "source": [
    "# 벡터 성분 제곱 값의 합"
   ]
  },
  {
   "cell_type": "code",
   "execution_count": 29,
   "id": "24d9fb50",
   "metadata": {},
   "outputs": [
    {
     "data": {
      "text/plain": [
       "30"
      ]
     },
     "execution_count": 29,
     "metadata": {},
     "output_type": "execute_result"
    }
   ],
   "source": [
    "def sum_of_squares(v):\n",
    "    return dot(v,v)\n",
    "\n",
    "v = [1,2,3,4]\n",
    "sum_of_squares(v)"
   ]
  },
  {
   "cell_type": "code",
   "execution_count": 30,
   "id": "d2529f9f",
   "metadata": {},
   "outputs": [
    {
     "data": {
      "text/plain": [
       "5.477225575051661"
      ]
     },
     "execution_count": 30,
     "metadata": {},
     "output_type": "execute_result"
    }
   ],
   "source": [
    "# 제곱의 합의 제곱근\n",
    "def magnitude(v):\n",
    "    return math.sqrt(sum_of_squares(v))\n",
    "\n",
    "magnitude(v)"
   ]
  },
  {
   "cell_type": "code",
   "execution_count": 31,
   "id": "44a611b9",
   "metadata": {},
   "outputs": [
    {
     "data": {
      "text/plain": [
       "5.477225575051661"
      ]
     },
     "execution_count": 31,
     "metadata": {},
     "output_type": "execute_result"
    }
   ],
   "source": [
    "np.linalg.norm(v)"
   ]
  },
  {
   "cell_type": "code",
   "execution_count": null,
   "id": "c3cec999",
   "metadata": {},
   "outputs": [],
   "source": [
    "# 두 벡터 사이의 거리"
   ]
  },
  {
   "cell_type": "code",
   "execution_count": 32,
   "id": "d35d0399",
   "metadata": {},
   "outputs": [
    {
     "data": {
      "text/plain": [
       "100"
      ]
     },
     "execution_count": 32,
     "metadata": {},
     "output_type": "execute_result"
    }
   ],
   "source": [
    "def squared_distance(v, w):\n",
    "    return sum_of_squares(vector_subtract(v,w))\n",
    "\n",
    "def distance(v, w):\n",
    "    return math.sqrt(squared_distance(v,w))\n",
    "\n",
    "v = [1,2,3,4]\n",
    "w = [-4,-3,-2,-1]\n",
    "\n",
    "squared_distance(v,w)"
   ]
  },
  {
   "cell_type": "code",
   "execution_count": 33,
   "id": "3c533fc0",
   "metadata": {},
   "outputs": [
    {
     "data": {
      "text/plain": [
       "10.0"
      ]
     },
     "execution_count": 33,
     "metadata": {},
     "output_type": "execute_result"
    }
   ],
   "source": [
    "distance(v,w)"
   ]
  },
  {
   "cell_type": "code",
   "execution_count": 34,
   "id": "dbadbed2",
   "metadata": {},
   "outputs": [
    {
     "data": {
      "text/plain": [
       "10.0"
      ]
     },
     "execution_count": 34,
     "metadata": {},
     "output_type": "execute_result"
    }
   ],
   "source": [
    "np.linalg.norm(np.subtract(v,w))"
   ]
  },
  {
   "cell_type": "code",
   "execution_count": null,
   "id": "07b6f3f3",
   "metadata": {},
   "outputs": [],
   "source": [
    "# 행렬 형태"
   ]
  },
  {
   "cell_type": "code",
   "execution_count": 35,
   "id": "e1287ee8",
   "metadata": {},
   "outputs": [
    {
     "data": {
      "text/plain": [
       "(3, 5)"
      ]
     },
     "execution_count": 35,
     "metadata": {},
     "output_type": "execute_result"
    },
    {
     "data": {
      "text/plain": [
       "[1, 2, 3, 4, 5]"
      ]
     },
     "execution_count": 35,
     "metadata": {},
     "output_type": "execute_result"
    },
    {
     "data": {
      "text/plain": [
       "[4, 14, 24]"
      ]
     },
     "execution_count": 35,
     "metadata": {},
     "output_type": "execute_result"
    }
   ],
   "source": [
    "def shape(A):\n",
    "    num_rows = len(A)\n",
    "    num_cols = len(A[0]) if A else 0\n",
    "    return num_rows, num_cols\n",
    "\n",
    "def get_row(A, i):\n",
    "    return A[i]\n",
    "\n",
    "def get_column(A, j):\n",
    "    return [A_i[j] for A_i in A]\n",
    "\n",
    "example_matrix = [[1,2,3,4,5], [11,12,13,14,15], [21,22,23,24,25]]\n",
    "\n",
    "shape(example_matrix)\n",
    "get_row(example_matrix, 0)\n",
    "get_column(example_matrix, 3)"
   ]
  },
  {
   "cell_type": "code",
   "execution_count": 38,
   "id": "ed6c4bd1",
   "metadata": {},
   "outputs": [
    {
     "data": {
      "text/plain": [
       "(3, 5)"
      ]
     },
     "execution_count": 38,
     "metadata": {},
     "output_type": "execute_result"
    },
    {
     "data": {
      "text/plain": [
       "array([1, 2, 3, 4, 5])"
      ]
     },
     "execution_count": 38,
     "metadata": {},
     "output_type": "execute_result"
    },
    {
     "data": {
      "text/plain": [
       "array([ 4, 14, 24])"
      ]
     },
     "execution_count": 38,
     "metadata": {},
     "output_type": "execute_result"
    }
   ],
   "source": [
    "np.shape(example_matrix)\n",
    "example_matrix = np.array(example_matrix)\n",
    "example_matrix[0]\n",
    "example_matrix[:,3]"
   ]
  },
  {
   "cell_type": "code",
   "execution_count": null,
   "id": "14f60cc9",
   "metadata": {},
   "outputs": [],
   "source": [
    "# 단위 행렬 생성"
   ]
  },
  {
   "cell_type": "code",
   "execution_count": 40,
   "id": "0f61e719",
   "metadata": {},
   "outputs": [
    {
     "data": {
      "text/plain": [
       "[[1, 0, 0, 0, 0],\n",
       " [0, 1, 0, 0, 0],\n",
       " [0, 0, 1, 0, 0],\n",
       " [0, 0, 0, 1, 0],\n",
       " [0, 0, 0, 0, 1]]"
      ]
     },
     "execution_count": 40,
     "metadata": {},
     "output_type": "execute_result"
    }
   ],
   "source": [
    "def make_matrix(num_rows, num_cols, entry_fn):\n",
    "    return [[entry_fn(i, j) for j in range(num_cols)]\n",
    "           for i in range(num_rows)]\n",
    "\n",
    "def is_diagonal(i, j):\n",
    "    return 1 if i == j else 0\n",
    "\n",
    "identity_matrix = make_matrix(5, 5, is_diagonal)\n",
    "identity_matrix"
   ]
  },
  {
   "cell_type": "code",
   "execution_count": 41,
   "id": "377e934b",
   "metadata": {},
   "outputs": [
    {
     "data": {
      "text/plain": [
       "array([[1., 0., 0., 0., 0.],\n",
       "       [0., 1., 0., 0., 0.],\n",
       "       [0., 0., 1., 0., 0.],\n",
       "       [0., 0., 0., 1., 0.],\n",
       "       [0., 0., 0., 0., 1.]])"
      ]
     },
     "execution_count": 41,
     "metadata": {},
     "output_type": "execute_result"
    }
   ],
   "source": [
    "np.identity(5)"
   ]
  },
  {
   "cell_type": "code",
   "execution_count": null,
   "id": "978ea8e0",
   "metadata": {},
   "outputs": [],
   "source": [
    "# 이진 관계"
   ]
  },
  {
   "cell_type": "code",
   "execution_count": 48,
   "id": "469f19e4",
   "metadata": {},
   "outputs": [
    {
     "data": {
      "text/plain": [
       "True"
      ]
     },
     "execution_count": 48,
     "metadata": {},
     "output_type": "execute_result"
    },
    {
     "data": {
      "text/plain": [
       "False"
      ]
     },
     "execution_count": 48,
     "metadata": {},
     "output_type": "execute_result"
    },
    {
     "name": "stdout",
     "output_type": "stream",
     "text": [
      "[4, 6, 7]\n"
     ]
    }
   ],
   "source": [
    "friendships = [(0, 1), (0, 2), (1, 2), (1, 3), (2, 3), (3, 4), (4, 5), (5, 6), (5, 7), (6, 8), (7, 8), (8, 9)]\n",
    "\n",
    "friendships = [[0, 1, 1, 0, 0, 0, 0, 0, 0, 0], \n",
    "              [1, 0, 1, 1, 0, 0, 0, 0, 0, 0], \n",
    "              [1, 1, 0, 1, 0, 0, 0, 0, 0, 0], \n",
    "              [0, 1, 1, 0, 1, 0, 0, 0, 0, 0], \n",
    "              [0, 0, 0, 1, 0, 1, 0, 0, 0, 0], \n",
    "              [0, 0, 0, 0, 1, 0, 1, 1, 0, 0], \n",
    "              [0, 0, 0, 0, 0, 1, 0, 0, 1, 0], \n",
    "              [0, 0, 0, 0, 0, 1, 0, 0, 1, 0], \n",
    "              [0, 0, 0, 0, 0, 0, 1, 1, 0, 1], \n",
    "              [0, 0, 0, 0, 0, 0, 0, 0, 1, 0]] \n",
    "\n",
    "friendships[0][2] == 1\n",
    "friendships[0][8] == 1\n",
    "\n",
    "friend_of_five = [i for i, is_friend in enumerate(friendships[5]) if is_friend]\n",
    "print(friend_of_five)"
   ]
  },
  {
   "cell_type": "code",
   "execution_count": null,
   "id": "34b1c4f3",
   "metadata": {},
   "outputs": [],
   "source": [
    "# 행렬 덧셈"
   ]
  },
  {
   "cell_type": "code",
   "execution_count": 50,
   "id": "a8b7805c",
   "metadata": {},
   "outputs": [
    {
     "data": {
      "text/plain": [
       "[[6.0, 4.0, 3.0], [2.0, 3.0, 4.0]]"
      ]
     },
     "execution_count": 50,
     "metadata": {},
     "output_type": "execute_result"
    }
   ],
   "source": [
    "def matrix_add(A, B):\n",
    "    if shape(A) != shape(B):\n",
    "        raise ArithmeticError(\"Cannot add matrices with different shapes\")\n",
    "        \n",
    "    num_rows, num_cols = shape(A)\n",
    "    def entry_fn(i, j): return A[i][j] + B[i][j]\n",
    "    \n",
    "    return make_matrix(num_rows, num_cols, entry_fn)\n",
    "\n",
    "A = [[1., 0., 0.], [0., 1., 2.]]\n",
    "B = [[5., 4., 3.], [2., 2., 2.]]\n",
    "\n",
    "matrix_add(A, B)"
   ]
  },
  {
   "cell_type": "code",
   "execution_count": 58,
   "id": "5b9c039c",
   "metadata": {},
   "outputs": [
    {
     "data": {
      "text/plain": [
       "array([[6., 4., 3.],\n",
       "       [2., 3., 4.]])"
      ]
     },
     "execution_count": 58,
     "metadata": {},
     "output_type": "execute_result"
    }
   ],
   "source": [
    "np.add(A, B)"
   ]
  },
  {
   "cell_type": "code",
   "execution_count": null,
   "id": "482d61d7",
   "metadata": {},
   "outputs": [],
   "source": [
    "# 벡터 점곱 그래프"
   ]
  },
  {
   "cell_type": "code",
   "execution_count": 76,
   "id": "a3d1ebf9",
   "metadata": {
    "scrolled": false
   },
   "outputs": [
    {
     "data": {
      "image/png": "[encoded data removed]",
      "text/plain": [
       "<Figure size 432x288 with 1 Axes>"
      ]
     },
     "metadata": {
      "needs_background": "light"
     },
     "output_type": "display_data"
    }
   ],
   "source": [
    "def make_graph_dot_product_as_vector_projection(plt):\n",
    "    v = [2, 1]\n",
    "    w = [math.sqrt(.25), math.sqrt(.75)]\n",
    "    c = dot(v, w)\n",
    "    vonw = scalar_multiply(c, w)\n",
    "    o = [0, 0]\n",
    "    \n",
    "    plt.arrow(0, 0, v[0], v[1],\n",
    "             width=0.002, head_width=.1, length_includes_head=True)\n",
    "    plt.annotate(\"v\", v, xytext=[v[0] + 0.1, v[1]])\n",
    "    \n",
    "    plt.arrow(0,0, w[0], w[1],\n",
    "             width=0.002, head_width=.1, length_includes_head=True)\n",
    "    plt.annotate(\"w\", w, xytext=[w[0] - 0.1, w[1]])\n",
    "    \n",
    "    plt.arrow(0, 0, vonw[0], vonw[1], length_includes_head=True)\n",
    "    plt.annotate(u\"(v*w)w\", vonw, xytext=[vonw[0] - 0.1, vonw[1] + 0.1])\n",
    "    \n",
    "    plt.arrow(v[0], v[1], vonw[0] - v[0], vonw[1] - v[1],\n",
    "             linestyle='dotted', length_includes_head=True)\n",
    "    plt.scatter(*zip(v,w,o), marker='.')\n",
    "    plt.axis([0,2,0,2])\n",
    "    plt.show()\n",
    "    \n",
    "    \n",
    "%matplotlib inline\n",
    "make_graph_dot_product_as_vector_projection(plt)"
   ]
  },
  {
   "cell_type": "code",
   "execution_count": null,
   "id": "c2b24a27",
   "metadata": {},
   "outputs": [],
   "source": [
    "# 2. 행렬연산 구현"
   ]
  },
  {
   "cell_type": "code",
   "execution_count": null,
   "id": "22310f37",
   "metadata": {},
   "outputs": [],
   "source": [
    "# A. 파이썬 날코딩"
   ]
  },
  {
   "cell_type": "code",
   "execution_count": 24,
   "id": "e903c682",
   "metadata": {},
   "outputs": [
    {
     "name": "stdout",
     "output_type": "stream",
     "text": [
      "## 행렬 점곱 ##\n"
     ]
    },
    {
     "data": {
      "text/plain": [
       "[[22, 28], [49, 64]]"
      ]
     },
     "execution_count": 24,
     "metadata": {},
     "output_type": "execute_result"
    },
    {
     "name": "stdout",
     "output_type": "stream",
     "text": [
      "## 전치 행렬 ##\n"
     ]
    },
    {
     "data": {
      "text/plain": [
       "[[1, 4], [2, 5], [3, 6]]"
      ]
     },
     "execution_count": 24,
     "metadata": {},
     "output_type": "execute_result"
    },
    {
     "data": {
      "text/plain": [
       "[[1, 3, 5], [2, 4, 6]]"
      ]
     },
     "execution_count": 24,
     "metadata": {},
     "output_type": "execute_result"
    }
   ],
   "source": [
    "from IPython.core.interactiveshell import InteractiveShell\n",
    "InteractiveShell.ast_node_interactivity = \"all\"\n",
    "\n",
    "print(\"## 행렬 점곱 ##\")\n",
    "# 행렬 점곱\n",
    "def my_matrix_dot(A, B, multiply_fn):\n",
    "    return [[ multiply_fn(i, j) for j in range(len(B[0]))] for i in range(len(A))]\n",
    "            \n",
    "def matrix_multiply(a, b):\n",
    "    result = 0\n",
    "    for i in range(len(A[0])):\n",
    "        result += A[a][i] * B[i][b]\n",
    "    \n",
    "    return result\n",
    "\n",
    "A = [[1,2,3],\n",
    "    [4,5,6]]\n",
    "\n",
    "B = [[1,2],\n",
    "    [3,4],\n",
    "    [5,6]]\n",
    "\n",
    "\n",
    "my_matrix_dot(A, B, matrix_multiply)\n",
    "\n",
    "print(\"## 전치 행렬 ##\")\n",
    "# 전치 행렬\n",
    "\n",
    "A_t = [[A[j][i] for j in range(len(A))] for i in range(len(A[0]))]\n",
    "B_t = [[B[j][i] for j in range(len(B))] for i in range(len(B[0]))]\n",
    "\n",
    "A_t\n",
    "B_t"
   ]
  },
  {
   "cell_type": "code",
   "execution_count": null,
   "id": "48246b93",
   "metadata": {},
   "outputs": [],
   "source": [
    "# B. 넘파이 라이브러리 코딩"
   ]
  },
  {
   "cell_type": "code",
   "execution_count": 13,
   "id": "4aeca7e0",
   "metadata": {},
   "outputs": [
    {
     "name": "stdout",
     "output_type": "stream",
     "text": [
      "## 행렬 점곱 ##\n"
     ]
    },
    {
     "data": {
      "text/plain": [
       "array([[22, 28],\n",
       "       [49, 64]])"
      ]
     },
     "execution_count": 13,
     "metadata": {},
     "output_type": "execute_result"
    },
    {
     "name": "stdout",
     "output_type": "stream",
     "text": [
      "## 전치 행렬 ##\n"
     ]
    },
    {
     "data": {
      "text/plain": [
       "array([[1, 4],\n",
       "       [2, 5],\n",
       "       [3, 6]])"
      ]
     },
     "execution_count": 13,
     "metadata": {},
     "output_type": "execute_result"
    },
    {
     "data": {
      "text/plain": [
       "array([[1, 3, 5],\n",
       "       [2, 4, 6]])"
      ]
     },
     "execution_count": 13,
     "metadata": {},
     "output_type": "execute_result"
    }
   ],
   "source": [
    "import numpy as np\n",
    "\n",
    "print(\"## 행렬 점곱 ##\")\n",
    "# 행렬 점곱\n",
    "A = [[1,2,3],\n",
    "    [4,5,6]]\n",
    "\n",
    "B = [[1,2],\n",
    "    [3,4],\n",
    "    [5,6]]\n",
    "\n",
    "np.dot(A, B)\n",
    "\n",
    "print(\"## 전치 행렬 ##\")\n",
    "# 전치 행렬\n",
    "np.transpose(A)\n",
    "np.transpose(B)"
   ]
  },
  {
   "cell_type": "code",
   "execution_count": null,
   "id": "28bca2b0",
   "metadata": {},
   "outputs": [],
   "source": [
    "# 201500684 박종혁"
   ]
  }
 ],
 "metadata": {
  "kernelspec": {
   "display_name": "Python 3 (ipykernel)",
   "language": "python",
   "name": "python3"
  },
  "language_info": {
   "codemirror_mode": {
    "name": "ipython",
    "version": 3
   },
   "file_extension": ".py",
   "mimetype": "text/x-python",
   "name": "python",
   "nbconvert_exporter": "python",
   "pygments_lexer": "ipython3",
   "version": "3.9.7"
  }
 },
 "nbformat": 4,
 "nbformat_minor": 5
}
