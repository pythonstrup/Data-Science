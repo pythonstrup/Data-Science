{
 "cells": [
  {
   "cell_type": "code",
   "execution_count": null,
   "id": "f77b619a",
   "metadata": {},
   "outputs": [],
   "source": [
    "# 201500684 박종혁"
   ]
  },
  {
   "cell_type": "code",
   "execution_count": 1,
   "id": "a7171b14",
   "metadata": {},
   "outputs": [
    {
     "name": "stdout",
     "output_type": "stream",
     "text": [
      "x의 평균값: 5.0\n",
      "y의 평균값: 90.5\n",
      "분모: 20.0\n",
      "분자: 46.0\n",
      "기울기 a = 2.3\n",
      "y 절편 b = 79.0\n"
     ]
    }
   ],
   "source": [
    "from IPython.core.interactiveshell import InteractiveShell\n",
    "InteractiveShell.ast_node_interactivity = \"all\"\n",
    "\n",
    "import numpy as np\n",
    "import matplotlib.pyplot as plt\n",
    "\n",
    "# x와 y 값\n",
    "x = [2, 4, 6, 8]\n",
    "y = [81, 93, 91, 97]\n",
    "\n",
    "# x와 y의 평균값\n",
    "mx = np.mean(x)\n",
    "my = np.mean(y)\n",
    "print(\"x의 평균값:\", mx)\n",
    "print(\"y의 평균값:\", my)\n",
    "\n",
    "# 기울기 공식의 분모\n",
    "divisor = sum([(mx - i)**2 for i in x])\n",
    "\n",
    "# 기울기 공식의 분자\n",
    "def top(x, mx, y, my):\n",
    "  d = 0\n",
    "  for i in range(len(x)):\n",
    "    d += (x[i] - mx) * (y[i] - my)\n",
    "  return d\n",
    "dividend = top(x, mx, y, my)\n",
    "\n",
    "print(\"분모:\", divisor)\n",
    "print(\"분자:\", dividend)\n",
    "\n",
    "# 기울기와 y 절편\n",
    "a = dividend / divisor\n",
    "b = my - (mx*a)\n",
    "\n",
    "print(\"기울기 a =\", a)\n",
    "print(\"y 절편 b =\", b)"
   ]
  },
  {
   "cell_type": "code",
   "execution_count": 2,
   "id": "2150db49",
   "metadata": {},
   "outputs": [
    {
     "data": {
      "text/plain": [
       "Text(0.5, 1.0, 'Linear Regression')"
      ]
     },
     "execution_count": 2,
     "metadata": {},
     "output_type": "execute_result"
    },
    {
     "data": {
      "text/plain": [
       "Text(0.5, 0, 'x')"
      ]
     },
     "execution_count": 2,
     "metadata": {},
     "output_type": "execute_result"
    },
    {
     "data": {
      "text/plain": [
       "Text(0, 0.5, 'y')"
      ]
     },
     "execution_count": 2,
     "metadata": {},
     "output_type": "execute_result"
    },
    {
     "data": {
      "text/plain": [
       "<matplotlib.collections.PathCollection at 0x29353902250>"
      ]
     },
     "execution_count": 2,
     "metadata": {},
     "output_type": "execute_result"
    },
    {
     "data": {
      "text/plain": [
       "<matplotlib.collections.PathCollection at 0x293539026a0>"
      ]
     },
     "execution_count": 2,
     "metadata": {},
     "output_type": "execute_result"
    },
    {
     "data": {
      "text/plain": [
       "[<matplotlib.lines.Line2D at 0x29353902d00>]"
      ]
     },
     "execution_count": 2,
     "metadata": {},
     "output_type": "execute_result"
    },
    {
     "data": {
      "image/png": "[encoded data removed]",
      "text/plain": [
       "<Figure size 432x288 with 1 Axes>"
      ]
     },
     "metadata": {
      "needs_background": "light"
     },
     "output_type": "display_data"
    }
   ],
   "source": [
    "plt.title(\"Linear Regression\")\n",
    "plt.xlabel(\"x\")\n",
    "plt.ylabel(\"y\")\n",
    "plt.scatter(x, y)\n",
    "\n",
    "r_x = np.array([x for x in range(10)])\n",
    "r_y = np.array([x*a + b for x in range(10)])\n",
    "plt.scatter(r_x ,r_y, color=\"orange\")\n",
    "plt.plot(r_x ,r_y, color=\"orange\")"
   ]
  },
  {
   "cell_type": "code",
   "execution_count": 25,
   "id": "a73f2bb1",
   "metadata": {},
   "outputs": [
    {
     "name": "stdout",
     "output_type": "stream",
     "text": [
      "공부시간=2, 실제점수=81, 예측점수=82\n",
      "공부시간=4, 실제점수=93, 예측점수=88\n",
      "공부시간=6, 실제점수=91, 예측점수=94\n",
      "공부시간=8, 실제점수=97, 예측점수=100\n",
      "rmse 최종값: 3.3166247903554\n",
      "기울기 a = 3\n",
      "y절편 b = 76\n"
     ]
    }
   ],
   "source": [
    "from IPython.core.interactiveshell import InteractiveShell\n",
    "InteractiveShell.ast_node_interactivity = \"all\"\n",
    "\n",
    "import numpy as np\n",
    "import matplotlib.pyplot as plt\n",
    "\n",
    "# 기울기 a와 y절편 b\n",
    "wb=[3, 76]\n",
    "\n",
    "# x, y의 데이터값\n",
    "data = [[2, 81], [4, 93], [6, 91], [8, 97]]\n",
    "x = [i[0] for i in data]\n",
    "y = [i[1] for i in data]\n",
    "\n",
    "# y = ax + b 에 a, b값을 대입하여 결과를 출력하는 함수\n",
    "def predict(x):\n",
    "  return wb[0]*x + wb[1]\n",
    "\n",
    "# RMSE 함수\n",
    "def rmse(a, p):\n",
    "  return np.sqrt(((a-p) ** 2).mean())\n",
    "\n",
    "# RMSE 함수를 각 y값에 대입하여 최종 값을 구하는 함수\n",
    "def rmse_val(predict_result, y):\n",
    "  return rmse(np.array(predict_result), np.array(y))\n",
    "\n",
    "# 예측값이 들어갈 빈 리스트\n",
    "predict_result = []\n",
    "\n",
    "# 모든 x값을 한 번씩 대입하여 predict_result 리스트완성\n",
    "for i in range(len(x)):\n",
    "  predict_result.append(predict(x[i]))\n",
    "  print(\"공부시간=%.f, 실제점수=%.f, 예측점수=%.f\" % (x[i], y[i], predict(x[i])))\n",
    "\n",
    "# 최종 RMSE 출력\n",
    "print(\"rmse 최종값: \" + str(rmse_val(y, predict_result)))\n",
    "\n",
    "# 출력\n",
    "print(\"기울기 a =\", wb[0])\n",
    "print(\"y절편 b =\", wb[1])"
   ]
  },
  {
   "attachments": {},
   "cell_type": "markdown",
   "id": "1e11560f",
   "metadata": {},
   "source": [
    "<br/>\n",
    "\n",
    "### PyLab3"
   ]
  },
  {
   "cell_type": "code",
   "execution_count": 111,
   "id": "4f35e81f",
   "metadata": {
    "scrolled": false
   },
   "outputs": [
    {
     "data": {
      "image/png": "[encoded data removed]",
      "text/plain": [
       "<Figure size 432x288 with 1 Axes>"
      ]
     },
     "metadata": {
      "needs_background": "light"
     },
     "output_type": "display_data"
    },
    {
     "name": "stdout",
     "output_type": "stream",
     "text": [
      "기울기: 2.3000288616661777\n",
      "y 절편 78.99982776591952\n"
     ]
    },
    {
     "data": {
      "text/plain": [
       "<matplotlib.collections.PathCollection at 0x2935bde0ca0>"
      ]
     },
     "execution_count": 111,
     "metadata": {},
     "output_type": "execute_result"
    },
    {
     "data": {
      "text/plain": [
       "[<matplotlib.lines.Line2D at 0x2935bdf8130>]"
      ]
     },
     "execution_count": 111,
     "metadata": {},
     "output_type": "execute_result"
    },
    {
     "data": {
      "image/png": "[encoded data removed]",
      "text/plain": [
       "<Figure size 432x288 with 1 Axes>"
      ]
     },
     "metadata": {
      "needs_background": "light"
     },
     "output_type": "display_data"
    }
   ],
   "source": [
    "import matplotlib.pyplot as plt\n",
    "\n",
    "def step_gradient(w_current, b_current, points, learningRate):\n",
    "    w_gradient = 0\n",
    "    b_gradient = 0\n",
    "    N = float(len(points))\n",
    "    for i in range(0, len(points)):\n",
    "        x = points[i, 0]\n",
    "        y = points[i, 1]\n",
    "        b_gradient += -(2 / N) * (y - ((w_current * x) + b_current))\n",
    "        w_gradient += -(2 / N) * x * (y - ((w_current * x) + b_current))\n",
    "    new_b = b_current - (learningRate * b_gradient)\n",
    "    new_w = w_current - (learningRate * w_gradient)\n",
    "    return [new_w, new_b]\n",
    "\n",
    "def gradient_descent_runner(points, starting_w, starting_b, learning_rate, num_iterations):\n",
    "    w = starting_w\n",
    "    b = starting_b\n",
    "    \n",
    "    for i in range(num_iterations):\n",
    "        w, b = step_gradient(w, b, np.array(points), learning_rate)\n",
    "        r_x = np.array([x for x in range(10)])\n",
    "        r_y = np.array([x*w + b for x in range(10)])\n",
    "        plt.plot(r_x ,r_y, color=my_color[i%(len(my_color))])\n",
    "    x = [2, 4, 6, 8]\n",
    "    y = [81, 93, 91, 97]\n",
    "    plt.scatter(x, y, color=\"black\")\n",
    "    plt.show()\n",
    "    return [w, b]\n",
    "\n",
    "lr = 0.03\n",
    "step = 1000\n",
    "\n",
    "points = np.array([[2, 81], [4, 93], [6, 91], [8, 97]])\n",
    "w = 3\n",
    "b = 76\n",
    "\n",
    "# 그래프 색상\n",
    "my_color = ['#F9D923', '#E8F9FD', 'green', '#FF6FB5', 'blue', '#9772FB']\n",
    "\n",
    "w, b = gradient_descent_runner(points, w, b, lr, 1000)\n",
    "print(\"기울기:\", w)\n",
    "print('y 절편', b)\n",
    "x = [2, 4, 6, 8]\n",
    "y = [81, 93, 91, 97]\n",
    "plt.scatter(x, y, color=\"black\")\n",
    "    \n",
    "r_x = np.array([x for x in range(10)])\n",
    "r_y = np.array([x*w + b for x in range(10)])\n",
    "plt.plot(r_x ,r_y, color=\"orange\")"
   ]
  },
  {
   "cell_type": "code",
   "execution_count": 28,
   "id": "5e9ae8d8",
   "metadata": {},
   "outputs": [],
   "source": [
    "# 201500684 박종혁"
   ]
  }
 ],
 "metadata": {
  "kernelspec": {
   "display_name": "Python 3 (ipykernel)",
   "language": "python",
   "name": "python3"
  },
  "language_info": {
   "codemirror_mode": {
    "name": "ipython",
    "version": 3
   },
   "file_extension": ".py",
   "mimetype": "text/x-python",
   "name": "python",
   "nbconvert_exporter": "python",
   "pygments_lexer": "ipython3",
   "version": "3.9.12"
  }
 },
 "nbformat": 4,
 "nbformat_minor": 5
}
