{
 "cells": [
  {
   "cell_type": "code",
   "execution_count": 10,
   "id": "8e1ef916",
   "metadata": {},
   "outputs": [
    {
     "name": "stdout",
     "output_type": "stream",
     "text": [
      "a: ['banana', 'coconut']\n",
      "b: 3\n",
      "c: strawberry\n"
     ]
    }
   ],
   "source": [
    "# 201500684 박종혁\n",
    "\n",
    "keys = [\"a\", \"b\", \"c\"]\n",
    "values = [[\"banana\", \"coconut\"], 3, \"strawberry\"]\n",
    "\n",
    "dict = {}\n",
    "for i in range(len(keys)):\n",
    "    if keys[i] not in dict:\n",
    "        dict[keys[i]] = values[i]\n",
    "\n",
    "for key, value in dict.items():\n",
    "    print(key, end=\": \")\n",
    "    print(value)\n",
    "\n",
    "# 201500684 박종혁"
   ]
  },
  {
   "cell_type": "code",
   "execution_count": null,
   "id": "b166571b",
   "metadata": {},
   "outputs": [],
   "source": []
  },
  {
   "cell_type": "code",
   "execution_count": null,
   "id": "6c3383c5",
   "metadata": {},
   "outputs": [],
   "source": []
  }
 ],
 "metadata": {
  "kernelspec": {
   "display_name": "Python 3 (ipykernel)",
   "language": "python",
   "name": "python3"
  },
  "language_info": {
   "codemirror_mode": {
    "name": "ipython",
    "version": 3
   },
   "file_extension": ".py",
   "mimetype": "text/x-python",
   "name": "python",
   "nbconvert_exporter": "python",
   "pygments_lexer": "ipython3",
   "version": "3.9.7"
  }
 },
 "nbformat": 4,
 "nbformat_minor": 5
}
