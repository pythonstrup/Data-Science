{
 "cells": [
  {
   "cell_type": "code",
   "execution_count": 1,
   "id": "6ab865f3",
   "metadata": {},
   "outputs": [
    {
     "name": "stdout",
     "output_type": "stream",
     "text": [
      "0: apple\n",
      "1: watermelon\n",
      "2: banana\n",
      "3: mango\n",
      "4: pear\n",
      "['apple', 'watermelon', 'banana', 'mango', 'pear', '']\n"
     ]
    }
   ],
   "source": [
    "# 201500684 박종혁\n",
    "import csv\n",
    "\n",
    "a = [\"apple\", \"watermelon\"]\n",
    "b = [\"banana\"]\n",
    "c = [\"mango\", \"pear\"]\n",
    "\n",
    "myarr = a + b +c \n",
    "\n",
    "for i in range(len(myarr)):\n",
    "    print(str(i)+\": \"+myarr[i])\n",
    "\n",
    "f = open(\"fruits.csv\", \"w\")\n",
    "for i in myarr:\n",
    "    f.write(i + \",\")\n",
    "\n",
    "f.close()\n",
    "\n",
    "f2 = open(\"fruits.csv\", \"r\")\n",
    "content = csv.reader(f2)\n",
    "for line in content:\n",
    "    print(line)\n",
    "    \n",
    "f2.close()\n",
    "# 201500684 박종혁"
   ]
  },
  {
   "cell_type": "code",
   "execution_count": null,
   "id": "5611ce48",
   "metadata": {},
   "outputs": [],
   "source": []
  }
 ],
 "metadata": {
  "kernelspec": {
   "display_name": "Python 3 (ipykernel)",
   "language": "python",
   "name": "python3"
  },
  "language_info": {
   "codemirror_mode": {
    "name": "ipython",
    "version": 3
   },
   "file_extension": ".py",
   "mimetype": "text/x-python",
   "name": "python",
   "nbconvert_exporter": "python",
   "pygments_lexer": "ipython3",
   "version": "3.9.7"
  }
 },
 "nbformat": 4,
 "nbformat_minor": 5
}
