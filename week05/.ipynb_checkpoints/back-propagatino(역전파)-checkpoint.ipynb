{
 "cells": [
  {
   "cell_type": "code",
   "execution_count": null,
   "id": "4d5a43d8",
   "metadata": {},
   "outputs": [],
   "source": [
    "# Backward propagation"
   ]
  },
  {
   "cell_type": "code",
   "execution_count": 34,
   "id": "e7543c0c",
   "metadata": {},
   "outputs": [
    {
     "data": {
      "text/plain": [
       "0.32"
      ]
     },
     "execution_count": 34,
     "metadata": {},
     "output_type": "execute_result"
    },
    {
     "data": {
      "text/plain": [
       "0.1"
      ]
     },
     "execution_count": 34,
     "metadata": {},
     "output_type": "execute_result"
    },
    {
     "data": {
      "text/plain": [
       "0.4800000000000001"
      ]
     },
     "execution_count": 34,
     "metadata": {},
     "output_type": "execute_result"
    },
    {
     "data": {
      "text/plain": [
       "0.4"
      ]
     },
     "execution_count": 34,
     "metadata": {},
     "output_type": "execute_result"
    },
    {
     "data": {
      "text/plain": [
       "0.42000000000000004"
      ]
     },
     "execution_count": 34,
     "metadata": {},
     "output_type": "execute_result"
    },
    {
     "data": {
      "text/plain": [
       "0.8800000000000001"
      ]
     },
     "execution_count": 34,
     "metadata": {},
     "output_type": "execute_result"
    }
   ],
   "source": [
    "from IPython.core.interactiveshell import InteractiveShell\n",
    "InteractiveShell.ast_node_interactivity = \"all\"\n",
    "\n",
    "import numpy as np\n",
    "\n",
    "def sigmoid(x):\n",
    "    return 1 / (1 + np.exp(-x))\n",
    "\n",
    "e1 = 0.8\n",
    "e2 = 0.5\n",
    "w = np.array([[2.0, 1.0], [3.0, 4.0]])\n",
    "\n",
    "e1 * w[0][0] / (w[0][0] + w[1][0])\n",
    "e2 * w[0][1] / (w[0][1] + w[1][1])\n",
    "e_hidden1 = e1 * w[0][0] / (w[0][0] + w[1][0]) + e2 * w[0][1] / (w[0][1] + w[1][1])\n",
    "\n",
    "e1 * w[1][0] / (w[0][0] + w[1][0])\n",
    "e2 * w[1][1] / (w[0][1] + w[1][1])\n",
    "e_hidden2 = e1 * w[1][0] / (w[0][0] + w[1][0]) + e2 * w[1][1] / (w[0][1] + w[1][1])\n",
    "\n",
    "e_hidden1\n",
    "e_hidden2"
   ]
  },
  {
   "cell_type": "code",
   "execution_count": 36,
   "id": "c9201092",
   "metadata": {},
   "outputs": [
    {
     "data": {
      "text/plain": [
       "0.25200000000000006"
      ]
     },
     "execution_count": 36,
     "metadata": {},
     "output_type": "execute_result"
    },
    {
     "data": {
      "text/plain": [
       "0.11000000000000001"
      ]
     },
     "execution_count": 36,
     "metadata": {},
     "output_type": "execute_result"
    },
    {
     "data": {
      "text/plain": [
       "0.10500000000000001"
      ]
     },
     "execution_count": 36,
     "metadata": {},
     "output_type": "execute_result"
    },
    {
     "data": {
      "text/plain": [
       "0.7700000000000001"
      ]
     },
     "execution_count": 36,
     "metadata": {},
     "output_type": "execute_result"
    },
    {
     "data": {
      "text/plain": [
       "0.3620000000000001"
      ]
     },
     "execution_count": 36,
     "metadata": {},
     "output_type": "execute_result"
    },
    {
     "data": {
      "text/plain": [
       "0.9380000000000002"
      ]
     },
     "execution_count": 36,
     "metadata": {},
     "output_type": "execute_result"
    }
   ],
   "source": [
    "w = np.array([[3.0, 1.0], [2.0, 7.0]])\n",
    "\n",
    "e_hidden1 * w[0][0] / (w[0][0] + w[1][0])\n",
    "e_hidden2 * w[0][1] / (w[0][1] + w[1][1])\n",
    "e_input1 = e_hidden1 * w[0][0] / (w[0][0] + w[1][0]) + e_hidden2 * w[0][1] / (w[0][1] + w[1][1])\n",
    "\n",
    "e_hidden1 * w[1][0] / (w[0][0] + w[1][0])\n",
    "e_hidden2 * w[1][1] / (w[0][1] + w[1][1])\n",
    "e_input2 = e_hidden1 * w[1][0] / (w[0][0] + w[1][0]) + e_hidden2 * w[1][1] / (w[0][1] + w[1][1])\n",
    "\n",
    "e_input1\n",
    "e_input2"
   ]
  },
  {
   "cell_type": "code",
   "execution_count": null,
   "id": "23d59734",
   "metadata": {},
   "outputs": [],
   "source": [
    "# Weight Update"
   ]
  },
  {
   "cell_type": "code",
   "execution_count": 50,
   "id": "2336ac54",
   "metadata": {},
   "outputs": [
    {
     "name": "stdout",
     "output_type": "stream",
     "text": [
      "[[2.00265023 1.00190637]\n",
      " [3.00265023 4.00190637]]\n"
     ]
    }
   ],
   "source": [
    "o1 = 0.4\n",
    "o2 = 0.5\n",
    "e1 = 0.8\n",
    "e2 = 0.5\n",
    "w = np.array([[2.0, 1.0], [3.0, 4.0]])\n",
    "\n",
    "weight1 = (w[0][0] * o1 + w[1][0] * o2)\n",
    "weight2 = (w[0][1] * o1 + w[1][1] * o2)\n",
    "\n",
    "error_inclination1 = -e1 * sigmoid(weight1) * (1-sigmoid(weight1)) * o1\n",
    "error_inclination2 = -e2 * sigmoid(weight2) * (1-sigmoid(weight2)) * o2\n",
    "\n",
    "w[0][0] -= 0.1 * error_inclination1\n",
    "w[1][0] -= 0.1 * error_inclination1\n",
    "w[0][1] -= 0.1 * error_inclination2\n",
    "w[1][1] -= 0.1 * error_inclination2\n",
    "\n",
    "print(w)\n",
    "\n",
    "# input=np.array([-0.14938188,0.02134027], ndmin=2).T \n",
    "# input"
   ]
  },
  {
   "cell_type": "code",
   "execution_count": null,
   "id": "c3a4891f",
   "metadata": {},
   "outputs": [],
   "source": [
    "# 은닉계층의 모든 역전파 오차 값과 모든 가중치들의 업데이트 계산"
   ]
  },
  {
   "cell_type": "code",
   "execution_count": null,
   "id": "8689b724",
   "metadata": {},
   "outputs": [],
   "source": [
    "targets = numpy.array([[0.01], [0.01], [0.99]]) "
   ]
  },
  {
   "cell_type": "code",
   "execution_count": null,
   "id": "d1026043",
   "metadata": {},
   "outputs": [],
   "source": []
  },
  {
   "cell_type": "code",
   "execution_count": null,
   "id": "2a96addc",
   "metadata": {},
   "outputs": [],
   "source": []
  }
 ],
 "metadata": {
  "kernelspec": {
   "display_name": "Python 3 (ipykernel)",
   "language": "python",
   "name": "python3"
  },
  "language_info": {
   "codemirror_mode": {
    "name": "ipython",
    "version": 3
   },
   "file_extension": ".py",
   "mimetype": "text/x-python",
   "name": "python",
   "nbconvert_exporter": "python",
   "pygments_lexer": "ipython3",
   "version": "3.9.7"
  }
 },
 "nbformat": 4,
 "nbformat_minor": 5
}
