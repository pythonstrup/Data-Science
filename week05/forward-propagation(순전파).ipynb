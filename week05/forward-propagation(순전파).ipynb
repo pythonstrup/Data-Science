{
 "cells": [
  {
   "cell_type": "code",
   "execution_count": null,
   "id": "05163659",
   "metadata": {},
   "outputs": [],
   "source": [
    "# Forward propagation"
   ]
  },
  {
   "cell_type": "code",
   "execution_count": 8,
   "id": "d6502ab6",
   "metadata": {},
   "outputs": [
    {
     "data": {
      "text/plain": [
       "array([[1.16],\n",
       "       [0.42],\n",
       "       [0.62]])"
      ]
     },
     "execution_count": 8,
     "metadata": {},
     "output_type": "execute_result"
    }
   ],
   "source": [
    "import numpy as np\n",
    "\n",
    "def sigmod(x):\n",
    "    return 1 / (1+np.exp(-x))\n",
    "\n",
    "input = np.array([[0.9], [0.1], [0.8]])\n",
    "w_input = np.array([[0.9, 0.3, 0.4], [0.2, 0.8, 0.2], [0.1, 0.5, 0.6]])\n",
    "w_output = np.array([[0.3, 0.7, 0.5], [0.6, 0.5, 0.2], [0.8, 0.1, 0.9]])\n",
    "\n",
    "x_hidden = np.dot(w_input, input)\n",
    "x_hidden"
   ]
  },
  {
   "cell_type": "code",
   "execution_count": 9,
   "id": "b0e0f77e",
   "metadata": {},
   "outputs": [
    {
     "data": {
      "text/plain": [
       "array([[0.76133271],\n",
       "       [0.60348325],\n",
       "       [0.65021855]])"
      ]
     },
     "execution_count": 9,
     "metadata": {},
     "output_type": "execute_result"
    }
   ],
   "source": [
    "o_hidden = sigmod(x_hidden)\n",
    "o_hidden"
   ]
  },
  {
   "cell_type": "code",
   "execution_count": 10,
   "id": "85c4ae88",
   "metadata": {},
   "outputs": [
    {
     "data": {
      "text/plain": [
       "array([[0.97594736],\n",
       "       [0.88858496],\n",
       "       [1.25461119]])"
      ]
     },
     "execution_count": 10,
     "metadata": {},
     "output_type": "execute_result"
    }
   ],
   "source": [
    "x_output = np.dot(w_output, o_hidden)\n",
    "x_output"
   ]
  },
  {
   "cell_type": "code",
   "execution_count": 12,
   "id": "eba653d8",
   "metadata": {},
   "outputs": [
    {
     "data": {
      "text/plain": [
       "array([[0.72630335],\n",
       "       [0.70859807],\n",
       "       [0.77809706]])"
      ]
     },
     "execution_count": 12,
     "metadata": {},
     "output_type": "execute_result"
    }
   ],
   "source": [
    "o_output = sigmod(x_output)\n",
    "o_output"
   ]
  },
  {
   "cell_type": "code",
   "execution_count": null,
   "id": "99b9a5a9",
   "metadata": {},
   "outputs": [],
   "source": []
  }
 ],
 "metadata": {
  "kernelspec": {
   "display_name": "Python 3 (ipykernel)",
   "language": "python",
   "name": "python3"
  },
  "language_info": {
   "codemirror_mode": {
    "name": "ipython",
    "version": 3
   },
   "file_extension": ".py",
   "mimetype": "text/x-python",
   "name": "python",
   "nbconvert_exporter": "python",
   "pygments_lexer": "ipython3",
   "version": "3.9.7"
  }
 },
 "nbformat": 4,
 "nbformat_minor": 5
}
