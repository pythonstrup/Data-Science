{
 "cells": [
  {
   "cell_type": "markdown",
   "id": "b288c549",
   "metadata": {},
   "source": [
    "#### 201500684 박종혁\n",
    "\n",
    "### 7.4 데이터 증강 실습 코드 debugging"
   ]
  },
  {
   "cell_type": "code",
   "execution_count": 1,
   "id": "25b2d5bf",
   "metadata": {},
   "outputs": [
    {
     "name": "stdout",
     "output_type": "stream",
     "text": [
      "Requirement already satisfied: torch in c:\\users\\ghpmc\\anaconda3\\envs\\pytorch\\lib\\site-packages (1.11.0)\n",
      "Requirement already satisfied: torchvision in c:\\users\\ghpmc\\anaconda3\\envs\\pytorch\\lib\\site-packages (0.12.0)\n",
      "Requirement already satisfied: typing_extensions in c:\\users\\ghpmc\\anaconda3\\envs\\pytorch\\lib\\site-packages (from torch) (4.1.1)\n",
      "Requirement already satisfied: numpy in c:\\users\\ghpmc\\anaconda3\\envs\\pytorch\\lib\\site-packages (from torchvision) (1.16.6)\n",
      "Requirement already satisfied: requests in c:\\users\\ghpmc\\anaconda3\\envs\\pytorch\\lib\\site-packages (from torchvision) (2.27.1)\n",
      "Requirement already satisfied: pillow!=8.3.*,>=5.3.0 in c:\\users\\ghpmc\\anaconda3\\envs\\pytorch\\lib\\site-packages (from torchvision) (9.0.1)\n",
      "Requirement already satisfied: certifi>=2017.4.17 in c:\\users\\ghpmc\\anaconda3\\envs\\pytorch\\lib\\site-packages (from requests->torchvision) (2021.10.8)\n",
      "Requirement already satisfied: idna<4,>=2.5 in c:\\users\\ghpmc\\anaconda3\\envs\\pytorch\\lib\\site-packages (from requests->torchvision) (3.3)\n",
      "Requirement already satisfied: charset-normalizer~=2.0.0 in c:\\users\\ghpmc\\anaconda3\\envs\\pytorch\\lib\\site-packages (from requests->torchvision) (2.0.4)\n",
      "Requirement already satisfied: urllib3<1.27,>=1.21.1 in c:\\users\\ghpmc\\anaconda3\\envs\\pytorch\\lib\\site-packages (from requests->torchvision) (1.26.9)\n"
     ]
    }
   ],
   "source": [
    "!pip install torch torchvision"
   ]
  },
  {
   "cell_type": "code",
   "execution_count": 2,
   "id": "369da4bd",
   "metadata": {},
   "outputs": [],
   "source": [
    "import numpy as np\n",
    "import torch\n",
    "import torch.nn as nn\n",
    "import torch.optim as optim\n",
    "import torch.nn.init as init\n",
    "import torchvision.datasets as dset\n",
    "import torchvision.transforms as transforms\n",
    "from torch.utils.data import DataLoader\n",
    "\n",
    "from PIL import Image\n",
    "import matplotlib.pyplot as plt\n",
    "%matplotlib inline"
   ]
  },
  {
   "cell_type": "code",
   "execution_count": 3,
   "id": "0669dc90",
   "metadata": {},
   "outputs": [],
   "source": [
    "batch_size = 256\n",
    "learning_rate = 0.0002\n",
    "num_epoch = 10"
   ]
  },
  {
   "cell_type": "code",
   "execution_count": 4,
   "id": "152fa30d",
   "metadata": {},
   "outputs": [],
   "source": [
    "mnist_train = dset.MNIST(\"./\", train=True, \n",
    "                         transform = transforms.Compose([\n",
    "                             transforms.Resize(34),                             # 원래 28x28인 이미지를 34x34로 늘립니다.\n",
    "                             transforms.CenterCrop(28),                         # 중앙 28x28를 뽑아냅니다.\n",
    "                             transforms.RandomHorizontalFlip(),                 # 랜덤하게 좌우반전 합니다.\n",
    "                             transforms.Lambda(lambda x: x.rotate(90)),         # 람다함수를 이용해 90도 회전해줍니다.\n",
    "                             transforms.ToTensor(),                             # 이미지를 텐서로 변형합니다.\n",
    "                         ]),\n",
    "                         target_transform=None,\n",
    "                         download=True)\n",
    "\n",
    "\n",
    "mnist_test = dset.MNIST(\"./\", train=False, transform=transforms.ToTensor(), target_transform=None, download=True)"
   ]
  },
  {
   "cell_type": "code",
   "execution_count": 5,
   "id": "003bc7d3",
   "metadata": {},
   "outputs": [
    {
     "name": "stdout",
     "output_type": "stream",
     "text": [
      "torch.Size([1, 28, 28]) 60000\n"
     ]
    },
    {
     "data": {
      "text/plain": [
       "(torch.Size([1, 28, 28]), 10000)"
      ]
     },
     "execution_count": 5,
     "metadata": {},
     "output_type": "execute_result"
    }
   ],
   "source": [
    "print(mnist_train.__getitem__(0)[0].size(), mnist_train.__len__())\n",
    "mnist_test.__getitem__(0)[0].size(), mnist_test.__len__()"
   ]
  },
  {
   "cell_type": "code",
   "execution_count": 6,
   "id": "55ac9c30",
   "metadata": {},
   "outputs": [],
   "source": [
    "train_loader = torch.utils.data.DataLoader(mnist_train,batch_size=batch_size, shuffle=True,num_workers=0,drop_last=True)\n",
    "test_loader = torch.utils.data.DataLoader(mnist_test,batch_size=batch_size, shuffle=False,num_workers=0,drop_last=True)"
   ]
  },
  {
   "cell_type": "code",
   "execution_count": 7,
   "id": "77513bd2",
   "metadata": {},
   "outputs": [
    {
     "data": {
      "image/png": "[encoded data removed]",
      "text/plain": [
       "<Figure size 432x288 with 1 Axes>"
      ]
     },
     "metadata": {
      "needs_background": "light"
     },
     "output_type": "display_data"
    },
    {
     "data": {
      "image/png": "[encoded data removed]",
      "text/plain": [
       "<Figure size 432x288 with 1 Axes>"
      ]
     },
     "metadata": {
      "needs_background": "light"
     },
     "output_type": "display_data"
    },
    {
     "data": {
      "image/png": "[encoded data removed]",
      "text/plain": [
       "<Figure size 432x288 with 1 Axes>"
      ]
     },
     "metadata": {
      "needs_background": "light"
     },
     "output_type": "display_data"
    },
    {
     "data": {
      "image/png": "[encoded data removed]",
      "text/plain": [
       "<Figure size 432x288 with 1 Axes>"
      ]
     },
     "metadata": {
      "needs_background": "light"
     },
     "output_type": "display_data"
    },
    {
     "data": {
      "image/png": "[encoded data removed]",
      "text/plain": [
       "<Figure size 432x288 with 1 Axes>"
      ]
     },
     "metadata": {
      "needs_background": "light"
     },
     "output_type": "display_data"
    },
    {
     "data": {
      "image/png": "[encoded data removed]",
      "text/plain": [
       "<Figure size 432x288 with 1 Axes>"
      ]
     },
     "metadata": {
      "needs_background": "light"
     },
     "output_type": "display_data"
    },
    {
     "data": {
      "image/png": "[encoded data removed]",
      "text/plain": [
       "<Figure size 432x288 with 1 Axes>"
      ]
     },
     "metadata": {
      "needs_background": "light"
     },
     "output_type": "display_data"
    }
   ],
   "source": [
    "# 이미지를 보면 알수 있듯이 augmentation을 데이터에 맞게 하지 않으면 말도 안되는걸 학습하게 됩니다.\n",
    "# 90도 돌리거나 좌우반전을 함으로써 의미를 잃어버리는 경우도 있기 때문에 데이터에 맞는 augmentation을 해야합니다.\n",
    "\n",
    "for idx,(img,label) in enumerate(train_loader):\n",
    "    plt.imshow(img[0,0,...],cmap=\"gray\")\n",
    "    plt.show()\n",
    "    if idx > 5:\n",
    "        break"
   ]
  },
  {
   "cell_type": "code",
   "execution_count": 8,
   "id": "81dbbb34",
   "metadata": {},
   "outputs": [],
   "source": [
    "class CNN(nn.Module):\n",
    "    def __init__(self):\n",
    "        super(CNN,self).__init__()\n",
    "        self.layer = nn.Sequential(\n",
    "            nn.Conv2d(1,16,3,padding=1),  # 28 x 28\n",
    "            nn.ReLU(),\n",
    "            nn.Conv2d(16,32,3,padding=1), # 28 x 28\n",
    "            nn.ReLU(),\n",
    "            nn.MaxPool2d(2,2),            # 14 x 14\n",
    "            nn.Conv2d(32,64,3,padding=1), # 14 x 14\n",
    "            nn.ReLU(),\n",
    "            nn.MaxPool2d(2,2)             #  7 x 7\n",
    "        )\n",
    "        self.fc_layer = nn.Sequential(\n",
    "            nn.Linear(64*7*7,100),\n",
    "            nn.ReLU(),\n",
    "            nn.Linear(100,10)\n",
    "        )       \n",
    "        \n",
    "    def forward(self,x):\n",
    "        out = self.layer(x)\n",
    "        out = out.view(batch_size,-1)\n",
    "        out = self.fc_layer(out)\n",
    "        return out"
   ]
  },
  {
   "cell_type": "code",
   "execution_count": 9,
   "id": "614ef75b",
   "metadata": {},
   "outputs": [
    {
     "name": "stdout",
     "output_type": "stream",
     "text": [
      "cuda:0\n"
     ]
    }
   ],
   "source": [
    "device = torch.device(\"cuda:0\" if torch.cuda.is_available() else \"cpu\")\n",
    "print(device)\n",
    "\n",
    "model = CNN().to(device)\n",
    "loss_func = nn.CrossEntropyLoss()\n",
    "optimizer = torch.optim.SGD(model.parameters(), lr=learning_rate)"
   ]
  },
  {
   "cell_type": "code",
   "execution_count": 10,
   "id": "fd14f4f2",
   "metadata": {},
   "outputs": [
    {
     "name": "stdout",
     "output_type": "stream",
     "text": [
      "tensor(2.3009, device='cuda:0', grad_fn=<NllLossBackward0>)\n",
      "tensor(2.2953, device='cuda:0', grad_fn=<NllLossBackward0>)\n",
      "tensor(2.3015, device='cuda:0', grad_fn=<NllLossBackward0>)\n",
      "tensor(2.3050, device='cuda:0', grad_fn=<NllLossBackward0>)\n",
      "tensor(2.3085, device='cuda:0', grad_fn=<NllLossBackward0>)\n",
      "tensor(2.3020, device='cuda:0', grad_fn=<NllLossBackward0>)\n",
      "tensor(2.3007, device='cuda:0', grad_fn=<NllLossBackward0>)\n",
      "tensor(2.3018, device='cuda:0', grad_fn=<NllLossBackward0>)\n",
      "tensor(2.3041, device='cuda:0', grad_fn=<NllLossBackward0>)\n",
      "tensor(2.3003, device='cuda:0', grad_fn=<NllLossBackward0>)\n"
     ]
    }
   ],
   "source": [
    "for i in range(num_epoch):\n",
    "    for j,[image,label] in enumerate(train_loader):\n",
    "        x = image.to(device)\n",
    "        y_= label.to(device)\n",
    "        \n",
    "        optimizer.zero_grad()\n",
    "        output = model.forward(x)\n",
    "        loss = loss_func(output,y_)\n",
    "        loss.backward()\n",
    "        optimizer.step()\n",
    "        \n",
    "    \n",
    "    print(loss)          "
   ]
  },
  {
   "cell_type": "code",
   "execution_count": 11,
   "id": "5ac0e002",
   "metadata": {},
   "outputs": [
    {
     "name": "stdout",
     "output_type": "stream",
     "text": [
      "Accuracy of Test Data: 10.526843070983887\n"
     ]
    }
   ],
   "source": [
    "correct = 0\n",
    "total = 0\n",
    "\n",
    "with torch.no_grad():\n",
    "    for image,label in test_loader:\n",
    "        x = image.to(device)\n",
    "        y_= label.to(device)\n",
    "\n",
    "        output = model.forward(x)\n",
    "        _,output_index = torch.max(output,1)\n",
    "\n",
    "        total += label.size(0)\n",
    "        correct += (output_index == y_).sum().float()\n",
    "\n",
    "    print(\"Accuracy of Test Data: {}\".format(100*correct/total))"
   ]
  },
  {
   "cell_type": "markdown",
   "id": "eb4f0df5",
   "metadata": {},
   "source": [
    "### 7.6 학습률 실습 코드의 하이퍼파라미터를 최적화하여 정확도를 개선\n",
    "\n",
    "- 학습률 최적화 learning_rate = 0.1, 0.2, 0.3, 0.4, 0.5"
   ]
  },
  {
   "cell_type": "markdown",
   "id": "9ed94089",
   "metadata": {},
   "source": [
    "### 학습률 = 0.1"
   ]
  },
  {
   "cell_type": "code",
   "execution_count": 12,
   "id": "909160b7",
   "metadata": {},
   "outputs": [],
   "source": [
    "import numpy as np\n",
    "import torch\n",
    "import torch.nn as nn\n",
    "import torch.optim as optim\n",
    "import torch.nn.init as init\n",
    "import torchvision.datasets as dset\n",
    "import torchvision.transforms as transforms\n",
    "from torch.optim import lr_scheduler\n",
    "from torch.utils.data import DataLoader"
   ]
  },
  {
   "cell_type": "code",
   "execution_count": 13,
   "id": "4acd0e59",
   "metadata": {},
   "outputs": [
    {
     "name": "stdout",
     "output_type": "stream",
     "text": [
      "torch.Size([1, 28, 28]) 60000\n"
     ]
    }
   ],
   "source": [
    "batch_size = 256\n",
    "learning_rate = 0.1\n",
    "num_epoch = 10\n",
    "\n",
    "mnist_train = dset.MNIST(\"./\", train=True, transform=transforms.ToTensor(), target_transform=None, download=True)\n",
    "mnist_test = dset.MNIST(\"./\", train=False, transform=transforms.ToTensor(), target_transform=None, download=True)\n",
    "\n",
    "print(mnist_train.__getitem__(0)[0].size(), mnist_train.__len__())\n",
    "mnist_test.__getitem__(0)[0].size(), mnist_test.__len__()\n",
    "\n",
    "train_loader = torch.utils.data.DataLoader(mnist_train,batch_size=batch_size, shuffle=True,num_workers=2,drop_last=True)\n",
    "test_loader = torch.utils.data.DataLoader(mnist_test,batch_size=batch_size, shuffle=False,num_workers=2,drop_last=True)"
   ]
  },
  {
   "cell_type": "code",
   "execution_count": 14,
   "id": "3d647c8e",
   "metadata": {},
   "outputs": [],
   "source": [
    "class CNN(nn.Module):\n",
    "    def __init__(self):\n",
    "        super(CNN,self).__init__()\n",
    "        self.layer = nn.Sequential(\n",
    "            nn.Conv2d(1,16,3,padding=1),  # 28 x 28\n",
    "            nn.ReLU(),\n",
    "            nn.Conv2d(16,32,3,padding=1), # 28 x 28\n",
    "            nn.ReLU(),\n",
    "            nn.MaxPool2d(2,2),            # 14 x 14\n",
    "            nn.Conv2d(32,64,3,padding=1), # 14 x 14\n",
    "            nn.ReLU(),\n",
    "            nn.MaxPool2d(2,2)             #  7 x 7\n",
    "        )\n",
    "        self.fc_layer = nn.Sequential(\n",
    "            nn.Linear(64*7*7,100),\n",
    "            nn.ReLU(),\n",
    "            nn.Linear(100,10)\n",
    "        )        \n",
    "        \n",
    "    def forward(self,x):\n",
    "        out = self.layer(x)\n",
    "        out = out.view(batch_size,-1)\n",
    "        out = self.fc_layer(out)\n",
    "        return out"
   ]
  },
  {
   "cell_type": "code",
   "execution_count": 15,
   "id": "a268a2ec",
   "metadata": {},
   "outputs": [
    {
     "name": "stdout",
     "output_type": "stream",
     "text": [
      "cuda:0\n",
      "['__class__', '__delattr__', '__dict__', '__dir__', '__doc__', '__eq__', '__format__', '__ge__', '__getattribute__', '__gt__', '__hash__', '__init__', '__init_subclass__', '__le__', '__lt__', '__module__', '__ne__', '__new__', '__reduce__', '__reduce_ex__', '__repr__', '__setattr__', '__sizeof__', '__str__', '__subclasshook__', '__weakref__', '_init_is_better', '_reduce_lr', '_reset', 'best', 'cooldown', 'cooldown_counter', 'eps', 'factor', 'in_cooldown', 'is_better', 'last_epoch', 'load_state_dict', 'min_lrs', 'mode', 'mode_worse', 'num_bad_epochs', 'optimizer', 'patience', 'state_dict', 'step', 'threshold', 'threshold_mode', 'verbose']\n",
      "['__class__', '__delattr__', '__dict__', '__dir__', '__doc__', '__eq__', '__format__', '__ge__', '__getattribute__', '__getstate__', '__gt__', '__hash__', '__init__', '__init_subclass__', '__le__', '__lt__', '__module__', '__ne__', '__new__', '__reduce__', '__reduce_ex__', '__repr__', '__setattr__', '__setstate__', '__sizeof__', '__str__', '__subclasshook__', '__weakref__', '_hook_for_profile', '_zero_grad_profile_name', 'add_param_group', 'defaults', 'load_state_dict', 'param_groups', 'state', 'state_dict', 'step', 'zero_grad']\n"
     ]
    }
   ],
   "source": [
    "device = torch.device(\"cuda:0\" if torch.cuda.is_available() else \"cpu\")\n",
    "print(device)\n",
    "\n",
    "model = CNN().to(device)\n",
    "loss_func = nn.CrossEntropyLoss()\n",
    "optimizer = torch.optim.SGD(model.parameters(), lr=learning_rate)\n",
    "\n",
    "# 지정한 스텝 단위로 학습률에 감마를 곱해 학습률을 감소시킵니다.\n",
    "#scheduler = lr_scheduler.StepLR(optimizer, step_size=1, gamma= 0.99)       \n",
    "\n",
    "# 지정한 스텝 지점(예시에서는 10,30,80)마다 학습률에 감마를 곱해줍니다.\n",
    "#scheduler = lr_scheduler.MultiStepLR(optimizer, milestones=[10,30,80], gamma= 0.1)  \n",
    "\n",
    "# 매 epoch마다 학습률에 감마를 곱해줍니다.\n",
    "#scheduler = lr_scheduler.ExponentialLR(optimizer, gamma= 0.99)                             \n",
    "\n",
    "# https://pytorch.org/docs/stable/optim.html?highlight=lr_scheduler#torch.optim.lr_scheduler.ReduceLROnPlateau\n",
    "# 지정한 메트릭으로 측정한 값이 더 나아지지 않으면 학습률을 감소시킵니다. ex) 정확도, dice score 등등\n",
    "# 이 스케쥴러에는 다양한 인자가 들어가는데 각각의 역할은 도큐먼트를 참고 바랍니다.\n",
    "# 여기서는 patience 즉, 지정한 값이 줄어들지 않을때 몇 epoch 만큼을 지켜볼 것인지를 1로 낮춰놨기 때문에 매 epoch 마다 학습률이 감소하는것을 확인할 수 있습니다.\n",
    "scheduler = lr_scheduler.ReduceLROnPlateau(optimizer,threshold=1,patience=1,mode='min')    \n",
    "\n",
    "# 참고 https://www.geeksforgeeks.org/python-dir-function/\n",
    "print(dir(scheduler))\n",
    "print(dir(optimizer))"
   ]
  },
  {
   "cell_type": "code",
   "execution_count": 16,
   "id": "bf7c9028",
   "metadata": {},
   "outputs": [
    {
     "name": "stdout",
     "output_type": "stream",
     "text": [
      "tensor(0.3258, device='cuda:0', grad_fn=<NllLossBackward0>)\n",
      "Epoch: 0, Learning Rate: 0.1\n",
      "tensor(0.0739, device='cuda:0', grad_fn=<NllLossBackward0>)\n",
      "Epoch: 1, Learning Rate: 0.010000000000000002\n",
      "tensor(0.0534, device='cuda:0', grad_fn=<NllLossBackward0>)\n",
      "Epoch: 2, Learning Rate: 0.010000000000000002\n",
      "tensor(0.0816, device='cuda:0', grad_fn=<NllLossBackward0>)\n",
      "Epoch: 3, Learning Rate: 0.0010000000000000002\n",
      "tensor(0.0410, device='cuda:0', grad_fn=<NllLossBackward0>)\n",
      "Epoch: 4, Learning Rate: 0.0010000000000000002\n",
      "tensor(0.0682, device='cuda:0', grad_fn=<NllLossBackward0>)\n",
      "Epoch: 5, Learning Rate: 0.00010000000000000003\n",
      "tensor(0.0288, device='cuda:0', grad_fn=<NllLossBackward0>)\n",
      "Epoch: 6, Learning Rate: 0.00010000000000000003\n",
      "tensor(0.0398, device='cuda:0', grad_fn=<NllLossBackward0>)\n",
      "Epoch: 7, Learning Rate: 1.0000000000000004e-05\n",
      "tensor(0.0469, device='cuda:0', grad_fn=<NllLossBackward0>)\n",
      "Epoch: 8, Learning Rate: 1.0000000000000004e-05\n",
      "tensor(0.0544, device='cuda:0', grad_fn=<NllLossBackward0>)\n",
      "Epoch: 9, Learning Rate: 1.0000000000000004e-06\n"
     ]
    }
   ],
   "source": [
    "for i in range(num_epoch):\n",
    "    # ReduceLRONPlateau 빼고는 아래의 코드를 사용하세요\n",
    "    #scheduler.step()  \n",
    "    for j,[image,label] in enumerate(train_loader):\n",
    "        x = image.to(device)\n",
    "        y_= label.to(device)\n",
    "        \n",
    "        optimizer.zero_grad()\n",
    "        output = model.forward(x)\n",
    "        loss = loss_func(output,y_)\n",
    "        loss.backward()\n",
    "        optimizer.step()\n",
    "    \n",
    "    # ReduceLRONPlateau 만 해당됩니다. 이 코드에서는 손실이 줄어들지 않으면 학습률을 낮추도록 만들어놨습니다.\n",
    "    scheduler.step(loss)      \n",
    "    \n",
    "    print(loss)           \n",
    "    #print(\"Epoch: {}, Learning Rate: {}\".format(i,scheduler.get_lr()))  \n",
    "    print(\"Epoch: {}, Learning Rate: {}\".format(i,scheduler.optimizer.state_dict()['param_groups'][0]['lr']))"
   ]
  },
  {
   "cell_type": "code",
   "execution_count": 17,
   "id": "11e3ca43",
   "metadata": {},
   "outputs": [
    {
     "name": "stdout",
     "output_type": "stream",
     "text": [
      "Accuracy of Test Data: 98.0869369506836\n"
     ]
    }
   ],
   "source": [
    "correct = 0\n",
    "total = 0\n",
    "\n",
    "with torch.no_grad():\n",
    "    for image,label in test_loader:\n",
    "        x = image.to(device)\n",
    "        y_= label.to(device)\n",
    "\n",
    "        output = model.forward(x)\n",
    "        _,output_index = torch.max(output,1)\n",
    "\n",
    "        total += label.size(0)\n",
    "        correct += (output_index == y_).sum().float()\n",
    "\n",
    "    print(\"Accuracy of Test Data: {}\".format(100*correct/total))"
   ]
  },
  {
   "cell_type": "markdown",
   "id": "6f025287",
   "metadata": {},
   "source": [
    "### 학습률 = 0.2"
   ]
  },
  {
   "cell_type": "code",
   "execution_count": 18,
   "id": "bc2d5b43",
   "metadata": {},
   "outputs": [
    {
     "name": "stdout",
     "output_type": "stream",
     "text": [
      "cuda:0\n"
     ]
    }
   ],
   "source": [
    "batch_size = 256\n",
    "learning_rate = 0.2\n",
    "num_epoch = 10\n",
    "\n",
    "class CNN(nn.Module):\n",
    "    def __init__(self):\n",
    "        super(CNN,self).__init__()\n",
    "        self.layer = nn.Sequential(\n",
    "            nn.Conv2d(1,16,3,padding=1),  # 28 x 28\n",
    "            nn.ReLU(),\n",
    "            nn.Conv2d(16,32,3,padding=1), # 28 x 28\n",
    "            nn.ReLU(),\n",
    "            nn.MaxPool2d(2,2),            # 14 x 14\n",
    "            nn.Conv2d(32,64,3,padding=1), # 14 x 14\n",
    "            nn.ReLU(),\n",
    "            nn.MaxPool2d(2,2)             #  7 x 7\n",
    "        )\n",
    "        self.fc_layer = nn.Sequential(\n",
    "            nn.Linear(64*7*7,100),\n",
    "            nn.ReLU(),\n",
    "            nn.Linear(100,10)\n",
    "        )        \n",
    "        \n",
    "    def forward(self,x):\n",
    "        out = self.layer(x)\n",
    "        out = out.view(batch_size,-1)\n",
    "        out = self.fc_layer(out)\n",
    "        return out\n",
    "    \n",
    "device = torch.device(\"cuda:0\" if torch.cuda.is_available() else \"cpu\")\n",
    "print(device)\n",
    "\n",
    "model = CNN().to(device)\n",
    "loss_func = nn.CrossEntropyLoss()\n",
    "optimizer = torch.optim.SGD(model.parameters(), lr=learning_rate)\n",
    "scheduler = lr_scheduler.ReduceLROnPlateau(optimizer,threshold=1,patience=1,mode='min')"
   ]
  },
  {
   "cell_type": "code",
   "execution_count": 19,
   "id": "40f55c62",
   "metadata": {},
   "outputs": [
    {
     "name": "stdout",
     "output_type": "stream",
     "text": [
      "tensor(0.1619, device='cuda:0', grad_fn=<NllLossBackward0>)\n",
      "Epoch: 0, Learning Rate: 0.2\n",
      "tensor(0.0715, device='cuda:0', grad_fn=<NllLossBackward0>)\n",
      "Epoch: 1, Learning Rate: 0.020000000000000004\n",
      "tensor(0.0790, device='cuda:0', grad_fn=<NllLossBackward0>)\n",
      "Epoch: 2, Learning Rate: 0.020000000000000004\n",
      "tensor(0.0473, device='cuda:0', grad_fn=<NllLossBackward0>)\n",
      "Epoch: 3, Learning Rate: 0.0020000000000000005\n",
      "tensor(0.0363, device='cuda:0', grad_fn=<NllLossBackward0>)\n",
      "Epoch: 4, Learning Rate: 0.0020000000000000005\n",
      "tensor(0.0312, device='cuda:0', grad_fn=<NllLossBackward0>)\n",
      "Epoch: 5, Learning Rate: 0.00020000000000000006\n",
      "tensor(0.0156, device='cuda:0', grad_fn=<NllLossBackward0>)\n",
      "Epoch: 6, Learning Rate: 0.00020000000000000006\n",
      "tensor(0.0436, device='cuda:0', grad_fn=<NllLossBackward0>)\n",
      "Epoch: 7, Learning Rate: 2.000000000000001e-05\n",
      "tensor(0.0436, device='cuda:0', grad_fn=<NllLossBackward0>)\n",
      "Epoch: 8, Learning Rate: 2.000000000000001e-05\n",
      "tensor(0.0355, device='cuda:0', grad_fn=<NllLossBackward0>)\n",
      "Epoch: 9, Learning Rate: 2.0000000000000008e-06\n"
     ]
    }
   ],
   "source": [
    "for i in range(num_epoch):\n",
    "    # ReduceLRONPlateau 빼고는 아래의 코드를 사용하세요\n",
    "    #scheduler.step()  \n",
    "    for j,[image,label] in enumerate(train_loader):\n",
    "        x = image.to(device)\n",
    "        y_= label.to(device)\n",
    "        \n",
    "        optimizer.zero_grad()\n",
    "        output = model.forward(x)\n",
    "        loss = loss_func(output,y_)\n",
    "        loss.backward()\n",
    "        optimizer.step()\n",
    "    \n",
    "    # ReduceLRONPlateau 만 해당됩니다. 이 코드에서는 손실이 줄어들지 않으면 학습률을 낮추도록 만들어놨습니다.\n",
    "    scheduler.step(loss)      \n",
    "    \n",
    "    print(loss)           \n",
    "    #print(\"Epoch: {}, Learning Rate: {}\".format(i,scheduler.get_lr()))  \n",
    "    print(\"Epoch: {}, Learning Rate: {}\".format(i,scheduler.optimizer.state_dict()['param_groups'][0]['lr']))"
   ]
  },
  {
   "cell_type": "code",
   "execution_count": 20,
   "id": "beca34bd",
   "metadata": {},
   "outputs": [
    {
     "name": "stdout",
     "output_type": "stream",
     "text": [
      "Accuracy of Test Data: 98.56771087646484\n"
     ]
    }
   ],
   "source": [
    "correct = 0\n",
    "total = 0\n",
    "\n",
    "with torch.no_grad():\n",
    "    for image,label in test_loader:\n",
    "        x = image.to(device)\n",
    "        y_= label.to(device)\n",
    "\n",
    "        output = model.forward(x)\n",
    "        _,output_index = torch.max(output,1)\n",
    "\n",
    "        total += label.size(0)\n",
    "        correct += (output_index == y_).sum().float()\n",
    "\n",
    "    print(\"Accuracy of Test Data: {}\".format(100*correct/total))"
   ]
  },
  {
   "cell_type": "markdown",
   "id": "2b5ac786",
   "metadata": {},
   "source": [
    "### 학습률 = 0.3"
   ]
  },
  {
   "cell_type": "code",
   "execution_count": 21,
   "id": "753132f3",
   "metadata": {},
   "outputs": [
    {
     "name": "stdout",
     "output_type": "stream",
     "text": [
      "cuda:0\n"
     ]
    }
   ],
   "source": [
    "batch_size = 256\n",
    "learning_rate = 0.3\n",
    "num_epoch = 10\n",
    "\n",
    "class CNN(nn.Module):\n",
    "    def __init__(self):\n",
    "        super(CNN,self).__init__()\n",
    "        self.layer = nn.Sequential(\n",
    "            nn.Conv2d(1,16,3,padding=1),  # 28 x 28\n",
    "            nn.ReLU(),\n",
    "            nn.Conv2d(16,32,3,padding=1), # 28 x 28\n",
    "            nn.ReLU(),\n",
    "            nn.MaxPool2d(2,2),            # 14 x 14\n",
    "            nn.Conv2d(32,64,3,padding=1), # 14 x 14\n",
    "            nn.ReLU(),\n",
    "            nn.MaxPool2d(2,2)             #  7 x 7\n",
    "        )\n",
    "        self.fc_layer = nn.Sequential(\n",
    "            nn.Linear(64*7*7,100),\n",
    "            nn.ReLU(),\n",
    "            nn.Linear(100,10)\n",
    "        )        \n",
    "        \n",
    "    def forward(self,x):\n",
    "        out = self.layer(x)\n",
    "        out = out.view(batch_size,-1)\n",
    "        out = self.fc_layer(out)\n",
    "        return out\n",
    "    \n",
    "device = torch.device(\"cuda:0\" if torch.cuda.is_available() else \"cpu\")\n",
    "print(device)\n",
    "\n",
    "model = CNN().to(device)\n",
    "loss_func = nn.CrossEntropyLoss()\n",
    "optimizer = torch.optim.SGD(model.parameters(), lr=learning_rate)\n",
    "scheduler = lr_scheduler.ReduceLROnPlateau(optimizer,threshold=1,patience=1,mode='min')"
   ]
  },
  {
   "cell_type": "code",
   "execution_count": 22,
   "id": "3526951d",
   "metadata": {},
   "outputs": [
    {
     "name": "stdout",
     "output_type": "stream",
     "text": [
      "tensor(0.1856, device='cuda:0', grad_fn=<NllLossBackward0>)\n",
      "Epoch: 0, Learning Rate: 0.3\n",
      "tensor(0.0749, device='cuda:0', grad_fn=<NllLossBackward0>)\n",
      "Epoch: 1, Learning Rate: 0.03\n",
      "tensor(0.0557, device='cuda:0', grad_fn=<NllLossBackward0>)\n",
      "Epoch: 2, Learning Rate: 0.03\n",
      "tensor(0.0303, device='cuda:0', grad_fn=<NllLossBackward0>)\n",
      "Epoch: 3, Learning Rate: 0.003\n",
      "tensor(0.0259, device='cuda:0', grad_fn=<NllLossBackward0>)\n",
      "Epoch: 4, Learning Rate: 0.003\n",
      "tensor(0.0610, device='cuda:0', grad_fn=<NllLossBackward0>)\n",
      "Epoch: 5, Learning Rate: 0.00030000000000000003\n",
      "tensor(0.0216, device='cuda:0', grad_fn=<NllLossBackward0>)\n",
      "Epoch: 6, Learning Rate: 0.00030000000000000003\n",
      "tensor(0.0529, device='cuda:0', grad_fn=<NllLossBackward0>)\n",
      "Epoch: 7, Learning Rate: 3.0000000000000004e-05\n",
      "tensor(0.0221, device='cuda:0', grad_fn=<NllLossBackward0>)\n",
      "Epoch: 8, Learning Rate: 3.0000000000000004e-05\n",
      "tensor(0.0225, device='cuda:0', grad_fn=<NllLossBackward0>)\n",
      "Epoch: 9, Learning Rate: 3.0000000000000005e-06\n"
     ]
    }
   ],
   "source": [
    "for i in range(num_epoch):\n",
    "    # ReduceLRONPlateau 빼고는 아래의 코드를 사용하세요\n",
    "    #scheduler.step()  \n",
    "    for j,[image,label] in enumerate(train_loader):\n",
    "        x = image.to(device)\n",
    "        y_= label.to(device)\n",
    "        \n",
    "        optimizer.zero_grad()\n",
    "        output = model.forward(x)\n",
    "        loss = loss_func(output,y_)\n",
    "        loss.backward()\n",
    "        optimizer.step()\n",
    "    \n",
    "    # ReduceLRONPlateau 만 해당됩니다. 이 코드에서는 손실이 줄어들지 않으면 학습률을 낮추도록 만들어놨습니다.\n",
    "    scheduler.step(loss)      \n",
    "    \n",
    "    print(loss)           \n",
    "    #print(\"Epoch: {}, Learning Rate: {}\".format(i,scheduler.get_lr()))  \n",
    "    print(\"Epoch: {}, Learning Rate: {}\".format(i,scheduler.optimizer.state_dict()['param_groups'][0]['lr']))"
   ]
  },
  {
   "cell_type": "code",
   "execution_count": 23,
   "id": "1ab594ab",
   "metadata": {},
   "outputs": [
    {
     "name": "stdout",
     "output_type": "stream",
     "text": [
      "Accuracy of Test Data: 98.5977554321289\n"
     ]
    }
   ],
   "source": [
    "correct = 0\n",
    "total = 0\n",
    "\n",
    "with torch.no_grad():\n",
    "    for image,label in test_loader:\n",
    "        x = image.to(device)\n",
    "        y_= label.to(device)\n",
    "\n",
    "        output = model.forward(x)\n",
    "        _,output_index = torch.max(output,1)\n",
    "\n",
    "        total += label.size(0)\n",
    "        correct += (output_index == y_).sum().float()\n",
    "\n",
    "    print(\"Accuracy of Test Data: {}\".format(100*correct/total))"
   ]
  },
  {
   "cell_type": "markdown",
   "id": "e622a245",
   "metadata": {},
   "source": [
    "### 학습률 = 0.4"
   ]
  },
  {
   "cell_type": "code",
   "execution_count": 24,
   "id": "1219cf7e",
   "metadata": {},
   "outputs": [
    {
     "name": "stdout",
     "output_type": "stream",
     "text": [
      "cuda:0\n"
     ]
    }
   ],
   "source": [
    "batch_size = 256\n",
    "learning_rate = 0.4\n",
    "num_epoch = 10\n",
    "\n",
    "class CNN(nn.Module):\n",
    "    def __init__(self):\n",
    "        super(CNN,self).__init__()\n",
    "        self.layer = nn.Sequential(\n",
    "            nn.Conv2d(1,16,3,padding=1),  # 28 x 28\n",
    "            nn.ReLU(),\n",
    "            nn.Conv2d(16,32,3,padding=1), # 28 x 28\n",
    "            nn.ReLU(),\n",
    "            nn.MaxPool2d(2,2),            # 14 x 14\n",
    "            nn.Conv2d(32,64,3,padding=1), # 14 x 14\n",
    "            nn.ReLU(),\n",
    "            nn.MaxPool2d(2,2)             #  7 x 7\n",
    "        )\n",
    "        self.fc_layer = nn.Sequential(\n",
    "            nn.Linear(64*7*7,100),\n",
    "            nn.ReLU(),\n",
    "            nn.Linear(100,10)\n",
    "        )        \n",
    "        \n",
    "    def forward(self,x):\n",
    "        out = self.layer(x)\n",
    "        out = out.view(batch_size,-1)\n",
    "        out = self.fc_layer(out)\n",
    "        return out\n",
    "    \n",
    "device = torch.device(\"cuda:0\" if torch.cuda.is_available() else \"cpu\")\n",
    "print(device)\n",
    "\n",
    "model = CNN().to(device)\n",
    "loss_func = nn.CrossEntropyLoss()\n",
    "optimizer = torch.optim.SGD(model.parameters(), lr=learning_rate)\n",
    "scheduler = lr_scheduler.ReduceLROnPlateau(optimizer,threshold=1,patience=1,mode='min')"
   ]
  },
  {
   "cell_type": "code",
   "execution_count": 25,
   "id": "ada2b8af",
   "metadata": {},
   "outputs": [
    {
     "name": "stdout",
     "output_type": "stream",
     "text": [
      "tensor(0.1315, device='cuda:0', grad_fn=<NllLossBackward0>)\n",
      "Epoch: 0, Learning Rate: 0.4\n",
      "tensor(0.0485, device='cuda:0', grad_fn=<NllLossBackward0>)\n",
      "Epoch: 1, Learning Rate: 0.04000000000000001\n",
      "tensor(0.0482, device='cuda:0', grad_fn=<NllLossBackward0>)\n",
      "Epoch: 2, Learning Rate: 0.04000000000000001\n",
      "tensor(0.0298, device='cuda:0', grad_fn=<NllLossBackward0>)\n",
      "Epoch: 3, Learning Rate: 0.004000000000000001\n",
      "tensor(0.0241, device='cuda:0', grad_fn=<NllLossBackward0>)\n",
      "Epoch: 4, Learning Rate: 0.004000000000000001\n",
      "tensor(0.0329, device='cuda:0', grad_fn=<NllLossBackward0>)\n",
      "Epoch: 5, Learning Rate: 0.00040000000000000013\n",
      "tensor(0.0466, device='cuda:0', grad_fn=<NllLossBackward0>)\n",
      "Epoch: 6, Learning Rate: 0.00040000000000000013\n",
      "tensor(0.0222, device='cuda:0', grad_fn=<NllLossBackward0>)\n",
      "Epoch: 7, Learning Rate: 4.000000000000002e-05\n",
      "tensor(0.0468, device='cuda:0', grad_fn=<NllLossBackward0>)\n",
      "Epoch: 8, Learning Rate: 4.000000000000002e-05\n",
      "tensor(0.0324, device='cuda:0', grad_fn=<NllLossBackward0>)\n",
      "Epoch: 9, Learning Rate: 4.0000000000000015e-06\n"
     ]
    }
   ],
   "source": [
    "for i in range(num_epoch):\n",
    "    # ReduceLRONPlateau 빼고는 아래의 코드를 사용하세요\n",
    "    #scheduler.step()  \n",
    "    for j,[image,label] in enumerate(train_loader):\n",
    "        x = image.to(device)\n",
    "        y_= label.to(device)\n",
    "        \n",
    "        optimizer.zero_grad()\n",
    "        output = model.forward(x)\n",
    "        loss = loss_func(output,y_)\n",
    "        loss.backward()\n",
    "        optimizer.step()\n",
    "    \n",
    "    # ReduceLRONPlateau 만 해당됩니다. 이 코드에서는 손실이 줄어들지 않으면 학습률을 낮추도록 만들어놨습니다.\n",
    "    scheduler.step(loss)      \n",
    "    \n",
    "    print(loss)           \n",
    "    #print(\"Epoch: {}, Learning Rate: {}\".format(i,scheduler.get_lr()))  \n",
    "    print(\"Epoch: {}, Learning Rate: {}\".format(i,scheduler.optimizer.state_dict()['param_groups'][0]['lr']))"
   ]
  },
  {
   "cell_type": "code",
   "execution_count": 26,
   "id": "f2f1344d",
   "metadata": {},
   "outputs": [
    {
     "name": "stdout",
     "output_type": "stream",
     "text": [
      "Accuracy of Test Data: 98.4675521850586\n"
     ]
    }
   ],
   "source": [
    "correct = 0\n",
    "total = 0\n",
    "\n",
    "with torch.no_grad():\n",
    "    for image,label in test_loader:\n",
    "        x = image.to(device)\n",
    "        y_= label.to(device)\n",
    "\n",
    "        output = model.forward(x)\n",
    "        _,output_index = torch.max(output,1)\n",
    "\n",
    "        total += label.size(0)\n",
    "        correct += (output_index == y_).sum().float()\n",
    "\n",
    "    print(\"Accuracy of Test Data: {}\".format(100*correct/total))"
   ]
  },
  {
   "cell_type": "markdown",
   "id": "095289a5",
   "metadata": {},
   "source": [
    "### 학습률 = 0.5"
   ]
  },
  {
   "cell_type": "code",
   "execution_count": 27,
   "id": "c6cef893",
   "metadata": {},
   "outputs": [
    {
     "name": "stdout",
     "output_type": "stream",
     "text": [
      "cuda:0\n"
     ]
    }
   ],
   "source": [
    "batch_size = 256\n",
    "learning_rate = 0.5\n",
    "num_epoch = 10\n",
    "\n",
    "class CNN(nn.Module):\n",
    "    def __init__(self):\n",
    "        super(CNN,self).__init__()\n",
    "        self.layer = nn.Sequential(\n",
    "            nn.Conv2d(1,16,3,padding=1),  # 28 x 28\n",
    "            nn.ReLU(),\n",
    "            nn.Conv2d(16,32,3,padding=1), # 28 x 28\n",
    "            nn.ReLU(),\n",
    "            nn.MaxPool2d(2,2),            # 14 x 14\n",
    "            nn.Conv2d(32,64,3,padding=1), # 14 x 14\n",
    "            nn.ReLU(),\n",
    "            nn.MaxPool2d(2,2)             #  7 x 7\n",
    "        )\n",
    "        self.fc_layer = nn.Sequential(\n",
    "            nn.Linear(64*7*7,100),\n",
    "            nn.ReLU(),\n",
    "            nn.Linear(100,10)\n",
    "        )        \n",
    "        \n",
    "    def forward(self,x):\n",
    "        out = self.layer(x)\n",
    "        out = out.view(batch_size,-1)\n",
    "        out = self.fc_layer(out)\n",
    "        return out\n",
    "    \n",
    "device = torch.device(\"cuda:0\" if torch.cuda.is_available() else \"cpu\")\n",
    "print(device)\n",
    "\n",
    "model = CNN().to(device)\n",
    "loss_func = nn.CrossEntropyLoss()\n",
    "optimizer = torch.optim.SGD(model.parameters(), lr=learning_rate)\n",
    "scheduler = lr_scheduler.ReduceLROnPlateau(optimizer,threshold=1,patience=1,mode='min')"
   ]
  },
  {
   "cell_type": "code",
   "execution_count": 28,
   "id": "e802f0fa",
   "metadata": {},
   "outputs": [
    {
     "name": "stdout",
     "output_type": "stream",
     "text": [
      "tensor(2.3045, device='cuda:0', grad_fn=<NllLossBackward0>)\n",
      "Epoch: 0, Learning Rate: 0.5\n",
      "tensor(2.2962, device='cuda:0', grad_fn=<NllLossBackward0>)\n",
      "Epoch: 1, Learning Rate: 0.05\n",
      "tensor(2.2988, device='cuda:0', grad_fn=<NllLossBackward0>)\n",
      "Epoch: 2, Learning Rate: 0.05\n",
      "tensor(2.3012, device='cuda:0', grad_fn=<NllLossBackward0>)\n",
      "Epoch: 3, Learning Rate: 0.005000000000000001\n",
      "tensor(2.3010, device='cuda:0', grad_fn=<NllLossBackward0>)\n",
      "Epoch: 4, Learning Rate: 0.005000000000000001\n",
      "tensor(2.3003, device='cuda:0', grad_fn=<NllLossBackward0>)\n",
      "Epoch: 5, Learning Rate: 0.0005000000000000001\n",
      "tensor(2.3056, device='cuda:0', grad_fn=<NllLossBackward0>)\n",
      "Epoch: 6, Learning Rate: 0.0005000000000000001\n",
      "tensor(2.3038, device='cuda:0', grad_fn=<NllLossBackward0>)\n",
      "Epoch: 7, Learning Rate: 5.0000000000000016e-05\n",
      "tensor(2.2966, device='cuda:0', grad_fn=<NllLossBackward0>)\n",
      "Epoch: 8, Learning Rate: 5.0000000000000016e-05\n",
      "tensor(2.3068, device='cuda:0', grad_fn=<NllLossBackward0>)\n",
      "Epoch: 9, Learning Rate: 5.000000000000002e-06\n"
     ]
    }
   ],
   "source": [
    "for i in range(num_epoch):\n",
    "    # ReduceLRONPlateau 빼고는 아래의 코드를 사용하세요\n",
    "    #scheduler.step()  \n",
    "    for j,[image,label] in enumerate(train_loader):\n",
    "        x = image.to(device)\n",
    "        y_= label.to(device)\n",
    "        \n",
    "        optimizer.zero_grad()\n",
    "        output = model.forward(x)\n",
    "        loss = loss_func(output,y_)\n",
    "        loss.backward()\n",
    "        optimizer.step()\n",
    "    \n",
    "    # ReduceLRONPlateau 만 해당됩니다. 이 코드에서는 손실이 줄어들지 않으면 학습률을 낮추도록 만들어놨습니다.\n",
    "    scheduler.step(loss)      \n",
    "    \n",
    "    print(loss)           \n",
    "    #print(\"Epoch: {}, Learning Rate: {}\".format(i,scheduler.get_lr()))  \n",
    "    print(\"Epoch: {}, Learning Rate: {}\".format(i,scheduler.optimizer.state_dict()['param_groups'][0]['lr']))"
   ]
  },
  {
   "cell_type": "code",
   "execution_count": 29,
   "id": "bfd83485",
   "metadata": {},
   "outputs": [
    {
     "name": "stdout",
     "output_type": "stream",
     "text": [
      "Accuracy of Test Data: 11.348156929016113\n"
     ]
    }
   ],
   "source": [
    "correct = 0\n",
    "total = 0\n",
    "\n",
    "with torch.no_grad():\n",
    "    for image,label in test_loader:\n",
    "        x = image.to(device)\n",
    "        y_= label.to(device)\n",
    "\n",
    "        output = model.forward(x)\n",
    "        _,output_index = torch.max(output,1)\n",
    "\n",
    "        total += label.size(0)\n",
    "        correct += (output_index == y_).sum().float()\n",
    "\n",
    "    print(\"Accuracy of Test Data: {}\".format(100*correct/total))"
   ]
  },
  {
   "cell_type": "markdown",
   "id": "618b0dae",
   "metadata": {},
   "source": [
    "### 7.9 경사하강법의 변형 실습 코드에 모든 최적화 방법을 적용하여 개선하고 학습 시 손실을 시각화\n",
    "\n",
    "- MNIST에는 데이터증강기법이 유효하지 않으므로 사용하지 않음\n",
    "- 정형화, Dropout을 빼는 것이 효율이 더 높다.\n",
    "\n",
    "\n",
    "### 적용한 것 목록\n",
    "\n",
    "1. 초기화\n",
    "2. 학습률 스케줄링\n",
    "3. 입력데이터 정규화\n",
    "4. 배치 정규화\n",
    "5. 경사하강법 변형"
   ]
  },
  {
   "cell_type": "code",
   "execution_count": 1,
   "id": "c419b15d",
   "metadata": {},
   "outputs": [],
   "source": [
    "import numpy as np\n",
    "import torch\n",
    "import torch.nn as nn\n",
    "import torch.optim as optim\n",
    "import torch.nn.init as init\n",
    "import torchvision.datasets as dset\n",
    "import torchvision.transforms as transforms\n",
    "from torch.utils.data import DataLoader\n",
    "from torch.optim import lr_scheduler\n",
    "import matplotlib.pyplot as plt"
   ]
  },
  {
   "cell_type": "code",
   "execution_count": 2,
   "id": "64df89b1",
   "metadata": {},
   "outputs": [
    {
     "name": "stdout",
     "output_type": "stream",
     "text": [
      "torch.Size([1, 28, 28]) 60000\n"
     ]
    }
   ],
   "source": [
    "batch_size = 256\n",
    "learning_rate = 0.2 # 학습률 스케줄러가 있기때문에 큰 값으로 조정\n",
    "num_epoch = 10\n",
    "\n",
    "mnist_train = dset.MNIST(\"./\", train=True, \n",
    "                         transform=transforms.Compose([\n",
    "                            transforms.ToTensor(),\n",
    "                            transforms.Normalize(mean=(0.1307,), std=(0.3081,))  # 데이터 정규화\n",
    "                        ]),\n",
    "                         target_transform=None, \n",
    "                         download=True)\n",
    "\n",
    "mnist_test = dset.MNIST(\"./\", train=False, \n",
    "                        transform=transforms.Compose([\n",
    "                            transforms.ToTensor(),\n",
    "                            transforms.Normalize(mean=(0.1307,), std=(0.3081,))  # 데이터 정규화\n",
    "                        ]),\n",
    "                        target_transform=None, \n",
    "                        download=True)\n",
    "\n",
    "print(mnist_train.__getitem__(0)[0].size(), mnist_train.__len__())\n",
    "mnist_test.__getitem__(0)[0].size(), mnist_test.__len__()\n",
    "\n",
    "train_loader = torch.utils.data.DataLoader(mnist_train,batch_size=batch_size, shuffle=True,num_workers=2,drop_last=True)\n",
    "test_loader = torch.utils.data.DataLoader(mnist_test,batch_size=batch_size, shuffle=False,num_workers=2,drop_last=True)"
   ]
  },
  {
   "cell_type": "code",
   "execution_count": 3,
   "id": "a1d99299",
   "metadata": {},
   "outputs": [],
   "source": [
    "# 입력 데이터를 정규화하는것처럼 연산을 통과한 결과값을 정규화할 수 있습니다.\n",
    "# 그 다양한 방법중에 대표적인것이 바로 Batch Normalization이고 이는 컨볼루션 연산처럼 모델에 한 층으로 구현할 수 있습니다.\n",
    "# https://pytorch.org/docs/stable/nn.html?highlight=batchnorm#torch.nn.BatchNorm2d\n",
    "# nn.BatchNorm2d(x)에서 x는 입력으로 들어오는 채널의 개수입니다.\n",
    "\n",
    "class CNN(nn.Module):\n",
    "    def __init__(self):\n",
    "        super(CNN,self).__init__()\n",
    "        self.layer = nn.Sequential(\n",
    "            nn.Conv2d(1,16,3,padding=1),  # 28 x 28\n",
    "            nn.BatchNorm2d(16),\n",
    "            nn.ReLU(),\n",
    "#             nn.Dropout2d(0.2),\n",
    "            nn.Conv2d(16,32,3,padding=1), # 28 x 28\n",
    "            nn.BatchNorm2d(32),\n",
    "            nn.ReLU(),\n",
    "#             nn.Dropout2d(0.2),\n",
    "            nn.MaxPool2d(2,2),            # 14 x 14\n",
    "            nn.Conv2d(32,64,3,padding=1), # 14 x 14\n",
    "            nn.BatchNorm2d(64),\n",
    "            nn.ReLU(),\n",
    "#             nn.Dropout2d(0.2),\n",
    "            nn.MaxPool2d(2,2)             #  7 x 7\n",
    "        )\n",
    "        self.fc_layer = nn.Sequential(\n",
    "            nn.Linear(64*7*7,100),\n",
    "            nn.BatchNorm1d(100),\n",
    "            nn.ReLU(),\n",
    "#             nn.Dropout2d(0.2),\n",
    "            nn.Linear(100,10)\n",
    "        )       \n",
    "        \n",
    "    def forward(self,x):\n",
    "        out = self.layer(x)\n",
    "        out = out.view(batch_size,-1)\n",
    "        out = self.fc_layer(out)\n",
    "        return out"
   ]
  },
  {
   "cell_type": "code",
   "execution_count": 4,
   "id": "85065b35",
   "metadata": {},
   "outputs": [
    {
     "name": "stdout",
     "output_type": "stream",
     "text": [
      "cuda:0\n"
     ]
    }
   ],
   "source": [
    "device = torch.device(\"cuda:0\" if torch.cuda.is_available() else \"cpu\")\n",
    "print(device)\n",
    "\n",
    "model = CNN().to(device)\n",
    "loss_func = nn.CrossEntropyLoss()\n",
    "optimizer = torch.optim.Adam(model.parameters(), lr=learning_rate) # 경사하강법 변형\n",
    "# optimizer = torch.optim.Adam(model.parameters(), lr=learning_rate, weight_decay=0.1) # 경사하강법 변형 + 정형화\n",
    "\n",
    "# 학습률 스케줄러\n",
    "scheduler = lr_scheduler.ReduceLROnPlateau(optimizer,threshold=1,patience=1,mode='min')"
   ]
  },
  {
   "cell_type": "code",
   "execution_count": 5,
   "id": "cf46a985",
   "metadata": {},
   "outputs": [
    {
     "name": "stdout",
     "output_type": "stream",
     "text": [
      "cuda:0\n",
      "('layer', Sequential(\n",
      "  (0): Conv2d(1, 16, kernel_size=(3, 3), stride=(1, 1), padding=(1, 1))\n",
      "  (1): BatchNorm2d(16, eps=1e-05, momentum=0.1, affine=True, track_running_stats=True)\n",
      "  (2): ReLU()\n",
      "  (3): Conv2d(16, 32, kernel_size=(3, 3), stride=(1, 1), padding=(1, 1))\n",
      "  (4): BatchNorm2d(32, eps=1e-05, momentum=0.1, affine=True, track_running_stats=True)\n",
      "  (5): ReLU()\n",
      "  (6): MaxPool2d(kernel_size=2, stride=2, padding=0, dilation=1, ceil_mode=False)\n",
      "  (7): Conv2d(32, 64, kernel_size=(3, 3), stride=(1, 1), padding=(1, 1))\n",
      "  (8): BatchNorm2d(64, eps=1e-05, momentum=0.1, affine=True, track_running_stats=True)\n",
      "  (9): ReLU()\n",
      "  (10): MaxPool2d(kernel_size=2, stride=2, padding=0, dilation=1, ceil_mode=False)\n",
      "))\n",
      "('fc_layer', Sequential(\n",
      "  (0): Linear(in_features=3136, out_features=100, bias=True)\n",
      "  (1): BatchNorm1d(100, eps=1e-05, momentum=0.1, affine=True, track_running_stats=True)\n",
      "  (2): ReLU()\n",
      "  (3): Linear(in_features=100, out_features=10, bias=True)\n",
      "))\n"
     ]
    }
   ],
   "source": [
    "# gpu가 사용 가능한 경우에는 device를 0번 gpu로 설정하고 불가능하면 cpu로 설정합니다.\n",
    "device = torch.device(\"cuda:0\" if torch.cuda.is_available() else \"cpu\")\n",
    "print(device)\n",
    "\n",
    "# 모델 자녀 노드의 이름과 모듈을 출력합니다.\n",
    "for i in model.named_children():\n",
    "    print(i)"
   ]
  },
  {
   "cell_type": "code",
   "execution_count": 6,
   "id": "ff5da0ee",
   "metadata": {},
   "outputs": [
    {
     "name": "stdout",
     "output_type": "stream",
     "text": [
      "tensor(0.1225, device='cuda:0', grad_fn=<NllLossBackward0>)\n",
      "Epoch: 0, Learning Rate: 0.2\n",
      "tensor(0.0509, device='cuda:0', grad_fn=<NllLossBackward0>)\n",
      "Epoch: 1, Learning Rate: 0.020000000000000004\n",
      "tensor(0.0047, device='cuda:0', grad_fn=<NllLossBackward0>)\n",
      "Epoch: 2, Learning Rate: 0.020000000000000004\n",
      "tensor(0.0102, device='cuda:0', grad_fn=<NllLossBackward0>)\n",
      "Epoch: 3, Learning Rate: 0.0020000000000000005\n",
      "tensor(0.0201, device='cuda:0', grad_fn=<NllLossBackward0>)\n",
      "Epoch: 4, Learning Rate: 0.0020000000000000005\n",
      "tensor(0.0136, device='cuda:0', grad_fn=<NllLossBackward0>)\n",
      "Epoch: 5, Learning Rate: 0.00020000000000000006\n",
      "tensor(0.0143, device='cuda:0', grad_fn=<NllLossBackward0>)\n",
      "Epoch: 6, Learning Rate: 0.00020000000000000006\n",
      "tensor(0.0220, device='cuda:0', grad_fn=<NllLossBackward0>)\n",
      "Epoch: 7, Learning Rate: 2.000000000000001e-05\n",
      "tensor(0.0120, device='cuda:0', grad_fn=<NllLossBackward0>)\n",
      "Epoch: 8, Learning Rate: 2.000000000000001e-05\n",
      "tensor(0.0319, device='cuda:0', grad_fn=<NllLossBackward0>)\n",
      "Epoch: 9, Learning Rate: 2.0000000000000008e-06\n"
     ]
    }
   ],
   "source": [
    "loss_arr = []\n",
    "for i in range(num_epoch):\n",
    "    for j,[image,label] in enumerate(train_loader):\n",
    "        x = image.to(device)\n",
    "        y_= label.to(device)\n",
    "        \n",
    "        optimizer.zero_grad()\n",
    "        output = model.forward(x)\n",
    "        loss = loss_func(output,y_)\n",
    "        loss.backward()\n",
    "        optimizer.step()\n",
    "        \n",
    "    # 스케줄러 적용\n",
    "    scheduler.step(loss)  \n",
    "    \n",
    "    print(loss)          \n",
    "    print(\"Epoch: {}, Learning Rate: {}\".format(i,scheduler.optimizer.state_dict()['param_groups'][0]['lr']))\n",
    "    \n",
    "    loss_arr.append(loss.cpu().detach().numpy())"
   ]
  },
  {
   "cell_type": "code",
   "execution_count": 7,
   "id": "ec56d8ac",
   "metadata": {},
   "outputs": [
    {
     "name": "stdout",
     "output_type": "stream",
     "text": [
      "[array(0.12248229, dtype=float32), array(0.05088971, dtype=float32), array(0.00469049, dtype=float32), array(0.01020543, dtype=float32), array(0.02005093, dtype=float32), array(0.01362337, dtype=float32), array(0.01426808, dtype=float32), array(0.02195077, dtype=float32), array(0.01204919, dtype=float32), array(0.03194463, dtype=float32)]\n"
     ]
    }
   ],
   "source": [
    "print(loss_arr)"
   ]
  },
  {
   "cell_type": "code",
   "execution_count": 8,
   "id": "b23f1dd7",
   "metadata": {},
   "outputs": [
    {
     "data": {
      "image/png": "[encoded data removed]",
      "text/plain": [
       "<Figure size 432x288 with 1 Axes>"
      ]
     },
     "metadata": {
      "needs_background": "light"
     },
     "output_type": "display_data"
    }
   ],
   "source": [
    "plt.plot(loss_arr)\n",
    "plt.show()"
   ]
  },
  {
   "cell_type": "code",
   "execution_count": 9,
   "id": "7cd92ea9",
   "metadata": {},
   "outputs": [
    {
     "name": "stdout",
     "output_type": "stream",
     "text": [
      "Accuracy of Test Data: 99.15865325927734\n"
     ]
    }
   ],
   "source": [
    "correct = 0\n",
    "total = 0\n",
    "\n",
    "with torch.no_grad():\n",
    "    for image,label in test_loader:\n",
    "        x = image.to(device)\n",
    "        y_= label.to(device)\n",
    "\n",
    "        output = model.forward(x)\n",
    "        _,output_index = torch.max(output,1)\n",
    "\n",
    "        total += label.size(0)\n",
    "        correct += (output_index == y_).sum().float()\n",
    "\n",
    "    print(\"Accuracy of Test Data: {}\".format(100*correct/total))"
   ]
  },
  {
   "cell_type": "markdown",
   "id": "3088ed34",
   "metadata": {},
   "source": [
    "#### 정확도 99.15% 달성 - 위의 어떤 경우보다도 높음\n",
    "\n",
    "#### 201500684 박종혁"
   ]
  },
  {
   "cell_type": "code",
   "execution_count": null,
   "id": "ced7280b",
   "metadata": {},
   "outputs": [],
   "source": []
  }
 ],
 "metadata": {
  "kernelspec": {
   "display_name": "Python 3 (ipykernel)",
   "language": "python",
   "name": "python3"
  },
  "language_info": {
   "codemirror_mode": {
    "name": "ipython",
    "version": 3
   },
   "file_extension": ".py",
   "mimetype": "text/x-python",
   "name": "python",
   "nbconvert_exporter": "python",
   "pygments_lexer": "ipython3",
   "version": "3.9.12"
  }
 },
 "nbformat": 4,
 "nbformat_minor": 5
}
