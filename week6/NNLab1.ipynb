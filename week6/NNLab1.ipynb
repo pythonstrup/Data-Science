{
 "cells": [
  {
   "cell_type": "code",
   "execution_count": null,
   "id": "a30ede4b",
   "metadata": {},
   "outputs": [],
   "source": [
    "# 1."
   ]
  },
  {
   "cell_type": "code",
   "execution_count": 12,
   "id": "e8940835",
   "metadata": {},
   "outputs": [
    {
     "data": {
      "text/plain": [
       "array([[0.9],\n",
       "       [0.1],\n",
       "       [0.8]])"
      ]
     },
     "execution_count": 12,
     "metadata": {},
     "output_type": "execute_result"
    },
    {
     "data": {
      "text/plain": [
       "array([[0.9, 0.3, 0.4],\n",
       "       [0.2, 0.8, 0.2],\n",
       "       [0.1, 0.5, 0.6]])"
      ]
     },
     "execution_count": 12,
     "metadata": {},
     "output_type": "execute_result"
    },
    {
     "data": {
      "text/plain": [
       "array([[0.3, 0.7, 0.5],\n",
       "       [0.6, 0.5, 0.2],\n",
       "       [0.8, 0.1, 0.9]])"
      ]
     },
     "execution_count": 12,
     "metadata": {},
     "output_type": "execute_result"
    }
   ],
   "source": [
    "from IPython.core.interactiveshell import InteractiveShell\n",
    "InteractiveShell.ast_node_interactivity = \"all\"\n",
    "\n",
    "import numpy as np\n",
    "\n",
    "def sigmoid(x):\n",
    "    return 1 / (1 + np.exp(-x))\n",
    "\n",
    "i = np.array([0.9, 0.1, 0.8], float).reshape(3,1)\n",
    "w_input_hidden = np.array([0.9, 0.3, 0.4, 0.2, 0.8, 0.2, 0.1, 0.5, 0.6]).reshape(3,3)\n",
    "w_hidden_output = np.array([.3, .7, .5, .6, .5, .2, .8, .1, .9]).reshape(3,3)\n",
    "\n",
    "i\n",
    "w_input_hidden\n",
    "w_hidden_output"
   ]
  },
  {
   "cell_type": "code",
   "execution_count": 11,
   "id": "5fd64d67",
   "metadata": {},
   "outputs": [
    {
     "data": {
      "text/plain": [
       "array([[1.16],\n",
       "       [0.42],\n",
       "       [0.62]])"
      ]
     },
     "execution_count": 11,
     "metadata": {},
     "output_type": "execute_result"
    },
    {
     "data": {
      "text/plain": [
       "array([[0.76133271],\n",
       "       [0.60348325],\n",
       "       [0.65021855]])"
      ]
     },
     "execution_count": 11,
     "metadata": {},
     "output_type": "execute_result"
    }
   ],
   "source": [
    "x_hidden = np.dot(w_input_hidden, i)\n",
    "x_hidden\n",
    "\n",
    "o_hidden = sigmoid(x_hidden)\n",
    "o_hidden"
   ]
  },
  {
   "cell_type": "code",
   "execution_count": 15,
   "id": "9db87e81",
   "metadata": {},
   "outputs": [
    {
     "data": {
      "text/plain": [
       "array([[0.97594736],\n",
       "       [0.88858496],\n",
       "       [1.25461119]])"
      ]
     },
     "execution_count": 15,
     "metadata": {},
     "output_type": "execute_result"
    },
    {
     "data": {
      "text/plain": [
       "array([[0.72630335],\n",
       "       [0.70859807],\n",
       "       [0.77809706]])"
      ]
     },
     "execution_count": 15,
     "metadata": {},
     "output_type": "execute_result"
    }
   ],
   "source": [
    "x_output = np.dot(w_hidden_output, o_hidden)\n",
    "x_output\n",
    "\n",
    "o_output = sigmoid(x_output)\n",
    "o_output"
   ]
  },
  {
   "cell_type": "code",
   "execution_count": null,
   "id": "367a526c",
   "metadata": {},
   "outputs": [],
   "source": [
    "# 2."
   ]
  },
  {
   "cell_type": "code",
   "execution_count": 21,
   "id": "298bf34d",
   "metadata": {},
   "outputs": [
    {
     "data": {
      "text/plain": [
       "0.42000000000000004"
      ]
     },
     "execution_count": 21,
     "metadata": {},
     "output_type": "execute_result"
    },
    {
     "data": {
      "text/plain": [
       "0.8800000000000001"
      ]
     },
     "execution_count": 21,
     "metadata": {},
     "output_type": "execute_result"
    }
   ],
   "source": [
    "e_output1 = 0.8\n",
    "e_output2 = 0.5\n",
    "w11 = 2.0\n",
    "w12 = 1.0\n",
    "w21 = 3.0\n",
    "w22 = 4.0\n",
    "\n",
    "e_hidden1 = e_output1 * w11 / (w11 + w21) + e_output2 * w12 / (w12 + w22) \n",
    "e_hidden2 = e_output2 * w22 / (w12 + w22) + e_output1 * w21/ (w11 + w21)\n",
    "e_hidden1\n",
    "e_hidden2"
   ]
  },
  {
   "cell_type": "code",
   "execution_count": 22,
   "id": "a80edd44",
   "metadata": {},
   "outputs": [
    {
     "data": {
      "text/plain": [
       "0.3620000000000001"
      ]
     },
     "execution_count": 22,
     "metadata": {},
     "output_type": "execute_result"
    },
    {
     "data": {
      "text/plain": [
       "0.9380000000000002"
      ]
     },
     "execution_count": 22,
     "metadata": {},
     "output_type": "execute_result"
    }
   ],
   "source": [
    "w11 = 3.0\n",
    "w12 = 1.0\n",
    "w21 = 2.0\n",
    "w22 = 7.0\n",
    "\n",
    "e_input1 = e_hidden1 * w11 / (w11 + w21) + e_hidden2 * w12 / (w12 + w22) \n",
    "e_input2 = e_hidden2 * w22 / (w12 + w22) + e_hidden1 * w21/ (w11 + w21)\n",
    "e_input1\n",
    "e_input2"
   ]
  },
  {
   "cell_type": "code",
   "execution_count": null,
   "id": "f365cced",
   "metadata": {},
   "outputs": [],
   "source": [
    "# 3."
   ]
  },
  {
   "cell_type": "code",
   "execution_count": 38,
   "id": "d7cfb435",
   "metadata": {},
   "outputs": [
    {
     "data": {
      "text/plain": [
       "2.026502261437037"
      ]
     },
     "execution_count": 38,
     "metadata": {},
     "output_type": "execute_result"
    },
    {
     "data": {
      "text/plain": [
       "1.019063749762963"
      ]
     },
     "execution_count": 38,
     "metadata": {},
     "output_type": "execute_result"
    },
    {
     "data": {
      "text/plain": [
       "3.026502261437037"
      ]
     },
     "execution_count": 38,
     "metadata": {},
     "output_type": "execute_result"
    },
    {
     "data": {
      "text/plain": [
       "4.019063749762963"
      ]
     },
     "execution_count": 38,
     "metadata": {},
     "output_type": "execute_result"
    }
   ],
   "source": [
    "e_output1 = 0.8\n",
    "e_output2 = 0.5\n",
    "w11 = 2.0\n",
    "w12 = 1.0\n",
    "w21 = 3.0\n",
    "w22 = 4.0\n",
    "\n",
    "o1 = 0.4\n",
    "o2 = 0.5\n",
    "\n",
    "w11_update = -e_output1 * sigmoid(w11 * o1 + w21 * o2) * (1-sigmoid(w11 * o1 + w21 * o2)) * o1\n",
    "w12_update = -e_output2 * sigmoid(w12 * o1 + w22 * o2) * (1-sigmoid(w12 * o1 + w22 * o2)) * o2\n",
    "w21_update = -e_output1 * sigmoid(w11 * o1 + w21 * o2) * (1-sigmoid(w11 * o1 + w21 * o2)) * o1\n",
    "w22_update = -e_output2 * sigmoid(w12 * o1 + w22 * o2) * (1-sigmoid(w12 * o1 + w22 * o2)) * o2\n",
    "\n",
    "w11 - w11_update\n",
    "w12 - w12_update\n",
    "w21 - w21_update\n",
    "w22 - w22_update"
   ]
  },
  {
   "cell_type": "code",
   "execution_count": 42,
   "id": "43aeb750",
   "metadata": {},
   "outputs": [
    {
     "data": {
      "text/plain": [
       "array([[2.3],\n",
       "       [2.4]])"
      ]
     },
     "execution_count": 42,
     "metadata": {},
     "output_type": "execute_result"
    }
   ],
   "source": [
    "w = np.array([2.0, 3.0, 1.0, 4.0]).reshape(2,2)\n",
    "oj = np.array([.4, .5]).reshape(2,1)\n",
    "\n",
    "s = np.dot(w, oj)\n",
    "\n",
    "e = np.array([e_output1, e_output2])"
   ]
  },
  {
   "cell_type": "code",
   "execution_count": null,
   "id": "e7b9c0d5",
   "metadata": {},
   "outputs": [],
   "source": [
    "# 4."
   ]
  },
  {
   "cell_type": "code",
   "execution_count": null,
   "id": "dc46c090",
   "metadata": {},
   "outputs": [],
   "source": []
  },
  {
   "cell_type": "code",
   "execution_count": null,
   "id": "833fc09d",
   "metadata": {},
   "outputs": [],
   "source": []
  }
 ],
 "metadata": {
  "kernelspec": {
   "display_name": "Python 3 (ipykernel)",
   "language": "python",
   "name": "python3"
  },
  "language_info": {
   "codemirror_mode": {
    "name": "ipython",
    "version": 3
   },
   "file_extension": ".py",
   "mimetype": "text/x-python",
   "name": "python",
   "nbconvert_exporter": "python",
   "pygments_lexer": "ipython3",
   "version": "3.9.7"
  }
 },
 "nbformat": 4,
 "nbformat_minor": 5
}
